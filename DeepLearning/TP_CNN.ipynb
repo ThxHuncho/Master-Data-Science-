{
  "nbformat": 4,
  "nbformat_minor": 0,
  "metadata": {
    "colab": {
      "name": "TP_CNN.ipynb",
      "provenance": [],
      "collapsed_sections": []
    },
    "kernelspec": {
      "name": "python3",
      "display_name": "Python 3"
    },
    "language_info": {
      "name": "python"
    },
    "accelerator": "GPU"
  },
  "cells": [
    {
      "cell_type": "markdown",
      "source": [
        "# TP 1 : CNN\n",
        "\n",
        "Le but de ce TP sera de vous familiariser avec l'utilisation de TensorFlow et Keras pour la création et l'entraînement de modèles fully-connected puis à convolutions simples.\n",
        "Vous entraînerez des modèles sur une tâche de classification sur les jeux de données MNIST.\n",
        "Ces jeux de données sont composés d'images de dimensions 28x28 et ont l'avantage d'être très simples d'utilisation ainsi que de permettre un apprentissage rapide.\n",
        "\n",
        "Nous allons utiliser la librairie TensorFlow et faire tourner notre code sous Google Colab pour nos TP, ce qui aura l'avantage de nous permettre d'utiliser les GPUs mis à disposition gratuitement par Google.\n",
        "Vous êtes libre d'utiliser une autre librairie que TensorFlow si vous en maîtrisez une autre ou votre machine personnelle si celle-ci possède un GPU suffisant, mais il est probable que les phases d'entraînement soit plus rapides sous Colab.\n",
        "\n",
        "N'hésitez pas à vous référer aux docs de TensorFlow 2 et Keras disponibles sur internet lors de ce TP.\n",
        "\n",
        "Ce TP s'effectue individuellement.\n",
        "Veuillez respecter les consignes suivantes pour le rendu de votre travail :\n",
        "\n",
        "*   Renommez le selon le format suivant : \"TP_CNN_prenom_nom.ipynb\".\n",
        "*   Veillez à ce que votre nom et prénom soient complétés dans la cellule ci-dessous.\n",
        "*   Veillez à avoir bien exécuté toutes les cellules de code et que les résultats soient tous bien visible dans le notebook sans nécessiter une ré-exécution.\n",
        "*   Partagez le notebook avec ranvier.thomas.pro@gmail.com.\n",
        "\n",
        "Si vous avez effectué le TP autrement que sur Google Colab :\n",
        "\n",
        "*   Renommez le selon le format suivant : \"TP_CNN_prenom_nom.ipynb\".\n",
        "*   Téléchargez le fichier ipynb.\n",
        "*   Envoyez le fichier en pièce-jointe à ranvier.thomas.pro@gmail.com, en indiquant en tant qu'objet : \"TP CNN prenom nom\".\n",
        "\n",
        "---"
      ],
      "metadata": {
        "id": "taT5J8pabBJN"
      }
    },
    {
      "cell_type": "markdown",
      "source": [
        "## Veuillez compléter votre nom et prénom ci-dessous :\n",
        "\n",
        "*   **Prenom** : Jean Philippe Cedric \n",
        "*   **Nom** : N'DRI"
      ],
      "metadata": {
        "id": "u45C7pnjdkG_"
      }
    },
    {
      "cell_type": "code",
      "source": [
        "import tensorflow as tf\n",
        "\n",
        "# Si vous obtenez une erreur à ce niveau veuillez suivre ces indications :\n",
        "# \"Modifier\" > \"Paramètres du notebook\" > \"Accélérateur matériel\" > \"GPU\"\n",
        "device_name = tf.test.gpu_device_name()\n",
        "if device_name != '/device:GPU:0':\n",
        "    raise SystemError('GPU device not found')\n",
        "print(f'Found GPU: {device_name}')"
      ],
      "metadata": {
        "id": "Coqc5zujkJ04",
        "outputId": "d64dcb82-c30e-4600-9ddb-d1306d9c4048",
        "colab": {
          "base_uri": "https://localhost:8080/"
        }
      },
      "execution_count": 1,
      "outputs": [
        {
          "output_type": "stream",
          "name": "stdout",
          "text": [
            "Found GPU: /device:GPU:0\n"
          ]
        }
      ]
    },
    {
      "cell_type": "code",
      "source": [
        "import matplotlib.pyplot as plt\n",
        "%matplotlib inline\n",
        "import numpy as np"
      ],
      "metadata": {
        "id": "eVax-HOKnT2a"
      },
      "execution_count": 2,
      "outputs": []
    },
    {
      "cell_type": "markdown",
      "source": [
        "---\n",
        "# Preparation des données MNIST\n",
        "\n",
        "Vous allez utiliser le jeu de données MNIST qui contient des chiffres ayant été écrit à la main, le but va être de créer des réseaux de neurones qui vont apprendre à reconnaître et correctement classifier ces chiffres."
      ],
      "metadata": {
        "id": "ivHQ5cvafFHI"
      }
    },
    {
      "cell_type": "code",
      "source": [
        "# Load data\n",
        "(x_train, y_train), (x_test, y_test) = tf.keras.datasets.mnist.load_data()"
      ],
      "metadata": {
        "id": "NpY9x2l4nU1J",
        "outputId": "2ea1e576-2cb4-4427-e6c7-231195091761",
        "colab": {
          "base_uri": "https://localhost:8080/"
        }
      },
      "execution_count": 4,
      "outputs": [
        {
          "output_type": "stream",
          "name": "stdout",
          "text": [
            "Downloading data from https://storage.googleapis.com/tensorflow/tf-keras-datasets/mnist.npz\n",
            "11493376/11490434 [==============================] - 0s 0us/step\n",
            "11501568/11490434 [==============================] - 0s 0us/step\n"
          ]
        }
      ]
    },
    {
      "cell_type": "markdown",
      "source": [
        "Il est important de toujours normaliser les données entre 0 et 1 pour qu'un réseau de neurones soit capable de les traiter convenablement.\n",
        "\n",
        "Normalisez les données entre 0 et 1"
      ],
      "metadata": {
        "id": "UMymKubMyv2M"
      }
    },
    {
      "cell_type": "markdown",
      "source": [
        "Ajoutez une dimension vide supplémentaire aux données, elle correspond à la dimension des channels dont les convolutions ont besoin.\n",
        "\n",
        "Par exemple, les dimensions de x_train sont (60000, 28, 28), elles doivent devenir (60000, 28, 28, 1)"
      ],
      "metadata": {
        "id": "KddBt06Ey8Uf"
      }
    },
    {
      "cell_type": "code",
      "source": [
        "# Add channel dimension\n",
        "# Pour normaliser il faut diviser par 255\n",
        "x_train = x_train/255\n",
        "x_test = x_test/255"
      ],
      "metadata": {
        "id": "KeBCwxhwzLJ0"
      },
      "execution_count": 5,
      "outputs": []
    },
    {
      "cell_type": "code",
      "source": [
        "# Pour rajouter une autre dim a nos données \n",
        "x_train=x_train[...,np.newaxis]\n",
        "x_test=x_test[...,np.newaxis]"
      ],
      "metadata": {
        "id": "863pey6BY9OI"
      },
      "execution_count": 56,
      "outputs": []
    },
    {
      "cell_type": "code",
      "source": [
        "display(x_train.shape, x_test.shape)\n"
      ],
      "metadata": {
        "id": "Qne7Z6TZZZ5r",
        "outputId": "302b6ed9-528b-473a-a6ef-3d39f23f27b0",
        "colab": {
          "base_uri": "https://localhost:8080/",
          "height": 52
        }
      },
      "execution_count": 57,
      "outputs": [
        {
          "output_type": "display_data",
          "data": {
            "text/plain": [
              "(49999, 28, 28, 1)"
            ]
          },
          "metadata": {}
        },
        {
          "output_type": "display_data",
          "data": {
            "text/plain": [
              "(10000, 28, 28, 1)"
            ]
          },
          "metadata": {}
        }
      ]
    },
    {
      "cell_type": "markdown",
      "source": [
        "Séparez le jeu de données d'entraînement en un jeu de validation de taille 10000 et un nouveau jeu d'entraînement de taille 50000."
      ],
      "metadata": {
        "id": "a9Ro1kfhzPPN"
      }
    },
    {
      "cell_type": "code",
      "source": [
        "from sklearn.model_selection import train_test_split"
      ],
      "metadata": {
        "id": "cdw-gbXgaYaj"
      },
      "execution_count": 7,
      "outputs": []
    },
    {
      "cell_type": "code",
      "source": [
        "# Split train val\n",
        "x_train, x_val, y_train, y_val = train_test_split(x_train, y_train,test_size=0.16666667,random_state=1)\n"
      ],
      "metadata": {
        "id": "pheu6793zQZU"
      },
      "execution_count": 8,
      "outputs": []
    },
    {
      "cell_type": "code",
      "source": [
        "display(x_train.shape, x_test.shape)"
      ],
      "metadata": {
        "id": "_sSkjwziay_y",
        "outputId": "f1eb14b0-fca6-42a2-e388-5f31cbdc572b",
        "colab": {
          "base_uri": "https://localhost:8080/",
          "height": 52
        }
      },
      "execution_count": 9,
      "outputs": [
        {
          "output_type": "display_data",
          "data": {
            "text/plain": [
              "(49999, 28, 28)"
            ]
          },
          "metadata": {}
        },
        {
          "output_type": "display_data",
          "data": {
            "text/plain": [
              "(10000, 28, 28)"
            ]
          },
          "metadata": {}
        }
      ]
    },
    {
      "cell_type": "markdown",
      "source": [
        "Si les traîtements effectués ci-dessus sur les données sont corrects l'execution de la cellule de code suivante devrait vous afficher les 25 premières images d'entraînement associées à leurs labels."
      ],
      "metadata": {
        "id": "Q60Eoe3CyGIM"
      }
    },
    {
      "cell_type": "code",
      "source": [
        "# Plot grid with first 25 training images with their corresponding label\n",
        "plt.figure(figsize=(10, 10))\n",
        "for i in range(25):\n",
        "    plt.subplot(5, 5, i+1)\n",
        "    plt.xticks([])\n",
        "    plt.yticks([])\n",
        "    plt.imshow(x_train[i].squeeze(), cmap='gray')\n",
        "    plt.title(y_train[i])\n",
        "plt.show()"
      ],
      "metadata": {
        "id": "iKP70UL_g2xd",
        "outputId": "ae4ddc6c-becf-4904-b923-eee8ba9d8037",
        "colab": {
          "base_uri": "https://localhost:8080/",
          "height": 594
        }
      },
      "execution_count": 10,
      "outputs": [
        {
          "output_type": "display_data",
          "data": {
            "text/plain": [
              "<Figure size 720x720 with 25 Axes>"
            ],
            "image/png": "[encoded data removed]"
          },
          "metadata": {}
        }
      ]
    },
    {
      "cell_type": "markdown",
      "source": [
        "---\n",
        "# Préparation du Trainer\n",
        "\n",
        "Cette classe sera utilisé tout au long du TP pour entraîner les différents modèles à mettre en place.\n",
        "Vous devrez compléter les parties utiles signifiées dans le code par les commentaires \"...\" au fur et à mesure que vous avancerez dans le TP.\n",
        "Une description de ce que chaque méthode doit faire est écrit dans les docstrings de chaque méthode.\n",
        "\n",
        "Vous pourrez obtenir un bonus en implémentant un entraînement sur des mini-batches."
      ],
      "metadata": {
        "id": "NWz7Fikf0b4E"
      }
    },
    {
      "cell_type": "code",
      "source": [
        "class Trainer:\n",
        "    def __init__(self, model, loss_function, optimizer):\n",
        "        self._model = model\n",
        "        self._loss_function = loss_function\n",
        "        self._optimizer = optimizer\n",
        "        # Metrics\n",
        "        self._train_loss = tf.keras.metrics.Mean()\n",
        "        self._val_loss = tf.keras.metrics.Mean()\n",
        "        self._train_acc = tf.keras.metrics.SparseCategoricalAccuracy()\n",
        "        self._val_acc = tf.keras.metrics.SparseCategoricalAccuracy()\n",
        "        # History\n",
        "        self._train_loss_h = []\n",
        "        self._train_acc_h = []\n",
        "        self._val_loss_h = []\n",
        "        self._val_acc_h = []\n",
        "    \n",
        "    def fit(self, x_train, y_train, x_val, y_val, epochs, verbose=True):\n",
        "        \"\"\"\n",
        "        Cette méthode permet d'entraîner le modèle sur x_train et y_train pour\n",
        "        un certain nombre d'epochs\n",
        "        \"\"\"\n",
        "        for epoch in range(epochs):\n",
        "            # Reset metrics for each epoch\n",
        "            self._train_loss.reset_states() \n",
        "            self._train_acc.reset_states()\n",
        "            self._val_acc.reset_states()\n",
        "            self._val_loss.reset_states()\n",
        "            # Train the model for one epoch\n",
        "\n",
        "            self._train_step(x_train,y_train )\n",
        "\n",
        "        \n",
        "            # Perform a validation step\n",
        "\n",
        "            # Forward propagation des données x dans le modèle pour obtenir les prédictions\n",
        "            #predictions = model( x_val )\n",
        "            # Calcul de la loss entre les targets y et les prédictions obtenues\n",
        "            #loss = loss_function(y_val , predictions)\n",
        "\n",
        "            self._eval_step(x_val,y_val)\n",
        "\n",
        "\n",
        "            # Update history\n",
        "            self._train_loss_h.append(self._train_loss.result())\n",
        "            self._train_acc_h.append(self._train_acc.result() * 100.)\n",
        "            self._val_loss_h.append(self._val_loss.result())\n",
        "            self._val_acc_h.append(self._val_acc.result() * 100.)\n",
        "            if verbose:\n",
        "                print((f'Epoch {epoch+1}/{epochs} - '\n",
        "                       f'loss: {self._train_loss_h[-1]:.6f} - '\n",
        "                       f'train acc: {self._train_acc_h[-1]:.2f}% - '\n",
        "                       f'val acc: {self._val_acc_h[-1]:.2f}%'))\n",
        "        \n",
        "    def plot_history(self):\n",
        "        plt.figure(figsize=(10,10))\n",
        "        plt.subplot(2, 1, 1)\n",
        "        plt.plot(self._train_loss_h, label='train')\n",
        "        plt.plot(self._val_loss_h, label='val')\n",
        "        plt.legend()\n",
        "        plt.title('Loss')\n",
        "        plt.subplot(2, 1, 2)\n",
        "        plt.plot(self._train_acc_h, label='train')\n",
        "        plt.plot(self._val_acc_h, label='val')\n",
        "        plt.legend()\n",
        "        plt.title('Acc')\n",
        "        plt.show()\n",
        "\n",
        "    def predict(self, x_test):\n",
        "        \"\"\"\n",
        "        Cette méthode doit retourner les prédiction du modèle pour les données \n",
        "        x_test\n",
        "        \"\"\"\n",
        "        return(self._model(x_test))\n",
        "        \n",
        "        \n",
        "        \n",
        "    @tf .function\n",
        "    def _train_step(self, x, y):\n",
        "        \"\"\"\n",
        "        Cette méthode doit performer une étape d'entrainement, c'est à dire :\n",
        "            - Feed forward de x dans le modèle\n",
        "            - Calcul de la loss entre y et les prédictions du modèle\n",
        "            - Mise à jour des métriques self._train_acc et self._train_loss,\n",
        "              cf https://keras.io/api/metrics/\n",
        "            - Calcul du gradient\n",
        "            - Application du gradient par l'optimizer\n",
        "        \"\"\"\n",
        "        with tf.GradientTape( ) as tape :\n",
        "          # Forward propagation des données x dans le modèle pour obtenir les prédictions\n",
        "          predictions = self._model( x )\n",
        "          self._train_acc.update_state(y,predictions)\n",
        "          # Calcul de la loss entre les targets y et les prédictions obtenues\n",
        "          loss = loss_function(y , predictions)\n",
        "          self._train_loss.update_state(loss)\n",
        "        # Calcul automatique du gradient par TensorFlow sur les paramètres du modèle\n",
        "        # ( model . trainable _ variables )\n",
        "        gradients = tape.gradient(loss ,self._model.trainable_variables)\n",
        "      # Mise à j o u r des paramè tres enutilisant l’algorithme d’optimisation\n",
        "      # ( backward propagation )\n",
        "        optimizer . apply_gradients ( zip ( gradients ,self._model.trainable_variables))\n",
        "                          \n",
        "\n",
        "    @tf.function      \n",
        "    def _eval_step(self, x, y):\n",
        "        \"\"\"\n",
        "        Cette méthode doit performer une étape de validation :\n",
        "            - Feed forward de x dans le modèle\n",
        "            - Calcul de la loss entre y et les prédictions du modèle\n",
        "            - Mise à jour des métriques self._val_acc et self._val_loss,\n",
        "              cf https://keras.io/api/metrics/\n",
        "        \"\"\"\n",
        "        # Forward propagation des données x dans le modèle pour obtenir les prédictions\n",
        "        predictions = model( x )\n",
        "        self._val_acc.update_state(y,predictions)\n",
        "        # Calcul de la loss entre les targets y et les prédictions obtenues\n",
        "        loss = loss_function(y , predictions)\n",
        "        self._val_loss.update_state(loss)\n",
        "        pass"
      ],
      "metadata": {
        "id": "zUg5K_2tqXgA"
      },
      "execution_count": 50,
      "outputs": []
    },
    {
      "cell_type": "markdown",
      "source": [
        "---\n",
        "# Entraîner un modèle fully-connected sur les données MNIST\n",
        "\n",
        "Vous devez définir un modèle fully-connected, ainsi que les hyper-paramètres que le modèle utilisera lors de son apprentissage.\n",
        "Cherchez la meilleure architecture et les meilleurs paramètres possibles de manière empirique en testant différentes choses.\n",
        "Reportez vous à la documentation Keras https://keras.io/api/ pour connaître les différentes fonctionnalités utilisables ainsi que les paramètres qu'il est possible de modifier pour chaque.\n",
        "\n",
        "L'objectif ici est d'obtenir une accuracy d'au minimum 96% sur le jeu de test."
      ],
      "metadata": {
        "id": "yfBDUtaJgwKH"
      }
    },
    {
      "cell_type": "code",
      "source": [
        "# Define model, for a fully-connected network the input must be properly adapted\n",
        "model = tf.keras.Sequential([\n",
        "            tf.keras.layers.Flatten(),\n",
        "            tf.keras.layers.Dense(units=128 ,activation = 'relu') ,\n",
        "            tf.keras.layers.Dense(units=10 , activation = 'softmax')])\n",
        "\n",
        "# Set hyperparameters\n",
        "loss_function = tf.keras.losses.SparseCategoricalCrossentropy(from_logits=True)\n",
        "optimizer = tf.keras.optimizers.Adam()\n",
        "epochs = 20\n",
        "\n",
        "# Initialize trainer\n",
        "mnist_fc_trainer = Trainer(model=model,\n",
        "                           loss_function=loss_function,\n",
        "                           optimizer=optimizer)\n",
        "\n",
        "# Train model\n",
        "mnist_fc_trainer.fit(x_train, y_train, x_val, y_val, epochs)\n",
        "\n",
        "# Plot training history\n",
        "mnist_fc_trainer.plot_history()\n",
        "\n",
        "# Evaluate on test set\n",
        "test_acc = tf.keras.metrics.SparseCategoricalAccuracy(name='test_acc')\n",
        "predictions = mnist_fc_trainer.predict(x_test)\n",
        "test_acc(y_test, predictions)\n",
        "print(f'Test accuracy: {test_acc.result()*100.:.2f}%')"
      ],
      "metadata": {
        "id": "bqXpZTtDuKNv",
        "outputId": "14e87876-303a-40de-d030-5bf5dd9b4b9b",
        "colab": {
          "base_uri": "https://localhost:8080/",
          "height": 1000
        }
      },
      "execution_count": 51,
      "outputs": [
        {
          "output_type": "stream",
          "name": "stderr",
          "text": [
            "/usr/local/lib/python3.7/dist-packages/tensorflow/python/util/dispatch.py:1082: UserWarning: \"`sparse_categorical_crossentropy` received `from_logits=True`, but the `output` argument was produced by a sigmoid or softmax activation and thus does not represent logits. Was this intended?\"\n",
            "  return dispatch_target(*args, **kwargs)\n"
          ]
        },
        {
          "output_type": "stream",
          "name": "stdout",
          "text": [
            "Epoch 1/20 - loss: 2.344188 - train acc: 11.67% - val acc: 20.76%\n",
            "Epoch 2/20 - loss: 2.187563 - train acc: 20.54% - val acc: 34.65%\n",
            "Epoch 3/20 - loss: 2.050955 - train acc: 34.28% - val acc: 46.85%\n",
            "Epoch 4/20 - loss: 1.926613 - train acc: 46.79% - val acc: 55.51%\n",
            "Epoch 5/20 - loss: 1.809973 - train acc: 55.65% - val acc: 62.13%\n",
            "Epoch 6/20 - loss: 1.698541 - train acc: 62.21% - val acc: 66.86%\n",
            "Epoch 7/20 - loss: 1.591217 - train acc: 67.09% - val acc: 70.64%\n",
            "Epoch 8/20 - loss: 1.487955 - train acc: 70.61% - val acc: 73.37%\n",
            "Epoch 9/20 - loss: 1.389494 - train acc: 73.28% - val acc: 75.30%\n",
            "Epoch 10/20 - loss: 1.296804 - train acc: 75.29% - val acc: 76.62%\n",
            "Epoch 11/20 - loss: 1.210674 - train acc: 76.69% - val acc: 77.73%\n",
            "Epoch 12/20 - loss: 1.131525 - train acc: 77.84% - val acc: 78.77%\n",
            "Epoch 13/20 - loss: 1.059408 - train acc: 78.72% - val acc: 79.48%\n",
            "Epoch 14/20 - loss: 0.994018 - train acc: 79.45% - val acc: 80.22%\n",
            "Epoch 15/20 - loss: 0.934834 - train acc: 80.05% - val acc: 81.02%\n",
            "Epoch 16/20 - loss: 0.881293 - train acc: 80.68% - val acc: 81.65%\n",
            "Epoch 17/20 - loss: 0.832853 - train acc: 81.26% - val acc: 82.37%\n",
            "Epoch 18/20 - loss: 0.789022 - train acc: 81.86% - val acc: 82.91%\n",
            "Epoch 19/20 - loss: 0.749406 - train acc: 82.42% - val acc: 83.46%\n",
            "Epoch 20/20 - loss: 0.713674 - train acc: 82.93% - val acc: 84.00%\n"
          ]
        },
        {
          "output_type": "display_data",
          "data": {
            "text/plain": [
              "<Figure size 720x720 with 2 Axes>"
            ],
            "image/png": "[encoded data removed]"
          },
          "metadata": {
            "needs_background": "light"
          }
        },
        {
          "output_type": "stream",
          "name": "stdout",
          "text": [
            "Test accuracy: 84.62%\n"
          ]
        }
      ]
    },
    {
      "cell_type": "markdown",
      "source": [
        "---\n",
        "# Entraîner un modèle à convolutions sur les données MNIST\n",
        "\n",
        "Vous devez définir un CNN, ainsi que les hyper-paramètres que le modèle utilisera lors de son apprentissage.\n",
        "Cherchez la meilleure architecture et les meilleurs paramètres possibles de manière empirique en testant différentes choses.\n",
        "Reportez vous à la documentation Keras https://keras.io/api/ pour connaître les différentes fonctionnalités utilisables ainsi que les paramètres qu'il est possible de modifier pour chaque.\n",
        "\n",
        "L'objectif ici est d'obtenir une accuracy d'au minimum 98% sur le jeu de test.\n",
        "\n",
        "Vous pourrez obtenir un bonus en ajoutant aux endroits opportuns dans l'architecture du modèle une ou des batch-normalizations, et un ou des dropouts."
      ],
      "metadata": {
        "id": "sUgo1zwB2rlb"
      }
    },
    {
      "cell_type": "code",
      "source": [
        "# Define model\n",
        "model = tf.keras.Sequential([\n",
        "  #First conv layer\n",
        "  tf.keras.layers.Conv2D( 10 , 1 , strides=1 , padding=  'same' , activation =   'relu' ),\n",
        "  tf.keras.layers.MaxPool2D(pool_size =(2 ,2 )),\n",
        "  # Second conv layer\n",
        "  tf.keras.layers.Conv2D( 10 , 1 , strides =1 , padding= 'same' , activation = 'relu' ),\n",
        "  tf.keras.layers . MaxPool2D( pool_size =(2 ,2 )),\n",
        "  # Batch norm for stabilization\n",
        "  tf.keras.layers.BatchNormalization( ),\n",
        "  # F l a t t e n data i n t o a vector f o r the f u l l y −connected part\n",
        "  tf.keras.layers.Flatten( ),\n",
        "  tf.keras.layers.Dense(units=128 , activation = 'relu' ),\n",
        "  tf.keras.layers.Dense( units=10, activation =  'softmax')\n",
        "] )\n",
        "\n",
        "# Set hyperparameters\n",
        "loss_function = tf.keras.losses.SparseCategoricalCrossentropy(from_logits=True)\n",
        "optimizer = tf.keras.optimizers.Adam()\n",
        "epochs = 200\n",
        "\n",
        "# Initialize trainer\n",
        "mnist_cnn_trainer = Trainer(model=model,\n",
        "                            loss_function=loss_function,\n",
        "                            optimizer=optimizer)\n",
        "\n",
        "# Train model\n",
        "mnist_cnn_trainer.fit(x_train, y_train, x_val, y_val, epochs)\n",
        "\n",
        "# Plot training history\n",
        "mnist_cnn_trainer.plot_history()\n",
        "\n",
        "# Evaluate on test set\n",
        "test_acc = tf.keras.metrics.SparseCategoricalAccuracy(name='test_acc')\n",
        "predictions = mnist_cnn_trainer.predict(x_test)\n",
        "test_acc(y_test, predictions)\n",
        "print(f'Test accuracy: {test_acc.result()*100.:.2f}%')"
      ],
      "metadata": {
        "id": "8WpHNsTkkUxk",
        "outputId": "8fddce77-18ef-49df-f73d-c45a2db4c5ca",
        "colab": {
          "base_uri": "https://localhost:8080/",
          "height": 1000
        }
      },
      "execution_count": 59,
      "outputs": [
        {
          "output_type": "stream",
          "name": "stderr",
          "text": [
            "/usr/local/lib/python3.7/dist-packages/tensorflow/python/util/dispatch.py:1082: UserWarning: \"`sparse_categorical_crossentropy` received `from_logits=True`, but the `output` argument was produced by a sigmoid or softmax activation and thus does not represent logits. Was this intended?\"\n",
            "  return dispatch_target(*args, **kwargs)\n"
          ]
        },
        {
          "output_type": "stream",
          "name": "stdout",
          "text": [
            "WARNING:tensorflow:Model was constructed with shape (49999, 28, 28, 1) for input KerasTensor(type_spec=TensorSpec(shape=(49999, 28, 28, 1), dtype=tf.float64, name='conv2d_8_input'), name='conv2d_8_input', description=\"created by layer 'conv2d_8_input'\"), but it was called on an input with incompatible shape (10001, 28, 28, 1).\n",
            "Epoch 1/200 - loss: 2.294041 - train acc: 13.18% - val acc: 18.63%\n",
            "Epoch 2/200 - loss: 2.268275 - train acc: 18.94% - val acc: 25.85%\n",
            "Epoch 3/200 - loss: 2.242949 - train acc: 26.39% - val acc: 31.69%\n",
            "Epoch 4/200 - loss: 2.217627 - train acc: 32.59% - val acc: 36.72%\n",
            "Epoch 5/200 - loss: 2.192128 - train acc: 37.28% - val acc: 40.21%\n",
            "Epoch 6/200 - loss: 2.166272 - train acc: 40.68% - val acc: 42.47%\n",
            "Epoch 7/200 - loss: 2.140007 - train acc: 43.04% - val acc: 44.62%\n",
            "Epoch 8/200 - loss: 2.113304 - train acc: 45.00% - val acc: 46.35%\n",
            "Epoch 9/200 - loss: 2.086062 - train acc: 46.60% - val acc: 47.77%\n",
            "Epoch 10/200 - loss: 2.058114 - train acc: 47.77% - val acc: 49.43%\n",
            "Epoch 11/200 - loss: 2.029361 - train acc: 49.41% - val acc: 51.57%\n",
            "Epoch 12/200 - loss: 1.999679 - train acc: 51.83% - val acc: 54.00%\n",
            "Epoch 13/200 - loss: 1.968893 - train acc: 54.17% - val acc: 56.38%\n",
            "Epoch 14/200 - loss: 1.936859 - train acc: 56.42% - val acc: 58.83%\n",
            "Epoch 15/200 - loss: 1.903553 - train acc: 58.62% - val acc: 60.47%\n",
            "Epoch 16/200 - loss: 1.869089 - train acc: 60.32% - val acc: 61.88%\n",
            "Epoch 17/200 - loss: 1.833680 - train acc: 61.77% - val acc: 63.21%\n",
            "Epoch 18/200 - loss: 1.797482 - train acc: 63.03% - val acc: 64.44%\n",
            "Epoch 19/200 - loss: 1.760598 - train acc: 64.15% - val acc: 65.51%\n",
            "Epoch 20/200 - loss: 1.723156 - train acc: 65.09% - val acc: 66.27%\n",
            "Epoch 21/200 - loss: 1.685252 - train acc: 65.73% - val acc: 66.83%\n",
            "Epoch 22/200 - loss: 1.646983 - train acc: 66.16% - val acc: 67.07%\n",
            "Epoch 23/200 - loss: 1.608405 - train acc: 66.48% - val acc: 67.31%\n",
            "Epoch 24/200 - loss: 1.569590 - train acc: 66.79% - val acc: 67.78%\n",
            "Epoch 25/200 - loss: 1.530688 - train acc: 67.15% - val acc: 68.34%\n",
            "Epoch 26/200 - loss: 1.491854 - train acc: 67.64% - val acc: 68.60%\n",
            "Epoch 27/200 - loss: 1.453249 - train acc: 68.04% - val acc: 68.88%\n",
            "Epoch 28/200 - loss: 1.415046 - train acc: 68.47% - val acc: 69.18%\n",
            "Epoch 29/200 - loss: 1.377370 - train acc: 68.81% - val acc: 69.42%\n",
            "Epoch 30/200 - loss: 1.340366 - train acc: 69.08% - val acc: 69.68%\n",
            "Epoch 31/200 - loss: 1.304193 - train acc: 69.33% - val acc: 69.87%\n",
            "Epoch 32/200 - loss: 1.268949 - train acc: 69.59% - val acc: 70.09%\n",
            "Epoch 33/200 - loss: 1.234698 - train acc: 69.85% - val acc: 70.30%\n",
            "Epoch 34/200 - loss: 1.201468 - train acc: 70.16% - val acc: 70.77%\n",
            "Epoch 35/200 - loss: 1.169315 - train acc: 70.49% - val acc: 71.12%\n",
            "Epoch 36/200 - loss: 1.138330 - train acc: 70.86% - val acc: 71.56%\n",
            "Epoch 37/200 - loss: 1.108532 - train acc: 71.29% - val acc: 72.01%\n",
            "Epoch 38/200 - loss: 1.079956 - train acc: 71.66% - val acc: 72.39%\n",
            "Epoch 39/200 - loss: 1.052596 - train acc: 72.04% - val acc: 72.70%\n",
            "Epoch 40/200 - loss: 1.026466 - train acc: 72.45% - val acc: 73.04%\n",
            "Epoch 41/200 - loss: 1.001563 - train acc: 72.78% - val acc: 73.34%\n",
            "Epoch 42/200 - loss: 0.977830 - train acc: 73.13% - val acc: 73.76%\n",
            "Epoch 43/200 - loss: 0.955228 - train acc: 73.44% - val acc: 74.12%\n",
            "Epoch 44/200 - loss: 0.933738 - train acc: 73.77% - val acc: 74.36%\n",
            "Epoch 45/200 - loss: 0.913333 - train acc: 74.12% - val acc: 74.62%\n",
            "Epoch 46/200 - loss: 0.893963 - train acc: 74.51% - val acc: 74.97%\n",
            "Epoch 47/200 - loss: 0.875530 - train acc: 74.90% - val acc: 75.34%\n",
            "Epoch 48/200 - loss: 0.858047 - train acc: 75.25% - val acc: 75.76%\n",
            "Epoch 49/200 - loss: 0.841446 - train acc: 75.57% - val acc: 76.16%\n",
            "Epoch 50/200 - loss: 0.825672 - train acc: 75.94% - val acc: 76.53%\n",
            "Epoch 51/200 - loss: 0.810674 - train acc: 76.29% - val acc: 76.98%\n",
            "Epoch 52/200 - loss: 0.796414 - train acc: 76.62% - val acc: 77.35%\n",
            "Epoch 53/200 - loss: 0.782841 - train acc: 76.92% - val acc: 77.57%\n",
            "Epoch 54/200 - loss: 0.769953 - train acc: 77.19% - val acc: 77.88%\n",
            "Epoch 55/200 - loss: 0.757708 - train acc: 77.48% - val acc: 78.23%\n",
            "Epoch 56/200 - loss: 0.746074 - train acc: 77.78% - val acc: 78.49%\n",
            "Epoch 57/200 - loss: 0.735009 - train acc: 78.08% - val acc: 78.78%\n",
            "Epoch 58/200 - loss: 0.724495 - train acc: 78.40% - val acc: 79.04%\n",
            "Epoch 59/200 - loss: 0.714486 - train acc: 78.70% - val acc: 79.18%\n",
            "Epoch 60/200 - loss: 0.704968 - train acc: 78.96% - val acc: 79.36%\n",
            "Epoch 61/200 - loss: 0.695899 - train acc: 79.23% - val acc: 79.56%\n",
            "Epoch 62/200 - loss: 0.687259 - train acc: 79.41% - val acc: 79.69%\n",
            "Epoch 63/200 - loss: 0.679041 - train acc: 79.64% - val acc: 80.08%\n",
            "Epoch 64/200 - loss: 0.671195 - train acc: 79.81% - val acc: 80.20%\n",
            "Epoch 65/200 - loss: 0.663707 - train acc: 80.01% - val acc: 80.30%\n",
            "Epoch 66/200 - loss: 0.656592 - train acc: 80.19% - val acc: 80.41%\n",
            "Epoch 67/200 - loss: 0.649812 - train acc: 80.33% - val acc: 80.57%\n",
            "Epoch 68/200 - loss: 0.643346 - train acc: 80.44% - val acc: 80.69%\n",
            "Epoch 69/200 - loss: 0.637145 - train acc: 80.60% - val acc: 80.84%\n",
            "Epoch 70/200 - loss: 0.631208 - train acc: 80.72% - val acc: 80.94%\n",
            "Epoch 71/200 - loss: 0.625531 - train acc: 80.87% - val acc: 81.03%\n",
            "Epoch 72/200 - loss: 0.620103 - train acc: 81.00% - val acc: 81.15%\n",
            "Epoch 73/200 - loss: 0.614877 - train acc: 81.15% - val acc: 81.28%\n",
            "Epoch 74/200 - loss: 0.609863 - train acc: 81.28% - val acc: 81.36%\n",
            "Epoch 75/200 - loss: 0.605034 - train acc: 81.43% - val acc: 81.44%\n",
            "Epoch 76/200 - loss: 0.600384 - train acc: 81.55% - val acc: 81.62%\n",
            "Epoch 77/200 - loss: 0.595911 - train acc: 81.66% - val acc: 81.81%\n",
            "Epoch 78/200 - loss: 0.591614 - train acc: 81.77% - val acc: 81.90%\n",
            "Epoch 79/200 - loss: 0.587476 - train acc: 81.88% - val acc: 82.04%\n",
            "Epoch 80/200 - loss: 0.583478 - train acc: 82.00% - val acc: 82.20%\n",
            "Epoch 81/200 - loss: 0.579624 - train acc: 82.12% - val acc: 82.27%\n",
            "Epoch 82/200 - loss: 0.575909 - train acc: 82.17% - val acc: 82.37%\n",
            "Epoch 83/200 - loss: 0.572320 - train acc: 82.28% - val acc: 82.49%\n",
            "Epoch 84/200 - loss: 0.568851 - train acc: 82.33% - val acc: 82.55%\n",
            "Epoch 85/200 - loss: 0.565496 - train acc: 82.42% - val acc: 82.67%\n",
            "Epoch 86/200 - loss: 0.562233 - train acc: 82.50% - val acc: 82.74%\n",
            "Epoch 87/200 - loss: 0.559066 - train acc: 82.60% - val acc: 82.80%\n",
            "Epoch 88/200 - loss: 0.555986 - train acc: 82.68% - val acc: 82.82%\n",
            "Epoch 89/200 - loss: 0.553010 - train acc: 82.76% - val acc: 82.85%\n",
            "Epoch 90/200 - loss: 0.550117 - train acc: 82.83% - val acc: 82.89%\n",
            "Epoch 91/200 - loss: 0.547299 - train acc: 82.92% - val acc: 83.01%\n",
            "Epoch 92/200 - loss: 0.544559 - train acc: 82.99% - val acc: 83.06%\n",
            "Epoch 93/200 - loss: 0.541886 - train acc: 83.07% - val acc: 83.09%\n",
            "Epoch 94/200 - loss: 0.539277 - train acc: 83.13% - val acc: 83.16%\n",
            "Epoch 95/200 - loss: 0.536722 - train acc: 83.22% - val acc: 83.21%\n",
            "Epoch 96/200 - loss: 0.534224 - train acc: 83.28% - val acc: 83.26%\n",
            "Epoch 97/200 - loss: 0.531768 - train acc: 83.32% - val acc: 83.34%\n",
            "Epoch 98/200 - loss: 0.529376 - train acc: 83.38% - val acc: 83.46%\n",
            "Epoch 99/200 - loss: 0.527021 - train acc: 83.45% - val acc: 83.50%\n",
            "Epoch 100/200 - loss: 0.524705 - train acc: 83.51% - val acc: 83.56%\n",
            "Epoch 101/200 - loss: 0.522427 - train acc: 83.57% - val acc: 83.64%\n",
            "Epoch 102/200 - loss: 0.520187 - train acc: 83.63% - val acc: 83.72%\n",
            "Epoch 103/200 - loss: 0.518059 - train acc: 83.67% - val acc: 83.77%\n",
            "Epoch 104/200 - loss: 0.515960 - train acc: 83.73% - val acc: 83.79%\n",
            "Epoch 105/200 - loss: 0.513845 - train acc: 83.78% - val acc: 83.84%\n",
            "Epoch 106/200 - loss: 0.511728 - train acc: 83.83% - val acc: 83.89%\n",
            "Epoch 107/200 - loss: 0.509681 - train acc: 83.90% - val acc: 84.00%\n",
            "Epoch 108/200 - loss: 0.507676 - train acc: 83.95% - val acc: 84.09%\n",
            "Epoch 109/200 - loss: 0.505707 - train acc: 84.02% - val acc: 84.13%\n",
            "Epoch 110/200 - loss: 0.503752 - train acc: 84.11% - val acc: 84.16%\n",
            "Epoch 111/200 - loss: 0.501812 - train acc: 84.16% - val acc: 84.27%\n",
            "Epoch 112/200 - loss: 0.499882 - train acc: 84.20% - val acc: 84.30%\n",
            "Epoch 113/200 - loss: 0.497987 - train acc: 84.26% - val acc: 84.36%\n",
            "Epoch 114/200 - loss: 0.496101 - train acc: 84.30% - val acc: 84.43%\n",
            "Epoch 115/200 - loss: 0.494220 - train acc: 84.37% - val acc: 84.51%\n",
            "Epoch 116/200 - loss: 0.492346 - train acc: 84.43% - val acc: 84.54%\n",
            "Epoch 117/200 - loss: 0.490533 - train acc: 84.47% - val acc: 84.57%\n",
            "Epoch 118/200 - loss: 0.488732 - train acc: 84.52% - val acc: 84.63%\n",
            "Epoch 119/200 - loss: 0.486913 - train acc: 84.58% - val acc: 84.62%\n",
            "Epoch 120/200 - loss: 0.485082 - train acc: 84.63% - val acc: 84.69%\n",
            "Epoch 121/200 - loss: 0.483303 - train acc: 84.67% - val acc: 84.72%\n",
            "Epoch 122/200 - loss: 0.481648 - train acc: 84.72% - val acc: 84.77%\n",
            "Epoch 123/200 - loss: 0.479950 - train acc: 84.77% - val acc: 84.87%\n",
            "Epoch 124/200 - loss: 0.478236 - train acc: 84.83% - val acc: 84.93%\n",
            "Epoch 125/200 - loss: 0.476504 - train acc: 84.89% - val acc: 84.98%\n",
            "Epoch 126/200 - loss: 0.474755 - train acc: 84.94% - val acc: 85.05%\n",
            "Epoch 127/200 - loss: 0.473020 - train acc: 85.00% - val acc: 85.04%\n",
            "Epoch 128/200 - loss: 0.471382 - train acc: 85.04% - val acc: 85.06%\n",
            "Epoch 129/200 - loss: 0.469769 - train acc: 85.06% - val acc: 85.14%\n",
            "Epoch 130/200 - loss: 0.468183 - train acc: 85.12% - val acc: 85.19%\n",
            "Epoch 131/200 - loss: 0.466579 - train acc: 85.17% - val acc: 85.29%\n",
            "Epoch 132/200 - loss: 0.464891 - train acc: 85.25% - val acc: 85.33%\n",
            "Epoch 133/200 - loss: 0.463203 - train acc: 85.28% - val acc: 85.37%\n",
            "Epoch 134/200 - loss: 0.461609 - train acc: 85.33% - val acc: 85.45%\n",
            "Epoch 135/200 - loss: 0.460069 - train acc: 85.40% - val acc: 85.48%\n",
            "Epoch 136/200 - loss: 0.458489 - train acc: 85.44% - val acc: 85.57%\n",
            "Epoch 137/200 - loss: 0.456854 - train acc: 85.51% - val acc: 85.60%\n",
            "Epoch 138/200 - loss: 0.455286 - train acc: 85.55% - val acc: 85.68%\n",
            "Epoch 139/200 - loss: 0.453794 - train acc: 85.61% - val acc: 85.69%\n",
            "Epoch 140/200 - loss: 0.452265 - train acc: 85.63% - val acc: 85.81%\n",
            "Epoch 141/200 - loss: 0.450693 - train acc: 85.69% - val acc: 85.85%\n",
            "Epoch 142/200 - loss: 0.449182 - train acc: 85.73% - val acc: 85.92%\n",
            "Epoch 143/200 - loss: 0.447708 - train acc: 85.74% - val acc: 85.93%\n",
            "Epoch 144/200 - loss: 0.446232 - train acc: 85.80% - val acc: 86.01%\n",
            "Epoch 145/200 - loss: 0.444719 - train acc: 85.84% - val acc: 86.08%\n",
            "Epoch 146/200 - loss: 0.443247 - train acc: 85.89% - val acc: 86.14%\n",
            "Epoch 147/200 - loss: 0.441796 - train acc: 85.93% - val acc: 86.12%\n",
            "Epoch 148/200 - loss: 0.440340 - train acc: 85.98% - val acc: 86.22%\n",
            "Epoch 149/200 - loss: 0.438906 - train acc: 85.99% - val acc: 86.19%\n",
            "Epoch 150/200 - loss: 0.437459 - train acc: 86.03% - val acc: 86.30%\n",
            "Epoch 151/200 - loss: 0.436014 - train acc: 86.09% - val acc: 86.35%\n",
            "Epoch 152/200 - loss: 0.434599 - train acc: 86.13% - val acc: 86.32%\n",
            "Epoch 153/200 - loss: 0.433219 - train acc: 86.19% - val acc: 86.38%\n",
            "Epoch 154/200 - loss: 0.431822 - train acc: 86.22% - val acc: 86.38%\n",
            "Epoch 155/200 - loss: 0.430437 - train acc: 86.28% - val acc: 86.41%\n",
            "Epoch 156/200 - loss: 0.429069 - train acc: 86.32% - val acc: 86.46%\n",
            "Epoch 157/200 - loss: 0.427705 - train acc: 86.35% - val acc: 86.53%\n",
            "Epoch 158/200 - loss: 0.426366 - train acc: 86.40% - val acc: 86.59%\n",
            "Epoch 159/200 - loss: 0.425049 - train acc: 86.46% - val acc: 86.57%\n",
            "Epoch 160/200 - loss: 0.423728 - train acc: 86.46% - val acc: 86.67%\n",
            "Epoch 161/200 - loss: 0.422423 - train acc: 86.54% - val acc: 86.66%\n",
            "Epoch 162/200 - loss: 0.421105 - train acc: 86.53% - val acc: 86.75%\n",
            "Epoch 163/200 - loss: 0.419782 - train acc: 86.61% - val acc: 86.74%\n",
            "Epoch 164/200 - loss: 0.418461 - train acc: 86.61% - val acc: 86.83%\n",
            "Epoch 165/200 - loss: 0.417193 - train acc: 86.66% - val acc: 86.87%\n",
            "Epoch 166/200 - loss: 0.415963 - train acc: 86.66% - val acc: 86.94%\n",
            "Epoch 167/200 - loss: 0.414747 - train acc: 86.75% - val acc: 86.94%\n",
            "Epoch 168/200 - loss: 0.413488 - train acc: 86.74% - val acc: 87.01%\n",
            "Epoch 169/200 - loss: 0.412234 - train acc: 86.81% - val acc: 87.08%\n",
            "Epoch 170/200 - loss: 0.410998 - train acc: 86.84% - val acc: 87.11%\n",
            "Epoch 171/200 - loss: 0.409813 - train acc: 86.86% - val acc: 87.11%\n",
            "Epoch 172/200 - loss: 0.408669 - train acc: 86.92% - val acc: 87.16%\n",
            "Epoch 173/200 - loss: 0.407509 - train acc: 86.93% - val acc: 87.14%\n",
            "Epoch 174/200 - loss: 0.406326 - train acc: 86.96% - val acc: 87.25%\n",
            "Epoch 175/200 - loss: 0.405148 - train acc: 87.04% - val acc: 87.29%\n",
            "Epoch 176/200 - loss: 0.404023 - train acc: 87.06% - val acc: 87.33%\n",
            "Epoch 177/200 - loss: 0.402937 - train acc: 87.13% - val acc: 87.24%\n",
            "Epoch 178/200 - loss: 0.401903 - train acc: 87.11% - val acc: 87.40%\n",
            "Epoch 179/200 - loss: 0.400817 - train acc: 87.21% - val acc: 87.31%\n",
            "Epoch 180/200 - loss: 0.399672 - train acc: 87.18% - val acc: 87.49%\n",
            "Epoch 181/200 - loss: 0.398530 - train acc: 87.29% - val acc: 87.54%\n",
            "Epoch 182/200 - loss: 0.397423 - train acc: 87.31% - val acc: 87.51%\n",
            "Epoch 183/200 - loss: 0.396381 - train acc: 87.33% - val acc: 87.58%\n",
            "Epoch 184/200 - loss: 0.395362 - train acc: 87.40% - val acc: 87.55%\n",
            "Epoch 185/200 - loss: 0.394335 - train acc: 87.38% - val acc: 87.59%\n",
            "Epoch 186/200 - loss: 0.393291 - train acc: 87.43% - val acc: 87.60%\n",
            "Epoch 187/200 - loss: 0.392290 - train acc: 87.46% - val acc: 87.62%\n",
            "Epoch 188/200 - loss: 0.391300 - train acc: 87.49% - val acc: 87.69%\n",
            "Epoch 189/200 - loss: 0.390316 - train acc: 87.53% - val acc: 87.66%\n",
            "Epoch 190/200 - loss: 0.389331 - train acc: 87.56% - val acc: 87.71%\n",
            "Epoch 191/200 - loss: 0.388358 - train acc: 87.58% - val acc: 87.74%\n",
            "Epoch 192/200 - loss: 0.387375 - train acc: 87.62% - val acc: 87.69%\n",
            "Epoch 193/200 - loss: 0.386402 - train acc: 87.65% - val acc: 87.80%\n",
            "Epoch 194/200 - loss: 0.385459 - train acc: 87.70% - val acc: 87.77%\n",
            "Epoch 195/200 - loss: 0.384540 - train acc: 87.68% - val acc: 87.86%\n",
            "Epoch 196/200 - loss: 0.383633 - train acc: 87.72% - val acc: 87.80%\n",
            "Epoch 197/200 - loss: 0.382709 - train acc: 87.74% - val acc: 87.91%\n",
            "Epoch 198/200 - loss: 0.381821 - train acc: 87.79% - val acc: 87.94%\n",
            "Epoch 199/200 - loss: 0.380928 - train acc: 87.83% - val acc: 87.90%\n",
            "Epoch 200/200 - loss: 0.380032 - train acc: 87.84% - val acc: 88.04%\n"
          ]
        },
        {
          "output_type": "display_data",
          "data": {
            "text/plain": [
              "<Figure size 720x720 with 2 Axes>"
            ],
            "image/png": "[encoded data removed]"
          },
          "metadata": {
            "needs_background": "light"
          }
        },
        {
          "output_type": "stream",
          "name": "stdout",
          "text": [
            "Test accuracy: 88.01%\n"
          ]
        }
      ]
    },
    {
      "cell_type": "markdown",
      "source": [
        "---\n",
        "# Préparation des données Fashion MNIST\n",
        "\n",
        "Vous allez utiliser le jeu de données Fashion MNIST qui contient des images de vétements, le but va être de créer des réseaux de neurones qui vont apprendre à reconnaître et correctement classifier les images.\n",
        "\n",
        "Vous devez définir un CNN, ainsi que les hyper-paramètres que le modèle utilisera lors de son apprentissage.\n",
        "Cherchez la meilleure architecture et les meilleurs paramètres possibles de manière empirique en testant différentes choses.\n",
        "Reportez vous à la documentation Keras https://keras.io/api/ pour connaître les différentes fonctionnalités utilisables ainsi que les paramètres qu'il est possible de modifier pour chaque.\n",
        "\n",
        "L'objectif ici est d'obtenir une accuracy d'au minimum 90% sur le jeu de test.\n",
        "\n",
        "Vous pourrez obtenir un bonus en ajoutant aux endroits opportuns dans l'architecture du modèle une ou des batch-normalizations, et un ou des dropouts.\n"
      ],
      "metadata": {
        "id": "xDHsFYdoAYJF"
      }
    },
    {
      "cell_type": "code",
      "source": [
        "# Load data\n",
        "(x_train, y_train), (x_test, y_test) = tf.keras.datasets.fashion_mnist.load_data()\n",
        "class_names = ['T-shirt/top', 'Trouser', 'Pullover', 'Dress', 'Coat',\n",
        "               'Sandal', 'Shirt', 'Sneaker', 'Bag', 'Ankle boot']\n",
        "# Normalize data\n",
        "...\n",
        "# Add channel dimension to MNIST data\n",
        "...\n",
        "# Split train val\n",
        "..."
      ],
      "metadata": {
        "id": "Mv4dCJK1AcUd"
      },
      "execution_count": null,
      "outputs": []
    },
    {
      "cell_type": "code",
      "source": [
        "# Plot grid with first 25 training images with their corresponding label\n",
        "plt.figure(figsize=(10,10))\n",
        "for i in range(25):\n",
        "    plt.subplot(5, 5, i+1)\n",
        "    plt.xticks([])\n",
        "    plt.yticks([])\n",
        "    plt.imshow(x_train[i].squeeze(), cmap='gray')\n",
        "    plt.title(class_names[y_train[i]])\n",
        "plt.show()"
      ],
      "metadata": {
        "id": "GgLmiKBeBEBQ"
      },
      "execution_count": null,
      "outputs": []
    },
    {
      "cell_type": "code",
      "source": [
        "# Define model\n",
        "model = ...\n",
        "\n",
        "# Set hyperparameters\n",
        "loss_function = ...\n",
        "optimizer = ...\n",
        "epochs = ...\n",
        "\n",
        "# Initialize trainer\n",
        "fashion_cnn_trainer = Trainer(model=model,\n",
        "                              loss_function=loss_function,\n",
        "                              optimizer=optimizer)\n",
        "\n",
        "# Train model\n",
        "fashion_cnn_trainer.fit(x_train, y_train, x_val, y_val, epochs)\n",
        "\n",
        "# Plot training history\n",
        "fashion_cnn_trainer.plot_history()\n",
        "\n",
        "# Evaluate on test set\n",
        "test_acc = tf.keras.metrics.SparseCategoricalAccuracy(name='test_acc')\n",
        "predictions = fashion_cnn_trainer.predict(x_test)\n",
        "test_acc(y_test, predictions)\n",
        "print(f'Test accuracy: {test_acc.result()*100.:.2f}%')"
      ],
      "metadata": {
        "id": "KnvRhFQ0BJHd"
      },
      "execution_count": null,
      "outputs": []
    },
    {
      "cell_type": "markdown",
      "source": [
        "Si l'apprentissage ci-dessus s'est bien passé l'executions des 2 cellules de code suivantes devraient vous afficher respectivement les 25 premières images de test avec le label prédit et le label réel pour chaque et les 40 premières images de test avec les probabilités émisent par le modèle pour chacune des classes."
      ],
      "metadata": {
        "id": "hjCHZkauywyb"
      }
    },
    {
      "cell_type": "code",
      "source": [
        "# Plot grid with first 25 test images with their predicted and true label\n",
        "plt.figure(figsize=(10,10))\n",
        "for i in range(25):\n",
        "    plt.subplot(5, 5, i+1)\n",
        "    plt.xticks([])\n",
        "    plt.yticks([])\n",
        "    plt.imshow(x_test[i].squeeze(), cmap='gray')\n",
        "    pred = predictions[i].numpy().argmax()\n",
        "    true = y_test[i]\n",
        "    color = 'green' if pred == true else 'red'\n",
        "    plt.title(f'{class_names[pred]} | {class_names[true]}', color=color)\n",
        "plt.show()"
      ],
      "metadata": {
        "id": "Q0zjfPMBkU12"
      },
      "execution_count": null,
      "outputs": []
    },
    {
      "cell_type": "code",
      "source": [
        "# Plot grid with first 40 test images with the model probabilities\n",
        "plt.figure(figsize=(20, 16))\n",
        "for i in range(40):\n",
        "    plt.subplot(8, 10, (i*2)+1)\n",
        "    plt.xticks([])\n",
        "    plt.yticks([])\n",
        "    plt.imshow(x_test[i].squeeze(), cmap='gray')\n",
        "    pred = predictions[i].numpy().argmax()\n",
        "    true = y_test[i]\n",
        "    color = 'green' if pred == true else 'red'\n",
        "    plt.title(f'{class_names[pred]} | {class_names[true]}', color=color)\n",
        "    plt.subplot(8, 10, (i*2)+2)\n",
        "    barplt = plt.bar(list(range(len(class_names))), predictions[i].numpy(),\n",
        "                     color='gray')\n",
        "    barplt[pred].set_color('red')\n",
        "    barplt[true].set_color('blue')\n",
        "plt.show()"
      ],
      "metadata": {
        "id": "6zh2_K3iSjmm"
      },
      "execution_count": null,
      "outputs": []
    }
  ]
}