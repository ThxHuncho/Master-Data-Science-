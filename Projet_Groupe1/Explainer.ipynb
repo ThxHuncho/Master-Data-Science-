{
 "cells": [
  {
   "cell_type": "markdown",
   "id": "a35e8a99",
   "metadata": {},
   "source": [
    "## Explainer "
   ]
  },
  {
   "cell_type": "code",
   "execution_count": 1,
   "id": "12e9d462",
   "metadata": {},
   "outputs": [],
   "source": [
    "import numpy as np\n",
    "np.set_printoptions(threshold=10000,suppress=True)\n",
    "import pandas as pd\n",
    "import warnings\n",
    "import matplotlib.pyplot as plt\n",
    "warnings.filterwarnings('ignore')\n",
    "%matplotlib inline"
   ]
  },
  {
   "cell_type": "code",
   "execution_count": 2,
   "id": "68627b3a",
   "metadata": {},
   "outputs": [],
   "source": [
    "data=pd.read_csv('./data_explainer.csv',sep=',',header=0)"
   ]
  },
  {
   "cell_type": "code",
   "execution_count": 3,
   "id": "827b10a4",
   "metadata": {},
   "outputs": [],
   "source": [
    "from sklearn.model_selection import train_test_split"
   ]
  },
  {
   "cell_type": "code",
   "execution_count": 4,
   "id": "742a6e92",
   "metadata": {},
   "outputs": [],
   "source": [
    "X = data.iloc[:, 1:54].values\n",
    "y = data.iloc[:, 54].values"
   ]
  },
  {
   "cell_type": "code",
   "execution_count": 5,
   "id": "70e33f77",
   "metadata": {},
   "outputs": [],
   "source": [
    "Xtrain,Xtest,ytrain,ytest=train_test_split(X,y,test_size=0.9,random_state=1)"
   ]
  },
  {
   "cell_type": "code",
   "execution_count": null,
   "id": "ed08f798",
   "metadata": {},
   "outputs": [],
   "source": []
  },
  {
   "cell_type": "code",
   "execution_count": 6,
   "id": "eb6f6bea",
   "metadata": {},
   "outputs": [],
   "source": [
    "column_names1=[\"Nombre de carton jaune\",\n",
    "\"Nombre de carton rouge\",\n",
    "\"Nombre de buts / 90 min\",\n",
    "\"Nombre de passe décisives / 90 min\",\n",
    "\"Expected goals / 90 min\",\n",
    "\"Expected assisted / 90 min\",\n",
    "\"Nombre de tirs (n'inclus pas les pénaltys) / 90 min\",\n",
    "\"Nombre de tirs cadrés (n'inclus pas les pénaltys) / 90 min\",\n",
    "\"Nombre de tirs sur coup franc\",\n",
    "\"Nombre de passe réussie total\",\n",
    "\"Nombre de passe tentés\",\n",
    "\"Distance total des passes réussie (yards)\",\n",
    "\"Distance total des passes vers l'avant (yards)\",\n",
    "\"Nombre de passe réussie (entre 5 et 15 yards)\",\n",
    "\"Nombre de passe tentés (entre 5 et 15 yards)\",\n",
    "\"Nombre de passe réussie (entre 15 et 30 yards)\",\n",
    "\"Nombre de passe tentés (entre 15 et 30 yards)\",\n",
    "\"Nombre de passe réussie (plus de 30 yards)\",\n",
    "\"Nombre de passe tentés (plus de 30 yards)\",\n",
    "\"Passes avant un tir\",\n",
    "\"Passes dans le dernier tier du terrain et qui finis par un tir\",\n",
    "\"Passes réussie dans la surface\",\n",
    "\"Passes réussie dans la surface qui finis sur une frappe ?????\",\n",
    "\"Nombre de passes progressives\",\n",
    "\"Action menant à un tir / 90 min\",\n",
    "\"Passe dans le jeu amenant à un tir\",\n",
    "\"Passe sur coups de pieds arreté amenant à un tir\",\n",
    "\"Dribble réussie amenant à un tir\",\n",
    "\"Faute qui conduit à un tir\",\n",
    "\"Actions défensive amenant à un tir\",\n",
    "\"Action menant à un but / 90 min\",\n",
    "\"Passe dans le jeu amenant à un but\",\n",
    "\"Passe sur coups de pieds arreté amenant à un but\",\n",
    "\"Dribble réussie amenant à un but\",\n",
    "\"Faute qui conduit à un but\",\n",
    "\"Actions défensive amenant à un but\",\n",
    "\"Nombre de joueurs taclés\",\n",
    "\"Nombre de joueurs avec tacles réussie\",\n",
    "\"Nombre de tacle dans le 1/3 du terrain\",\n",
    "\"Nombre de tacle dans le 2/3 du terrain\",\n",
    "\"Nombre de tacle dans le 3/3 du terrain\",\n",
    "\"Nombre de dribbleur taclés\",\n",
    "\"Nombre de fois ou le dribleur est passé\",\n",
    "\"Nombre de pression réussie\",\n",
    "\"Nombre de pression dans le 1/3 du terrain\",\n",
    "\"Nombre de pression dans le 2/3 du terrain\",\n",
    "\"Nombre de pression dans le 3/3 du terrain\",\n",
    "\"Nombre de fois ou le joueurs a reçu un ballon\",\n",
    "\"Nombre de ballon touchés dans sa surface\",\n",
    "\"Nombre de ballon touchés dans la surface adv\",\n",
    "\"Nombre de contrôle dans les pieds \",\n",
    "\"Nombre de ballon contrôle dans la surface adv\",\n",
    "\"Fautes commises\"]"
   ]
  },
  {
   "cell_type": "code",
   "execution_count": 7,
   "id": "1d5fc84c",
   "metadata": {},
   "outputs": [],
   "source": [
    "column_names2 = [\"Group\"]"
   ]
  },
  {
   "cell_type": "code",
   "execution_count": 8,
   "id": "6d945aab",
   "metadata": {},
   "outputs": [],
   "source": [
    "Xtest_pd = pd.DataFrame(Xtest,columns=column_names1)\n",
    "ytest_pd=pd.DataFrame(ytest,columns=column_names2)"
   ]
  },
  {
   "cell_type": "code",
   "execution_count": 9,
   "id": "e0a69eb4",
   "metadata": {},
   "outputs": [
    {
     "name": "stdout",
     "output_type": "stream",
     "text": [
      "Detected RandomForestClassifier model: Changing class type to RandomForestClassifierExplainer...\n",
      "Note: model_output=='probability', so assuming that raw shap output of RandomForestClassifier is in probability space...\n",
      "Generating self.shap_explainer = shap.TreeExplainer(model)\n"
     ]
    }
   ],
   "source": [
    "from sklearn.ensemble import RandomForestClassifier\n",
    "from explainerdashboard import ClassifierExplainer, ExplainerDashboard\n",
    "\n",
    "model = RandomForestClassifier(n_estimators=50)\n",
    "model.fit(Xtrain, ytrain)\n",
    "\n",
    "\n",
    "\n",
    "explainer = ClassifierExplainer(\n",
    "                model, Xtest_pd, ytest_pd)\n"
   ]
  },
  {
   "cell_type": "code",
   "execution_count": null,
   "id": "db6b106f",
   "metadata": {},
   "outputs": [
    {
     "name": "stdout",
     "output_type": "stream",
     "text": [
      "Building ExplainerDashboard..\n",
      "Detected notebook environment, consider setting mode='external', mode='inline' or mode='jupyterlab' to keep the notebook interactive while the dashboard is running...\n",
      "Generating layout...\n",
      "Calculating shap values...\n",
      "Calculating prediction probabilities...\n",
      "Calculating metrics...\n",
      "Calculating confusion matrices...\n",
      "Calculating classification_dfs...\n",
      "Calculating roc auc curves...\n",
      "Calculating pr auc curves...\n",
      "Calculating liftcurve_dfs...\n",
      "Calculating dependencies...\n",
      "Calculating permutation importances (if slow, try setting n_jobs parameter)...\n",
      "Calculating predictions...\n",
      "Calculating pred_percentiles...\n",
      "Calculating ShadowDecTree for each individual decision tree...\n",
      "Reminder: you can store the explainer (including calculated dependencies) with explainer.dump('explainer.joblib') and reload with e.g. ClassifierExplainer.from_file('explainer.joblib')\n",
      "Registering callbacks...\n",
      "Starting ExplainerDashboard on http://10.69.1.84:8051\n",
      "Dash is running on http://0.0.0.0:8051/\n",
      "\n",
      " * Serving Flask app \"explainerdashboard.dashboards\" (lazy loading)\n",
      " * Environment: production\n",
      "\u001b[31m   WARNING: This is a development server. Do not use it in a production deployment.\u001b[0m\n",
      "\u001b[2m   Use a production WSGI server instead.\u001b[0m\n",
      " * Debug mode: off\n"
     ]
    },
    {
     "name": "stderr",
     "output_type": "stream",
     "text": [
      " * Running on all addresses.\n",
      "   WARNING: This is a development server. Do not use it in a production deployment.\n",
      " * Running on http://10.69.1.84:8051/ (Press CTRL+C to quit)\n",
      "10.69.1.84 - - [11/Mar/2022 14:07:56] \"GET / HTTP/1.1\" 200 -\n",
      "10.69.1.84 - - [11/Mar/2022 14:07:57] \"GET /_dash-dependencies HTTP/1.1\" 200 -\n",
      "10.69.1.84 - - [11/Mar/2022 14:07:57] \"GET /_dash-layout HTTP/1.1\" 200 -\n",
      "10.69.1.84 - - [11/Mar/2022 14:07:58] \"GET /_dash-component-suites/dash/dcc/async-dropdown.js HTTP/1.1\" 200 -\n",
      "10.69.1.84 - - [11/Mar/2022 14:07:58] \"GET /_dash-component-suites/dash/dcc/async-graph.js HTTP/1.1\" 200 -\n",
      "10.69.1.84 - - [11/Mar/2022 14:07:58] \"GET /_dash-component-suites/dash/dcc/async-plotlyjs.js HTTP/1.1\" 200 -\n",
      "10.69.1.84 - - [11/Mar/2022 14:07:58] \"POST /_dash-update-component HTTP/1.1\" 204 -\n",
      "10.69.1.84 - - [11/Mar/2022 14:07:58] \"POST /_dash-update-component HTTP/1.1\" 200 -\n",
      "10.69.1.84 - - [11/Mar/2022 14:07:58] \"POST /_dash-update-component HTTP/1.1\" 200 -\n",
      "10.69.1.84 - - [11/Mar/2022 14:07:58] \"POST /_dash-update-component HTTP/1.1\" 200 -\n",
      "10.69.1.84 - - [11/Mar/2022 14:07:58] \"POST /_dash-update-component HTTP/1.1\" 200 -\n",
      "10.69.1.84 - - [11/Mar/2022 14:07:58] \"POST /_dash-update-component HTTP/1.1\" 200 -\n",
      "10.69.1.84 - - [11/Mar/2022 14:07:58] \"POST /_dash-update-component HTTP/1.1\" 200 -\n",
      "10.69.1.84 - - [11/Mar/2022 14:07:58] \"POST /_dash-update-component HTTP/1.1\" 200 -\n",
      "10.69.1.84 - - [11/Mar/2022 14:07:58] \"POST /_dash-update-component HTTP/1.1\" 200 -\n",
      "10.69.1.84 - - [11/Mar/2022 14:07:58] \"POST /_dash-update-component HTTP/1.1\" 200 -\n",
      "10.69.1.84 - - [11/Mar/2022 14:07:58] \"POST /_dash-update-component HTTP/1.1\" 200 -\n",
      "10.69.1.84 - - [11/Mar/2022 14:07:58] \"POST /_dash-update-component HTTP/1.1\" 200 -\n",
      "10.69.1.84 - - [11/Mar/2022 14:07:58] \"POST /_dash-update-component HTTP/1.1\" 200 -\n",
      "10.69.1.84 - - [11/Mar/2022 14:07:58] \"POST /_dash-update-component HTTP/1.1\" 200 -\n",
      "10.69.1.84 - - [11/Mar/2022 14:07:58] \"POST /_dash-update-component HTTP/1.1\" 200 -\n",
      "10.69.1.84 - - [11/Mar/2022 14:07:58] \"POST /_dash-update-component HTTP/1.1\" 200 -\n",
      "10.69.1.84 - - [11/Mar/2022 14:07:58] \"POST /_dash-update-component HTTP/1.1\" 200 -\n",
      "10.69.1.84 - - [11/Mar/2022 14:07:58] \"POST /_dash-update-component HTTP/1.1\" 200 -\n",
      "10.69.1.84 - - [11/Mar/2022 14:07:58] \"POST /_dash-update-component HTTP/1.1\" 200 -\n",
      "10.69.1.84 - - [11/Mar/2022 14:07:58] \"POST /_dash-update-component HTTP/1.1\" 200 -\n",
      "10.69.1.84 - - [11/Mar/2022 14:07:58] \"POST /_dash-update-component HTTP/1.1\" 204 -\n",
      "10.69.1.84 - - [11/Mar/2022 14:07:58] \"POST /_dash-update-component HTTP/1.1\" 200 -\n",
      "10.69.1.84 - - [11/Mar/2022 14:07:58] \"POST /_dash-update-component HTTP/1.1\" 200 -\n",
      "10.69.1.84 - - [11/Mar/2022 14:07:58] \"POST /_dash-update-component HTTP/1.1\" 200 -\n",
      "10.69.1.84 - - [11/Mar/2022 14:07:58] \"POST /_dash-update-component HTTP/1.1\" 200 -\n",
      "10.69.1.84 - - [11/Mar/2022 14:07:58] \"POST /_dash-update-component HTTP/1.1\" 204 -\n",
      "10.69.1.84 - - [11/Mar/2022 14:07:58] \"POST /_dash-update-component HTTP/1.1\" 204 -\n",
      "10.69.1.84 - - [11/Mar/2022 14:07:58] \"POST /_dash-update-component HTTP/1.1\" 204 -\n",
      "10.69.1.84 - - [11/Mar/2022 14:07:58] \"POST /_dash-update-component HTTP/1.1\" 200 -\n",
      "10.69.1.84 - - [11/Mar/2022 14:07:58] \"POST /_dash-update-component HTTP/1.1\" 200 -\n",
      "10.69.1.84 - - [11/Mar/2022 14:07:58] \"POST /_dash-update-component HTTP/1.1\" 200 -\n",
      "10.69.1.84 - - [11/Mar/2022 14:07:58] \"POST /_dash-update-component HTTP/1.1\" 200 -\n",
      "10.69.1.84 - - [11/Mar/2022 14:07:58] \"POST /_dash-update-component HTTP/1.1\" 200 -\n",
      "10.69.1.84 - - [11/Mar/2022 14:07:58] \"POST /_dash-update-component HTTP/1.1\" 200 -\n",
      "10.69.1.84 - - [11/Mar/2022 14:07:58] \"POST /_dash-update-component HTTP/1.1\" 200 -\n",
      "10.69.1.84 - - [11/Mar/2022 14:07:58] \"POST /_dash-update-component HTTP/1.1\" 200 -\n",
      "10.69.1.84 - - [11/Mar/2022 14:07:59] \"POST /_dash-update-component HTTP/1.1\" 200 -\n",
      "10.69.1.84 - - [11/Mar/2022 14:07:59] \"POST /_dash-update-component HTTP/1.1\" 200 -\n",
      "10.69.1.84 - - [11/Mar/2022 14:07:59] \"POST /_dash-update-component HTTP/1.1\" 204 -\n",
      "10.69.1.84 - - [11/Mar/2022 14:07:59] \"POST /_dash-update-component HTTP/1.1\" 200 -\n",
      "10.69.1.84 - - [11/Mar/2022 14:07:59] \"POST /_dash-update-component HTTP/1.1\" 200 -\n",
      "10.69.1.84 - - [11/Mar/2022 14:07:59] \"POST /_dash-update-component HTTP/1.1\" 200 -\n",
      "10.69.1.84 - - [11/Mar/2022 14:07:59] \"POST /_dash-update-component HTTP/1.1\" 200 -\n",
      "10.69.1.84 - - [11/Mar/2022 14:07:59] \"POST /_dash-update-component HTTP/1.1\" 200 -\n",
      "10.69.1.84 - - [11/Mar/2022 14:07:59] \"POST /_dash-update-component HTTP/1.1\" 200 -\n",
      "10.69.1.84 - - [11/Mar/2022 14:07:59] \"POST /_dash-update-component HTTP/1.1\" 200 -\n",
      "10.69.1.84 - - [11/Mar/2022 14:07:59] \"POST /_dash-update-component HTTP/1.1\" 204 -\n",
      "10.69.1.84 - - [11/Mar/2022 14:07:59] \"POST /_dash-update-component HTTP/1.1\" 200 -\n",
      "10.69.1.84 - - [11/Mar/2022 14:08:00] \"POST /_dash-update-component HTTP/1.1\" 200 -\n",
      "10.69.1.84 - - [11/Mar/2022 14:08:00] \"POST /_dash-update-component HTTP/1.1\" 200 -\n",
      "10.69.1.84 - - [11/Mar/2022 14:08:00] \"POST /_dash-update-component HTTP/1.1\" 200 -\n",
      "10.69.1.84 - - [11/Mar/2022 14:08:00] \"POST /_dash-update-component HTTP/1.1\" 200 -\n",
      "10.69.1.84 - - [11/Mar/2022 14:08:00] \"POST /_dash-update-component HTTP/1.1\" 200 -\n",
      "10.69.1.84 - - [11/Mar/2022 14:08:00] \"POST /_dash-update-component HTTP/1.1\" 200 -\n",
      "10.69.1.84 - - [11/Mar/2022 14:08:00] \"POST /_dash-update-component HTTP/1.1\" 200 -\n",
      "10.69.1.84 - - [11/Mar/2022 14:08:00] \"POST /_dash-update-component HTTP/1.1\" 200 -\n",
      "10.69.1.84 - - [11/Mar/2022 14:08:00] \"POST /_dash-update-component HTTP/1.1\" 200 -\n",
      "10.69.1.84 - - [11/Mar/2022 14:08:00] \"POST /_dash-update-component HTTP/1.1\" 200 -\n",
      "10.69.1.84 - - [11/Mar/2022 14:08:00] \"POST /_dash-update-component HTTP/1.1\" 200 -\n",
      "10.69.1.84 - - [11/Mar/2022 14:08:00] \"POST /_dash-update-component HTTP/1.1\" 200 -\n",
      "10.69.1.84 - - [11/Mar/2022 14:08:00] \"POST /_dash-update-component HTTP/1.1\" 200 -\n",
      "10.69.1.84 - - [11/Mar/2022 14:08:08] \"GET /_dash-component-suites/dash/dcc/async-slider.js HTTP/1.1\" 200 -\n",
      "10.69.1.84 - - [11/Mar/2022 14:08:11] \"POST /_dash-update-component HTTP/1.1\" 200 -\n",
      "10.69.1.84 - - [11/Mar/2022 14:08:13] \"POST /_dash-update-component HTTP/1.1\" 200 -\n",
      "10.69.1.84 - - [11/Mar/2022 14:08:15] \"POST /_dash-update-component HTTP/1.1\" 200 -\n",
      "10.69.1.84 - - [11/Mar/2022 14:08:16] \"POST /_dash-update-component HTTP/1.1\" 200 -\n",
      "10.69.1.84 - - [11/Mar/2022 14:08:21] \"POST /_dash-update-component HTTP/1.1\" 200 -\n",
      "10.69.1.84 - - [11/Mar/2022 14:08:33] \"POST /_dash-update-component HTTP/1.1\" 200 -\n",
      "10.69.1.84 - - [11/Mar/2022 14:09:52] \"POST /_dash-update-component HTTP/1.1\" 200 -\n",
      "10.69.1.84 - - [11/Mar/2022 14:09:54] \"POST /_dash-update-component HTTP/1.1\" 200 -\n",
      "10.69.1.84 - - [11/Mar/2022 14:09:57] \"POST /_dash-update-component HTTP/1.1\" 200 -\n",
      "10.69.1.84 - - [11/Mar/2022 14:10:03] \"POST /_dash-update-component HTTP/1.1\" 200 -\n",
      "10.69.1.84 - - [11/Mar/2022 14:10:14] \"POST /_dash-update-component HTTP/1.1\" 200 -\n",
      "10.69.1.84 - - [11/Mar/2022 14:10:23] \"POST /_dash-update-component HTTP/1.1\" 200 -\n",
      "10.69.1.84 - - [11/Mar/2022 14:10:25] \"POST /_dash-update-component HTTP/1.1\" 200 -\n",
      "10.69.1.84 - - [11/Mar/2022 14:10:37] \"POST /_dash-update-component HTTP/1.1\" 200 -\n",
      "10.69.1.84 - - [11/Mar/2022 14:10:37] \"POST /_dash-update-component HTTP/1.1\" 204 -\n",
      "10.69.1.84 - - [11/Mar/2022 14:10:37] \"POST /_dash-update-component HTTP/1.1\" 200 -\n",
      "10.69.1.84 - - [11/Mar/2022 14:10:37] \"POST /_dash-update-component HTTP/1.1\" 200 -\n",
      "10.69.1.84 - - [11/Mar/2022 14:10:37] \"POST /_dash-update-component HTTP/1.1\" 200 -\n",
      "10.69.1.84 - - [11/Mar/2022 14:10:37] \"POST /_dash-update-component HTTP/1.1\" 200 -\n",
      "10.69.1.84 - - [11/Mar/2022 14:10:37] \"POST /_dash-update-component HTTP/1.1\" 200 -\n",
      "10.69.1.84 - - [11/Mar/2022 14:10:37] \"POST /_dash-update-component HTTP/1.1\" 200 -\n",
      "10.69.1.84 - - [11/Mar/2022 14:10:37] \"POST /_dash-update-component HTTP/1.1\" 200 -\n",
      "10.69.1.84 - - [11/Mar/2022 14:10:37] \"POST /_dash-update-component HTTP/1.1\" 200 -\n",
      "10.69.1.84 - - [11/Mar/2022 14:10:37] \"POST /_dash-update-component HTTP/1.1\" 200 -\n",
      "10.69.1.84 - - [11/Mar/2022 14:10:37] \"POST /_dash-update-component HTTP/1.1\" 200 -\n",
      "10.69.1.84 - - [11/Mar/2022 14:10:37] \"POST /_dash-update-component HTTP/1.1\" 200 -\n",
      "10.69.1.84 - - [11/Mar/2022 14:10:38] \"POST /_dash-update-component HTTP/1.1\" 200 -\n"
     ]
    },
    {
     "name": "stderr",
     "output_type": "stream",
     "text": [
      "10.69.1.84 - - [11/Mar/2022 14:10:38] \"POST /_dash-update-component HTTP/1.1\" 204 -\n",
      "10.69.1.84 - - [11/Mar/2022 14:10:38] \"POST /_dash-update-component HTTP/1.1\" 200 -\n",
      "10.69.1.84 - - [11/Mar/2022 14:10:38] \"POST /_dash-update-component HTTP/1.1\" 200 -\n",
      "10.69.1.84 - - [11/Mar/2022 14:10:38] \"POST /_dash-update-component HTTP/1.1\" 200 -\n",
      "10.69.1.84 - - [11/Mar/2022 14:10:38] \"POST /_dash-update-component HTTP/1.1\" 200 -\n",
      "10.69.1.84 - - [11/Mar/2022 14:10:38] \"POST /_dash-update-component HTTP/1.1\" 200 -\n",
      "10.69.1.84 - - [11/Mar/2022 14:10:38] \"POST /_dash-update-component HTTP/1.1\" 200 -\n",
      "10.69.1.84 - - [11/Mar/2022 14:10:38] \"POST /_dash-update-component HTTP/1.1\" 200 -\n",
      "10.69.1.84 - - [11/Mar/2022 14:36:20] \"POST /_dash-update-component HTTP/1.1\" 200 -\n",
      "10.69.1.84 - - [11/Mar/2022 14:36:25] \"POST /_dash-update-component HTTP/1.1\" 200 -\n",
      "10.69.1.84 - - [11/Mar/2022 14:36:33] \"POST /_dash-update-component HTTP/1.1\" 200 -\n",
      "10.69.1.84 - - [11/Mar/2022 14:36:35] \"POST /_dash-update-component HTTP/1.1\" 200 -\n",
      "10.69.1.84 - - [11/Mar/2022 14:59:27] \"POST /_dash-update-component HTTP/1.1\" 200 -\n",
      "10.69.1.84 - - [11/Mar/2022 14:59:44] \"POST /_dash-update-component HTTP/1.1\" 200 -\n"
     ]
    }
   ],
   "source": [
    "db = ExplainerDashboard(explainer, title=\"Explainer \",\n",
    "                    whatif=False, # you can switch off tabs with bools\n",
    "                    shap_interaction=False,\n",
    "                    decision_trees=True)\n",
    "db.run(port=8051)"
   ]
  },
  {
   "cell_type": "code",
   "execution_count": null,
   "id": "b5fe5a61",
   "metadata": {},
   "outputs": [],
   "source": []
  }
 ],
 "metadata": {
  "kernelspec": {
   "display_name": "Python 3 (ipykernel)",
   "language": "python",
   "name": "python3"
  },
  "language_info": {
   "codemirror_mode": {
    "name": "ipython",
    "version": 3
   },
   "file_extension": ".py",
   "mimetype": "text/x-python",
   "name": "python",
   "nbconvert_exporter": "python",
   "pygments_lexer": "ipython3",
   "version": "3.9.7"
  }
 },
 "nbformat": 4,
 "nbformat_minor": 5
}
