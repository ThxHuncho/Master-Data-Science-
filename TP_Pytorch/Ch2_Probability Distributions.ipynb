{
 "cells": [
  {
   "cell_type": "code",
   "execution_count": 2,
   "metadata": {},
   "outputs": [],
   "source": [
    "import torch"
   ]
  },
  {
   "cell_type": "markdown",
   "metadata": {},
   "source": [
    "## TP Introduction Distributions et Autograd Torch  "
   ]
  },
  {
   "cell_type": "code",
   "execution_count": 4,
   "metadata": {},
   "outputs": [
    {
     "data": {
      "text/plain": [
       "<torch._C.Generator at 0x22387c24f70>"
      ]
     },
     "execution_count": 4,
     "metadata": {},
     "output_type": "execute_result"
    }
   ],
   "source": [
    "torch.manual_seed(1234)"
   ]
  },
  {
   "cell_type": "markdown",
   "metadata": {},
   "source": [
    "**Les nombres aléatoires peuvent être générés à partir d'une distribution statistique. La fonction de densité de probabilité de la distribution uniforme continue est définie par la formule suivante.**\n",
    "$$f(x) =     \\begin{cases}\n",
    "      \\frac{1}{b-a} & \\text{for $a \\leq x \\leq b$ }\\\\\n",
    "      0 & \\text{for $x < a $ or $x > b$}\\\\\n",
    "    \\end{cases}$$"
   ]
  },
  {
   "cell_type": "code",
   "execution_count": 5,
   "metadata": {},
   "outputs": [
    {
     "data": {
      "text/plain": [
       "tensor([[-0.1117, -0.4966,  0.1631, -0.8817],\n",
       "        [ 0.0539,  0.6684, -0.0597, -0.4675],\n",
       "        [-0.2153,  0.8840, -0.7584, -0.3689],\n",
       "        [-0.3424, -1.4020,  0.3206, -1.0219]])"
      ]
     },
     "execution_count": 5,
     "metadata": {},
     "output_type": "execute_result"
    }
   ],
   "source": [
    "torch.manual_seed(1234)\n",
    "torch.randn(4,4)"
   ]
  },
  {
   "cell_type": "code",
   "execution_count": 6,
   "metadata": {},
   "outputs": [
    {
     "data": {
      "text/plain": [
       "tensor([[0.2837, 0.6567, 0.2388, 0.7313],\n",
       "        [0.6012, 0.3043, 0.2548, 0.6294],\n",
       "        [0.9665, 0.7399, 0.4517, 0.4757],\n",
       "        [0.7842, 0.1525, 0.6662, 0.3343]])"
      ]
     },
     "execution_count": 6,
     "metadata": {},
     "output_type": "execute_result"
    }
   ],
   "source": [
    "torch.Tensor(4, 4).uniform_(0, 1) #random number from uniform distribution"
   ]
  },
  {
   "cell_type": "markdown",
   "metadata": {},
   "source": [
    "**En statistique, la distribution de Bernoulli est considérée comme la distribution de probabilité discrète, qui a deux résultats possibles. Si l'événement se produit, alors la valeur est 1, et si l'événement ne se produit pas, alors la valeur est 0.**\n",
    "$$f(x) =     \\begin{cases}\n",
    "      q = (1-p) & \\text{for $k=0$}\\\\\n",
    "      p & \\text{for $k=1$}\\\\\n",
    "    \\end{cases}$$"
   ]
  },
  {
   "cell_type": "code",
   "execution_count": 7,
   "metadata": {},
   "outputs": [
    {
     "data": {
      "text/plain": [
       "tensor([[0., 0., 0., 0.],\n",
       "        [1., 0., 1., 0.],\n",
       "        [1., 0., 1., 1.],\n",
       "        [0., 0., 0., 0.]])"
      ]
     },
     "execution_count": 7,
     "metadata": {},
     "output_type": "execute_result"
    }
   ],
   "source": [
    "torch.bernoulli(torch.Tensor(4, 4).uniform_(0, 1))"
   ]
  },
  {
   "cell_type": "code",
   "execution_count": 8,
   "metadata": {},
   "outputs": [],
   "source": [
    "#how to perform sampling from a multinomial distribution"
   ]
  },
  {
   "cell_type": "code",
   "execution_count": 9,
   "metadata": {},
   "outputs": [
    {
     "data": {
      "text/plain": [
       "tensor([10., 10., 13., 10., 34., 45., 65., 67., 87., 89., 87., 34.])"
      ]
     },
     "execution_count": 9,
     "metadata": {},
     "output_type": "execute_result"
    }
   ],
   "source": [
    "torch.Tensor([10, 10, 13, 10,34,45,65,67,87,89,87,34])"
   ]
  },
  {
   "cell_type": "code",
   "execution_count": 14,
   "metadata": {},
   "outputs": [
    {
     "data": {
      "text/plain": [
       "tensor([10,  2,  3])"
      ]
     },
     "execution_count": 14,
     "metadata": {},
     "output_type": "execute_result"
    }
   ],
   "source": [
    "torch.multinomial(torch.tensor([10., 10., 13., 10., \n",
    "                                34., 45., 65., 67., \n",
    "                                87., 89., 87., 34.]), \n",
    "                  3)"
   ]
  },
  {
   "cell_type": "code",
   "execution_count": 12,
   "metadata": {},
   "outputs": [
    {
     "data": {
      "text/plain": [
       "tensor([11,  4,  4,  8,  6])"
      ]
     },
     "execution_count": 12,
     "metadata": {},
     "output_type": "execute_result"
    }
   ],
   "source": [
    "torch.multinomial(torch.tensor([10., 10., 13., 10., \n",
    "                                34., 45., 65., 67., \n",
    "                                87., 89., 87., 34.]), \n",
    "                  5, replacement=True)"
   ]
  },
  {
   "cell_type": "markdown",
   "metadata": {},
   "source": [
    "**L'initialisation des poids à partir de la distribution normale est une méthode utilisée pour ajuster un réseau neuronal, cnn et rnn. Examinons le processus de création d'un ensemble de poids aléatoires générés à partir d'une distribution normale.**"
   ]
  },
  {
   "cell_type": "code",
   "execution_count": 20,
   "metadata": {},
   "outputs": [
    {
     "data": {
      "text/plain": [
       "tensor([[-0.0845,  0.5903, -1.0032, -1.7873]])"
      ]
     },
     "execution_count": 20,
     "metadata": {},
     "output_type": "execute_result"
    }
   ],
   "source": [
    "torch.normal(0,1, size=(1,4))"
   ]
  },
  {
   "cell_type": "code",
   "execution_count": 14,
   "metadata": {},
   "outputs": [
    {
     "data": {
      "text/plain": [
       "tensor([-0.0413,  2.0632,  3.4637,  3.9581,  5.1089,  5.6602,  6.8973,  7.4543,\n",
       "         9.0422, 10.0337])"
      ]
     },
     "execution_count": 14,
     "metadata": {},
     "output_type": "execute_result"
    }
   ],
   "source": [
    "torch.normal(mean=torch.arange(1., 11.), \n",
    "             std=torch.arange(1, 0, -0.1))"
   ]
  },
  {
   "cell_type": "code",
   "execution_count": 15,
   "metadata": {},
   "outputs": [
    {
     "data": {
      "text/plain": [
       "tensor([1.5812, 2.9873, 3.1912, 0.1866, 3.2741])"
      ]
     },
     "execution_count": 15,
     "metadata": {},
     "output_type": "execute_result"
    }
   ],
   "source": [
    "torch.normal(mean=0.5, \n",
    "             std=torch.arange(1., 6.))"
   ]
  },
  {
   "cell_type": "code",
   "execution_count": 16,
   "metadata": {},
   "outputs": [
    {
     "data": {
      "text/plain": [
       "tensor([0.4939])"
      ]
     },
     "execution_count": 16,
     "metadata": {},
     "output_type": "execute_result"
    }
   ],
   "source": [
    "torch.normal(mean=0.5, \n",
    "             std=torch.arange(0.2,0.6))"
   ]
  },
  {
   "cell_type": "code",
   "execution_count": 17,
   "metadata": {},
   "outputs": [
    {
     "data": {
      "text/plain": [
       "tensor(45.9167)"
      ]
     },
     "execution_count": 17,
     "metadata": {},
     "output_type": "execute_result"
    }
   ],
   "source": [
    "#computing the descriptive statistics: mean\n",
    "torch.mean(torch.tensor([10., 10., 13., 10., 34., \n",
    "                         45., 65., 67., 87., 89., 87., 34.]))"
   ]
  },
  {
   "cell_type": "code",
   "execution_count": 18,
   "metadata": {},
   "outputs": [
    {
     "data": {
      "text/plain": [
       "tensor([[ 0.9570, -0.5510,  2.6617,  2.1479,  1.2907],\n",
       "        [ 0.2612, -0.5862, -1.5105, -0.1225,  0.8078],\n",
       "        [-1.1421,  2.0506,  0.5289, -0.5447,  0.8097],\n",
       "        [ 1.1226, -1.6121,  0.4752,  0.5868, -0.2878]])"
      ]
     },
     "execution_count": 18,
     "metadata": {},
     "output_type": "execute_result"
    }
   ],
   "source": [
    "# mean across rows and across columns\n",
    "d = torch.randn(4, 5)\n",
    "d"
   ]
  },
  {
   "cell_type": "code",
   "execution_count": 19,
   "metadata": {},
   "outputs": [
    {
     "data": {
      "text/plain": [
       "tensor([ 0.2997, -0.1746,  0.5388,  0.5169,  0.6551])"
      ]
     },
     "execution_count": 19,
     "metadata": {},
     "output_type": "execute_result"
    }
   ],
   "source": [
    "torch.mean(d,dim=0)"
   ]
  },
  {
   "cell_type": "code",
   "execution_count": 20,
   "metadata": {},
   "outputs": [
    {
     "data": {
      "text/plain": [
       "tensor([ 1.3013, -0.2300,  0.3405,  0.0569])"
      ]
     },
     "execution_count": 20,
     "metadata": {},
     "output_type": "execute_result"
    }
   ],
   "source": [
    "torch.mean(d,dim=1)"
   ]
  },
  {
   "cell_type": "code",
   "execution_count": 21,
   "metadata": {},
   "outputs": [
    {
     "data": {
      "text/plain": [
       "(tensor([ 0.2612, -0.5862,  0.4752, -0.1225,  0.8078]),\n",
       " tensor([1, 1, 3, 1, 1]))"
      ]
     },
     "execution_count": 21,
     "metadata": {},
     "output_type": "execute_result"
    }
   ],
   "source": [
    "#compute median\n",
    "torch.median(d,dim=0)"
   ]
  },
  {
   "cell_type": "code",
   "execution_count": 22,
   "metadata": {},
   "outputs": [
    {
     "data": {
      "text/plain": [
       "(tensor([ 1.2907, -0.1225,  0.5289,  0.4752]), tensor([4, 3, 2, 2]))"
      ]
     },
     "execution_count": 22,
     "metadata": {},
     "output_type": "execute_result"
    }
   ],
   "source": [
    "torch.median(d,dim=1)"
   ]
  },
  {
   "cell_type": "code",
   "execution_count": 23,
   "metadata": {},
   "outputs": [
    {
     "data": {
      "text/plain": [
       "(tensor([-0.5510, -1.5105, -1.1421, -1.6121]), tensor([1, 2, 0, 1]))"
      ]
     },
     "execution_count": 23,
     "metadata": {},
     "output_type": "execute_result"
    }
   ],
   "source": [
    "# compute the mode\n",
    "torch.mode(d)"
   ]
  },
  {
   "cell_type": "code",
   "execution_count": 24,
   "metadata": {},
   "outputs": [
    {
     "data": {
      "text/plain": [
       "(tensor([-1.1421, -1.6121, -1.5105, -0.5447, -0.2878]),\n",
       " tensor([2, 3, 1, 2, 3]))"
      ]
     },
     "execution_count": 24,
     "metadata": {},
     "output_type": "execute_result"
    }
   ],
   "source": [
    "torch.mode(d,dim=0)"
   ]
  },
  {
   "cell_type": "code",
   "execution_count": 25,
   "metadata": {},
   "outputs": [
    {
     "data": {
      "text/plain": [
       "(tensor([-0.5510, -1.5105, -1.1421, -1.6121]), tensor([1, 2, 0, 1]))"
      ]
     },
     "execution_count": 25,
     "metadata": {},
     "output_type": "execute_result"
    }
   ],
   "source": [
    "torch.mode(d,dim=1)"
   ]
  },
  {
   "cell_type": "code",
   "execution_count": 26,
   "metadata": {},
   "outputs": [
    {
     "data": {
      "text/plain": [
       "tensor(1.1810)"
      ]
     },
     "execution_count": 26,
     "metadata": {},
     "output_type": "execute_result"
    }
   ],
   "source": [
    "#compute the standard deviation\n",
    "torch.std(d)"
   ]
  },
  {
   "cell_type": "code",
   "execution_count": 27,
   "metadata": {},
   "outputs": [
    {
     "data": {
      "text/plain": [
       "tensor([1.0311, 1.5630, 1.7040, 1.1833, 0.6684])"
      ]
     },
     "execution_count": 27,
     "metadata": {},
     "output_type": "execute_result"
    }
   ],
   "source": [
    "torch.std(d,dim=0)"
   ]
  },
  {
   "cell_type": "code",
   "execution_count": 28,
   "metadata": {},
   "outputs": [
    {
     "data": {
      "text/plain": [
       "tensor([1.2366, 0.8799, 1.2412, 1.0601])"
      ]
     },
     "execution_count": 28,
     "metadata": {},
     "output_type": "execute_result"
    }
   ],
   "source": [
    "torch.std(d,dim=1)"
   ]
  },
  {
   "cell_type": "code",
   "execution_count": 29,
   "metadata": {},
   "outputs": [
    {
     "data": {
      "text/plain": [
       "tensor(1.3948)"
      ]
     },
     "execution_count": 29,
     "metadata": {},
     "output_type": "execute_result"
    }
   ],
   "source": [
    "#compute variance\n",
    "torch.var(d)"
   ]
  },
  {
   "cell_type": "code",
   "execution_count": 30,
   "metadata": {},
   "outputs": [
    {
     "data": {
      "text/plain": [
       "tensor([1.0632, 2.4430, 2.9035, 1.4003, 0.4467])"
      ]
     },
     "execution_count": 30,
     "metadata": {},
     "output_type": "execute_result"
    }
   ],
   "source": [
    "torch.var(d,dim=0)"
   ]
  },
  {
   "cell_type": "code",
   "execution_count": 31,
   "metadata": {},
   "outputs": [
    {
     "data": {
      "text/plain": [
       "tensor([1.5293, 0.7741, 1.5405, 1.1239])"
      ]
     },
     "execution_count": 31,
     "metadata": {},
     "output_type": "execute_result"
    }
   ],
   "source": [
    "torch.var(d,dim=1)"
   ]
  },
  {
   "cell_type": "code",
   "execution_count": 32,
   "metadata": {},
   "outputs": [
    {
     "data": {
      "text/plain": [
       "tensor(-1.6121)"
      ]
     },
     "execution_count": 32,
     "metadata": {},
     "output_type": "execute_result"
    }
   ],
   "source": [
    "# compute min and max\n",
    "torch.min(d)"
   ]
  },
  {
   "cell_type": "code",
   "execution_count": 33,
   "metadata": {},
   "outputs": [
    {
     "data": {
      "text/plain": [
       "(tensor([-1.1421, -1.6121, -1.5105, -0.5447, -0.2878]),\n",
       " tensor([2, 3, 1, 2, 3]))"
      ]
     },
     "execution_count": 33,
     "metadata": {},
     "output_type": "execute_result"
    }
   ],
   "source": [
    "torch.min(d,dim=0)"
   ]
  },
  {
   "cell_type": "code",
   "execution_count": 34,
   "metadata": {},
   "outputs": [
    {
     "data": {
      "text/plain": [
       "(tensor([-0.5510, -1.5105, -1.1421, -1.6121]), tensor([1, 2, 0, 1]))"
      ]
     },
     "execution_count": 34,
     "metadata": {},
     "output_type": "execute_result"
    }
   ],
   "source": [
    "torch.min(d,dim=1)"
   ]
  },
  {
   "cell_type": "code",
   "execution_count": 35,
   "metadata": {},
   "outputs": [
    {
     "data": {
      "text/plain": [
       "tensor(2.6617)"
      ]
     },
     "execution_count": 35,
     "metadata": {},
     "output_type": "execute_result"
    }
   ],
   "source": [
    "torch.max(d)"
   ]
  },
  {
   "cell_type": "code",
   "execution_count": 36,
   "metadata": {},
   "outputs": [
    {
     "data": {
      "text/plain": [
       "(tensor([1.1226, 2.0506, 2.6617, 2.1479, 1.2907]), tensor([3, 2, 0, 0, 0]))"
      ]
     },
     "execution_count": 36,
     "metadata": {},
     "output_type": "execute_result"
    }
   ],
   "source": [
    "torch.max(d,dim=0)"
   ]
  },
  {
   "cell_type": "code",
   "execution_count": 37,
   "metadata": {},
   "outputs": [
    {
     "data": {
      "text/plain": [
       "(tensor([2.6617, 0.8078, 2.0506, 1.1226]), tensor([2, 4, 1, 0]))"
      ]
     },
     "execution_count": 37,
     "metadata": {},
     "output_type": "execute_result"
    }
   ],
   "source": [
    "torch.max(d,dim=1)"
   ]
  },
  {
   "cell_type": "code",
   "execution_count": 38,
   "metadata": {},
   "outputs": [
    {
     "data": {
      "text/plain": [
       "(tensor([[-0.5510,  0.9570,  1.2907,  2.1479,  2.6617],\n",
       "         [-1.5105, -0.5862, -0.1225,  0.2612,  0.8078],\n",
       "         [-1.1421, -0.5447,  0.5289,  0.8097,  2.0506],\n",
       "         [-1.6121, -0.2878,  0.4752,  0.5868,  1.1226]]),\n",
       " tensor([[1, 0, 4, 3, 2],\n",
       "         [2, 1, 3, 0, 4],\n",
       "         [0, 3, 2, 4, 1],\n",
       "         [1, 4, 2, 3, 0]]))"
      ]
     },
     "execution_count": 38,
     "metadata": {},
     "output_type": "execute_result"
    }
   ],
   "source": [
    "# sorting a tensor\n",
    "torch.sort(d)"
   ]
  },
  {
   "cell_type": "code",
   "execution_count": 39,
   "metadata": {},
   "outputs": [
    {
     "data": {
      "text/plain": [
       "(tensor([[-1.1421, -1.6121, -1.5105, -0.5447, -0.2878],\n",
       "         [ 0.2612, -0.5862,  0.4752, -0.1225,  0.8078],\n",
       "         [ 0.9570, -0.5510,  0.5289,  0.5868,  0.8097],\n",
       "         [ 1.1226,  2.0506,  2.6617,  2.1479,  1.2907]]),\n",
       " tensor([[2, 3, 1, 2, 3],\n",
       "         [1, 1, 3, 1, 1],\n",
       "         [0, 0, 2, 3, 2],\n",
       "         [3, 2, 0, 0, 0]]))"
      ]
     },
     "execution_count": 39,
     "metadata": {},
     "output_type": "execute_result"
    }
   ],
   "source": [
    "torch.sort(d,dim=0)"
   ]
  },
  {
   "cell_type": "code",
   "execution_count": 40,
   "metadata": {},
   "outputs": [
    {
     "data": {
      "text/plain": [
       "(tensor([[ 1.1226,  2.0506,  2.6617,  2.1479,  1.2907],\n",
       "         [ 0.9570, -0.5510,  0.5289,  0.5868,  0.8097],\n",
       "         [ 0.2612, -0.5862,  0.4752, -0.1225,  0.8078],\n",
       "         [-1.1421, -1.6121, -1.5105, -0.5447, -0.2878]]),\n",
       " tensor([[3, 2, 0, 0, 0],\n",
       "         [0, 0, 2, 3, 2],\n",
       "         [1, 1, 3, 1, 1],\n",
       "         [2, 3, 1, 2, 3]]))"
      ]
     },
     "execution_count": 40,
     "metadata": {},
     "output_type": "execute_result"
    }
   ],
   "source": [
    "torch.sort(d,dim=0,descending=True)"
   ]
  },
  {
   "cell_type": "code",
   "execution_count": 41,
   "metadata": {},
   "outputs": [
    {
     "data": {
      "text/plain": [
       "(tensor([[ 2.6617,  2.1479,  1.2907,  0.9570, -0.5510],\n",
       "         [ 0.8078,  0.2612, -0.1225, -0.5862, -1.5105],\n",
       "         [ 2.0506,  0.8097,  0.5289, -0.5447, -1.1421],\n",
       "         [ 1.1226,  0.5868,  0.4752, -0.2878, -1.6121]]),\n",
       " tensor([[2, 3, 4, 0, 1],\n",
       "         [4, 0, 3, 1, 2],\n",
       "         [1, 4, 2, 3, 0],\n",
       "         [0, 3, 2, 4, 1]]))"
      ]
     },
     "execution_count": 41,
     "metadata": {},
     "output_type": "execute_result"
    }
   ],
   "source": [
    "torch.sort(d,dim=1,descending=True)"
   ]
  },
  {
   "cell_type": "markdown",
   "metadata": {},
   "source": [
    "## Représentation des variables dans Pytorch\n",
    "\n",
    "**Dans PyTorch, les algorithmes sont représentés sous la forme d'un graphe de calcul. Une variable est considérée comme une représentation autour de l'objet tenseur.** \n",
    "\n",
    "**Fondamentalement, une variable PyTorch est un nœud dans un graphe de calcul qui stocke des données et des gradients. Lors de la formation d'un modèle de réseau de neurones, après chaque itération, nous devons calculer le gradient de la fonction de perte par rapport aux paramètres du modèle, tels que les poids et les biais.**\n",
    "\n",
    "**Après cela, nous mettons généralement à jour les poids à l'aide de l'algorithme de descente de gradient. Dans une structure de graphe informatique, le séquencement et l'ordre des tâches sont très importants.**"
   ]
  },
  {
   "cell_type": "code",
   "execution_count": 31,
   "metadata": {},
   "outputs": [],
   "source": [
    "from torch.autograd import Variable"
   ]
  },
  {
   "cell_type": "markdown",
   "metadata": {},
   "source": [
    "# Comment ça fonctionne ?\n",
    "\n",
    "**Un exemple de la façon dont une variable est utilisée pour créer un graphique de calcul est affiché dans le script suivant. Il y a trois objets variables autour des tenseurs x1, x2 et x3 avec des points aléatoires générés à partir de a = 12 et b = 23.** \n",
    "\n",
    "**Le calcul du graphe implique uniquement la multiplication et l'addition, et le résultat final avec le gradient est affiché. La dérivée partielle de la fonction de perte par rapport aux poids et aux biais dans un modèle de réseau de neurones est obtenue dans PyTorch à l'aide du module Autograd.** \n",
    "\n",
    "**Les variables sont spécifiquement conçues pour conserver les valeurs modifiées lors de l'exécution d'une rétropropagation dans un modèle de réseau neuronal lorsque les paramètres du modèle changent. Le type de variable n'est qu'un wrapper autour du tenseur.** \n",
    "\n",
    "\n",
    "**Il a trois propriétés : data, grad et function.**"
   ]
  },
  {
   "cell_type": "code",
   "execution_count": 32,
   "metadata": {},
   "outputs": [
    {
     "data": {
      "text/plain": [
       "tensor([[1., 1.],\n",
       "        [1., 1.]], requires_grad=True)"
      ]
     },
     "execution_count": 32,
     "metadata": {},
     "output_type": "execute_result"
    }
   ],
   "source": [
    "Variable(torch.ones(2,2),requires_grad=True)"
   ]
  },
  {
   "cell_type": "code",
   "execution_count": 33,
   "metadata": {},
   "outputs": [],
   "source": [
    "a, b = 12,23\n",
    "x1 = Variable(torch.randn(a,b),\n",
    "            requires_grad=True)\n",
    "x2 = Variable(torch.randn(a,b),\n",
    "            requires_grad=True)\n",
    "x3 =Variable(torch.randn(a,b),\n",
    "            requires_grad=True)"
   ]
  },
  {
   "cell_type": "code",
   "execution_count": 39,
   "metadata": {},
   "outputs": [],
   "source": [
    "c = x1 * x2\n",
    "\n",
    "d = a + x3\n",
    "\n",
    "e = torch.sum(d)\n",
    "\n",
    "e.backward()\n"
   ]
  },
  {
   "cell_type": "code",
   "execution_count": 46,
   "metadata": {},
   "outputs": [
    {
     "data": {
      "text/plain": [
       "tensor([[-1.2777e+00, -7.4283e-01,  9.7109e-01,  3.5512e-01,  8.5619e-01,\n",
       "         -3.6345e-01, -1.5518e-01, -1.2282e+00, -8.0385e-01, -4.5301e-01,\n",
       "         -2.2171e-01, -2.0901e+00, -1.2658e+00, -1.8761e+00, -6.0664e-01,\n",
       "          7.4703e-01,  3.4744e-01,  2.8557e-01, -4.9545e-02,  6.2245e-01,\n",
       "          1.6573e-01,  3.1583e-01,  2.4915e-01],\n",
       "        [-4.9784e-01, -1.6970e-02, -2.8298e-01, -6.4459e-01, -1.9885e-02,\n",
       "          1.6222e+00,  1.4239e+00,  9.0691e-01,  7.6310e-02,  3.4223e-01,\n",
       "         -2.8727e-01, -6.7258e-01,  8.8433e-01, -6.6589e-01, -7.3347e-01,\n",
       "         -2.7599e-01,  5.5485e-01, -6.0949e-02,  2.1073e+00, -9.9300e-01,\n",
       "          1.4080e+00,  2.5969e-01,  8.0760e-01],\n",
       "        [-1.2618e+00, -7.7109e-01,  1.3940e+00,  6.0595e-01,  2.2088e-01,\n",
       "         -8.2452e-01, -2.5581e-02, -1.9850e+00, -3.7880e-01, -1.5030e+00,\n",
       "         -1.7534e-02, -9.1940e-01, -9.3890e-01, -1.9421e+00,  9.8052e-01,\n",
       "         -7.4463e-02, -7.1181e-01,  1.6136e+00, -9.7924e-01,  8.2851e-01,\n",
       "         -2.5013e-01,  1.6023e-01,  2.0778e-01],\n",
       "        [ 1.1879e+00, -7.3204e-01,  1.3668e+00,  9.0692e-01,  1.5691e+00,\n",
       "         -1.1084e-01, -2.5730e-01,  6.3652e-01, -4.8517e-01, -7.1437e-01,\n",
       "         -6.0011e-02,  1.8576e-01, -1.7036e-01,  1.0270e+00,  7.0402e-02,\n",
       "          4.2977e-01,  8.2052e-01, -1.4562e+00,  3.0134e-01, -2.2515e-01,\n",
       "          1.1929e-01, -1.0772e+00,  2.5160e-01],\n",
       "        [ 6.6866e-02,  1.4607e+00,  7.7117e-01,  1.2076e-03,  3.7750e-01,\n",
       "          7.3325e-01, -4.9146e-01, -1.1049e+00,  1.9696e-01, -1.4355e-01,\n",
       "          1.4660e+00, -1.0422e-01, -1.0545e+00, -1.9732e-01,  8.5221e-01,\n",
       "         -4.0656e-01, -1.2096e+00,  3.6486e-02,  8.2569e-01, -6.4759e-01,\n",
       "         -5.5633e-01, -6.5077e-01, -2.1786e-01],\n",
       "        [ 7.6996e-01, -9.1563e-01,  7.1281e-01,  1.1037e+00, -7.1190e-01,\n",
       "          1.5389e+00,  2.9841e-01,  5.5607e-01, -6.8683e-01, -9.9216e-01,\n",
       "         -2.4422e-01, -3.4747e-01, -4.0146e-01,  3.8282e-01,  1.2363e+00,\n",
       "         -1.0535e+00, -9.4035e-01, -2.9630e-01, -2.3561e+00,  1.1116e-02,\n",
       "         -5.8723e-01,  7.3759e-01, -1.3158e+00],\n",
       "        [-4.5617e-01, -1.7884e+00, -9.5469e-01,  3.8564e-01,  1.2921e+00,\n",
       "          8.0012e-01, -1.1206e+00, -1.6680e+00,  1.0685e+00, -1.8311e-01,\n",
       "         -1.0058e+00,  3.7973e-01, -2.9853e-01, -1.3616e+00,  2.0826e-01,\n",
       "         -7.3776e-01, -3.2175e-01, -9.4914e-01,  3.4618e-01, -1.2652e+00,\n",
       "         -2.1208e+00,  1.5305e+00, -1.2153e+00],\n",
       "        [-3.1618e-02, -8.6873e-01, -3.5102e-01, -1.5684e+00,  1.3443e+00,\n",
       "          3.7181e-02, -3.5979e-01, -9.7276e-01, -1.2452e+00, -1.1469e-02,\n",
       "         -1.0545e+00, -2.1433e+00, -5.4195e-01, -4.2554e-01,  1.8125e+00,\n",
       "         -1.6073e+00, -1.1039e+00, -1.8680e+00,  8.1188e-01,  9.2804e-01,\n",
       "          2.5353e+00,  7.4317e-01, -9.2664e-01],\n",
       "        [-5.3650e-01, -2.2927e-01, -2.4838e-01,  3.5444e-01, -1.0163e-01,\n",
       "         -3.6335e-01,  1.1053e+00, -9.1091e-01,  6.5265e-01, -1.3451e+00,\n",
       "          9.6358e-01,  8.3500e-01, -1.2857e+00, -2.1408e-01,  1.0373e-01,\n",
       "         -4.0387e-01,  2.1130e+00, -8.5599e-02,  1.2580e+00, -1.8494e+00,\n",
       "         -9.1556e-01,  1.0041e+00,  4.0680e-01],\n",
       "        [-6.7118e-01,  4.2956e-01, -1.3418e+00, -3.6495e-01,  1.2697e+00,\n",
       "         -6.7312e-01, -5.7493e-01,  9.2411e-01,  7.2763e-01,  8.7895e-01,\n",
       "         -9.8971e-02,  1.2043e+00,  1.9976e-01, -8.2096e-01, -8.3537e-01,\n",
       "         -3.3319e-01, -1.3532e+00,  2.7640e+00, -3.1870e-01, -1.3165e-01,\n",
       "         -6.2212e-01,  1.3070e+00,  1.4547e+00],\n",
       "        [-2.1038e-01, -3.4147e-01,  1.2042e+00, -3.5352e-01,  3.4149e-01,\n",
       "          1.3207e+00, -1.0124e+00, -6.5716e-01, -5.7463e-01, -2.0788e+00,\n",
       "         -1.0132e+00, -3.6676e-01,  1.3064e+00, -2.1880e+00, -1.0477e+00,\n",
       "          3.1200e-01, -8.2720e-01, -8.5936e-01,  6.6290e-01,  5.4357e-01,\n",
       "          5.3277e-01, -7.2912e-01, -1.1725e+00],\n",
       "        [ 9.1836e-02, -5.6562e-01, -1.1900e+00, -1.5155e+00, -1.2364e+00,\n",
       "         -6.7582e-01, -8.0012e-02, -6.4198e-01,  1.2667e+00, -7.9892e-02,\n",
       "         -1.5949e+00,  9.3772e-01, -4.5470e-01, -3.0167e-01, -1.0814e-01,\n",
       "          7.2378e-01, -3.9015e-01,  7.1520e-01,  1.2301e+00, -1.2170e-01,\n",
       "          7.7413e-01, -2.4929e+00, -4.7745e-01]])"
      ]
     },
     "execution_count": 46,
     "metadata": {},
     "output_type": "execute_result"
    }
   ],
   "source": [
    "x1.data"
   ]
  },
  {
   "cell_type": "code",
   "execution_count": 47,
   "metadata": {},
   "outputs": [
    {
     "data": {
      "text/plain": [
       "tensor([[ 1.2884e+00, -3.9304e-01, -2.4394e-01, -3.8565e-01, -9.5948e-02,\n",
       "          9.4557e-01, -1.2708e+00,  2.9587e-01,  3.9360e-01, -6.2567e-02,\n",
       "          5.7281e-01, -2.5252e-01, -7.3179e-02, -1.4961e-02,  1.4511e-01,\n",
       "          2.0197e-01, -5.8638e-01, -4.5538e-02, -7.5597e-01, -1.1689e+00,\n",
       "         -9.3890e-01,  8.8566e-01,  1.3764e+00],\n",
       "        [-7.8276e-01,  1.6775e-01,  2.7966e-01, -6.9147e-01, -5.1308e-01,\n",
       "          1.1427e+00, -1.0126e+00,  1.1602e-01, -1.0350e+00, -6.5080e-01,\n",
       "         -7.7945e-02, -9.1219e-02,  5.0242e-01, -4.5173e-01, -4.8067e-01,\n",
       "          5.9066e-01,  1.6343e-01, -2.6001e-01,  1.6992e+00, -2.1036e+00,\n",
       "         -1.8971e+00,  1.4661e+00,  6.1199e-01],\n",
       "        [ 7.9935e-01,  9.3007e-01,  2.6468e-01, -4.9206e-01,  3.0550e-01,\n",
       "          5.8429e-01, -2.1502e+00,  4.1505e-01,  3.1579e-03, -3.8580e-01,\n",
       "         -7.1814e-01, -1.8785e+00, -2.4006e-01, -1.3253e+00,  1.1415e+00,\n",
       "         -4.4164e-01,  3.4923e-01, -1.6730e+00,  5.7499e-01,  3.4973e-01,\n",
       "          1.1152e+00, -5.0580e-01,  1.7331e-01],\n",
       "        [-6.8128e-01,  2.5642e-02,  1.2838e+00, -3.3429e-01, -1.3312e+00,\n",
       "          1.3023e+00, -1.4379e+00, -1.7115e+00, -8.0051e-01,  1.4921e+00,\n",
       "         -1.0768e-01, -2.9451e-02, -2.4463e-01, -5.9166e-01,  8.5103e-02,\n",
       "          7.5238e-02,  8.3984e-01,  1.3866e+00, -9.5211e-01,  5.6902e-01,\n",
       "         -3.6891e-01,  1.3491e+00,  1.5738e+00],\n",
       "        [ 1.2403e+00,  8.7063e-01, -7.4153e-01,  1.7150e+00,  9.1383e-01,\n",
       "          1.1533e+00,  5.8702e-01,  1.7935e+00, -4.3749e-01, -4.4637e-01,\n",
       "         -7.3716e-01,  6.1647e-02,  2.3633e-01,  9.1979e-02, -1.9606e-01,\n",
       "         -5.0812e-01, -8.0779e-01,  1.6439e+00, -1.2366e+00,  5.9530e-02,\n",
       "         -1.9197e-01,  1.0108e+00, -1.6116e+00],\n",
       "        [ 1.0756e+00, -5.2225e-02,  1.0433e+00, -1.7803e-01,  5.4113e-01,\n",
       "         -1.3052e+00,  3.2921e-01, -1.0489e+00,  5.9934e-01, -1.1722e+00,\n",
       "         -3.5785e-01,  2.7906e+00, -1.8163e-01, -1.3839e-01,  1.4555e+00,\n",
       "          1.2022e+00, -4.8330e-01, -2.8758e-01,  1.0301e+00,  7.2947e-01,\n",
       "          1.0306e-01,  2.9707e-01, -7.5162e-01],\n",
       "        [ 5.6054e-01,  8.6046e-01, -1.0222e+00, -1.1600e+00,  7.2069e-01,\n",
       "          1.4963e-01, -6.5010e-01,  1.9048e+00, -1.8408e+00,  9.6285e-01,\n",
       "          2.2254e-02, -1.4754e+00,  4.3352e-01, -2.3785e-01,  1.6771e+00,\n",
       "         -1.9492e-01,  3.1645e-01,  1.4717e+00, -3.9061e-01,  9.7402e-02,\n",
       "          1.0617e+00,  1.2896e+00,  6.3050e-01],\n",
       "        [ 9.3962e-01, -1.1102e+00,  7.6015e-03, -1.0987e+00, -5.3510e-01,\n",
       "         -2.0040e-03,  1.0430e+00, -1.0404e-01,  9.7016e-01, -7.9794e-01,\n",
       "          9.4735e-01,  5.9186e-01, -4.8238e-01,  8.9618e-02,  5.0087e-01,\n",
       "          9.4949e-01, -1.1080e+00, -1.1848e+00, -1.4867e+00, -1.1119e+00,\n",
       "         -5.5689e-01, -1.9381e-01,  6.6268e-01],\n",
       "        [ 6.7376e-01,  1.2182e-01,  1.5987e+00,  4.4115e-01,  1.3639e+00,\n",
       "          3.1804e-01, -1.6259e-01, -4.1701e-02, -1.0199e-01,  1.6282e+00,\n",
       "          2.1635e+00, -6.9394e-01, -6.7843e-01, -1.4126e+00, -6.1121e-01,\n",
       "         -2.7585e-01,  1.0002e+00,  1.4745e+00,  1.1294e+00,  1.4856e+00,\n",
       "         -6.7626e-01,  9.3721e-02, -6.6421e-02],\n",
       "        [-1.0708e+00,  1.4148e+00, -1.7715e+00,  7.8178e-01, -6.3566e-01,\n",
       "         -3.9345e-01,  8.0382e-01,  5.0099e-01, -6.9284e-01,  2.4049e-01,\n",
       "         -6.9211e-01,  5.8784e-01,  1.2261e+00,  1.1008e+00, -3.8728e-01,\n",
       "          3.2881e-01,  6.4573e-01, -1.4167e+00, -2.2950e-01, -8.6854e-01,\n",
       "          7.7369e-02,  1.1841e+00,  5.0544e-01],\n",
       "        [-5.6922e-01,  1.1186e+00,  5.1547e-01,  1.4136e+00, -2.0170e+00,\n",
       "         -1.3915e+00,  1.3255e+00,  4.3642e-01, -1.7325e+00,  4.2292e-01,\n",
       "         -2.2229e-01, -1.8954e+00,  1.4466e+00, -1.2209e+00,  4.0064e-01,\n",
       "          3.0691e-01,  5.4840e-01,  2.1183e+00,  1.0402e-01, -6.0356e-01,\n",
       "          2.4474e-01, -2.3646e-01,  1.1019e+00],\n",
       "        [-1.5382e+00,  8.6998e-02, -6.7848e-01,  8.5068e-01, -6.4472e-01,\n",
       "          7.9302e-01,  3.6504e-01,  4.0111e-01, -1.2684e+00, -5.5387e-01,\n",
       "          5.6262e-01,  2.8169e-02, -9.2929e-01,  5.9767e-02, -1.8229e+00,\n",
       "         -1.4822e-01,  1.7011e+00,  5.8719e-01,  4.5370e-01,  1.1404e+00,\n",
       "          6.1848e-01,  1.5910e+00, -1.4096e-01]])"
      ]
     },
     "execution_count": 47,
     "metadata": {},
     "output_type": "execute_result"
    }
   ],
   "source": [
    "x2.data"
   ]
  },
  {
   "cell_type": "code",
   "execution_count": 48,
   "metadata": {},
   "outputs": [
    {
     "data": {
      "text/plain": [
       "tensor([[-0.9961, -1.6909,  0.3310,  0.6250, -0.7701,  1.0212,  0.7180, -0.1095,\n",
       "          0.0732, -0.4882, -0.1455,  0.9776,  0.3895, -0.6950, -0.0835, -0.0569,\n",
       "          0.4955, -0.7306,  0.2499,  0.2458,  0.1029, -0.6494, -0.3258],\n",
       "        [ 0.8149,  0.5885,  1.6232,  0.4841,  0.3293, -1.2471,  0.2117,  1.4315,\n",
       "          0.0502,  0.9736,  0.0087, -0.7901,  0.0267, -0.3120,  2.4534,  0.7926,\n",
       "          0.2382,  1.8277,  0.6758, -2.0323, -0.3952,  0.7286,  1.3579],\n",
       "        [ 1.3583, -0.5818, -1.3091,  1.5569, -1.4629,  0.6109,  0.2401, -0.5455,\n",
       "          2.9154, -0.1985, -0.2369,  0.1182, -0.8322,  0.1364,  0.4531, -0.1112,\n",
       "          1.0307, -1.1862,  0.3823,  0.0338,  0.9814, -1.9638, -0.2218],\n",
       "        [ 0.1477, -0.1875,  0.9963, -1.9271,  0.8275,  1.7371, -0.7392, -0.1709,\n",
       "          1.2120,  0.9385,  0.3245, -1.6697, -0.5777, -1.4787, -0.2400,  0.4558,\n",
       "         -1.0911,  0.1566, -1.0629,  0.5193,  0.4776, -0.7194,  0.3499],\n",
       "        [-0.3935, -0.3622, -3.4058, -0.1108,  1.2183,  0.2079, -0.0961, -0.6697,\n",
       "         -0.1985, -1.1560, -0.7709, -0.4655,  1.6369, -0.6030, -0.7429, -0.5210,\n",
       "         -0.8078, -0.4448,  1.4265,  0.2566,  0.9585,  0.1260, -0.5296],\n",
       "        [-0.7132, -0.1676, -0.6071,  0.0347, -0.9721, -0.0397, -0.8161,  0.3938,\n",
       "         -0.7728, -0.6024, -0.3242, -0.6425, -2.3893,  0.4362, -2.6706,  0.4027,\n",
       "         -1.0844,  0.1360,  2.1896, -0.2159, -0.4342,  1.4058,  0.5348],\n",
       "        [-0.1235,  0.6418, -2.1429, -0.0135,  0.9174, -1.8431, -0.7970, -0.1183,\n",
       "         -1.1231, -0.6695,  0.0306, -2.3209,  1.9433, -1.7311, -0.2967, -0.9412,\n",
       "          1.6822,  1.3038, -0.3663, -1.2401, -0.2566, -0.0977,  0.5266],\n",
       "        [ 1.5978, -0.7700, -0.1483, -0.8830, -1.5841, -0.3711, -1.2338,  0.9990,\n",
       "          0.7565,  0.0178,  0.3047,  0.8214, -2.6705,  0.3366, -0.4533, -0.2432,\n",
       "          1.2577,  0.7919, -0.8666, -0.3528, -1.5244, -0.4039, -1.4359],\n",
       "        [ 1.1314, -1.6357, -1.2673, -0.1306, -0.3743, -1.1143, -1.0104,  0.5946,\n",
       "          0.2325,  0.2863, -0.4498,  0.0428,  0.2114,  0.3053,  0.1590,  0.6634,\n",
       "          0.2989,  0.4927,  1.2331,  0.0465, -0.0451,  0.6444,  1.6787],\n",
       "        [ 0.8955,  0.4696, -1.1288,  1.4870, -1.2376, -0.0362, -0.2950, -2.5790,\n",
       "         -1.0069, -0.7403,  1.8117,  0.2949,  0.0973, -0.1098,  1.5281, -0.4748,\n",
       "         -0.5837,  0.1302,  0.6672, -0.2173,  0.4118, -1.8131, -0.7694],\n",
       "        [-0.7774, -0.4924,  2.7923,  0.3186, -0.2974, -0.6724,  0.8060,  0.1783,\n",
       "         -0.8092,  0.2455,  1.0400,  1.5255, -0.2207,  1.3099, -1.3060, -1.4669,\n",
       "         -0.3317, -0.4190, -0.6929, -0.3424,  2.0673, -1.0484,  0.4922],\n",
       "        [ 1.7666,  0.0404,  0.4461,  0.1478,  0.6247, -0.7872,  0.7080, -0.6869,\n",
       "         -0.1129,  1.1184,  0.7894, -0.0335, -1.2689,  1.9729, -0.8351, -0.0128,\n",
       "          1.5054, -0.7176, -0.2336,  2.6096, -1.6426, -1.0094, -0.3527]])"
      ]
     },
     "execution_count": 48,
     "metadata": {},
     "output_type": "execute_result"
    }
   ],
   "source": [
    "x3.data"
   ]
  },
  {
   "cell_type": "code",
   "execution_count": 49,
   "metadata": {},
   "outputs": [
    {
     "name": "stdout",
     "output_type": "stream",
     "text": [
      "Gradient of w1 w.r.t to Loss: -455.0\n",
      "Gradient of w2 w.r.t to Loss: -365.0\n",
      "Gradient of w3 w.r.t to Loss: -60.0\n",
      "Gradient of w4 w.r.t to Loss: -265.0\n"
     ]
    }
   ],
   "source": [
    "from torch import FloatTensor\n",
    "from torch.autograd import Variable\n",
    "\n",
    "a = Variable(FloatTensor([5]))\n",
    "\n",
    "weights = [Variable(FloatTensor([i]), requires_grad=True) for i in (12, 53, 91, 73)]\n",
    "\n",
    "w1, w2, w3, w4 = weights\n",
    "\n",
    "b = w1 * a\n",
    "c = w2 * a\n",
    "d = w3 * b + w4 * c\n",
    "Loss = (10 - d)\n",
    "\n",
    "Loss.backward()\n",
    "\n",
    "for index, weight in enumerate(weights, start=1):\n",
    "    gradient, *_ = weight.grad.data\n",
    "    print(f\"Gradient of w{index} w.r.t to Loss: {gradient}\")"
   ]
  },
  {
   "cell_type": "code",
   "execution_count": 50,
   "metadata": {},
   "outputs": [],
   "source": [
    "# Using forward pass\n",
    "def forward(x):\n",
    "    return x * w"
   ]
  },
  {
   "cell_type": "code",
   "execution_count": 51,
   "metadata": {},
   "outputs": [
    {
     "name": "stdout",
     "output_type": "stream",
     "text": [
      "predict (before training) 4 tensor(4.)\n"
     ]
    }
   ],
   "source": [
    "import torch\n",
    "from torch.autograd import Variable\n",
    "\n",
    "x_data = [11.0, 22.0, 33.0]\n",
    "y_data = [21.0, 14.0, 64.0]\n",
    "\n",
    "w = Variable(torch.Tensor([1.0]),  requires_grad=True)  # Any random value\n",
    "\n",
    "# Before training\n",
    "print(\"predict (before training)\",  4, forward(4).data[0])"
   ]
  },
  {
   "cell_type": "code",
   "execution_count": 52,
   "metadata": {},
   "outputs": [],
   "source": [
    "# define the Loss function\n",
    "def loss(x, y):\n",
    "    y_pred = forward(x)\n",
    "    return (y_pred - y) * (y_pred - y)"
   ]
  },
  {
   "cell_type": "code",
   "execution_count": 53,
   "metadata": {},
   "outputs": [
    {
     "name": "stdout",
     "output_type": "stream",
     "text": [
      "\tgrad:  11.0 21.0 tensor(-220.)\n",
      "\tgrad:  22.0 14.0 tensor(2481.6001)\n",
      "\tgrad:  33.0 64.0 tensor(-51303.6484)\n",
      "progress: 0 tensor(604238.8125)\n",
      "\tgrad:  11.0 21.0 tensor(118461.7578)\n",
      "\tgrad:  22.0 14.0 tensor(-671630.6875)\n",
      "\tgrad:  33.0 64.0 tensor(13114108.)\n",
      "progress: 1 tensor(3.9481e+10)\n",
      "\tgrad:  11.0 21.0 tensor(-30279010.)\n",
      "\tgrad:  22.0 14.0 tensor(1.7199e+08)\n",
      "\tgrad:  33.0 64.0 tensor(-3.3589e+09)\n",
      "progress: 2 tensor(2.5900e+15)\n",
      "\tgrad:  11.0 21.0 tensor(7.7553e+09)\n",
      "\tgrad:  22.0 14.0 tensor(-4.4050e+10)\n",
      "\tgrad:  33.0 64.0 tensor(8.6030e+11)\n",
      "progress: 3 tensor(1.6991e+20)\n",
      "\tgrad:  11.0 21.0 tensor(-1.9863e+12)\n",
      "\tgrad:  22.0 14.0 tensor(1.1282e+13)\n",
      "\tgrad:  33.0 64.0 tensor(-2.2034e+14)\n",
      "progress: 4 tensor(1.1146e+25)\n",
      "\tgrad:  11.0 21.0 tensor(5.0875e+14)\n",
      "\tgrad:  22.0 14.0 tensor(-2.8897e+15)\n",
      "\tgrad:  33.0 64.0 tensor(5.6436e+16)\n",
      "progress: 5 tensor(7.3118e+29)\n",
      "\tgrad:  11.0 21.0 tensor(-1.3030e+17)\n",
      "\tgrad:  22.0 14.0 tensor(7.4013e+17)\n",
      "\tgrad:  33.0 64.0 tensor(-1.4455e+19)\n",
      "progress: 6 tensor(4.7966e+34)\n",
      "\tgrad:  11.0 21.0 tensor(3.3374e+19)\n",
      "\tgrad:  22.0 14.0 tensor(-1.8957e+20)\n",
      "\tgrad:  33.0 64.0 tensor(3.7022e+21)\n",
      "progress: 7 tensor(inf)\n",
      "\tgrad:  11.0 21.0 tensor(-8.5480e+21)\n",
      "\tgrad:  22.0 14.0 tensor(4.8553e+22)\n",
      "\tgrad:  33.0 64.0 tensor(-9.4824e+23)\n",
      "progress: 8 tensor(inf)\n",
      "\tgrad:  11.0 21.0 tensor(2.1894e+24)\n",
      "\tgrad:  22.0 14.0 tensor(-1.2436e+25)\n",
      "\tgrad:  33.0 64.0 tensor(2.4287e+26)\n",
      "progress: 9 tensor(inf)\n"
     ]
    }
   ],
   "source": [
    "# Run the Training loop\n",
    "for epoch in range(10):\n",
    "    for x_val, y_val in zip(x_data, y_data):\n",
    "        l = loss(x_val, y_val)\n",
    "        l.backward()\n",
    "        print(\"\\tgrad: \", x_val, y_val, w.grad.data[0])\n",
    "        w.data = w.data - 0.01 * w.grad.data\n",
    "\n",
    "        # Manually set the gradients to zero after updating weights\n",
    "        w.grad.data.zero_()\n",
    "\n",
    "    print(\"progress:\", epoch, l.data[0])"
   ]
  },
  {
   "cell_type": "code",
   "execution_count": 54,
   "metadata": {},
   "outputs": [
    {
     "name": "stdout",
     "output_type": "stream",
     "text": [
      "predict (after training) 4 tensor(-9.2687e+24)\n"
     ]
    }
   ],
   "source": [
    "# After training\n",
    "print(\"predict (after training)\",  4, forward(4).data[0])"
   ]
  },
  {
   "cell_type": "code",
   "execution_count": 55,
   "metadata": {},
   "outputs": [
    {
     "name": "stdout",
     "output_type": "stream",
     "text": [
      "tensor([[-1.6829, -0.7646, -3.2800,  4.8965],\n",
      "        [-2.5063,  1.0934, -4.3770,  0.4817],\n",
      "        [ 3.5295, -4.1107,  1.7744,  0.1032],\n",
      "        [ 2.7068, -2.3518, -2.9924, -2.2361]])\n"
     ]
    }
   ],
   "source": [
    "z = Variable(torch.Tensor(4, 4).uniform_(-5, 5))\n",
    "print(z)"
   ]
  },
  {
   "cell_type": "code",
   "execution_count": 56,
   "metadata": {},
   "outputs": [
    {
     "name": "stdout",
     "output_type": "stream",
     "text": [
      "Requires Gradient : False \n",
      "Volatile : False \n",
      "Gradient : None \n",
      "tensor([[-1.6829, -0.7646, -3.2800,  4.8965],\n",
      "        [-2.5063,  1.0934, -4.3770,  0.4817],\n",
      "        [ 3.5295, -4.1107,  1.7744,  0.1032],\n",
      "        [ 2.7068, -2.3518, -2.9924, -2.2361]])\n"
     ]
    },
    {
     "name": "stderr",
     "output_type": "stream",
     "text": [
      "/home/taeho/anaconda3/envs/pytorch/lib/python3.6/site-packages/ipykernel_launcher.py:2: UserWarning: volatile was removed (Variable.volatile is always False)\n",
      "  \n"
     ]
    }
   ],
   "source": [
    "print('Requires Gradient : %s ' % (z.requires_grad))\n",
    "print('Volatile : %s ' % (z.volatile))\n",
    "print('Gradient : %s ' % (z.grad))\n",
    "print(z.data)"
   ]
  },
  {
   "cell_type": "code",
   "execution_count": 57,
   "metadata": {},
   "outputs": [
    {
     "name": "stdout",
     "output_type": "stream",
     "text": [
      "torch.Size([4, 4])\n"
     ]
    }
   ],
   "source": [
    "x = Variable(torch.Tensor(4, 4).uniform_(-4, 5))\n",
    "y = Variable(torch.Tensor(4, 4).uniform_(-3, 2))\n",
    "# matrix multiplication\n",
    "z = torch.mm(x, y)\n",
    "print(z.size())"
   ]
  },
  {
   "cell_type": "code",
   "execution_count": 58,
   "metadata": {},
   "outputs": [
    {
     "data": {
      "text/plain": [
       "tensor([[-0.1543,  4.2907,  0.2236, -2.8022],\n",
       "        [-2.0575, -0.5636, -0.8188,  0.1090],\n",
       "        [-1.3117, -1.6458,  1.7566,  1.8466],\n",
       "        [-1.3897,  2.1993, -1.2817,  0.7104]])"
      ]
     },
     "execution_count": 58,
     "metadata": {},
     "output_type": "execute_result"
    }
   ],
   "source": [
    "x.data"
   ]
  },
  {
   "cell_type": "code",
   "execution_count": 59,
   "metadata": {},
   "outputs": [],
   "source": [
    "#tensor operations"
   ]
  },
  {
   "cell_type": "code",
   "execution_count": 60,
   "metadata": {},
   "outputs": [
    {
     "data": {
      "text/plain": [
       "tensor([[0.9847, 0.5323, 0.5292, 0.4766],\n",
       "        [0.7693, 0.4567, 0.5488, 0.3049],\n",
       "        [0.5636, 0.7567, 0.7661, 0.9689],\n",
       "        [0.5449, 0.0366, 0.1953, 0.2597]])"
      ]
     },
     "execution_count": 60,
     "metadata": {},
     "output_type": "execute_result"
    }
   ],
   "source": [
    "mat1 = torch.FloatTensor(4,4).uniform_(0,1)\n",
    "mat1"
   ]
  },
  {
   "cell_type": "code",
   "execution_count": 61,
   "metadata": {},
   "outputs": [
    {
     "data": {
      "text/plain": [
       "tensor([[0.4608, 0.0832, 0.9002, 0.9188],\n",
       "        [0.1386, 0.3701, 0.1947, 0.2268],\n",
       "        [0.9587, 0.2615, 0.7256, 0.7673],\n",
       "        [0.5667, 0.1863, 0.4642, 0.4016],\n",
       "        [0.9981, 0.8452, 0.5569, 0.7666]])"
      ]
     },
     "execution_count": 61,
     "metadata": {},
     "output_type": "execute_result"
    }
   ],
   "source": [
    "mat2 = torch.FloatTensor(5,4).uniform_(0,1)\n",
    "mat2"
   ]
  },
  {
   "cell_type": "code",
   "execution_count": 62,
   "metadata": {},
   "outputs": [
    {
     "data": {
      "text/plain": [
       "tensor([0.1084, 0.7874, 0.7348, 0.9939])"
      ]
     },
     "execution_count": 62,
     "metadata": {},
     "output_type": "execute_result"
    }
   ],
   "source": [
    "vec1 = torch.FloatTensor(4).uniform_(0,1)\n",
    "vec1"
   ]
  },
  {
   "cell_type": "code",
   "execution_count": 63,
   "metadata": {},
   "outputs": [],
   "source": [
    "# scalar addition"
   ]
  },
  {
   "cell_type": "code",
   "execution_count": 64,
   "metadata": {},
   "outputs": [
    {
     "data": {
      "text/plain": [
       "tensor([[11.4847, 11.0323, 11.0292, 10.9766],\n",
       "        [11.2693, 10.9567, 11.0488, 10.8049],\n",
       "        [11.0636, 11.2567, 11.2661, 11.4689],\n",
       "        [11.0449, 10.5366, 10.6953, 10.7597]])"
      ]
     },
     "execution_count": 64,
     "metadata": {},
     "output_type": "execute_result"
    }
   ],
   "source": [
    "mat1 + 10.5"
   ]
  },
  {
   "cell_type": "code",
   "execution_count": 65,
   "metadata": {},
   "outputs": [],
   "source": [
    "# scalar subtraction"
   ]
  },
  {
   "cell_type": "code",
   "execution_count": 66,
   "metadata": {},
   "outputs": [
    {
     "data": {
      "text/plain": [
       "tensor([[ 0.2608, -0.1168,  0.7002,  0.7188],\n",
       "        [-0.0614,  0.1701, -0.0053,  0.0268],\n",
       "        [ 0.7587,  0.0615,  0.5256,  0.5673],\n",
       "        [ 0.3667, -0.0137,  0.2642,  0.2016],\n",
       "        [ 0.7981,  0.6452,  0.3569,  0.5666]])"
      ]
     },
     "execution_count": 66,
     "metadata": {},
     "output_type": "execute_result"
    }
   ],
   "source": [
    "mat2 - 0.20"
   ]
  },
  {
   "cell_type": "code",
   "execution_count": 67,
   "metadata": {},
   "outputs": [],
   "source": [
    "# vector and matrix addition"
   ]
  },
  {
   "cell_type": "code",
   "execution_count": 68,
   "metadata": {},
   "outputs": [
    {
     "data": {
      "text/plain": [
       "tensor([[1.0931, 1.3196, 1.2640, 1.4705],\n",
       "        [0.8777, 1.2440, 1.2836, 1.2988],\n",
       "        [0.6720, 1.5441, 1.5009, 1.9628],\n",
       "        [0.6533, 0.8239, 0.9301, 1.2536]])"
      ]
     },
     "execution_count": 68,
     "metadata": {},
     "output_type": "execute_result"
    }
   ],
   "source": [
    "mat1 + vec1"
   ]
  },
  {
   "cell_type": "code",
   "execution_count": 69,
   "metadata": {},
   "outputs": [
    {
     "data": {
      "text/plain": [
       "tensor([[0.5692, 0.8706, 1.6350, 1.9127],\n",
       "        [0.2470, 1.1574, 0.9295, 1.2207],\n",
       "        [1.0672, 1.0489, 1.4604, 1.7613],\n",
       "        [0.6751, 0.9737, 1.1990, 1.3955],\n",
       "        [1.1066, 1.6325, 1.2917, 1.7605]])"
      ]
     },
     "execution_count": 69,
     "metadata": {},
     "output_type": "execute_result"
    }
   ],
   "source": [
    "mat2 + vec1"
   ]
  },
  {
   "cell_type": "code",
   "execution_count": 70,
   "metadata": {},
   "outputs": [],
   "source": [
    "# matrix-matrix addition"
   ]
  },
  {
   "cell_type": "code",
   "execution_count": 71,
   "metadata": {},
   "outputs": [
    {
     "ename": "RuntimeError",
     "evalue": "The size of tensor a (4) must match the size of tensor b (5) at non-singleton dimension 0",
     "output_type": "error",
     "traceback": [
      "\u001b[0;31m---------------------------------------------------------------------------\u001b[0m",
      "\u001b[0;31mRuntimeError\u001b[0m                              Traceback (most recent call last)",
      "\u001b[0;32m<ipython-input-71-bb4bbf5b2f84>\u001b[0m in \u001b[0;36m<module>\u001b[0;34m\u001b[0m\n\u001b[0;32m----> 1\u001b[0;31m \u001b[0mmat1\u001b[0m \u001b[0;34m+\u001b[0m \u001b[0mmat2\u001b[0m\u001b[0;34m\u001b[0m\u001b[0;34m\u001b[0m\u001b[0m\n\u001b[0m",
      "\u001b[0;31mRuntimeError\u001b[0m: The size of tensor a (4) must match the size of tensor b (5) at non-singleton dimension 0"
     ]
    }
   ],
   "source": [
    "mat1 + mat2"
   ]
  },
  {
   "cell_type": "code",
   "execution_count": 72,
   "metadata": {},
   "outputs": [
    {
     "data": {
      "text/plain": [
       "tensor([[0.9695, 0.2833, 0.2801, 0.2271],\n",
       "        [0.5918, 0.2085, 0.3012, 0.0930],\n",
       "        [0.3176, 0.5726, 0.5870, 0.9387],\n",
       "        [0.2970, 0.0013, 0.0381, 0.0674]])"
      ]
     },
     "execution_count": 72,
     "metadata": {},
     "output_type": "execute_result"
    }
   ],
   "source": [
    "mat1 * mat1"
   ]
  },
  {
   "cell_type": "code",
   "execution_count": 73,
   "metadata": {},
   "outputs": [],
   "source": [
    "# about Bernoulli distribution"
   ]
  },
  {
   "cell_type": "code",
   "execution_count": 74,
   "metadata": {},
   "outputs": [],
   "source": [
    "from torch.distributions.bernoulli import Bernoulli"
   ]
  },
  {
   "cell_type": "code",
   "execution_count": 75,
   "metadata": {},
   "outputs": [],
   "source": [
    "dist = Bernoulli(torch.tensor([0.3,0.6,0.9]))"
   ]
  },
  {
   "cell_type": "code",
   "execution_count": 76,
   "metadata": {},
   "outputs": [
    {
     "data": {
      "text/plain": [
       "tensor([0., 1., 0.])"
      ]
     },
     "execution_count": 76,
     "metadata": {},
     "output_type": "execute_result"
    }
   ],
   "source": [
    "dist.sample() #sample is binary, it takes 1 with p and 0 with 1-p"
   ]
  },
  {
   "cell_type": "code",
   "execution_count": 77,
   "metadata": {},
   "outputs": [],
   "source": [
    "#Creates a Bernoulli distribution parameterized by probs \n",
    "#Samples are binary (0 or 1). They take the value 1 with probability p \n",
    "#and 0 with probability 1 - p."
   ]
  },
  {
   "cell_type": "code",
   "execution_count": 78,
   "metadata": {},
   "outputs": [],
   "source": [
    "from torch.distributions.beta import Beta"
   ]
  },
  {
   "cell_type": "code",
   "execution_count": 79,
   "metadata": {},
   "outputs": [
    {
     "data": {
      "text/plain": [
       "Beta()"
      ]
     },
     "execution_count": 79,
     "metadata": {},
     "output_type": "execute_result"
    }
   ],
   "source": [
    "dist = Beta(torch.tensor([0.5]), torch.tensor([0.5]))\n",
    "dist"
   ]
  },
  {
   "cell_type": "code",
   "execution_count": 80,
   "metadata": {},
   "outputs": [
    {
     "data": {
      "text/plain": [
       "tensor([0.3572])"
      ]
     },
     "execution_count": 80,
     "metadata": {},
     "output_type": "execute_result"
    }
   ],
   "source": [
    "dist.sample()"
   ]
  },
  {
   "cell_type": "code",
   "execution_count": 81,
   "metadata": {},
   "outputs": [],
   "source": [
    "from torch.distributions.binomial import Binomial"
   ]
  },
  {
   "cell_type": "code",
   "execution_count": 82,
   "metadata": {},
   "outputs": [],
   "source": [
    "dist = Binomial(100, torch.tensor([0 , .2, .8, 1]))"
   ]
  },
  {
   "cell_type": "code",
   "execution_count": 83,
   "metadata": {},
   "outputs": [
    {
     "data": {
      "text/plain": [
       "tensor([  0.,  20.,  80., 100.])"
      ]
     },
     "execution_count": 83,
     "metadata": {},
     "output_type": "execute_result"
    }
   ],
   "source": [
    "dist.sample()"
   ]
  },
  {
   "cell_type": "code",
   "execution_count": 84,
   "metadata": {},
   "outputs": [],
   "source": [
    "# 100- count of trials\n",
    "# 0, 0.2, 0.8 and 1 are event probabilities"
   ]
  },
  {
   "cell_type": "code",
   "execution_count": 85,
   "metadata": {},
   "outputs": [],
   "source": [
    "from torch.distributions.categorical import Categorical"
   ]
  },
  {
   "cell_type": "code",
   "execution_count": 86,
   "metadata": {},
   "outputs": [
    {
     "data": {
      "text/plain": [
       "Categorical(probs: torch.Size([5]))"
      ]
     },
     "execution_count": 86,
     "metadata": {},
     "output_type": "execute_result"
    }
   ],
   "source": [
    "dist = Categorical(torch.tensor([ 0.20, 0.20, 0.20, 0.20, 0.20 ]))\n",
    "dist"
   ]
  },
  {
   "cell_type": "code",
   "execution_count": 87,
   "metadata": {},
   "outputs": [
    {
     "data": {
      "text/plain": [
       "tensor(1)"
      ]
     },
     "execution_count": 87,
     "metadata": {},
     "output_type": "execute_result"
    }
   ],
   "source": [
    "dist.sample()"
   ]
  },
  {
   "cell_type": "code",
   "execution_count": 88,
   "metadata": {},
   "outputs": [],
   "source": [
    "# 0.20, 0.20, 0.20, 0.20,0.20 event probabilities"
   ]
  },
  {
   "cell_type": "code",
   "execution_count": 89,
   "metadata": {},
   "outputs": [],
   "source": [
    "# Laplace distribution parameterized by loc and ‘scale’."
   ]
  },
  {
   "cell_type": "code",
   "execution_count": 90,
   "metadata": {},
   "outputs": [],
   "source": [
    "from torch.distributions.laplace import Laplace"
   ]
  },
  {
   "cell_type": "code",
   "execution_count": 91,
   "metadata": {},
   "outputs": [
    {
     "data": {
      "text/plain": [
       "Laplace(loc: torch.Size([1]), scale: torch.Size([1]))"
      ]
     },
     "execution_count": 91,
     "metadata": {},
     "output_type": "execute_result"
    }
   ],
   "source": [
    "dist = Laplace(torch.tensor([10.0]), torch.tensor([0.990]))\n",
    "dist"
   ]
  },
  {
   "cell_type": "code",
   "execution_count": 92,
   "metadata": {},
   "outputs": [
    {
     "data": {
      "text/plain": [
       "tensor([10.0258])"
      ]
     },
     "execution_count": 92,
     "metadata": {},
     "output_type": "execute_result"
    }
   ],
   "source": [
    "dist.sample()"
   ]
  },
  {
   "cell_type": "code",
   "execution_count": 93,
   "metadata": {},
   "outputs": [],
   "source": [
    "#Normal (Gaussian) distribution parameterized by loc and ‘scale’."
   ]
  },
  {
   "cell_type": "code",
   "execution_count": 94,
   "metadata": {},
   "outputs": [],
   "source": [
    "from torch.distributions.normal import Normal"
   ]
  },
  {
   "cell_type": "code",
   "execution_count": 95,
   "metadata": {},
   "outputs": [
    {
     "data": {
      "text/plain": [
       "Normal(loc: torch.Size([1]), scale: torch.Size([1]))"
      ]
     },
     "execution_count": 95,
     "metadata": {},
     "output_type": "execute_result"
    }
   ],
   "source": [
    "dist = Normal(torch.tensor([100.0]), torch.tensor([10.0]))\n",
    "dist"
   ]
  },
  {
   "cell_type": "code",
   "execution_count": 96,
   "metadata": {},
   "outputs": [
    {
     "data": {
      "text/plain": [
       "tensor([97.7182])"
      ]
     },
     "execution_count": 96,
     "metadata": {},
     "output_type": "execute_result"
    }
   ],
   "source": [
    "dist.sample()"
   ]
  },
  {
   "cell_type": "code",
   "execution_count": null,
   "metadata": {},
   "outputs": [],
   "source": []
  }
 ],
 "metadata": {
  "kernelspec": {
   "display_name": "Python 3 (ipykernel)",
   "language": "python",
   "name": "python3"
  },
  "language_info": {
   "codemirror_mode": {
    "name": "ipython",
    "version": 3
   },
   "file_extension": ".py",
   "mimetype": "text/x-python",
   "name": "python",
   "nbconvert_exporter": "python",
   "pygments_lexer": "ipython3",
   "version": "3.8.5"
  }
 },
 "nbformat": 4,
 "nbformat_minor": 2
}
