{
 "cells": [
  {
   "cell_type": "code",
   "execution_count": 1,
   "metadata": {
    "collapsed": true
   },
   "outputs": [],
   "source": [
    "from __future__ import print_function\n",
    "import numpy as np\n",
    "import torch\n",
    "import torch.nn as nn\n",
    "import torch.optim as optim\n",
    "import torch.nn.init as init\n",
    "import torch.nn.functional as F\n",
    "from torch.autograd import Variable"
   ]
  },
  {
   "cell_type": "code",
   "execution_count": 2,
   "metadata": {
    "collapsed": true
   },
   "outputs": [],
   "source": [
    "#torch.nn: - Neural networks can be constructed using the torch.nn package."
   ]
  },
  {
   "cell_type": "code",
   "execution_count": 3,
   "metadata": {},
   "outputs": [
    {
     "name": "stdout",
     "output_type": "stream",
     "text": [
      "Output size :  torch.Size([100, 5])\n",
      "Output size :  torch.Size([100, 5])\n"
     ]
    }
   ],
   "source": [
    "x = Variable(torch.randn(100, 10))\n",
    "y = Variable(torch.randn(100, 30))\n",
    "\n",
    "linear = nn.Linear(in_features=10, out_features=5, bias=True)\n",
    "output_linear = linear(x)\n",
    "print('Output size : ', output_linear.size())\n",
    "\n",
    "bilinear = nn.Bilinear(in1_features=10, in2_features=30, out_features=5, bias=True)\n",
    "output_bilinear = bilinear(x, y)\n",
    "print('Output size : ', output_bilinear.size())"
   ]
  },
  {
   "cell_type": "code",
   "execution_count": 4,
   "metadata": {},
   "outputs": [
    {
     "name": "stdout",
     "output_type": "stream",
     "text": [
      "Output size :  torch.Size([100, 10])\n",
      "Output size :  torch.Size([100, 30])\n"
     ]
    }
   ],
   "source": [
    "x = Variable(torch.randn(100, 10))\n",
    "y = Variable(torch.randn(100, 30))\n",
    "\n",
    "sig = nn.Sigmoid()\n",
    "output_sig = sig(x)\n",
    "output_sigy = sig(y)\n",
    "print('Output size : ', output_sig.size())\n",
    "print('Output size : ', output_sigy.size())"
   ]
  },
  {
   "cell_type": "code",
   "execution_count": 5,
   "metadata": {},
   "outputs": [
    {
     "name": "stdout",
     "output_type": "stream",
     "text": [
      "tensor([ 0.2000,  1.9758, -0.7576, -0.9533,  0.6084, -1.2926,  0.8957, -0.8384,\n",
      "         0.0336,  1.1956])\n",
      "tensor([0.5498, 0.8782, 0.3192, 0.2782, 0.6476, 0.2154, 0.7101, 0.3019, 0.5084,\n",
      "        0.7677])\n"
     ]
    }
   ],
   "source": [
    "print(x[0])\n",
    "print(output_sig[0])"
   ]
  },
  {
   "cell_type": "code",
   "execution_count": 6,
   "metadata": {},
   "outputs": [
    {
     "name": "stdout",
     "output_type": "stream",
     "text": [
      "Output size :  torch.Size([100, 10])\n",
      "Output size :  torch.Size([100, 30])\n"
     ]
    }
   ],
   "source": [
    "x = Variable(torch.randn(100, 10))\n",
    "y = Variable(torch.randn(100, 30))\n",
    "\n",
    "func = nn.Tanh()\n",
    "output_x = func(x)\n",
    "output_y = func(y)\n",
    "print('Output size : ', output_x.size())\n",
    "print('Output size : ', output_y.size())"
   ]
  },
  {
   "cell_type": "code",
   "execution_count": 7,
   "metadata": {},
   "outputs": [
    {
     "name": "stdout",
     "output_type": "stream",
     "text": [
      "tensor([-0.1488,  0.8759,  0.3636, -0.1894,  1.3971, -0.8616,  0.0419,  0.7537,\n",
      "        -0.5555, -0.2670])\n",
      "tensor([-0.1477,  0.7044,  0.3484, -0.1872,  0.8847, -0.6971,  0.0419,  0.6374,\n",
      "        -0.5046, -0.2608])\n",
      "tensor([ 0.4206,  0.8390,  0.8184, -1.0608, -0.2121,  1.4671,  0.6492,  0.1674,\n",
      "        -0.4497,  0.7492,  1.6371,  0.3463, -0.3051,  2.6881,  1.4344, -0.6818,\n",
      "         0.5273,  1.8146,  0.2796, -0.5440,  0.2527,  0.6541,  1.2619,  0.3887,\n",
      "         0.6151, -0.1325,  0.9249, -1.2120,  0.4095, -1.3654])\n",
      "tensor([ 0.3974,  0.6853,  0.6742, -0.7860, -0.2090,  0.8990,  0.5711,  0.1659,\n",
      "        -0.4217,  0.6347,  0.9271,  0.3330, -0.2960,  0.9908,  0.8926, -0.5927,\n",
      "         0.4833,  0.9483,  0.2725, -0.4960,  0.2475,  0.5744,  0.8516,  0.3702,\n",
      "         0.5477, -0.1317,  0.7282, -0.8373,  0.3881, -0.8776])\n"
     ]
    }
   ],
   "source": [
    "print(x[0])\n",
    "print(output_x[0])\n",
    "print(y[0])\n",
    "print(output_y[0])"
   ]
  },
  {
   "cell_type": "code",
   "execution_count": 8,
   "metadata": {},
   "outputs": [
    {
     "name": "stdout",
     "output_type": "stream",
     "text": [
      "Output size :  torch.Size([100, 10])\n",
      "Output size :  torch.Size([100, 30])\n"
     ]
    }
   ],
   "source": [
    "x = Variable(torch.randn(100, 10))\n",
    "y = Variable(torch.randn(100, 30))\n",
    "\n",
    "func = nn.LogSigmoid()\n",
    "output_x = func(x)\n",
    "output_y = func(y)\n",
    "print('Output size : ', output_x.size())\n",
    "print('Output size : ', output_y.size())"
   ]
  },
  {
   "cell_type": "code",
   "execution_count": 9,
   "metadata": {},
   "outputs": [
    {
     "name": "stdout",
     "output_type": "stream",
     "text": [
      "tensor([ 1.0646, -1.7804,  0.3400,  0.4467, -0.2487, -2.3094, -1.4667,  0.4532,\n",
      "         1.2438, -2.3129])\n",
      "tensor([-0.2963, -1.9362, -0.5375, -0.4945, -0.8252, -2.4041, -1.6743, -0.4920,\n",
      "        -0.2533, -2.4073])\n",
      "tensor([-0.5639,  1.1489,  0.6732,  0.1401, -0.5752,  1.5166,  0.6240,  1.0409,\n",
      "         1.1751,  0.3492, -0.2864, -0.5321, -1.0758,  0.1147, -0.6361, -1.4904,\n",
      "        -0.5334,  0.5842, -1.1866,  0.7978, -1.1733, -1.2192, -0.5532,  0.9871,\n",
      "        -0.0234,  0.6602, -1.3929,  1.5228, -0.1911, -0.0559])\n",
      "tensor([-1.0143, -0.2753, -0.4122, -0.6256, -1.0216, -0.1984, -0.4290, -0.3024,\n",
      "        -0.2691, -0.5337, -0.8466, -0.9942, -1.3692, -0.6374, -1.0610, -1.6935,\n",
      "        -0.9950, -0.4431, -1.4530, -0.3718, -1.4428, -1.4781, -1.0075, -0.3168,\n",
      "        -0.7049, -0.4166, -1.6147, -0.1973, -0.7933, -0.7215])\n"
     ]
    }
   ],
   "source": [
    "print(x[0])\n",
    "print(output_x[0])\n",
    "print(y[0])\n",
    "print(output_y[0])"
   ]
  },
  {
   "cell_type": "code",
   "execution_count": 10,
   "metadata": {},
   "outputs": [
    {
     "name": "stdout",
     "output_type": "stream",
     "text": [
      "Output size :  torch.Size([100, 10])\n",
      "Output size :  torch.Size([100, 30])\n"
     ]
    }
   ],
   "source": [
    "x = Variable(torch.randn(100, 10))\n",
    "y = Variable(torch.randn(100, 30))\n",
    "\n",
    "func = nn.ReLU()\n",
    "output_x = func(x)\n",
    "output_y = func(y)\n",
    "print('Output size : ', output_x.size())\n",
    "print('Output size : ', output_y.size())"
   ]
  },
  {
   "cell_type": "code",
   "execution_count": 11,
   "metadata": {},
   "outputs": [
    {
     "name": "stdout",
     "output_type": "stream",
     "text": [
      "tensor([ 0.0950, -0.1945,  1.9037,  0.4503, -0.1244,  1.0581, -0.3374,  1.7539,\n",
      "        -0.1979, -0.7890])\n",
      "tensor([0.0950, 0.0000, 1.9037, 0.4503, 0.0000, 1.0581, 0.0000, 1.7539, 0.0000,\n",
      "        0.0000])\n",
      "tensor([ 0.6014,  1.9016, -0.4271, -0.8078, -0.9163, -1.1122, -1.1670,  0.5906,\n",
      "        -0.1221,  1.0596, -0.3862,  0.5616, -0.6166, -2.1441, -1.5393, -0.3304,\n",
      "        -0.2237, -1.0392, -1.3516,  0.1017,  0.6085,  1.1943,  0.1287, -1.5558,\n",
      "        -1.2083,  2.3729, -0.3735, -0.8770, -0.6963,  0.9967])\n",
      "tensor([0.6014, 1.9016, 0.0000, 0.0000, 0.0000, 0.0000, 0.0000, 0.5906, 0.0000,\n",
      "        1.0596, 0.0000, 0.5616, 0.0000, 0.0000, 0.0000, 0.0000, 0.0000, 0.0000,\n",
      "        0.0000, 0.1017, 0.6085, 1.1943, 0.1287, 0.0000, 0.0000, 2.3729, 0.0000,\n",
      "        0.0000, 0.0000, 0.9967])\n"
     ]
    }
   ],
   "source": [
    "print(x[0])\n",
    "print(output_x[0])\n",
    "print(y[0])\n",
    "print(output_y[0])"
   ]
  },
  {
   "cell_type": "code",
   "execution_count": 12,
   "metadata": {},
   "outputs": [
    {
     "name": "stdout",
     "output_type": "stream",
     "text": [
      "Output size :  torch.Size([100, 10])\n",
      "Output size :  torch.Size([100, 30])\n"
     ]
    }
   ],
   "source": [
    "x = Variable(torch.randn(100, 10))\n",
    "y = Variable(torch.randn(100, 30))\n",
    "\n",
    "func = nn.LeakyReLU()\n",
    "output_x = func(x)\n",
    "output_y = func(y)\n",
    "print('Output size : ', output_x.size())\n",
    "print('Output size : ', output_y.size())"
   ]
  },
  {
   "cell_type": "code",
   "execution_count": 13,
   "metadata": {},
   "outputs": [
    {
     "name": "stdout",
     "output_type": "stream",
     "text": [
      "tensor([ 0.5015,  1.8328, -0.1099,  1.0512, -0.5614, -0.5067, -0.4218, -0.5600,\n",
      "         0.2765, -0.3924])\n",
      "tensor([ 5.0151e-01,  1.8328e+00, -1.0988e-03,  1.0512e+00, -5.6142e-03,\n",
      "        -5.0667e-03, -4.2177e-03, -5.6001e-03,  2.7652e-01, -3.9243e-03])\n",
      "tensor([ 0.6883,  0.3734, -1.4636, -0.6125, -0.2699,  0.5523, -0.1649,  0.5121,\n",
      "         1.4749, -0.8344, -1.6372,  0.9787,  0.1401,  0.9826, -1.2833,  0.2983,\n",
      "         0.7992, -1.6165,  0.4792, -1.3887, -0.1327,  1.4991, -2.2332,  0.7013,\n",
      "         0.7813, -0.1076, -0.8202,  1.3912, -0.0966,  0.8126])\n",
      "tensor([ 6.8825e-01,  3.7340e-01, -1.4636e-02, -6.1248e-03, -2.6991e-03,\n",
      "         5.5232e-01, -1.6493e-03,  5.1212e-01,  1.4749e+00, -8.3437e-03,\n",
      "        -1.6372e-02,  9.7866e-01,  1.4011e-01,  9.8255e-01, -1.2833e-02,\n",
      "         2.9833e-01,  7.9917e-01, -1.6165e-02,  4.7920e-01, -1.3887e-02,\n",
      "        -1.3267e-03,  1.4991e+00, -2.2332e-02,  7.0133e-01,  7.8128e-01,\n",
      "        -1.0765e-03, -8.2018e-03,  1.3912e+00, -9.6616e-04,  8.1263e-01])\n"
     ]
    }
   ],
   "source": [
    "print(x[0])\n",
    "print(output_x[0])\n",
    "print(y[0])\n",
    "print(output_y[0])"
   ]
  },
  {
   "cell_type": "code",
   "execution_count": 14,
   "metadata": {
    "collapsed": true
   },
   "outputs": [],
   "source": [
    "import torch.nn.functional as F\n",
    "from torch.autograd import Variable\n",
    "import matplotlib.pyplot as plt\n",
    "%matplotlib inline"
   ]
  },
  {
   "cell_type": "code",
   "execution_count": 15,
   "metadata": {},
   "outputs": [],
   "source": [
    "x = torch.linspace(-10, 10, 1500)  \n",
    "x = Variable(x)\n",
    "x_1 = x.data.numpy()   # tranforming into numpy"
   ]
  },
  {
   "cell_type": "code",
   "execution_count": 16,
   "metadata": {
    "collapsed": true
   },
   "outputs": [],
   "source": [
    "y_relu = F.relu(x).data.numpy()\n",
    "y_sigmoid = torch.sigmoid(x).data.numpy()\n",
    "y_tanh = torch.tanh(x).data.numpy()\n",
    "y_softplus = F.softplus(x).data.numpy()"
   ]
  },
  {
   "cell_type": "code",
   "execution_count": 17,
   "metadata": {},
   "outputs": [
    {
     "data": {
      "text/plain": [
       "<matplotlib.legend.Legend at 0x7fd9c24928d0>"
      ]
     },
     "execution_count": 17,
     "metadata": {},
     "output_type": "execute_result"
    },
    {
     "data": {
      "image/png": "[encoded data removed]",
      "text/plain": [
       "<Figure size 504x288 with 1 Axes>"
      ]
     },
     "metadata": {
      "needs_background": "light"
     },
     "output_type": "display_data"
    }
   ],
   "source": [
    "plt.figure(figsize=(7, 4))\n",
    "plt.plot(x_1, y_relu, c='blue', label='ReLU')\n",
    "plt.ylim((-1, 11))\n",
    "plt.legend(loc='best')"
   ]
  },
  {
   "cell_type": "code",
   "execution_count": 18,
   "metadata": {},
   "outputs": [
    {
     "data": {
      "text/plain": [
       "<matplotlib.legend.Legend at 0x7fd9c23c7128>"
      ]
     },
     "execution_count": 18,
     "metadata": {},
     "output_type": "execute_result"
    },
    {
     "data": {
      "image/png": "[encoded data removed]",
      "text/plain": [
       "<Figure size 504x288 with 1 Axes>"
      ]
     },
     "metadata": {
      "needs_background": "light"
     },
     "output_type": "display_data"
    }
   ],
   "source": [
    "plt.figure(figsize=(7, 4))\n",
    "plt.plot(x_1, y_sigmoid, c='blue', label='sigmoid')\n",
    "plt.ylim((-0.2, 1.2))\n",
    "plt.legend(loc='best')"
   ]
  },
  {
   "cell_type": "code",
   "execution_count": 19,
   "metadata": {},
   "outputs": [
    {
     "data": {
      "text/plain": [
       "<matplotlib.legend.Legend at 0x7fd9c2393630>"
      ]
     },
     "execution_count": 19,
     "metadata": {},
     "output_type": "execute_result"
    },
    {
     "data": {
      "image/png": "[encoded data removed]",
      "text/plain": [
       "<Figure size 504x288 with 1 Axes>"
      ]
     },
     "metadata": {
      "needs_background": "light"
     },
     "output_type": "display_data"
    }
   ],
   "source": [
    "plt.figure(figsize=(7, 4))\n",
    "plt.plot(x_1, y_tanh, c='blue', label='tanh')\n",
    "plt.ylim((-1.2, 1.2))\n",
    "plt.legend(loc='best')"
   ]
  },
  {
   "cell_type": "code",
   "execution_count": 20,
   "metadata": {},
   "outputs": [
    {
     "data": {
      "text/plain": [
       "<matplotlib.legend.Legend at 0x7fd9c22f1d68>"
      ]
     },
     "execution_count": 20,
     "metadata": {},
     "output_type": "execute_result"
    },
    {
     "data": {
      "image/png": "[encoded data removed]",
      "text/plain": [
       "<Figure size 504x288 with 1 Axes>"
      ]
     },
     "metadata": {
      "needs_background": "light"
     },
     "output_type": "display_data"
    }
   ],
   "source": [
    "plt.figure(figsize=(7, 4))\n",
    "plt.plot(x_1, y_softplus, c='blue', label='softplus')\n",
    "plt.ylim((-0.2, 11))\n",
    "plt.legend(loc='best')"
   ]
  },
  {
   "cell_type": "code",
   "execution_count": 21,
   "metadata": {
    "collapsed": true
   },
   "outputs": [],
   "source": [
    "def prep_data():\n",
    "    train_X = np.asarray([13.3,14.4,15.5,16.71,16.93,14.168,19.779,16.182,\n",
    "                          17.59,12.167,17.042,10.791,15.313,17.997,15.654,\n",
    "                          19.27,13.1])\n",
    "    train_Y = np.asarray([11.7,12.76,12.09,13.19,11.694,11.573,13.366,12.596,\n",
    "                          12.53,11.221,12.827,13.465,11.65,12.904,12.42,12.94,\n",
    "                          11.3])\n",
    "    dtype = torch.FloatTensor\n",
    "    X = Variable(torch.from_numpy(train_X).type(dtype),\n",
    "                 requires_grad=False).view(17,1)\n",
    "    y = Variable(torch.from_numpy(train_Y).type(dtype),requires_grad=False)\n",
    "    return X,y"
   ]
  },
  {
   "cell_type": "code",
   "execution_count": 22,
   "metadata": {
    "collapsed": true
   },
   "outputs": [],
   "source": [
    "# get dynamic parameters"
   ]
  },
  {
   "cell_type": "code",
   "execution_count": 23,
   "metadata": {
    "collapsed": true
   },
   "outputs": [],
   "source": [
    "def set_weights():\n",
    "    w = Variable(torch.randn(1),requires_grad = True)\n",
    "    b = Variable(torch.randn(1),requires_grad=True)\n",
    "    return w,b"
   ]
  },
  {
   "cell_type": "code",
   "execution_count": 24,
   "metadata": {
    "collapsed": true
   },
   "outputs": [],
   "source": [
    "#deploy neural network model"
   ]
  },
  {
   "cell_type": "code",
   "execution_count": 25,
   "metadata": {
    "collapsed": true
   },
   "outputs": [],
   "source": [
    "def build_network(x):\n",
    "    y_pred = torch.matmul(x,w)+b\n",
    "    return y_pred"
   ]
  },
  {
   "cell_type": "code",
   "execution_count": 26,
   "metadata": {},
   "outputs": [
    {
     "data": {
      "text/plain": [
       "Linear(in_features=17, out_features=1, bias=True)"
      ]
     },
     "execution_count": 26,
     "metadata": {},
     "output_type": "execute_result"
    }
   ],
   "source": [
    "#implement in PyTorch\n",
    "import torch.nn as nn\n",
    "f = nn.Linear(17,1) # Much simpler.\n",
    "f"
   ]
  },
  {
   "cell_type": "code",
   "execution_count": 27,
   "metadata": {
    "collapsed": true
   },
   "outputs": [],
   "source": [
    "#calculate the loss function"
   ]
  },
  {
   "cell_type": "code",
   "execution_count": 28,
   "metadata": {
    "collapsed": true
   },
   "outputs": [],
   "source": [
    "def loss_calc(y,y_pred):\n",
    "    loss = (y_pred-y).pow(2).sum()\n",
    "    for param in [w,b]:\n",
    "        if not param.grad is None: param.grad.data.zero_()\n",
    "    loss.backward()\n",
    "    return loss.item()"
   ]
  },
  {
   "cell_type": "code",
   "execution_count": 29,
   "metadata": {
    "collapsed": true
   },
   "outputs": [],
   "source": [
    "# optimizing results"
   ]
  },
  {
   "cell_type": "code",
   "execution_count": 30,
   "metadata": {
    "collapsed": true
   },
   "outputs": [],
   "source": [
    "def optimize(learning_rate):\n",
    "    w.data -= learning_rate * w.grad.data\n",
    "    b.data -= learning_rate * b.grad.data"
   ]
  },
  {
   "cell_type": "code",
   "execution_count": 31,
   "metadata": {
    "collapsed": true
   },
   "outputs": [],
   "source": [
    "learning_rate = 1e-4"
   ]
  },
  {
   "cell_type": "code",
   "execution_count": 32,
   "metadata": {},
   "outputs": [
    {
     "name": "stdout",
     "output_type": "stream",
     "text": [
      "15525.705078125\n",
      "48.05503463745117\n",
      "42.21837615966797\n",
      "37.20949172973633\n",
      "32.91095733642578\n"
     ]
    }
   ],
   "source": [
    "x,y = prep_data()  # x - training data,y - target variables\n",
    "w,b = set_weights() # w,b - parameters\n",
    "for i in range(5000):\n",
    "    y_pred = build_network(x) # function which computes wx + b\n",
    "    loss = loss_calc(y,y_pred) # error calculation\n",
    "    if i % 1000 == 0: \n",
    "        print(loss)\n",
    "    optimize(learning_rate)    # minimize the loss w.r.t. w, b"
   ]
  },
  {
   "cell_type": "code",
   "execution_count": 33,
   "metadata": {
    "collapsed": true
   },
   "outputs": [],
   "source": [
    "import matplotlib.pyplot as plt\n",
    "%matplotlib inline"
   ]
  },
  {
   "cell_type": "code",
   "execution_count": 34,
   "metadata": {},
   "outputs": [
    {
     "data": {
      "text/plain": [
       "[<matplotlib.lines.Line2D at 0x7fd9c2354908>]"
      ]
     },
     "execution_count": 34,
     "metadata": {},
     "output_type": "execute_result"
    },
    {
     "data": {
      "image/png": "[encoded data removed]",
      "text/plain": [
       "<Figure size 432x288 with 1 Axes>"
      ]
     },
     "metadata": {
      "needs_background": "light"
     },
     "output_type": "display_data"
    }
   ],
   "source": [
    "x_numpy = x.data.numpy()\n",
    "y_numpy = y.data.numpy()\n",
    "y_pred = y_pred.data.numpy()\n",
    "plt.plot(x_numpy,y_numpy,'o')\n",
    "plt.plot(x_numpy,y_pred,'-')"
   ]
  },
  {
   "cell_type": "code",
   "execution_count": 35,
   "metadata": {
    "collapsed": true
   },
   "outputs": [],
   "source": [
    "x = Variable(torch.ones(4, 4) * 12.5, requires_grad=True)"
   ]
  },
  {
   "cell_type": "code",
   "execution_count": 36,
   "metadata": {},
   "outputs": [
    {
     "data": {
      "text/plain": [
       "tensor([[12.5000, 12.5000, 12.5000, 12.5000],\n",
       "        [12.5000, 12.5000, 12.5000, 12.5000],\n",
       "        [12.5000, 12.5000, 12.5000, 12.5000],\n",
       "        [12.5000, 12.5000, 12.5000, 12.5000]], requires_grad=True)"
      ]
     },
     "execution_count": 36,
     "metadata": {},
     "output_type": "execute_result"
    }
   ],
   "source": [
    "x"
   ]
  },
  {
   "cell_type": "code",
   "execution_count": 37,
   "metadata": {
    "collapsed": true
   },
   "outputs": [],
   "source": [
    "fn = 2 * (x * x) + 5 * x + 6\n",
    "\n",
    "# 2x^2 + 5x + 6"
   ]
  },
  {
   "cell_type": "code",
   "execution_count": 38,
   "metadata": {},
   "outputs": [],
   "source": [
    "fn.backward(torch.ones(4,4))"
   ]
  },
  {
   "cell_type": "code",
   "execution_count": 39,
   "metadata": {},
   "outputs": [
    {
     "name": "stdout",
     "output_type": "stream",
     "text": [
      "tensor([[55., 55., 55., 55.],\n",
      "        [55., 55., 55., 55.],\n",
      "        [55., 55., 55., 55.],\n",
      "        [55., 55., 55., 55.]])\n"
     ]
    }
   ],
   "source": [
    "print(x.grad)"
   ]
  },
  {
   "cell_type": "code",
   "execution_count": null,
   "metadata": {},
   "outputs": [],
   "source": []
  }
 ],
 "metadata": {
  "kernelspec": {
   "display_name": "Python 3",
   "language": "python",
   "name": "python3"
  },
  "language_info": {
   "codemirror_mode": {
    "name": "ipython",
    "version": 3
   },
   "file_extension": ".py",
   "mimetype": "text/x-python",
   "name": "python",
   "nbconvert_exporter": "python",
   "pygments_lexer": "ipython3",
   "version": "3.6.8"
  }
 },
 "nbformat": 4,
 "nbformat_minor": 2
}
