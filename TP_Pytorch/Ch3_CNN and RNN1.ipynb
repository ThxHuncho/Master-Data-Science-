{
 "cells": [
  {
   "cell_type": "code",
   "execution_count": 1,
   "metadata": {},
   "outputs": [],
   "source": [
    "import torch"
   ]
  },
  {
   "cell_type": "code",
   "execution_count": 2,
   "metadata": {},
   "outputs": [
    {
     "data": {
      "text/plain": [
       "'1.0.0'"
      ]
     },
     "execution_count": 2,
     "metadata": {},
     "output_type": "execute_result"
    }
   ],
   "source": [
    "torch.__version__"
   ]
  },
  {
   "cell_type": "code",
   "execution_count": 3,
   "metadata": {},
   "outputs": [
    {
     "data": {
      "text/plain": [
       "<function _VariableFunctions.tensor>"
      ]
     },
     "execution_count": 3,
     "metadata": {},
     "output_type": "execute_result"
    }
   ],
   "source": [
    "torch.tensor"
   ]
  },
  {
   "cell_type": "code",
   "execution_count": 4,
   "metadata": {},
   "outputs": [],
   "source": [
    "t_c = torch.tensor([0.5, 14.0, 15.0, 28.0, 11.0, 8.0, 3.0, -4.0, 6.0, 13.0, 21.0]) \n",
    "t_u = torch.tensor([35.7, 55.9, 58.2, 81.9, 56.3, 48.9, 33.9, 21.8, 48.4, 60.4, 68.4])"
   ]
  },
  {
   "cell_type": "code",
   "execution_count": 5,
   "metadata": {},
   "outputs": [],
   "source": [
    "#height of people\n",
    "t_c = torch.tensor([58.0, 59.0, 60.0, 61.0, 62.0, 63.0, 64.0, 65.0, 66.0, 67.0, 68.0, 69.0, 70.0, 71.0, 72.0])"
   ]
  },
  {
   "cell_type": "code",
   "execution_count": 6,
   "metadata": {},
   "outputs": [],
   "source": [
    "#weight of people\n",
    "t_u = torch.tensor([115.0, 117.0, 120.0, 123.0, 126.0, 129.0, 132.0, 135.0, 139.0, 142.0, 146.0, 150.0, 154.0, 159.0,164.0])"
   ]
  },
  {
   "cell_type": "code",
   "execution_count": 7,
   "metadata": {},
   "outputs": [],
   "source": [
    "def model(t_u, w, b):\n",
    "    return w * t_u + b"
   ]
  },
  {
   "cell_type": "code",
   "execution_count": 8,
   "metadata": {},
   "outputs": [],
   "source": [
    "def loss_fn(t_p, t_c):\n",
    "    squared_diffs = (t_p - t_c)**2\n",
    "    return squared_diffs.mean()"
   ]
  },
  {
   "cell_type": "code",
   "execution_count": 9,
   "metadata": {},
   "outputs": [
    {
     "data": {
      "text/plain": [
       "tensor([115., 117., 120., 123., 126., 129., 132., 135., 139., 142., 146., 150.,\n",
       "        154., 159., 164.])"
      ]
     },
     "execution_count": 9,
     "metadata": {},
     "output_type": "execute_result"
    }
   ],
   "source": [
    "w = torch.ones(1)\n",
    "b = torch.zeros(1)\n",
    "\n",
    "t_p = model(t_u, w, b)\n",
    "t_p"
   ]
  },
  {
   "cell_type": "code",
   "execution_count": 10,
   "metadata": {},
   "outputs": [
    {
     "data": {
      "text/plain": [
       "tensor(5259.7334)"
      ]
     },
     "execution_count": 10,
     "metadata": {},
     "output_type": "execute_result"
    }
   ],
   "source": [
    "loss = loss_fn(t_p, t_c)\n",
    "loss"
   ]
  },
  {
   "cell_type": "code",
   "execution_count": 11,
   "metadata": {},
   "outputs": [],
   "source": [
    "delta = 0.1\n",
    "\n",
    "loss_rate_of_change_w = (loss_fn(model(t_u, w + delta, b), t_c) - loss_fn(model(t_u, w - delta, b), t_c)) / (2.0 * delta)"
   ]
  },
  {
   "cell_type": "code",
   "execution_count": 12,
   "metadata": {},
   "outputs": [],
   "source": [
    "learning_rate = 1e-2\n",
    "\n",
    "w = w - learning_rate * loss_rate_of_change_w"
   ]
  },
  {
   "cell_type": "code",
   "execution_count": 13,
   "metadata": {},
   "outputs": [],
   "source": [
    "loss_rate_of_change_b = (loss_fn(model(t_u, w, b + delta), t_c) - \n",
    "                         loss_fn(model(t_u, w, b - delta), t_c)) / (2.0 * delta)\n",
    "\n",
    "b = b - learning_rate * loss_rate_of_change_b"
   ]
  },
  {
   "cell_type": "code",
   "execution_count": 14,
   "metadata": {},
   "outputs": [
    {
     "data": {
      "text/plain": [
       "tensor([544.])"
      ]
     },
     "execution_count": 14,
     "metadata": {},
     "output_type": "execute_result"
    }
   ],
   "source": [
    "b"
   ]
  },
  {
   "cell_type": "code",
   "execution_count": 15,
   "metadata": {},
   "outputs": [],
   "source": [
    "from torch import nn\n",
    "loss = nn.MSELoss()\n",
    "input = torch.randn(10, 5, requires_grad=True)\n",
    "target = torch.randn(10, 5)\n",
    "output = loss(input, target)\n",
    "output.backward()"
   ]
  },
  {
   "cell_type": "code",
   "execution_count": 16,
   "metadata": {},
   "outputs": [
    {
     "data": {
      "text/plain": [
       "<MseLossBackward at 0x7f1664569160>"
      ]
     },
     "execution_count": 16,
     "metadata": {},
     "output_type": "execute_result"
    }
   ],
   "source": [
    "output.grad_fn"
   ]
  },
  {
   "cell_type": "code",
   "execution_count": 17,
   "metadata": {},
   "outputs": [
    {
     "data": {
      "text/plain": [
       "tensor([[ 0.8859,  0.6191, -1.0659,  0.6297, -0.4632],\n",
       "        [ 0.2227,  2.0000,  0.6790,  0.4427,  0.1115],\n",
       "        [-0.6893,  0.7987, -1.1410,  0.6632, -1.0046],\n",
       "        [-0.8557, -0.0734,  1.9588,  1.6856,  1.1600],\n",
       "        [ 1.1398,  0.4653,  1.7257,  1.0230, -0.1304],\n",
       "        [-2.0455,  0.6760, -2.3646,  0.3130,  1.5989],\n",
       "        [-0.4178,  0.1821,  0.6093,  0.7205, -1.3646],\n",
       "        [-0.7084, -0.7813, -0.5034,  0.5327, -1.0042],\n",
       "        [-1.1541, -0.3004,  0.0798, -0.5389, -1.2169],\n",
       "        [-0.0305,  0.9210,  0.7428,  0.7587, -1.0676]], requires_grad=True)"
      ]
     },
     "execution_count": 17,
     "metadata": {},
     "output_type": "execute_result"
    }
   ],
   "source": [
    "input"
   ]
  },
  {
   "cell_type": "code",
   "execution_count": 18,
   "metadata": {},
   "outputs": [
    {
     "data": {
      "text/plain": [
       "tensor([[-0.1632, -0.2487, -2.5970, -0.1084, -0.1682],\n",
       "        [-0.5009,  0.3028, -0.6597,  0.1756, -0.6517],\n",
       "        [-2.2744,  0.8055, -0.8771, -0.4889, -0.2087],\n",
       "        [-1.2697,  1.2413,  1.3742, -1.6723,  0.7320],\n",
       "        [-1.3509,  0.0558,  0.1569,  0.6511, -0.6459],\n",
       "        [-1.2040,  1.0124,  1.2735,  0.7432, -1.6206],\n",
       "        [ 0.3371,  0.6652,  0.8029,  1.2944,  0.1032],\n",
       "        [ 0.1347, -0.2712, -0.0211,  0.4950, -2.3095],\n",
       "        [ 0.8757, -0.2987, -0.0510, -0.5252,  1.2859],\n",
       "        [-1.4819,  1.4009, -0.9651,  0.2017, -0.3012]])"
      ]
     },
     "execution_count": 18,
     "metadata": {},
     "output_type": "execute_result"
    }
   ],
   "source": [
    "target"
   ]
  },
  {
   "cell_type": "code",
   "execution_count": 19,
   "metadata": {},
   "outputs": [],
   "source": [
    "def dloss_fn(t_p, t_c):\n",
    "    dsq_diffs = 2 * (t_p - t_c)\n",
    "    return dsq_diffs"
   ]
  },
  {
   "cell_type": "code",
   "execution_count": 20,
   "metadata": {},
   "outputs": [],
   "source": [
    "def model(t_u, w, b):\n",
    "    return w * t_u + b"
   ]
  },
  {
   "cell_type": "code",
   "execution_count": 21,
   "metadata": {},
   "outputs": [],
   "source": [
    "def dmodel_dw(t_u, w, b):\n",
    "    return t_u"
   ]
  },
  {
   "cell_type": "code",
   "execution_count": 22,
   "metadata": {},
   "outputs": [],
   "source": [
    "def dmodel_db(t_u, w, b):\n",
    "    return 1.0"
   ]
  },
  {
   "cell_type": "code",
   "execution_count": 23,
   "metadata": {},
   "outputs": [],
   "source": [
    "def grad_fn(t_u, t_c, t_p, w, b):\n",
    "    dloss_dw = dloss_fn(t_p, t_c) * dmodel_dw(t_u, w, b)\n",
    "    dloss_db = dloss_fn(t_p, t_c) * dmodel_db(t_u, w, b)\n",
    "    return torch.stack([dloss_dw.mean(), dloss_db.mean()])"
   ]
  },
  {
   "cell_type": "code",
   "execution_count": 24,
   "metadata": {},
   "outputs": [
    {
     "name": "stdout",
     "output_type": "stream",
     "text": [
      "Epoch 0, Loss 5259.733398\n",
      "Params: tensor([1., 0.])\n",
      "Grad: tensor([19936.2676,   143.4667])\n",
      "Epoch 1, Loss 186035536.000000\n",
      "Params: tensor([-98.6813,  -0.7173])\n",
      "Grad: tensor([-3752241.5000,   -27117.4902])\n",
      "Epoch 2, Loss 6590066851840.000000\n",
      "Params: tensor([18662.5254,   134.8701])\n",
      "Grad: tensor([7.0622e+08, 5.1037e+06])\n",
      "Epoch 3, Loss 233444615137525760.000000\n",
      "Params: tensor([-3512419.0000,   -25383.7188])\n",
      "Grad: tensor([-1.3292e+11, -9.6058e+08])\n",
      "Epoch 4, Loss 8269473044030732369920.000000\n",
      "Params: tensor([6.6108e+08, 4.7775e+06])\n",
      "Grad: tensor([2.5017e+13, 1.8079e+11])\n",
      "Epoch 5, Loss 292935421141896175944728576.000000\n",
      "Params: tensor([-1.2442e+11, -8.9919e+08])\n",
      "Grad: tensor([-4.7085e+15, -3.4027e+13])\n",
      "Epoch 6, Loss 10376860711843314876999100530688.000000\n",
      "Params: tensor([2.3418e+13, 1.6924e+11])\n",
      "Grad: tensor([8.8619e+17, 6.4043e+15])\n",
      "Epoch 7, Loss 367587022415262077831175308750880768.000000\n",
      "Params: tensor([-4.4075e+15, -3.1852e+13])\n",
      "Grad: tensor([-1.6679e+20, -1.2054e+18])\n",
      "Epoch 8, Loss inf\n",
      "Params: tensor([8.2955e+17, 5.9950e+15])\n",
      "Grad: tensor([3.1392e+22, 2.2687e+20])\n",
      "Epoch 9, Loss inf\n",
      "Params: tensor([-1.5613e+20, -1.1283e+18])\n",
      "Grad: tensor([-5.9084e+24, -4.2699e+22])\n"
     ]
    },
    {
     "data": {
      "text/plain": [
       "tensor([2.9386e+22, 2.1237e+20])"
      ]
     },
     "execution_count": 24,
     "metadata": {},
     "output_type": "execute_result"
    }
   ],
   "source": [
    "params = torch.tensor([1.0, 0.0])\n",
    "\n",
    "nepochs = 10\n",
    "\n",
    "learning_rate = 0.005\n",
    "\n",
    "for epoch in range(nepochs):\n",
    "    # forward pass\n",
    "    w, b = params\n",
    "    t_p = model(t_u, w, b)\n",
    "\n",
    "    loss = loss_fn(t_p, t_c)\n",
    "    print('Epoch %d, Loss %f' % (epoch, float(loss)))\n",
    "    \n",
    "    # backward pass\n",
    "    grad = grad_fn(t_u, t_c, t_p, w, b)\n",
    "\n",
    "    print('Params:', params)\n",
    "    print('Grad:', grad)\n",
    "    \n",
    "    params = params - learning_rate * grad\n",
    "    \n",
    "params"
   ]
  },
  {
   "cell_type": "code",
   "execution_count": 25,
   "metadata": {},
   "outputs": [
    {
     "name": "stdout",
     "output_type": "stream",
     "text": [
      "Epoch 0, Loss 5259.733398\n",
      "Params: tensor([1., 0.])\n",
      "Grad: tensor([19936.2676,   143.4667])\n",
      "Epoch 1, Loss 75167326208.000000\n",
      "Params: tensor([-1992.6268,   -14.3467])\n",
      "Grad: tensor([-75423632.0000,   -545075.7500])\n",
      "Epoch 2, Loss 1075861613698875392.000000\n",
      "Params: tensor([7540371.0000,   54493.2266])\n",
      "Grad: tensor([2.8535e+11, 2.0621e+09])\n",
      "Epoch 3, Loss 15398684787475107786260480.000000\n",
      "Params: tensor([-2.8527e+10, -2.0616e+08])\n",
      "Grad: tensor([-1.0795e+15, -7.8016e+12])\n",
      "Epoch 4, Loss 220399653030205321522018852536320.000000\n",
      "Params: tensor([1.0792e+14, 7.7995e+11])\n",
      "Grad: tensor([4.0841e+18, 2.9515e+16])\n",
      "Epoch 5, Loss inf\n",
      "Params: tensor([-4.0830e+17, -2.9508e+15])\n",
      "Grad: tensor([-1.5451e+22, -1.1166e+20])\n",
      "Epoch 6, Loss inf\n",
      "Params: tensor([1.5447e+21, 1.1163e+19])\n",
      "Grad: tensor([5.8456e+25, 4.2245e+23])\n",
      "Epoch 7, Loss inf\n",
      "Params: tensor([-5.8440e+24, -4.2234e+22])\n",
      "Grad: tensor([-2.2115e+29, -1.5982e+27])\n",
      "Epoch 8, Loss inf\n",
      "Params: tensor([2.2109e+28, 1.5978e+26])\n",
      "Grad: tensor([8.3667e+32, 6.0465e+30])\n",
      "Epoch 9, Loss inf\n",
      "Params: tensor([-8.3645e+31, -6.0449e+29])\n",
      "Grad: tensor([-3.1653e+36, -2.2875e+34])\n"
     ]
    },
    {
     "data": {
      "text/plain": [
       "tensor([3.1645e+35, 2.2869e+33])"
      ]
     },
     "execution_count": 25,
     "metadata": {},
     "output_type": "execute_result"
    }
   ],
   "source": [
    "params = torch.tensor([1.0, 0.0])\n",
    "\n",
    "nepochs = 10\n",
    "\n",
    "learning_rate = 0.1\n",
    "\n",
    "for epoch in range(nepochs):\n",
    "    # forward pass\n",
    "    w, b = params\n",
    "    t_p = model(t_u, w, b)\n",
    "\n",
    "    loss = loss_fn(t_p, t_c)\n",
    "    print('Epoch %d, Loss %f' % (epoch, float(loss)))\n",
    "    \n",
    "    # backward pass\n",
    "    grad = grad_fn(t_u, t_c, t_p, w, b)\n",
    "\n",
    "    print('Params:', params)\n",
    "    print('Grad:', grad)\n",
    "    \n",
    "    params = params - learning_rate * grad\n",
    "    \n",
    "params"
   ]
  },
  {
   "cell_type": "code",
   "execution_count": 26,
   "metadata": {},
   "outputs": [],
   "source": [
    "t_un = 0.1 * t_u"
   ]
  },
  {
   "cell_type": "code",
   "execution_count": 27,
   "metadata": {},
   "outputs": [
    {
     "name": "stdout",
     "output_type": "stream",
     "text": [
      "Epoch 0, Loss 2642.455322\n",
      "Params: tensor([1., 0.])\n",
      "Grad: tensor([-1412.0093,  -102.6533])\n",
      "Epoch 1, Loss 855426.312500\n",
      "Params: tensor([71.6005,  5.1327])\n",
      "Grad: tensor([25443.8496,  1838.2993])\n",
      "Epoch 2, Loss 277741664.000000\n",
      "Params: tensor([-1200.5920,   -86.7823])\n",
      "Grad: tensor([-458472.5000,  -33135.7539])\n",
      "Epoch 3, Loss 90178600960.000000\n",
      "Params: tensor([21723.0332,  1570.0054])\n",
      "Grad: tensor([8261226.5000,  597062.5625])\n",
      "Epoch 4, Loss 29279651889152.000000\n",
      "Params: tensor([-391338.3125,  -28283.1230])\n",
      "Grad: tensor([-1.4886e+08, -1.0758e+07])\n",
      "Epoch 5, Loss 9506668517785600.000000\n",
      "Params: tensor([7051623.0000,  509641.6250])\n",
      "Grad: tensor([2.6823e+09, 1.9386e+08])\n",
      "Epoch 6, Loss 3086673836062539776.000000\n",
      "Params: tensor([-1.2706e+08, -9.1832e+06])\n",
      "Grad: tensor([-4.8332e+10, -3.4931e+09])\n",
      "Epoch 7, Loss 1002197495184057434112.000000\n",
      "Params: tensor([2.2896e+09, 1.6547e+08])\n",
      "Grad: tensor([8.7090e+11, 6.2943e+10])\n",
      "Epoch 8, Loss 325398583876400447488000.000000\n",
      "Params: tensor([-4.1256e+10, -2.9817e+09])\n",
      "Grad: tensor([-1.5693e+13, -1.1342e+12])\n",
      "Epoch 9, Loss 105652121815437044149649408.000000\n",
      "Params: tensor([7.4338e+11, 5.3727e+10])\n",
      "Grad: tensor([2.8277e+14, 2.0437e+13])\n"
     ]
    },
    {
     "data": {
      "text/plain": [
       "tensor([-1.3395e+13, -9.6810e+11])"
      ]
     },
     "execution_count": 27,
     "metadata": {},
     "output_type": "execute_result"
    }
   ],
   "source": [
    "params = torch.tensor([1.0, 0.0])\n",
    "\n",
    "nepochs = 10\n",
    "\n",
    "learning_rate = 0.05\n",
    "\n",
    "for epoch in range(nepochs):\n",
    "    # forward pass\n",
    "    w, b = params\n",
    "    t_p = model(t_un, w, b)\n",
    "\n",
    "    loss = loss_fn(t_p, t_c)\n",
    "    print('Epoch %d, Loss %f' % (epoch, float(loss)))\n",
    "    \n",
    "    # backward pass\n",
    "    grad = grad_fn(t_un, t_c, t_p, w, b)\n",
    "\n",
    "    print('Params:', params)\n",
    "    print('Grad:', grad)\n",
    "    \n",
    "    params = params - learning_rate * grad\n",
    "    \n",
    "params"
   ]
  },
  {
   "cell_type": "code",
   "execution_count": 28,
   "metadata": {},
   "outputs": [
    {
     "name": "stdout",
     "output_type": "stream",
     "text": [
      "Epoch 0, Loss 2642.455322\n",
      "Epoch 1, Loss 20719.341797\n",
      "Epoch 2, Loss 162827.500000\n",
      "Epoch 3, Loss 1279984.500000\n",
      "Epoch 4, Loss 10062314.000000\n",
      "Epoch 5, Loss 79103032.000000\n",
      "Epoch 6, Loss 621854144.000000\n",
      "Epoch 7, Loss 4888591872.000000\n",
      "Epoch 8, Loss 38430781440.000000\n",
      "Epoch 9, Loss 302116732928.000000\n",
      "Epoch 10, Loss 2375034601472.000000\n",
      "Epoch 11, Loss 18670898118656.000000\n",
      "Epoch 12, Loss 146777890095104.000000\n",
      "Epoch 13, Loss 1153867928567808.000000\n",
      "Epoch 14, Loss 9070922610769920.000000\n",
      "Epoch 15, Loss 71309436504768512.000000\n",
      "Epoch 16, Loss 560585865982640128.000000\n",
      "Epoch 17, Loss 4406945133585498112.000000\n",
      "Epoch 18, Loss 34644393132338184192.000000\n",
      "Epoch 19, Loss 272350525535928975360.000000\n",
      "Epoch 20, Loss 2141034625275000782848.000000\n",
      "Epoch 21, Loss 16831353552867562618880.000000\n",
      "Epoch 22, Loss 132316612736074372874240.000000\n",
      "Epoch 23, Loss 1040182859106084330668032.000000\n",
      "Epoch 24, Loss 8177208181270761344860160.000000\n",
      "Epoch 25, Loss 64283610353060630226796544.000000\n",
      "Epoch 26, Loss 505353903455054542290288640.000000\n",
      "Epoch 27, Loss 3972748652703504189175627776.000000\n",
      "Epoch 28, Loss 31231040168804597745613537280.000000\n",
      "Epoch 29, Loss 245517099038610263724972310528.000000\n",
      "Epoch 30, Loss 1930088756640983145552000581632.000000\n",
      "Epoch 31, Loss 15173039369555350889585960812544.000000\n",
      "Epoch 32, Loss 119280107031854368160361104801792.000000\n",
      "Epoch 33, Loss 937698650366126685350747747385344.000000\n",
      "Epoch 34, Loss 7371548553562241426448928575848448.000000\n",
      "Epoch 35, Loss 57950102495816221522100831419105280.000000\n",
      "Epoch 36, Loss 455564073617407826299992740118659072.000000\n",
      "Epoch 37, Loss 3581335735237738170545499600775544832.000000\n",
      "Epoch 38, Loss inf\n",
      "Epoch 39, Loss inf\n",
      "Epoch 40, Loss inf\n",
      "Epoch 41, Loss inf\n",
      "Epoch 42, Loss inf\n",
      "Epoch 43, Loss inf\n",
      "Epoch 44, Loss inf\n",
      "Epoch 45, Loss inf\n",
      "Epoch 46, Loss inf\n",
      "Epoch 47, Loss inf\n",
      "Epoch 48, Loss inf\n",
      "Epoch 49, Loss inf\n"
     ]
    },
    {
     "data": {
      "text/plain": [
       "tensor([-9.0577e+22, -6.5463e+21])"
      ]
     },
     "execution_count": 28,
     "metadata": {},
     "output_type": "execute_result"
    }
   ],
   "source": [
    "params = torch.tensor([1.0, 0.0])\n",
    "\n",
    "nepochs = 50\n",
    "\n",
    "learning_rate = 1e-2\n",
    "\n",
    "for epoch in range(nepochs):\n",
    "    # forward pass\n",
    "    w, b = params\n",
    "    t_p = model(t_un, w, b)\n",
    "\n",
    "    loss = loss_fn(t_p, t_c)\n",
    "    print('Epoch %d, Loss %f' % (epoch, float(loss)))\n",
    "    \n",
    "    # backward pass\n",
    "    grad = grad_fn(t_un, t_c, t_p, w, b)\n",
    "\n",
    "    params = params - learning_rate * grad\n",
    "    \n",
    "params"
   ]
  },
  {
   "cell_type": "code",
   "execution_count": 29,
   "metadata": {},
   "outputs": [],
   "source": [
    "def model(t_u, w, b):\n",
    "    return w * t_u + b"
   ]
  },
  {
   "cell_type": "code",
   "execution_count": 30,
   "metadata": {},
   "outputs": [],
   "source": [
    "def loss_fn(t_p, t_c):\n",
    "    sq_diffs = (t_p - t_c)**2\n",
    "    return sq_diffs.mean()"
   ]
  },
  {
   "cell_type": "code",
   "execution_count": 31,
   "metadata": {},
   "outputs": [],
   "source": [
    "params = torch.tensor([1.0, 0.0], requires_grad=True)\n",
    "\n",
    "loss = loss_fn(model(t_u, *params), t_c)"
   ]
  },
  {
   "cell_type": "code",
   "execution_count": 32,
   "metadata": {},
   "outputs": [
    {
     "data": {
      "text/plain": [
       "True"
      ]
     },
     "execution_count": 32,
     "metadata": {},
     "output_type": "execute_result"
    }
   ],
   "source": [
    "params.grad is None"
   ]
  },
  {
   "cell_type": "code",
   "execution_count": 33,
   "metadata": {},
   "outputs": [],
   "source": [
    "loss.backward()"
   ]
  },
  {
   "cell_type": "code",
   "execution_count": 34,
   "metadata": {},
   "outputs": [
    {
     "data": {
      "text/plain": [
       "tensor([19936.2695,   143.4667])"
      ]
     },
     "execution_count": 34,
     "metadata": {},
     "output_type": "execute_result"
    }
   ],
   "source": [
    "params.grad"
   ]
  },
  {
   "cell_type": "code",
   "execution_count": 35,
   "metadata": {},
   "outputs": [],
   "source": [
    "if params.grad is not None:\n",
    "    params.grad.zero_()"
   ]
  },
  {
   "cell_type": "code",
   "execution_count": 36,
   "metadata": {},
   "outputs": [],
   "source": [
    "def model(t_u, w, b):\n",
    "    return w * t_u + b"
   ]
  },
  {
   "cell_type": "code",
   "execution_count": 37,
   "metadata": {},
   "outputs": [],
   "source": [
    "def loss_fn(t_p, t_c):\n",
    "    sq_diffs = (t_p - t_c)**2\n",
    "    return sq_diffs.mean()"
   ]
  },
  {
   "cell_type": "code",
   "execution_count": 40,
   "metadata": {},
   "outputs": [],
   "source": [
    "params = torch.tensor([1.0, 0.0], requires_grad=True)\n",
    "\n",
    "nepochs = 100\n",
    "\n",
    "learning_rate = 1e-3"
   ]
  },
  {
   "cell_type": "code",
   "execution_count": 41,
   "metadata": {},
   "outputs": [
    {
     "name": "stdout",
     "output_type": "stream",
     "text": [
      "Epoch 0, Loss 2642.455322\n",
      "Epoch 1, Loss 1019.346863\n",
      "Epoch 2, Loss 396.189301\n",
      "Epoch 3, Loss 156.941177\n",
      "Epoch 4, Loss 65.086739\n",
      "Epoch 5, Loss 29.821062\n",
      "Epoch 6, Loss 16.281319\n",
      "Epoch 7, Loss 11.082800\n",
      "Epoch 8, Loss 9.086715\n",
      "Epoch 9, Loss 8.320149\n",
      "Epoch 10, Loss 8.025607\n",
      "Epoch 11, Loss 7.912303\n",
      "Epoch 12, Loss 7.868583\n",
      "Epoch 13, Loss 7.851569\n",
      "Epoch 14, Loss 7.844816\n",
      "Epoch 15, Loss 7.842016\n",
      "Epoch 16, Loss 7.840695\n",
      "Epoch 17, Loss 7.839971\n",
      "Epoch 18, Loss 7.839478\n",
      "Epoch 19, Loss 7.839065\n",
      "Epoch 20, Loss 7.838678\n",
      "Epoch 21, Loss 7.838317\n",
      "Epoch 22, Loss 7.837945\n",
      "Epoch 23, Loss 7.837583\n",
      "Epoch 24, Loss 7.837236\n",
      "Epoch 25, Loss 7.836849\n",
      "Epoch 26, Loss 7.836495\n",
      "Epoch 27, Loss 7.836150\n",
      "Epoch 28, Loss 7.835763\n",
      "Epoch 29, Loss 7.835413\n",
      "Epoch 30, Loss 7.835062\n",
      "Epoch 31, Loss 7.834692\n",
      "Epoch 32, Loss 7.834332\n",
      "Epoch 33, Loss 7.833957\n",
      "Epoch 34, Loss 7.833606\n",
      "Epoch 35, Loss 7.833253\n",
      "Epoch 36, Loss 7.832891\n",
      "Epoch 37, Loss 7.832518\n",
      "Epoch 38, Loss 7.832154\n",
      "Epoch 39, Loss 7.831804\n",
      "Epoch 40, Loss 7.831444\n",
      "Epoch 41, Loss 7.831079\n",
      "Epoch 42, Loss 7.830714\n",
      "Epoch 43, Loss 7.830350\n",
      "Epoch 44, Loss 7.829991\n",
      "Epoch 45, Loss 7.829640\n",
      "Epoch 46, Loss 7.829275\n",
      "Epoch 47, Loss 7.828920\n",
      "Epoch 48, Loss 7.828548\n",
      "Epoch 49, Loss 7.828183\n",
      "Epoch 50, Loss 7.827819\n",
      "Epoch 51, Loss 7.827460\n",
      "Epoch 52, Loss 7.827108\n",
      "Epoch 53, Loss 7.826746\n",
      "Epoch 54, Loss 7.826393\n",
      "Epoch 55, Loss 7.826019\n",
      "Epoch 56, Loss 7.825656\n",
      "Epoch 57, Loss 7.825292\n",
      "Epoch 58, Loss 7.824938\n",
      "Epoch 59, Loss 7.824564\n",
      "Epoch 60, Loss 7.824216\n",
      "Epoch 61, Loss 7.823865\n",
      "Epoch 62, Loss 7.823491\n",
      "Epoch 63, Loss 7.823140\n",
      "Epoch 64, Loss 7.822775\n",
      "Epoch 65, Loss 7.822421\n",
      "Epoch 66, Loss 7.822039\n",
      "Epoch 67, Loss 7.821687\n",
      "Epoch 68, Loss 7.821319\n",
      "Epoch 69, Loss 7.820969\n",
      "Epoch 70, Loss 7.820596\n",
      "Epoch 71, Loss 7.820244\n",
      "Epoch 72, Loss 7.819874\n",
      "Epoch 73, Loss 7.819526\n",
      "Epoch 74, Loss 7.819166\n",
      "Epoch 75, Loss 7.818802\n",
      "Epoch 76, Loss 7.818453\n",
      "Epoch 77, Loss 7.818075\n",
      "Epoch 78, Loss 7.817728\n",
      "Epoch 79, Loss 7.817358\n",
      "Epoch 80, Loss 7.817010\n",
      "Epoch 81, Loss 7.816634\n",
      "Epoch 82, Loss 7.816283\n",
      "Epoch 83, Loss 7.815919\n",
      "Epoch 84, Loss 7.815566\n",
      "Epoch 85, Loss 7.815196\n",
      "Epoch 86, Loss 7.814840\n",
      "Epoch 87, Loss 7.814475\n",
      "Epoch 88, Loss 7.814117\n",
      "Epoch 89, Loss 7.813749\n",
      "Epoch 90, Loss 7.813403\n",
      "Epoch 91, Loss 7.813034\n",
      "Epoch 92, Loss 7.812676\n",
      "Epoch 93, Loss 7.812309\n",
      "Epoch 94, Loss 7.811961\n",
      "Epoch 95, Loss 7.811592\n",
      "Epoch 96, Loss 7.811236\n",
      "Epoch 97, Loss 7.810872\n",
      "Epoch 98, Loss 7.810518\n",
      "Epoch 99, Loss 7.810145\n"
     ]
    },
    {
     "data": {
      "text/plain": [
       "tensor([4.7079, 0.3282], requires_grad=True)"
      ]
     },
     "execution_count": 41,
     "metadata": {},
     "output_type": "execute_result"
    }
   ],
   "source": [
    "for epoch in range(nepochs):\n",
    "    # forward pass\n",
    "    t_p = model(t_un, *params)\n",
    "    loss = loss_fn(t_p, t_c)\n",
    "\n",
    "    print('Epoch %d, Loss %f' % (epoch, float(loss)))\n",
    "    \n",
    "    # backward pass\n",
    "    if params.grad is not None:\n",
    "        params.grad.zero_()\n",
    "\n",
    "    loss.backward()\n",
    "\n",
    "    #params.grad.clamp_(-1.0, 1.0)\n",
    "    #print(params, params.grad)\n",
    "\n",
    "    params = (params - learning_rate * params.grad).detach().requires_grad_()\n",
    "\n",
    "params"
   ]
  },
  {
   "cell_type": "code",
   "execution_count": 42,
   "metadata": {},
   "outputs": [
    {
     "data": {
      "text/plain": [
       "['ASGD',\n",
       " 'Adadelta',\n",
       " 'Adagrad',\n",
       " 'Adam',\n",
       " 'Adamax',\n",
       " 'LBFGS',\n",
       " 'Optimizer',\n",
       " 'RMSprop',\n",
       " 'Rprop',\n",
       " 'SGD',\n",
       " 'SparseAdam',\n",
       " '__builtins__',\n",
       " '__cached__',\n",
       " '__doc__',\n",
       " '__file__',\n",
       " '__loader__',\n",
       " '__name__',\n",
       " '__package__',\n",
       " '__path__',\n",
       " '__spec__',\n",
       " 'lr_scheduler']"
      ]
     },
     "execution_count": 42,
     "metadata": {},
     "output_type": "execute_result"
    }
   ],
   "source": [
    "import torch.optim as optim\n",
    "\n",
    "dir(optim)"
   ]
  },
  {
   "cell_type": "code",
   "execution_count": 43,
   "metadata": {},
   "outputs": [],
   "source": [
    "params = torch.tensor([1.0, 0.0], requires_grad=True)\n",
    "\n",
    "learning_rate = 1e-5\n",
    "\n",
    "optimizer = optim.SGD([params], lr=learning_rate)"
   ]
  },
  {
   "cell_type": "code",
   "execution_count": 44,
   "metadata": {},
   "outputs": [
    {
     "data": {
      "text/plain": [
       "tensor([ 0.8006, -0.0014], requires_grad=True)"
      ]
     },
     "execution_count": 44,
     "metadata": {},
     "output_type": "execute_result"
    }
   ],
   "source": [
    "t_p = model(t_u, *params)\n",
    "\n",
    "loss = loss_fn(t_p, t_c)\n",
    "\n",
    "loss.backward()\n",
    "\n",
    "optimizer.step()\n",
    "\n",
    "params"
   ]
  },
  {
   "cell_type": "code",
   "execution_count": 45,
   "metadata": {},
   "outputs": [
    {
     "data": {
      "text/plain": [
       "tensor([15.1201,  1.0265], requires_grad=True)"
      ]
     },
     "execution_count": 45,
     "metadata": {},
     "output_type": "execute_result"
    }
   ],
   "source": [
    "params = torch.tensor([1.0, 0.0], requires_grad=True)\n",
    "\n",
    "learning_rate = 1e-2\n",
    "\n",
    "optimizer = optim.SGD([params], lr=learning_rate)\n",
    "\n",
    "t_p = model(t_un, *params)\n",
    "\n",
    "loss = loss_fn(t_p, t_c)\n",
    "\n",
    "optimizer.zero_grad()\n",
    "\n",
    "loss.backward()\n",
    "\n",
    "optimizer.step()\n",
    "\n",
    "params"
   ]
  },
  {
   "cell_type": "code",
   "execution_count": 46,
   "metadata": {},
   "outputs": [],
   "source": [
    "def model(t_u, w, b):\n",
    "    return w * t_u + b"
   ]
  },
  {
   "cell_type": "code",
   "execution_count": 47,
   "metadata": {},
   "outputs": [],
   "source": [
    "def loss_fn(t_p, t_c):\n",
    "    sq_diffs = (t_p - t_c)**2\n",
    "    return sq_diffs.mean()"
   ]
  },
  {
   "cell_type": "code",
   "execution_count": 49,
   "metadata": {},
   "outputs": [],
   "source": [
    "params = torch.tensor([1.0, 0.0], requires_grad=True)\n",
    "\n",
    "nepochs = 100\n",
    "learning_rate = 1e-3\n",
    "\n",
    "optimizer = optim.SGD([params], lr=learning_rate)"
   ]
  },
  {
   "cell_type": "code",
   "execution_count": 50,
   "metadata": {},
   "outputs": [
    {
     "name": "stdout",
     "output_type": "stream",
     "text": [
      "Epoch 0, Loss 2642.455322\n",
      "Epoch 1, Loss 1019.346863\n",
      "Epoch 2, Loss 396.189301\n",
      "Epoch 3, Loss 156.941177\n",
      "Epoch 4, Loss 65.086739\n",
      "Epoch 5, Loss 29.821062\n",
      "Epoch 6, Loss 16.281319\n",
      "Epoch 7, Loss 11.082800\n",
      "Epoch 8, Loss 9.086715\n",
      "Epoch 9, Loss 8.320149\n",
      "Epoch 10, Loss 8.025607\n",
      "Epoch 11, Loss 7.912303\n",
      "Epoch 12, Loss 7.868583\n",
      "Epoch 13, Loss 7.851569\n",
      "Epoch 14, Loss 7.844816\n",
      "Epoch 15, Loss 7.842016\n",
      "Epoch 16, Loss 7.840695\n",
      "Epoch 17, Loss 7.839971\n",
      "Epoch 18, Loss 7.839478\n",
      "Epoch 19, Loss 7.839065\n",
      "Epoch 20, Loss 7.838678\n",
      "Epoch 21, Loss 7.838317\n",
      "Epoch 22, Loss 7.837945\n",
      "Epoch 23, Loss 7.837583\n",
      "Epoch 24, Loss 7.837236\n",
      "Epoch 25, Loss 7.836849\n",
      "Epoch 26, Loss 7.836495\n",
      "Epoch 27, Loss 7.836150\n",
      "Epoch 28, Loss 7.835763\n",
      "Epoch 29, Loss 7.835413\n",
      "Epoch 30, Loss 7.835062\n",
      "Epoch 31, Loss 7.834692\n",
      "Epoch 32, Loss 7.834332\n",
      "Epoch 33, Loss 7.833957\n",
      "Epoch 34, Loss 7.833606\n",
      "Epoch 35, Loss 7.833253\n",
      "Epoch 36, Loss 7.832891\n",
      "Epoch 37, Loss 7.832518\n",
      "Epoch 38, Loss 7.832154\n",
      "Epoch 39, Loss 7.831804\n",
      "Epoch 40, Loss 7.831444\n",
      "Epoch 41, Loss 7.831079\n",
      "Epoch 42, Loss 7.830714\n",
      "Epoch 43, Loss 7.830350\n",
      "Epoch 44, Loss 7.829991\n",
      "Epoch 45, Loss 7.829640\n",
      "Epoch 46, Loss 7.829275\n",
      "Epoch 47, Loss 7.828920\n",
      "Epoch 48, Loss 7.828548\n",
      "Epoch 49, Loss 7.828183\n",
      "Epoch 50, Loss 7.827819\n",
      "Epoch 51, Loss 7.827460\n",
      "Epoch 52, Loss 7.827108\n",
      "Epoch 53, Loss 7.826746\n",
      "Epoch 54, Loss 7.826393\n",
      "Epoch 55, Loss 7.826019\n",
      "Epoch 56, Loss 7.825656\n",
      "Epoch 57, Loss 7.825292\n",
      "Epoch 58, Loss 7.824938\n",
      "Epoch 59, Loss 7.824564\n",
      "Epoch 60, Loss 7.824216\n",
      "Epoch 61, Loss 7.823865\n",
      "Epoch 62, Loss 7.823491\n",
      "Epoch 63, Loss 7.823140\n",
      "Epoch 64, Loss 7.822775\n",
      "Epoch 65, Loss 7.822421\n",
      "Epoch 66, Loss 7.822039\n",
      "Epoch 67, Loss 7.821687\n",
      "Epoch 68, Loss 7.821319\n",
      "Epoch 69, Loss 7.820969\n",
      "Epoch 70, Loss 7.820596\n",
      "Epoch 71, Loss 7.820244\n",
      "Epoch 72, Loss 7.819874\n",
      "Epoch 73, Loss 7.819526\n",
      "Epoch 74, Loss 7.819166\n",
      "Epoch 75, Loss 7.818802\n",
      "Epoch 76, Loss 7.818453\n",
      "Epoch 77, Loss 7.818075\n",
      "Epoch 78, Loss 7.817728\n",
      "Epoch 79, Loss 7.817358\n",
      "Epoch 80, Loss 7.817010\n",
      "Epoch 81, Loss 7.816634\n",
      "Epoch 82, Loss 7.816283\n",
      "Epoch 83, Loss 7.815919\n",
      "Epoch 84, Loss 7.815566\n",
      "Epoch 85, Loss 7.815196\n",
      "Epoch 86, Loss 7.814840\n",
      "Epoch 87, Loss 7.814475\n",
      "Epoch 88, Loss 7.814117\n",
      "Epoch 89, Loss 7.813749\n",
      "Epoch 90, Loss 7.813403\n",
      "Epoch 91, Loss 7.813034\n",
      "Epoch 92, Loss 7.812676\n",
      "Epoch 93, Loss 7.812309\n",
      "Epoch 94, Loss 7.811961\n",
      "Epoch 95, Loss 7.811592\n",
      "Epoch 96, Loss 7.811236\n",
      "Epoch 97, Loss 7.810872\n",
      "Epoch 98, Loss 7.810518\n",
      "Epoch 99, Loss 7.810145\n"
     ]
    },
    {
     "data": {
      "text/plain": [
       "tensor([4.7079, 0.3282], requires_grad=True)"
      ]
     },
     "execution_count": 50,
     "metadata": {},
     "output_type": "execute_result"
    }
   ],
   "source": [
    "for epoch in range(nepochs):\n",
    "    \n",
    "    # forward pass\n",
    "    t_p = model(t_un, *params)\n",
    "    loss = loss_fn(t_p, t_c)\n",
    "\n",
    "    print('Epoch %d, Loss %f' % (epoch, float(loss)))\n",
    "        \n",
    "    # backward pass\n",
    "    optimizer.zero_grad()\n",
    "    loss.backward()    \n",
    "    optimizer.step()\n",
    "\n",
    "t_p = model(t_un, *params)\n",
    "\n",
    "params"
   ]
  },
  {
   "cell_type": "code",
   "execution_count": 51,
   "metadata": {},
   "outputs": [],
   "source": [
    "def model(t_u, w, b):\n",
    "    return w * t_u + b"
   ]
  },
  {
   "cell_type": "code",
   "execution_count": 52,
   "metadata": {},
   "outputs": [],
   "source": [
    "def loss_fn(t_p, t_c):\n",
    "    sq_diffs = (t_p - t_c)**2\n",
    "    return sq_diffs.mean()"
   ]
  },
  {
   "cell_type": "code",
   "execution_count": 55,
   "metadata": {},
   "outputs": [],
   "source": [
    "params = torch.tensor([1.0, 0.0], requires_grad=True)\n",
    "\n",
    "nepochs = 100\n",
    "learning_rate = 1e-1\n",
    "\n",
    "optimizer = optim.Adam([params], lr=learning_rate)"
   ]
  },
  {
   "cell_type": "code",
   "execution_count": 56,
   "metadata": {},
   "outputs": [
    {
     "name": "stdout",
     "output_type": "stream",
     "text": [
      "Epoch 0, Loss 5259.733398\n",
      "Epoch 1, Loss 3443.706055\n",
      "Epoch 2, Loss 2025.263428\n",
      "Epoch 3, Loss 1002.203430\n",
      "Epoch 4, Loss 357.638977\n",
      "Epoch 5, Loss 53.362339\n",
      "Epoch 6, Loss 24.627544\n",
      "Epoch 7, Loss 181.475250\n",
      "Epoch 8, Loss 421.412689\n",
      "Epoch 9, Loss 651.219666\n",
      "Epoch 10, Loss 806.726135\n",
      "Epoch 11, Loss 860.188843\n",
      "Epoch 12, Loss 815.021912\n",
      "Epoch 13, Loss 694.658447\n",
      "Epoch 14, Loss 531.592957\n",
      "Epoch 15, Loss 359.055267\n",
      "Epoch 16, Loss 205.425735\n",
      "Epoch 17, Loss 90.802734\n",
      "Epoch 18, Loss 25.268084\n",
      "Epoch 19, Loss 8.697300\n",
      "Epoch 20, Loss 32.116177\n",
      "Epoch 21, Loss 80.485817\n",
      "Epoch 22, Loss 136.450882\n",
      "Epoch 23, Loss 184.215622\n",
      "Epoch 24, Loss 212.605209\n",
      "Epoch 25, Loss 216.650848\n",
      "Epoch 26, Loss 197.548569\n",
      "Epoch 27, Loss 161.313400\n",
      "Epoch 28, Loss 116.688927\n",
      "Epoch 29, Loss 72.884323\n",
      "Epoch 30, Loss 37.597633\n",
      "Epoch 31, Loss 15.638309\n",
      "Epoch 32, Loss 8.321149\n",
      "Epoch 33, Loss 13.663870\n",
      "Epoch 34, Loss 27.273088\n",
      "Epoch 35, Loss 43.663616\n",
      "Epoch 36, Loss 57.666039\n",
      "Epoch 37, Loss 65.575615\n",
      "Epoch 38, Loss 65.794014\n",
      "Epoch 39, Loss 58.875916\n",
      "Epoch 40, Loss 47.055305\n",
      "Epoch 41, Loss 33.443775\n",
      "Epoch 42, Loss 21.140970\n",
      "Epoch 43, Loss 12.478498\n",
      "Epoch 44, Loss 8.559312\n",
      "Epoch 45, Loss 9.163393\n",
      "Epoch 46, Loss 12.997293\n",
      "Epoch 47, Loss 18.181864\n",
      "Epoch 48, Loss 22.823309\n",
      "Epoch 49, Loss 25.507193\n",
      "Epoch 50, Loss 25.594593\n",
      "Epoch 51, Loss 23.268354\n",
      "Epoch 52, Loss 19.353170\n",
      "Epoch 53, Loss 14.989927\n",
      "Epoch 54, Loss 11.273381\n",
      "Epoch 55, Loss 8.957369\n",
      "Epoch 56, Loss 8.297545\n",
      "Epoch 57, Loss 9.056643\n",
      "Epoch 58, Loss 10.647404\n",
      "Epoch 59, Loss 12.353961\n",
      "Epoch 60, Loss 13.556897\n",
      "Epoch 61, Loss 13.896547\n",
      "Epoch 62, Loss 13.335566\n",
      "Epoch 63, Loss 12.117375\n",
      "Epoch 64, Loss 10.647862\n",
      "Epoch 65, Loss 9.347169\n",
      "Epoch 66, Loss 8.520164\n",
      "Epoch 67, Loss 8.281973\n",
      "Epoch 68, Loss 8.552851\n",
      "Epoch 69, Loss 9.113916\n",
      "Epoch 70, Loss 9.697266\n",
      "Epoch 71, Loss 10.077374\n",
      "Epoch 72, Loss 10.134857\n",
      "Epoch 73, Loss 9.876614\n",
      "Epoch 74, Loss 9.412518\n",
      "Epoch 75, Loss 8.902866\n",
      "Epoch 76, Loss 8.497907\n",
      "Epoch 77, Loss 8.290195\n",
      "Epoch 78, Loss 8.293638\n",
      "Epoch 79, Loss 8.451735\n",
      "Epoch 80, Loss 8.667790\n",
      "Epoch 81, Loss 8.843833\n",
      "Epoch 82, Loss 8.913678\n",
      "Epoch 83, Loss 8.859937\n",
      "Epoch 84, Loss 8.711582\n",
      "Epoch 85, Loss 8.526202\n",
      "Epoch 86, Loss 8.365194\n",
      "Epoch 87, Loss 8.271740\n",
      "Epoch 88, Loss 8.258674\n",
      "Epoch 89, Loss 8.309059\n",
      "Epoch 90, Loss 8.387050\n",
      "Epoch 91, Loss 8.453821\n",
      "Epoch 92, Loss 8.481886\n",
      "Epoch 93, Loss 8.462904\n",
      "Epoch 94, Loss 8.407529\n",
      "Epoch 95, Loss 8.338204\n",
      "Epoch 96, Loss 8.278888\n",
      "Epoch 97, Loss 8.246055\n",
      "Epoch 98, Loss 8.243764\n",
      "Epoch 99, Loss 8.264303\n"
     ]
    },
    {
     "data": {
      "text/plain": [
       "tensor([ 0.4742, -0.3750], requires_grad=True)"
      ]
     },
     "execution_count": 56,
     "metadata": {},
     "output_type": "execute_result"
    }
   ],
   "source": [
    "for epoch in range(nepochs):\n",
    "    # forward pass\n",
    "    t_p = model(t_u, *params)\n",
    "    loss = loss_fn(t_p, t_c)\n",
    "\n",
    "    print('Epoch %d, Loss %f' % (epoch, float(loss)))\n",
    "        \n",
    "    # backward pass\n",
    "    optimizer.zero_grad()\n",
    "    loss.backward()\n",
    "    optimizer.step()\n",
    "\n",
    "t_p = model(t_u, *params)\n",
    "\n",
    "params"
   ]
  },
  {
   "cell_type": "code",
   "execution_count": 57,
   "metadata": {},
   "outputs": [
    {
     "data": {
      "text/plain": [
       "[<matplotlib.lines.Line2D at 0x7f16645cee10>]"
      ]
     },
     "execution_count": 57,
     "metadata": {},
     "output_type": "execute_result"
    },
    {
     "data": {
      "image/png": "[encoded data removed]",
      "text/plain": [
       "<Figure size 432x288 with 1 Axes>"
      ]
     },
     "metadata": {
      "needs_background": "light"
     },
     "output_type": "display_data"
    }
   ],
   "source": [
    "from matplotlib import pyplot as plt\n",
    "%matplotlib inline\n",
    "plt.plot(0.1 * t_u.numpy(), t_p.detach().numpy())\n",
    "plt.plot(0.1 * t_u.numpy(), t_c.numpy(), 'o')"
   ]
  },
  {
   "cell_type": "code",
   "execution_count": 58,
   "metadata": {},
   "outputs": [
    {
     "data": {
      "text/plain": [
       "(tensor([ 2,  0, 10, 13,  7,  5, 12, 14,  1,  6,  4,  3]),\n",
       " tensor([ 8,  9, 11]))"
      ]
     },
     "execution_count": 58,
     "metadata": {},
     "output_type": "execute_result"
    }
   ],
   "source": [
    "n_samples = t_u.shape[0]\n",
    "n_val = int(0.2 * n_samples)\n",
    "\n",
    "shuffled_indices = torch.randperm(n_samples)\n",
    "\n",
    "train_indices = shuffled_indices[:-n_val]\n",
    "val_indices = shuffled_indices[-n_val:]\n",
    "\n",
    "train_indices, val_indices"
   ]
  },
  {
   "cell_type": "code",
   "execution_count": 59,
   "metadata": {},
   "outputs": [],
   "source": [
    "t_u_train = t_u[train_indices]\n",
    "t_c_train = t_c[train_indices]\n",
    "\n",
    "t_u_val = t_u[val_indices]\n",
    "t_c_val = t_c[val_indices]"
   ]
  },
  {
   "cell_type": "code",
   "execution_count": 60,
   "metadata": {},
   "outputs": [],
   "source": [
    "def model(t_u, w, b):\n",
    "    return w * t_u + b"
   ]
  },
  {
   "cell_type": "code",
   "execution_count": 61,
   "metadata": {},
   "outputs": [],
   "source": [
    "def loss_fn(t_p, t_c):\n",
    "    sq_diffs = (t_p - t_c)**2\n",
    "    return sq_diffs.mean()"
   ]
  },
  {
   "cell_type": "code",
   "execution_count": 69,
   "metadata": {},
   "outputs": [],
   "source": [
    "params = torch.tensor([1.0, 0.0], requires_grad=True)\n",
    "\n",
    "nepochs = 100\n",
    "learning_rate = 1e-3\n",
    "\n",
    "optimizer = optim.SGD([params], lr=learning_rate)\n",
    "\n",
    "t_un_train = 0.1 * t_u_train\n",
    "t_un_val = 0.1 * t_u_val"
   ]
  },
  {
   "cell_type": "code",
   "execution_count": 70,
   "metadata": {},
   "outputs": [
    {
     "name": "stdout",
     "output_type": "stream",
     "text": [
      "Epoch 0, Training loss 2601.548340, Validation loss 2806.083252\n",
      "Epoch 1, Training loss 1032.810425, Validation loss 1087.461426\n",
      "Epoch 2, Training loss 413.472137, Validation loss 416.879730\n",
      "Epoch 3, Training loss 168.956818, Validation loss 157.116455\n",
      "Epoch 4, Training loss 72.421867, Validation loss 57.692535\n",
      "Epoch 5, Training loss 34.309498, Validation loss 20.406885\n",
      "Epoch 6, Training loss 19.262449, Validation loss 6.922363\n",
      "Epoch 7, Training loss 13.321537, Validation loss 2.375138\n",
      "Epoch 8, Training loss 10.975765, Validation loss 1.067700\n",
      "Epoch 9, Training loss 10.049333, Validation loss 0.858009\n",
      "Epoch 10, Training loss 9.683274, Validation loss 0.967766\n",
      "Epoch 11, Training loss 9.538424, Validation loss 1.132040\n",
      "Epoch 12, Training loss 9.480930, Validation loss 1.272863\n",
      "Epoch 13, Training loss 9.457908, Validation loss 1.376170\n",
      "Epoch 14, Training loss 9.448518, Validation loss 1.446910\n",
      "Epoch 15, Training loss 9.444493, Validation loss 1.493633\n",
      "Epoch 16, Training loss 9.442599, Validation loss 1.523863\n",
      "Epoch 17, Training loss 9.441531, Validation loss 1.543187\n",
      "Epoch 18, Training loss 9.440793, Validation loss 1.555436\n",
      "Epoch 19, Training loss 9.440177, Validation loss 1.563130\n",
      "Epoch 20, Training loss 9.439628, Validation loss 1.567951\n",
      "Epoch 21, Training loss 9.439085, Validation loss 1.570958\n",
      "Epoch 22, Training loss 9.438577, Validation loss 1.572808\n",
      "Epoch 23, Training loss 9.438061, Validation loss 1.573941\n",
      "Epoch 24, Training loss 9.437540, Validation loss 1.574605\n",
      "Epoch 25, Training loss 9.437016, Validation loss 1.574998\n",
      "Epoch 26, Training loss 9.436512, Validation loss 1.575202\n",
      "Epoch 27, Training loss 9.435977, Validation loss 1.575273\n",
      "Epoch 28, Training loss 9.435462, Validation loss 1.575304\n",
      "Epoch 29, Training loss 9.434943, Validation loss 1.575263\n",
      "Epoch 30, Training loss 9.434421, Validation loss 1.575208\n",
      "Epoch 31, Training loss 9.433894, Validation loss 1.575130\n",
      "Epoch 32, Training loss 9.433394, Validation loss 1.575062\n",
      "Epoch 33, Training loss 9.432885, Validation loss 1.574969\n",
      "Epoch 34, Training loss 9.432352, Validation loss 1.574879\n",
      "Epoch 35, Training loss 9.431834, Validation loss 1.574774\n",
      "Epoch 36, Training loss 9.431314, Validation loss 1.574669\n",
      "Epoch 37, Training loss 9.430802, Validation loss 1.574555\n",
      "Epoch 38, Training loss 9.430282, Validation loss 1.574450\n",
      "Epoch 39, Training loss 9.429751, Validation loss 1.574345\n",
      "Epoch 40, Training loss 9.429230, Validation loss 1.574241\n",
      "Epoch 41, Training loss 9.428720, Validation loss 1.574136\n",
      "Epoch 42, Training loss 9.428220, Validation loss 1.574046\n",
      "Epoch 43, Training loss 9.427702, Validation loss 1.573941\n",
      "Epoch 44, Training loss 9.427177, Validation loss 1.573836\n",
      "Epoch 45, Training loss 9.426671, Validation loss 1.573722\n",
      "Epoch 46, Training loss 9.426141, Validation loss 1.573617\n",
      "Epoch 47, Training loss 9.425616, Validation loss 1.573512\n",
      "Epoch 48, Training loss 9.425099, Validation loss 1.573408\n",
      "Epoch 49, Training loss 9.424588, Validation loss 1.573303\n",
      "Epoch 50, Training loss 9.424063, Validation loss 1.573211\n",
      "Epoch 51, Training loss 9.423545, Validation loss 1.573108\n",
      "Epoch 52, Training loss 9.423029, Validation loss 1.573003\n",
      "Epoch 53, Training loss 9.422517, Validation loss 1.572889\n",
      "Epoch 54, Training loss 9.421988, Validation loss 1.572784\n",
      "Epoch 55, Training loss 9.421469, Validation loss 1.572679\n",
      "Epoch 56, Training loss 9.420947, Validation loss 1.572576\n",
      "Epoch 57, Training loss 9.420435, Validation loss 1.572471\n",
      "Epoch 58, Training loss 9.419917, Validation loss 1.572379\n",
      "Epoch 59, Training loss 9.419400, Validation loss 1.572275\n",
      "Epoch 60, Training loss 9.418893, Validation loss 1.572172\n",
      "Epoch 61, Training loss 9.418388, Validation loss 1.572067\n",
      "Epoch 62, Training loss 9.417869, Validation loss 1.571964\n",
      "Epoch 63, Training loss 9.417347, Validation loss 1.571859\n",
      "Epoch 64, Training loss 9.416828, Validation loss 1.571756\n",
      "Epoch 65, Training loss 9.416318, Validation loss 1.571651\n",
      "Epoch 66, Training loss 9.415795, Validation loss 1.571546\n",
      "Epoch 67, Training loss 9.415277, Validation loss 1.571445\n",
      "Epoch 68, Training loss 9.414761, Validation loss 1.571340\n",
      "Epoch 69, Training loss 9.414249, Validation loss 1.571235\n",
      "Epoch 70, Training loss 9.413729, Validation loss 1.571132\n",
      "Epoch 71, Training loss 9.413212, Validation loss 1.571027\n",
      "Epoch 72, Training loss 9.412689, Validation loss 1.570922\n",
      "Epoch 73, Training loss 9.412179, Validation loss 1.570831\n",
      "Epoch 74, Training loss 9.411663, Validation loss 1.570726\n",
      "Epoch 75, Training loss 9.411137, Validation loss 1.570611\n",
      "Epoch 76, Training loss 9.410622, Validation loss 1.570508\n",
      "Epoch 77, Training loss 9.410108, Validation loss 1.570403\n",
      "Epoch 78, Training loss 9.409598, Validation loss 1.570300\n",
      "Epoch 79, Training loss 9.409074, Validation loss 1.570195\n",
      "Epoch 80, Training loss 9.408555, Validation loss 1.570103\n",
      "Epoch 81, Training loss 9.408047, Validation loss 1.569999\n",
      "Epoch 82, Training loss 9.407521, Validation loss 1.569894\n",
      "Epoch 83, Training loss 9.407004, Validation loss 1.569779\n",
      "Epoch 84, Training loss 9.406470, Validation loss 1.569663\n",
      "Epoch 85, Training loss 9.405954, Validation loss 1.569571\n",
      "Epoch 86, Training loss 9.405440, Validation loss 1.569466\n",
      "Epoch 87, Training loss 9.404927, Validation loss 1.569363\n",
      "Epoch 88, Training loss 9.404399, Validation loss 1.569258\n",
      "Epoch 89, Training loss 9.403892, Validation loss 1.569166\n",
      "Epoch 90, Training loss 9.403374, Validation loss 1.569052\n",
      "Epoch 91, Training loss 9.402863, Validation loss 1.568947\n",
      "Epoch 92, Training loss 9.402351, Validation loss 1.568844\n",
      "Epoch 93, Training loss 9.401834, Validation loss 1.568739\n",
      "Epoch 94, Training loss 9.401319, Validation loss 1.568647\n",
      "Epoch 95, Training loss 9.400797, Validation loss 1.568544\n",
      "Epoch 96, Training loss 9.400290, Validation loss 1.568439\n",
      "Epoch 97, Training loss 9.399771, Validation loss 1.568324\n",
      "Epoch 98, Training loss 9.399248, Validation loss 1.568220\n",
      "Epoch 99, Training loss 9.398744, Validation loss 1.568128\n"
     ]
    },
    {
     "data": {
      "text/plain": [
       "tensor([4.7196, 0.3438], requires_grad=True)"
      ]
     },
     "execution_count": 70,
     "metadata": {},
     "output_type": "execute_result"
    }
   ],
   "source": [
    "for epoch in range(nepochs):\n",
    "    \n",
    "    # forward pass\n",
    "    t_p_train = model(t_un_train, *params)\n",
    "    loss_train = loss_fn(t_p_train, t_c_train)\n",
    "\n",
    "    t_p_val = model(t_un_val, *params)\n",
    "    loss_val = loss_fn(t_p_val, t_c_val)\n",
    "\n",
    "    print('Epoch %d, Training loss %f, Validation loss %f' % (epoch, float(loss_train), \n",
    "                                                              float(loss_val)))\n",
    "        \n",
    "    # backward pass\n",
    "    optimizer.zero_grad()\n",
    "    loss_train.backward()    \n",
    "    optimizer.step()\n",
    "\n",
    "t_p = model(t_un, *params)\n",
    "\n",
    "params"
   ]
  },
  {
   "cell_type": "code",
   "execution_count": 71,
   "metadata": {},
   "outputs": [
    {
     "name": "stdout",
     "output_type": "stream",
     "text": [
      "Epoch 0, Training loss 9.398232, Validation loss 1.568023\n",
      "Epoch 1, Training loss 9.397709, Validation loss 1.567920\n",
      "Epoch 2, Training loss 9.397176, Validation loss 1.567803\n",
      "Epoch 3, Training loss 9.396658, Validation loss 1.567711\n",
      "Epoch 4, Training loss 9.396147, Validation loss 1.567597\n",
      "Epoch 5, Training loss 9.395639, Validation loss 1.567492\n",
      "Epoch 6, Training loss 9.395123, Validation loss 1.567400\n",
      "Epoch 7, Training loss 9.394602, Validation loss 1.567297\n",
      "Epoch 8, Training loss 9.394090, Validation loss 1.567192\n",
      "Epoch 9, Training loss 9.393573, Validation loss 1.567088\n",
      "Epoch 10, Training loss 9.393056, Validation loss 1.566984\n",
      "Epoch 11, Training loss 9.392548, Validation loss 1.566869\n",
      "Epoch 12, Training loss 9.392039, Validation loss 1.566776\n",
      "Epoch 13, Training loss 9.391503, Validation loss 1.566661\n",
      "Epoch 14, Training loss 9.390981, Validation loss 1.566569\n",
      "Epoch 15, Training loss 9.390476, Validation loss 1.566464\n",
      "Epoch 16, Training loss 9.389967, Validation loss 1.566361\n",
      "Epoch 17, Training loss 9.389445, Validation loss 1.566256\n",
      "Epoch 18, Training loss 9.388927, Validation loss 1.566153\n",
      "Epoch 19, Training loss 9.388412, Validation loss 1.566051\n",
      "Epoch 20, Training loss 9.387904, Validation loss 1.565946\n",
      "Epoch 21, Training loss 9.387395, Validation loss 1.565854\n",
      "Epoch 22, Training loss 9.386859, Validation loss 1.565738\n",
      "Epoch 23, Training loss 9.386347, Validation loss 1.565634\n",
      "Epoch 24, Training loss 9.385840, Validation loss 1.565541\n",
      "Epoch 25, Training loss 9.385320, Validation loss 1.565427\n",
      "Epoch 26, Training loss 9.384801, Validation loss 1.565323\n",
      "Epoch 27, Training loss 9.384303, Validation loss 1.565233\n",
      "Epoch 28, Training loss 9.383784, Validation loss 1.565128\n",
      "Epoch 29, Training loss 9.383252, Validation loss 1.565011\n",
      "Epoch 30, Training loss 9.382742, Validation loss 1.564920\n",
      "Epoch 31, Training loss 9.382236, Validation loss 1.564816\n",
      "Epoch 32, Training loss 9.381718, Validation loss 1.564700\n",
      "Epoch 33, Training loss 9.381195, Validation loss 1.564597\n",
      "Epoch 34, Training loss 9.380691, Validation loss 1.564505\n",
      "Epoch 35, Training loss 9.380160, Validation loss 1.564388\n",
      "Epoch 36, Training loss 9.379640, Validation loss 1.564298\n",
      "Epoch 37, Training loss 9.379136, Validation loss 1.564193\n",
      "Epoch 38, Training loss 9.378618, Validation loss 1.564088\n",
      "Epoch 39, Training loss 9.378119, Validation loss 1.563987\n",
      "Epoch 40, Training loss 9.377602, Validation loss 1.563882\n",
      "Epoch 41, Training loss 9.377069, Validation loss 1.563765\n",
      "Epoch 42, Training loss 9.376556, Validation loss 1.563675\n",
      "Epoch 43, Training loss 9.376049, Validation loss 1.563570\n",
      "Epoch 44, Training loss 9.375533, Validation loss 1.563466\n",
      "Epoch 45, Training loss 9.375024, Validation loss 1.563375\n",
      "Epoch 46, Training loss 9.374489, Validation loss 1.563247\n",
      "Epoch 47, Training loss 9.373986, Validation loss 1.563155\n",
      "Epoch 48, Training loss 9.373478, Validation loss 1.563053\n",
      "Epoch 49, Training loss 9.372955, Validation loss 1.562948\n",
      "Epoch 50, Training loss 9.372449, Validation loss 1.562856\n",
      "Epoch 51, Training loss 9.371923, Validation loss 1.562740\n",
      "Epoch 52, Training loss 9.371409, Validation loss 1.562638\n",
      "Epoch 53, Training loss 9.370897, Validation loss 1.562533\n",
      "Epoch 54, Training loss 9.370387, Validation loss 1.562443\n",
      "Epoch 55, Training loss 9.369875, Validation loss 1.562338\n",
      "Epoch 56, Training loss 9.369344, Validation loss 1.562221\n",
      "Epoch 57, Training loss 9.368840, Validation loss 1.562131\n",
      "Epoch 58, Training loss 9.368328, Validation loss 1.562026\n",
      "Epoch 59, Training loss 9.367822, Validation loss 1.561911\n",
      "Epoch 60, Training loss 9.367290, Validation loss 1.561808\n",
      "Epoch 61, Training loss 9.366776, Validation loss 1.561716\n",
      "Epoch 62, Training loss 9.366268, Validation loss 1.561611\n",
      "Epoch 63, Training loss 9.365765, Validation loss 1.561509\n",
      "Epoch 64, Training loss 9.365229, Validation loss 1.561404\n",
      "Epoch 65, Training loss 9.364722, Validation loss 1.561289\n",
      "Epoch 66, Training loss 9.364215, Validation loss 1.561196\n",
      "Epoch 67, Training loss 9.363701, Validation loss 1.561094\n",
      "Epoch 68, Training loss 9.363170, Validation loss 1.560977\n",
      "Epoch 69, Training loss 9.362665, Validation loss 1.560885\n",
      "Epoch 70, Training loss 9.362157, Validation loss 1.560794\n",
      "Epoch 71, Training loss 9.361649, Validation loss 1.560690\n",
      "Epoch 72, Training loss 9.361111, Validation loss 1.560562\n",
      "Epoch 73, Training loss 9.360608, Validation loss 1.560472\n",
      "Epoch 74, Training loss 9.360094, Validation loss 1.560380\n",
      "Epoch 75, Training loss 9.359592, Validation loss 1.560275\n",
      "Epoch 76, Training loss 9.359062, Validation loss 1.560160\n",
      "Epoch 77, Training loss 9.358554, Validation loss 1.560068\n",
      "Epoch 78, Training loss 9.358041, Validation loss 1.559964\n",
      "Epoch 79, Training loss 9.357536, Validation loss 1.559850\n",
      "Epoch 80, Training loss 9.356995, Validation loss 1.559746\n",
      "Epoch 81, Training loss 9.356498, Validation loss 1.559654\n",
      "Epoch 82, Training loss 9.355994, Validation loss 1.559551\n",
      "Epoch 83, Training loss 9.355462, Validation loss 1.559446\n",
      "Epoch 84, Training loss 9.354951, Validation loss 1.559342\n",
      "Epoch 85, Training loss 9.354447, Validation loss 1.559241\n",
      "Epoch 86, Training loss 9.353942, Validation loss 1.559137\n",
      "Epoch 87, Training loss 9.353414, Validation loss 1.559019\n",
      "Epoch 88, Training loss 9.352899, Validation loss 1.558929\n",
      "Epoch 89, Training loss 9.352403, Validation loss 1.558825\n",
      "Epoch 90, Training loss 9.351862, Validation loss 1.558720\n",
      "Epoch 91, Training loss 9.351357, Validation loss 1.558618\n",
      "Epoch 92, Training loss 9.350855, Validation loss 1.558515\n",
      "Epoch 93, Training loss 9.350322, Validation loss 1.558411\n",
      "Epoch 94, Training loss 9.349821, Validation loss 1.558306\n",
      "Epoch 95, Training loss 9.349320, Validation loss 1.558216\n",
      "Epoch 96, Training loss 9.348777, Validation loss 1.558099\n",
      "Epoch 97, Training loss 9.348280, Validation loss 1.558007\n",
      "Epoch 98, Training loss 9.347777, Validation loss 1.557893\n",
      "Epoch 99, Training loss 9.347238, Validation loss 1.557789\n"
     ]
    },
    {
     "data": {
      "text/plain": [
       "tensor([4.7144, 0.4154], requires_grad=True)"
      ]
     },
     "execution_count": 71,
     "metadata": {},
     "output_type": "execute_result"
    }
   ],
   "source": [
    "for epoch in range(nepochs):\n",
    "    \n",
    "    # forward pass\n",
    "    t_p_train = model(t_un_train, *params)\n",
    "    loss_train = loss_fn(t_p_train, t_c_train)\n",
    "\n",
    "    with torch.no_grad():\n",
    "        t_p_val = model(t_un_val, *params)\n",
    "        loss_val = loss_fn(t_p_val, t_c_val)\n",
    "\n",
    "    print('Epoch %d, Training loss %f, Validation loss %f' % (epoch, float(loss_train), \n",
    "                                                              float(loss_val)))\n",
    "        \n",
    "    # backward pass\n",
    "    optimizer.zero_grad()\n",
    "    loss_train.backward()    \n",
    "    optimizer.step()\n",
    "\n",
    "params"
   ]
  },
  {
   "cell_type": "code",
   "execution_count": null,
   "metadata": {},
   "outputs": [],
   "source": []
  }
 ],
 "metadata": {
  "kernelspec": {
   "display_name": "Python 3 (ipykernel)",
   "language": "python",
   "name": "python3"
  },
  "language_info": {
   "codemirror_mode": {
    "name": "ipython",
    "version": 3
   },
   "file_extension": ".py",
   "mimetype": "text/x-python",
   "name": "python",
   "nbconvert_exporter": "python",
   "pygments_lexer": "ipython3",
   "version": "3.8.5"
  }
 },
 "nbformat": 4,
 "nbformat_minor": 2
}
