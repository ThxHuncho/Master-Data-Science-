{
 "cells": [
  {
   "cell_type": "markdown",
   "id": "d8b692dd",
   "metadata": {},
   "source": [
    "# TP1 Apprentissage non supervisée"
   ]
  },
  {
   "cell_type": "markdown",
   "id": "918404d2",
   "metadata": {},
   "source": [
    "#### Réalisé par : Jean-philippe Cédric N'DRI / Héline MOREIRA / Solène MARTINI"
   ]
  },
  {
   "cell_type": "markdown",
   "id": "116e682e",
   "metadata": {},
   "source": [
    "### Dévelopeppement global des pays du monde selon des facteurs socio-économique et sanitaires"
   ]
  },
  {
   "cell_type": "raw",
   "id": "3cdffd49",
   "metadata": {},
   "source": [
    "On considère que le développement global des pays est caractérisé par son PIB. Ainsi cette étude permettre de classer les différents pays selon leur PIB"
   ]
  },
  {
   "cell_type": "markdown",
   "id": "a358415d",
   "metadata": {},
   "source": [
    "#### Variables du data set"
   ]
  },
  {
   "cell_type": "raw",
   "id": "201e930d",
   "metadata": {},
   "source": [
    "Country = Nom du pays \n",
    "Child_mort = Décès d'enfants de moins de 5 (pour 1000 naissances)\n",
    "Exports = Exportations de biens et services par habitant (% PIB par habitant) \n",
    "Health = Dépenses totales en santé par habitant (% PIB par habitant) \n",
    "Imports = Importations de biens et services par habitant (% PIB par habitant)\n",
    "Income = Revenu net par personne\n",
    "Inflation = Taux de croissance annuel du PIB totale\n",
    "Life_expec = Prévision de l'âge moyen d'un nouveau né (selon le taux de mortalité actuelle) \n",
    "Total_fer = Prévision du nombre d'enfants par femme (selon le taux de fécondité actuelle par âge)\n",
    "Gdpp = PIB par habitant"
   ]
  },
  {
   "cell_type": "markdown",
   "id": "82b00efc",
   "metadata": {},
   "source": [
    "## Importation des librairies et création d'une fonction"
   ]
  },
  {
   "cell_type": "markdown",
   "id": "c9fc7b58",
   "metadata": {},
   "source": [
    "### Importation"
   ]
  },
  {
   "cell_type": "code",
   "execution_count": 1,
   "id": "b5d8c93b",
   "metadata": {},
   "outputs": [],
   "source": [
    "import numpy as np\n",
    "np.set_printoptions(threshold=10000,suppress=True)\n",
    "#permet d'afficher toutes les lignes\n",
    "#suppress -> chiffres en notation normal et pas en format scientifique\n",
    "import pandas as pd\n",
    "import warnings\n",
    "import matplotlib.pyplot as plt\n",
    "warnings.filterwarnings('ignore')"
   ]
  },
  {
   "cell_type": "markdown",
   "id": "87561e8e",
   "metadata": {},
   "source": [
    "### Création d'une fonction"
   ]
  },
  {
   "cell_type": "code",
   "execution_count": 2,
   "id": "0260913b",
   "metadata": {},
   "outputs": [],
   "source": [
    "#Fonction permettant de visualiser le poids des features pour chacun des axes\n",
    "import matplotlib.colors as colors\n",
    "from matplotlib.cm import bwr as cmap\n",
    "import matplotlib.patches as mpatches\n",
    "\n",
    "def print_top_comp(components, feature_names, n_top_comp):\n",
    "    taille=feature_names.shape[0]\n",
    "    seuil=1/np.sqrt(taille)\n",
    "    for comp_idx, topic in enumerate(components):\n",
    "        Y=np.abs(topic)\n",
    "        feature_pos=feature_names[topic>seuil]\n",
    "        feature_neg=feature_names[topic<=-seuil]\n",
    "        n_top_comp_pos=min(n_top_comp,feature_pos.shape[0])\n",
    "        n_top_comp_neg=min(n_top_comp,feature_neg.shape[0])\n",
    "\n",
    "\n",
    "        feature_pos=feature_names[topic.argsort()[::-1][:n_top_comp_pos]]\n",
    "        feature_neg=feature_names[topic.argsort()[:n_top_comp_neg]]\n",
    "        fea=np.concatenate((feature_pos,feature_neg))\n",
    "        com_pos=np.sort(topic)[::-1][:n_top_comp_pos]\n",
    "        com_neg=np.sort(topic)[:n_top_comp_neg]\n",
    "        com=np.concatenate((com_pos,com_neg))\n",
    "\n",
    "                \n",
    "        c_normal = colors.PowerNorm(1,vmin=min(com),vmax=max(com))\n",
    "        _COLORS = cmap(c_normal(com))\n",
    "\n",
    "      \n",
    "        components = pd.DataFrame(np.array(com),index =fea) \n",
    "        fig, ax = plt.subplots(figsize = (5,3))\n",
    "        # Plot the feature weights as a function of the components\n",
    "        components.plot(ax = ax, kind = 'bar',align = \"center\", color=_COLORS)\n",
    "        #plt.xlabel(\"Dimension #%d \" % comp_idx)\n",
    "        ax.set_ylabel(\"Feature Weights\") \n",
    "        red_patch = mpatches.Patch(color='red',label=\"Axe-%d \" % (comp_idx+1))\n",
    "        ax.legend(handles=[red_patch], loc = 2 , bbox_to_anchor=(1,1))\n",
    "        plt.show()"
   ]
  },
  {
   "cell_type": "markdown",
   "id": "3b98c5da",
   "metadata": {},
   "source": [
    "# Réalisation d'une ACP (Analyse en Composantes Principales)"
   ]
  },
  {
   "cell_type": "markdown",
   "id": "182f3a77",
   "metadata": {},
   "source": [
    "## Réduction de dimensions et Visualisation des données"
   ]
  },
  {
   "cell_type": "markdown",
   "id": "50b8a772",
   "metadata": {},
   "source": [
    "##### Importation et lecture du jeu de données"
   ]
  },
  {
   "cell_type": "code",
   "execution_count": 3,
   "id": "bbcd8106",
   "metadata": {},
   "outputs": [
    {
     "data": {
      "text/html": [
       "<div>\n",
       "<style scoped>\n",
       "    .dataframe tbody tr th:only-of-type {\n",
       "        vertical-align: middle;\n",
       "    }\n",
       "\n",
       "    .dataframe tbody tr th {\n",
       "        vertical-align: top;\n",
       "    }\n",
       "\n",
       "    .dataframe thead th {\n",
       "        text-align: right;\n",
       "    }\n",
       "</style>\n",
       "<table border=\"1\" class=\"dataframe\">\n",
       "  <thead>\n",
       "    <tr style=\"text-align: right;\">\n",
       "      <th></th>\n",
       "      <th>country</th>\n",
       "      <th>child_mort</th>\n",
       "      <th>exports</th>\n",
       "      <th>health</th>\n",
       "      <th>imports</th>\n",
       "      <th>income</th>\n",
       "      <th>inflation</th>\n",
       "      <th>life_expec</th>\n",
       "      <th>total_fer</th>\n",
       "      <th>gdpp</th>\n",
       "    </tr>\n",
       "  </thead>\n",
       "  <tbody>\n",
       "    <tr>\n",
       "      <th>0</th>\n",
       "      <td>Afghanistan</td>\n",
       "      <td>90.2</td>\n",
       "      <td>10.0</td>\n",
       "      <td>7.58</td>\n",
       "      <td>44.9</td>\n",
       "      <td>1610</td>\n",
       "      <td>9.440</td>\n",
       "      <td>56.2</td>\n",
       "      <td>5.82</td>\n",
       "      <td>553</td>\n",
       "    </tr>\n",
       "    <tr>\n",
       "      <th>1</th>\n",
       "      <td>Albania</td>\n",
       "      <td>16.6</td>\n",
       "      <td>28.0</td>\n",
       "      <td>6.55</td>\n",
       "      <td>48.6</td>\n",
       "      <td>9930</td>\n",
       "      <td>4.490</td>\n",
       "      <td>76.3</td>\n",
       "      <td>1.65</td>\n",
       "      <td>4090</td>\n",
       "    </tr>\n",
       "    <tr>\n",
       "      <th>2</th>\n",
       "      <td>Algeria</td>\n",
       "      <td>27.3</td>\n",
       "      <td>38.4</td>\n",
       "      <td>4.17</td>\n",
       "      <td>31.4</td>\n",
       "      <td>12900</td>\n",
       "      <td>16.100</td>\n",
       "      <td>76.5</td>\n",
       "      <td>2.89</td>\n",
       "      <td>4460</td>\n",
       "    </tr>\n",
       "    <tr>\n",
       "      <th>3</th>\n",
       "      <td>Angola</td>\n",
       "      <td>119.0</td>\n",
       "      <td>62.3</td>\n",
       "      <td>2.85</td>\n",
       "      <td>42.9</td>\n",
       "      <td>5900</td>\n",
       "      <td>22.400</td>\n",
       "      <td>60.1</td>\n",
       "      <td>6.16</td>\n",
       "      <td>3530</td>\n",
       "    </tr>\n",
       "    <tr>\n",
       "      <th>4</th>\n",
       "      <td>Antigua and Barbuda</td>\n",
       "      <td>10.3</td>\n",
       "      <td>45.5</td>\n",
       "      <td>6.03</td>\n",
       "      <td>58.9</td>\n",
       "      <td>19100</td>\n",
       "      <td>1.440</td>\n",
       "      <td>76.8</td>\n",
       "      <td>2.13</td>\n",
       "      <td>12200</td>\n",
       "    </tr>\n",
       "    <tr>\n",
       "      <th>5</th>\n",
       "      <td>Argentina</td>\n",
       "      <td>14.5</td>\n",
       "      <td>18.9</td>\n",
       "      <td>8.10</td>\n",
       "      <td>16.0</td>\n",
       "      <td>18700</td>\n",
       "      <td>20.900</td>\n",
       "      <td>75.8</td>\n",
       "      <td>2.37</td>\n",
       "      <td>10300</td>\n",
       "    </tr>\n",
       "    <tr>\n",
       "      <th>6</th>\n",
       "      <td>Armenia</td>\n",
       "      <td>18.1</td>\n",
       "      <td>20.8</td>\n",
       "      <td>4.40</td>\n",
       "      <td>45.3</td>\n",
       "      <td>6700</td>\n",
       "      <td>7.770</td>\n",
       "      <td>73.3</td>\n",
       "      <td>1.69</td>\n",
       "      <td>3220</td>\n",
       "    </tr>\n",
       "    <tr>\n",
       "      <th>7</th>\n",
       "      <td>Australia</td>\n",
       "      <td>4.8</td>\n",
       "      <td>19.8</td>\n",
       "      <td>8.73</td>\n",
       "      <td>20.9</td>\n",
       "      <td>41400</td>\n",
       "      <td>1.160</td>\n",
       "      <td>82.0</td>\n",
       "      <td>1.93</td>\n",
       "      <td>51900</td>\n",
       "    </tr>\n",
       "    <tr>\n",
       "      <th>8</th>\n",
       "      <td>Austria</td>\n",
       "      <td>4.3</td>\n",
       "      <td>51.3</td>\n",
       "      <td>11.00</td>\n",
       "      <td>47.8</td>\n",
       "      <td>43200</td>\n",
       "      <td>0.873</td>\n",
       "      <td>80.5</td>\n",
       "      <td>1.44</td>\n",
       "      <td>46900</td>\n",
       "    </tr>\n",
       "    <tr>\n",
       "      <th>9</th>\n",
       "      <td>Azerbaijan</td>\n",
       "      <td>39.2</td>\n",
       "      <td>54.3</td>\n",
       "      <td>5.88</td>\n",
       "      <td>20.7</td>\n",
       "      <td>16000</td>\n",
       "      <td>13.800</td>\n",
       "      <td>69.1</td>\n",
       "      <td>1.92</td>\n",
       "      <td>5840</td>\n",
       "    </tr>\n",
       "  </tbody>\n",
       "</table>\n",
       "</div>"
      ],
      "text/plain": [
       "               country  child_mort  exports  health  imports  income  \\\n",
       "0          Afghanistan        90.2     10.0    7.58     44.9    1610   \n",
       "1              Albania        16.6     28.0    6.55     48.6    9930   \n",
       "2              Algeria        27.3     38.4    4.17     31.4   12900   \n",
       "3               Angola       119.0     62.3    2.85     42.9    5900   \n",
       "4  Antigua and Barbuda        10.3     45.5    6.03     58.9   19100   \n",
       "5            Argentina        14.5     18.9    8.10     16.0   18700   \n",
       "6              Armenia        18.1     20.8    4.40     45.3    6700   \n",
       "7            Australia         4.8     19.8    8.73     20.9   41400   \n",
       "8              Austria         4.3     51.3   11.00     47.8   43200   \n",
       "9           Azerbaijan        39.2     54.3    5.88     20.7   16000   \n",
       "\n",
       "   inflation  life_expec  total_fer   gdpp  \n",
       "0      9.440        56.2       5.82    553  \n",
       "1      4.490        76.3       1.65   4090  \n",
       "2     16.100        76.5       2.89   4460  \n",
       "3     22.400        60.1       6.16   3530  \n",
       "4      1.440        76.8       2.13  12200  \n",
       "5     20.900        75.8       2.37  10300  \n",
       "6      7.770        73.3       1.69   3220  \n",
       "7      1.160        82.0       1.93  51900  \n",
       "8      0.873        80.5       1.44  46900  \n",
       "9     13.800        69.1       1.92   5840  "
      ]
     },
     "execution_count": 3,
     "metadata": {},
     "output_type": "execute_result"
    }
   ],
   "source": [
    "data = pd.read_csv('./Country-data.csv', sep=',')\n",
    "X = data.iloc[:, 1:10].values\n",
    "labels = data.iloc[:, 0].values\n",
    "\n",
    "data.head(10) "
   ]
  },
  {
   "cell_type": "code",
   "execution_count": 4,
   "id": "3d731b4a",
   "metadata": {},
   "outputs": [],
   "source": [
    "#On retire le PIB de notre jeu de données correspondant à notre label (variable à expliquer)\n",
    "PIB=X[:,8]\n",
    "X=X[:,:8]"
   ]
  },
  {
   "cell_type": "code",
   "execution_count": 8,
   "id": "16644a2c",
   "metadata": {},
   "outputs": [],
   "source": [
    "#On créer des classes \n",
    "PIB[PIB<10000]=0\n",
    "PIB[(PIB<20000) & (PIB>=10000)]=1\n",
    "PIB[PIB>=20000]=2"
   ]
  },
  {
   "cell_type": "markdown",
   "id": "d49c25f2",
   "metadata": {},
   "source": [
    "##### Normalisation"
   ]
  },
  {
   "cell_type": "code",
   "execution_count": 9,
   "id": "34fe3e62",
   "metadata": {},
   "outputs": [],
   "source": [
    "# Importer des fonctions contenues dans des packages de la librairie sklearn\n",
    "from sklearn.preprocessing import StandardScaler \n",
    "from sklearn.decomposition import PCA \n",
    "\n",
    "# Instancer la classe / Normalisation\n",
    "SS = StandardScaler() \n",
    "\n",
    "SS.fit(X) \n",
    "\n",
    "#Matrice des individus transformée\n",
    "Xnorm = SS.transform(X)"
   ]
  },
  {
   "cell_type": "raw",
   "id": "7d64719c",
   "metadata": {},
   "source": [
    "Ensemble des caractéristiques normées correspondant au pays de l'Afghanistan\n",
    "(Première valeur du dataset)"
   ]
  },
  {
   "cell_type": "code",
   "execution_count": 10,
   "id": "8fd268e5",
   "metadata": {},
   "outputs": [
    {
     "data": {
      "text/plain": [
       "array([ 1.29153238, -1.13827979,  0.27908825, -0.08245496, -0.8082454 ,\n",
       "        0.15733622, -1.61909203,  1.90288227])"
      ]
     },
     "execution_count": 10,
     "metadata": {},
     "output_type": "execute_result"
    }
   ],
   "source": [
    "Xnorm[0,:] "
   ]
  },
  {
   "cell_type": "markdown",
   "id": "5f370f0d",
   "metadata": {},
   "source": [
    "##### Analyse en Composantes Principales (PCA)"
   ]
  },
  {
   "cell_type": "code",
   "execution_count": 11,
   "id": "bdebe476",
   "metadata": {},
   "outputs": [
    {
     "data": {
      "text/plain": [
       "PCA(n_components=0.7)"
      ]
     },
     "execution_count": 11,
     "metadata": {},
     "output_type": "execute_result"
    }
   ],
   "source": [
    "#On conserve au moins 70% d'informations de nos données\n",
    "pca= PCA(n_components=0.7)\n",
    "\n",
    "#Calcul des valeurs propres\n",
    "pca.fit(Xnorm)"
   ]
  },
  {
   "cell_type": "raw",
   "id": "12f1bc5e",
   "metadata": {},
   "source": [
    "Au moins 70% des informations est atteint en utilisant 3 axes."
   ]
  },
  {
   "cell_type": "code",
   "execution_count": 12,
   "id": "4da9b839",
   "metadata": {},
   "outputs": [
    {
     "data": {
      "text/plain": [
       "array([3.59615705, 1.55324696, 1.17038164])"
      ]
     },
     "execution_count": 12,
     "metadata": {},
     "output_type": "execute_result"
    }
   ],
   "source": [
    "#Valeurs propres\n",
    "pca.explained_variance_"
   ]
  },
  {
   "cell_type": "code",
   "execution_count": 13,
   "id": "44b54a4a",
   "metadata": {},
   "outputs": [
    {
     "data": {
      "text/plain": [
       "array([0.4468279 , 0.19299326, 0.14542167])"
      ]
     },
     "execution_count": 13,
     "metadata": {},
     "output_type": "execute_result"
    }
   ],
   "source": [
    "#Pourcentage de la variance expliquée\n",
    "pca.explained_variance_ratio_"
   ]
  },
  {
   "cell_type": "raw",
   "id": "c6946651",
   "metadata": {},
   "source": [
    "Ainsi en conservant ces 3 axes, on peut 79% de la variance est expliquée. "
   ]
  },
  {
   "cell_type": "markdown",
   "id": "7bc548d4",
   "metadata": {},
   "source": [
    "##### Interprétation des axes"
   ]
  },
  {
   "cell_type": "code",
   "execution_count": 14,
   "id": "e12050e9",
   "metadata": {},
   "outputs": [
    {
     "data": {
      "text/plain": [
       "0.35355339059327373"
      ]
     },
     "execution_count": 14,
     "metadata": {},
     "output_type": "execute_result"
    }
   ],
   "source": [
    "#Calcul du critère\n",
    "1/np.sqrt(8)"
   ]
  },
  {
   "cell_type": "code",
   "execution_count": 15,
   "id": "52b9bfa5",
   "metadata": {
    "scrolled": true
   },
   "outputs": [
    {
     "data": {
      "text/plain": [
       "array([[-0.47287988,  0.30839609,  0.14456816,  0.19464001,  0.38678706,\n",
       "        -0.22047498,  0.46419134, -0.45695156],\n",
       "       [ 0.21412406,  0.60837422, -0.24160817,  0.66113128,  0.03120652,\n",
       "         0.00577075, -0.23734341,  0.17670197],\n",
       "       [-0.09998804,  0.14603735, -0.64740271, -0.28525732,  0.24777586,\n",
       "         0.6157768 ,  0.15808191, -0.05108475]])"
      ]
     },
     "execution_count": 15,
     "metadata": {},
     "output_type": "execute_result"
    }
   ],
   "source": [
    "#Poids de chaque variables\n",
    "pca.components_"
   ]
  },
  {
   "cell_type": "markdown",
   "id": "1bd60302",
   "metadata": {},
   "source": [
    "##### AXE 1"
   ]
  },
  {
   "cell_type": "code",
   "execution_count": 16,
   "id": "ad5db569",
   "metadata": {},
   "outputs": [
    {
     "data": {
      "text/plain": [
       "array([-0.47287988,  0.30839609,  0.14456816,  0.19464001,  0.38678706,\n",
       "       -0.22047498,  0.46419134, -0.45695156])"
      ]
     },
     "execution_count": 16,
     "metadata": {},
     "output_type": "execute_result"
    }
   ],
   "source": [
    "pca.components_[0,:]"
   ]
  },
  {
   "cell_type": "markdown",
   "id": "80f71559",
   "metadata": {},
   "source": [
    "##### AXE 2"
   ]
  },
  {
   "cell_type": "code",
   "execution_count": 17,
   "id": "0bfa49bb",
   "metadata": {},
   "outputs": [
    {
     "data": {
      "text/plain": [
       "array([ 0.21412406,  0.60837422, -0.24160817,  0.66113128,  0.03120652,\n",
       "        0.00577075, -0.23734341,  0.17670197])"
      ]
     },
     "execution_count": 17,
     "metadata": {},
     "output_type": "execute_result"
    }
   ],
   "source": [
    "pca.components_[1,:]"
   ]
  },
  {
   "cell_type": "markdown",
   "id": "3c00fd37",
   "metadata": {},
   "source": [
    "##### AXE 3"
   ]
  },
  {
   "cell_type": "code",
   "execution_count": 18,
   "id": "a6eb50e4",
   "metadata": {},
   "outputs": [
    {
     "data": {
      "text/plain": [
       "array([-0.09998804,  0.14603735, -0.64740271, -0.28525732,  0.24777586,\n",
       "        0.6157768 ,  0.15808191, -0.05108475])"
      ]
     },
     "execution_count": 18,
     "metadata": {},
     "output_type": "execute_result"
    }
   ],
   "source": [
    "pca.components_[2,:]"
   ]
  },
  {
   "cell_type": "raw",
   "id": "75e4d247",
   "metadata": {},
   "source": [
    "Avec un critère de 0.35, nous allons sélectionner les variables ayant une valeur absolue supérieure à celui-ci. \n",
    "\n",
    "AXE 1 : \n",
    "Positif -> Income, Life_expec\n",
    "Négatif -> Child_mort, total_fer\n",
    "L'axe 1 est expliqué positivement (vers la droite) par le revenu net et l'âge moyen des nouveau né. Et il est expliqué négativement (vers la gauche) par le nombre de décés d'enfant de moins de 5ans (pour 1000 naissances) et le taux de natalité. \n",
    "Les pays les plus développés (avec un fort PIB) seront vers la droite, alors que les pays les moins développés (avec un faible PIB) seront vers la gauche.\n",
    "\n",
    "AXE 2 : \n",
    "Positif -> Export, Import\n",
    "L'axe 2 est expliqué positivement (vers haut en vertical) par les variables d'exportations et d'importations de biens et services par habitants. \n",
    "\n",
    "AXE 3 :  \n",
    "Positif -> Inflation \n",
    "Négatif -> Health\n",
    "L'axe 3 est expliqué positivement (en profondeur) par l'inflation et négativement par les dépenses totales liées à la santé. "
   ]
  },
  {
   "cell_type": "markdown",
   "id": "9df5f8cd",
   "metadata": {},
   "source": [
    "##### Cercle de corrélation"
   ]
  },
  {
   "cell_type": "code",
   "execution_count": 19,
   "id": "674eade9",
   "metadata": {},
   "outputs": [
    {
     "data": {
      "text/plain": [
       "Text(0.5, 1.0, 'Cercle de corrélation')"
      ]
     },
     "execution_count": 19,
     "metadata": {},
     "output_type": "execute_result"
    },
    {
     "data": {
      "image/png": "[encoded data removed]",
      "text/plain": [
       "<Figure size 720x720 with 1 Axes>"
      ]
     },
     "metadata": {
      "needs_background": "light"
     },
     "output_type": "display_data"
    }
   ],
   "source": [
    "coef = np.transpose(pca.components_)\n",
    "cols = ['y'+str(x+1) for x in range(3)]\n",
    "\n",
    "pc_infos = pd.DataFrame(coef, columns=cols, index=data.iloc[:,1:-1].columns)\n",
    "\n",
    "plt.Circle((0,0),radius=10, color='g', fill=False)\n",
    "circle1=plt.Circle((0,0),radius=1, color='g', fill=False)\n",
    "# Ajouter les axes et donner la limite pour chaque axe\n",
    "fig, axes= plt.subplots(figsize=(10,10))\n",
    "axes.set_xlim(-1,1)\n",
    "axes.set_ylim(-1,1)\n",
    "fig.gca().add_artist(circle1)\n",
    "plt.plot([-1,1],[0,0],color='silver',linestyle='-',linewidth=1)\n",
    "plt.plot([0,0],[-1,1],color='silver',linestyle='-',linewidth=1)\n",
    "axes.add_artist(circle1)\n",
    "# Affichage de chaque variable explicative dans la cercle\n",
    "for idx in range(len(pc_infos[\"y1\"])):\n",
    "    x = pc_infos[\"y1\"][idx]\n",
    "    y = pc_infos[\"y2\"][idx]\n",
    "    plt.plot([0.0,x],[0.0,y],'k-')\n",
    "    plt.plot(x, y, 'rx')\n",
    "    plt.annotate(pc_infos.index[idx], xy=(x,y))\n",
    "plt.xlim((-1,1))\n",
    "plt.ylim((-1,1))\n",
    "plt.title(\"Cercle de corrélation\")"
   ]
  },
  {
   "cell_type": "raw",
   "id": "ace186a8",
   "metadata": {},
   "source": [
    "Le cercle de corrélation confirme la présence de chacune des variables qui expliquent le PIB."
   ]
  },
  {
   "cell_type": "markdown",
   "id": "fc3a74a7",
   "metadata": {},
   "source": [
    "#### Poids des features pour chacun des axes"
   ]
  },
  {
   "cell_type": "code",
   "execution_count": 20,
   "id": "04a181d8",
   "metadata": {},
   "outputs": [
    {
     "data": {
      "image/png": "[encoded data removed]",
      "text/plain": [
       "<Figure size 360x216 with 1 Axes>"
      ]
     },
     "metadata": {
      "needs_background": "light"
     },
     "output_type": "display_data"
    },
    {
     "data": {
      "image/png": "[encoded data removed]",
      "text/plain": [
       "<Figure size 360x216 with 1 Axes>"
      ]
     },
     "metadata": {
      "needs_background": "light"
     },
     "output_type": "display_data"
    },
    {
     "data": {
      "image/png": "[encoded data removed]",
      "text/plain": [
       "<Figure size 360x216 with 1 Axes>"
      ]
     },
     "metadata": {
      "needs_background": "light"
     },
     "output_type": "display_data"
    }
   ],
   "source": [
    "print_top_comp(pca.components_,data.columns[1:9],3)"
   ]
  },
  {
   "cell_type": "raw",
   "id": "ea348fe9",
   "metadata": {},
   "source": [
    "Nous retrouvons le poids des features pour chaque axe qui corresponds aux features retrouvés précedemment. "
   ]
  },
  {
   "cell_type": "markdown",
   "id": "ccc27972",
   "metadata": {},
   "source": [
    "##### Projection des données sur les nouveaux axes"
   ]
  },
  {
   "cell_type": "code",
   "execution_count": 21,
   "id": "17435267",
   "metadata": {},
   "outputs": [],
   "source": [
    "X_pca=pca.transform(Xnorm)"
   ]
  },
  {
   "cell_type": "code",
   "execution_count": 22,
   "id": "f21daab0",
   "metadata": {
    "scrolled": true
   },
   "outputs": [],
   "source": [
    "#Creation d'un nouveau dataframe avec une variable supplémentaire : classe du PIB\n",
    "df = pd.DataFrame(np.concatenate((X_pca,PIB.reshape((-1,1))),axis=1),index=labels)"
   ]
  },
  {
   "cell_type": "markdown",
   "id": "4dc64e87",
   "metadata": {},
   "source": [
    "## Nuage de points"
   ]
  },
  {
   "cell_type": "markdown",
   "id": "c7434732",
   "metadata": {},
   "source": [
    "### Axe 1 et Axe 2 "
   ]
  },
  {
   "cell_type": "code",
   "execution_count": 1,
   "id": "863cfe6b",
   "metadata": {},
   "outputs": [],
   "source": [
    "from sklearn.metrics import silhouette_score "
   ]
  },
  {
   "cell_type": "code",
   "execution_count": 2,
   "id": "79182603",
   "metadata": {},
   "outputs": [
    {
     "ename": "ModuleNotFoundError",
     "evalue": "No module named 'plotly'",
     "output_type": "error",
     "traceback": [
      "\u001b[1;31m---------------------------------------------------------------------------\u001b[0m",
      "\u001b[1;31mModuleNotFoundError\u001b[0m                       Traceback (most recent call last)",
      "\u001b[1;32mC:\\Users\\JEANPH~1\\AppData\\Local\\Temp/ipykernel_10244/3773079639.py\u001b[0m in \u001b[0;36m<module>\u001b[1;34m\u001b[0m\n\u001b[1;32m----> 1\u001b[1;33m \u001b[1;32mimport\u001b[0m \u001b[0mplotly\u001b[0m\u001b[1;33m.\u001b[0m\u001b[0mexpress\u001b[0m \u001b[1;32mas\u001b[0m \u001b[0mpx\u001b[0m\u001b[1;33m\u001b[0m\u001b[1;33m\u001b[0m\u001b[0m\n\u001b[0m\u001b[0;32m      2\u001b[0m fig = px.scatter(df,\n\u001b[0;32m      3\u001b[0m \u001b[0mx\u001b[0m\u001b[1;33m=\u001b[0m\u001b[1;36m0\u001b[0m\u001b[1;33m,\u001b[0m\u001b[1;33m\u001b[0m\u001b[1;33m\u001b[0m\u001b[0m\n\u001b[0;32m      4\u001b[0m \u001b[0my\u001b[0m\u001b[1;33m=\u001b[0m\u001b[1;36m1\u001b[0m\u001b[1;33m,\u001b[0m\u001b[1;33m\u001b[0m\u001b[1;33m\u001b[0m\u001b[0m\n\u001b[0;32m      5\u001b[0m \u001b[0mtext\u001b[0m\u001b[1;33m=\u001b[0m\u001b[0mdf\u001b[0m\u001b[1;33m.\u001b[0m\u001b[0mindex\u001b[0m\u001b[1;33m,\u001b[0m\u001b[1;33m\u001b[0m\u001b[1;33m\u001b[0m\u001b[0m\n",
      "\u001b[1;31mModuleNotFoundError\u001b[0m: No module named 'plotly'"
     ]
    }
   ],
   "source": [
    "import plotly.express as px\n",
    "fig = px.scatter(df,\n",
    "x=0,\n",
    "y=1,\n",
    "text=df.index,\n",
    "color=PIB,\n",
    "width=1000,\n",
    "height=1000)\n",
    "fig"
   ]
  },
  {
   "cell_type": "raw",
   "id": "3e9cbec6",
   "metadata": {},
   "source": [
    "Sur ce nuage de points, les pays situés en haut à droite sont ceux qui présentent un fort revenu et des nouveaux-né en pleine forme ainsi un fort taux d'importations et d'exportations des biens et services. (C'est le cas par exemple de Singapor et du Luxembourg). \n",
    "Alors que les pays situé en bas à gauche sont ceux qui ont un moins bon revenu et un nombre de décés d'enfants plus important, un fort taux de natalité ainsi que moins d'importations et d'exportations (C'est le cas par exemple de Myanmar) \n",
    "\n",
    "Ces deux axes permettent d'expliquer le PIB, dans le sens où les pays se situant davantage vers la droite et le haut auront un PIB beaucoup plus important que les pays opposés (vers la gauche et le bas)."
   ]
  },
  {
   "cell_type": "markdown",
   "id": "62c0fc8c",
   "metadata": {},
   "source": [
    "### Axe 1 et Axe 3 "
   ]
  },
  {
   "cell_type": "code",
   "execution_count": 24,
   "id": "f5d8d967",
   "metadata": {
    "scrolled": false
   },
   "outputs": [
    {
     "data": {
      "application/vnd.plotly.v1+json": {
       "config": {
        "plotlyServerURL": "https://plot.ly"
       },
       "data": [
        {
         "hovertemplate": "0=%{x}<br>2=%{y}<br>index=%{text}<br>color=%{marker.color}<extra></extra>",
         "legendgroup": "",
         "marker": {
          "color": [
           0,
           0,
           0,
           0,
           1,
           1,
           0,
           2,
           2,
           0,
           2,
           2,
           0,
           1,
           0,
           2,
           0,
           0,
           0,
           0,
           0,
           0,
           1,
           2,
           0,
           0,
           0,
           0,
           0,
           2,
           0,
           0,
           0,
           1,
           0,
           0,
           0,
           0,
           0,
           0,
           0,
           1,
           2,
           1,
           2,
           0,
           0,
           0,
           0,
           1,
           0,
           1,
           0,
           2,
           2,
           0,
           0,
           0,
           2,
           0,
           2,
           0,
           0,
           0,
           0,
           0,
           0,
           1,
           2,
           0,
           0,
           0,
           0,
           2,
           2,
           2,
           0,
           2,
           0,
           0,
           0,
           0,
           2,
           0,
           0,
           1,
           0,
           0,
           0,
           1,
           1,
           2,
           0,
           0,
           0,
           0,
           0,
           0,
           2,
           0,
           0,
           0,
           0,
           0,
           0,
           0,
           0,
           0,
           0,
           0,
           2,
           2,
           0,
           0,
           2,
           1,
           0,
           0,
           0,
           0,
           0,
           1,
           2,
           2,
           0,
           1,
           0,
           0,
           1,
           0,
           0,
           1,
           0,
           2,
           1,
           2,
           0,
           0,
           2,
           2,
           0,
           0,
           0,
           0,
           2,
           2,
           0,
           0,
           0,
           0,
           0,
           0,
           0,
           1,
           0,
           0,
           0,
           2,
           2,
           2,
           1,
           0,
           0,
           1,
           0,
           0,
           0
          ],
          "coloraxis": "coloraxis",
          "symbol": "circle"
         },
         "mode": "markers+text",
         "name": "",
         "orientation": "v",
         "showlegend": false,
         "text": [
          "Afghanistan",
          "Albania",
          "Algeria",
          "Angola",
          "Antigua and Barbuda",
          "Argentina",
          "Armenia",
          "Australia",
          "Austria",
          "Azerbaijan",
          "Bahamas",
          "Bahrain",
          "Bangladesh",
          "Barbados",
          "Belarus",
          "Belgium",
          "Belize",
          "Benin",
          "Bhutan",
          "Bolivia",
          "Bosnia and Herzegovina",
          "Botswana",
          "Brazil",
          "Brunei",
          "Bulgaria",
          "Burkina Faso",
          "Burundi",
          "Cambodia",
          "Cameroon",
          "Canada",
          "Cape Verde",
          "Central African Republic",
          "Chad",
          "Chile",
          "China",
          "Colombia",
          "Comoros",
          "Congo, Dem. Rep.",
          "Congo, Rep.",
          "Costa Rica",
          "Cote d'Ivoire",
          "Croatia",
          "Cyprus",
          "Czech Republic",
          "Denmark",
          "Dominican Republic",
          "Ecuador",
          "Egypt",
          "El Salvador",
          "Equatorial Guinea",
          "Eritrea",
          "Estonia",
          "Fiji",
          "Finland",
          "France",
          "Gabon",
          "Gambia",
          "Georgia",
          "Germany",
          "Ghana",
          "Greece",
          "Grenada",
          "Guatemala",
          "Guinea",
          "Guinea-Bissau",
          "Guyana",
          "Haiti",
          "Hungary",
          "Iceland",
          "India",
          "Indonesia",
          "Iran",
          "Iraq",
          "Ireland",
          "Israel",
          "Italy",
          "Jamaica",
          "Japan",
          "Jordan",
          "Kazakhstan",
          "Kenya",
          "Kiribati",
          "Kuwait",
          "Kyrgyz Republic",
          "Lao",
          "Latvia",
          "Lebanon",
          "Lesotho",
          "Liberia",
          "Libya",
          "Lithuania",
          "Luxembourg",
          "Macedonia, FYR",
          "Madagascar",
          "Malawi",
          "Malaysia",
          "Maldives",
          "Mali",
          "Malta",
          "Mauritania",
          "Mauritius",
          "Micronesia, Fed. Sts.",
          "Moldova",
          "Mongolia",
          "Montenegro",
          "Morocco",
          "Mozambique",
          "Myanmar",
          "Namibia",
          "Nepal",
          "Netherlands",
          "New Zealand",
          "Niger",
          "Nigeria",
          "Norway",
          "Oman",
          "Pakistan",
          "Panama",
          "Paraguay",
          "Peru",
          "Philippines",
          "Poland",
          "Portugal",
          "Qatar",
          "Romania",
          "Russia",
          "Rwanda",
          "Samoa",
          "Saudi Arabia",
          "Senegal",
          "Serbia",
          "Seychelles",
          "Sierra Leone",
          "Singapore",
          "Slovak Republic",
          "Slovenia",
          "Solomon Islands",
          "South Africa",
          "South Korea",
          "Spain",
          "Sri Lanka",
          "St. Vincent and the Grenadines",
          "Sudan",
          "Suriname",
          "Sweden",
          "Switzerland",
          "Tajikistan",
          "Tanzania",
          "Thailand",
          "Timor-Leste",
          "Togo",
          "Tonga",
          "Tunisia",
          "Turkey",
          "Turkmenistan",
          "Uganda",
          "Ukraine",
          "United Arab Emirates",
          "United Kingdom",
          "United States",
          "Uruguay",
          "Uzbekistan",
          "Vanuatu",
          "Venezuela",
          "Vietnam",
          "Yemen",
          "Zambia"
         ],
         "type": "scatter",
         "x": [
          -2.905883561266859,
          0.7240723883176192,
          -0.09680905390429062,
          -3.0037994339338816,
          1.1804444368588969,
          0.05405172698660721,
          0.18228922153895036,
          1.5786333873986027,
          2.388766484895975,
          -0.03660084909568767,
          1.035913339759218,
          1.6170329104965304,
          -0.8940837510569071,
          1.134697611824218,
          0.8410371875148623,
          2.654072110292285,
          0.49086180263619106,
          -2.6249428795666434,
          0.14477390136434487,
          -0.5814234158602212,
          1.3088287040244382,
          -0.8103855124754902,
          0.1789323141931889,
          2.029531964807891,
          1.172516382205182,
          -3.1479598297328475,
          -2.9233482084795135,
          -0.29324124243374766,
          -2.800034916041593,
          1.8956016410942875,
          0.13036354956427948,
          -4.04541483060119,
          -3.626230861516036,
          1.0353831959418074,
          0.2975442264519439,
          0.2994848450992015,
          -1.971966605970549,
          -3.2107712094738785,
          -1.6206133345550826,
          1.1291539817547418,
          -2.5474200637228517,
          1.2538404069758156,
          1.960982673501812,
          2.092372733881823,
          2.153800069917073,
          -0.058823595065461046,
          0.21319697960574482,
          -0.6643835810137277,
          0.36663849530470505,
          -1.5928176767869742,
          -2.38168171856082,
          1.8101148727414285,
          0.07512336200043951,
          1.8559286063889533,
          1.740137393951277,
          -1.4757211326777597,
          -2.1225170104941773,
          0.6111958289775529,
          2.1740286398779487,
          -1.9572815825852685,
          1.584166443406417,
          0.3376677846350452,
          -0.4691377996481385,
          -2.959736925922348,
          -2.827519055850775,
          -0.05108561686867341,
          -4.533803700038661,
          2.0429755281530597,
          1.9754281844311858,
          -1.1599190501936596,
          -0.7760288461226248,
          0.15016782369925394,
          -0.9598034114387384,
          3.135883728932742,
          1.1765390109162868,
          1.7815495635710064,
          0.2685487926321418,
          1.6812307465186784,
          0.4169824040426012,
          -0.23140737277419748,
          -1.7405577312385834,
          -1.0634615540859822,
          1.9783319587066361,
          -0.021430380414812655,
          -1.356101472179204,
          1.3764739518532672,
          1.417551293133257,
          -1.6663705182196722,
          -1.637421902015317,
          0.9071374715414682,
          1.5963628269235022,
          5.294287482289606,
          1.0501765936772658,
          -2.0044063831854473,
          -2.9730833044804035,
          1.4786548142038844,
          1.400937254432232,
          -3.465080471727762,
          3.891353748844071,
          -1.8481271108503532,
          1.1481464166898738,
          -0.17362260751829395,
          0.8664640879369168,
          -0.7692198708439743,
          1.3009962319123183,
          0.03141245365294747,
          -2.891470624514186,
          -1.6917422315262476,
          -0.9333158307266889,
          -1.0995353010128452,
          2.7462331068055015,
          1.443086008136743,
          -3.4892159298387853,
          -5.243458580411735,
          2.1848601779493184,
          1.0383480492583486,
          -2.282338732382531,
          1.4167510078345167,
          0.40019620402296924,
          0.19010838072025688,
          -0.5519318128483421,
          1.3516344001342386,
          1.7294421283983723,
          3.0542400571577413,
          0.7662328452509239,
          0.2302873617538609,
          -1.562457114358519,
          -0.3562936953959135,
          0.7217651535258985,
          -1.792290909565451,
          1.1013939157933075,
          1.8886062157802916,
          -3.487829344222292,
          5.534195009725911,
          2.151520505633948,
          2.2416323848052966,
          -0.5633997106526438,
          -1.1838931807925834,
          1.8791321224999766,
          1.751175734181845,
          -0.35016980861766084,
          0.24980941341111437,
          -2.2913102010860773,
          0.30607903712646667,
          2.097290377971634,
          2.9244064461171253,
          -1.0330696337937098,
          -2.5087725235227145,
          1.2623437020490549,
          -2.4220287078145537,
          -1.879337209629254,
          -0.5471072057152464,
          0.9111756918565745,
          0.4904377816503049,
          -0.2629122646094294,
          -2.8676932236414383,
          0.6049886173473218,
          2.0829882367008086,
          1.5973932727402327,
          1.8956474243735737,
          0.6939429995237809,
          -0.6343188452610586,
          -0.6075332033615257,
          -0.6421795506799624,
          0.8848794341885226,
          -1.7915800201793077,
          -2.874330840657498
         ],
         "xaxis": "x",
         "y": [
          -0.9090678859743129,
          -0.11255396723903793,
          1.3605507638716179,
          1.3111443535993252,
          -0.06950051518649314,
          0.9014816534138455,
          0.48766538311278446,
          -0.011736540481696422,
          -0.7004327495442109,
          0.9446068991765,
          -0.49683649579736516,
          1.0270024434812706,
          0.7048475782503676,
          -0.5536331727092452,
          0.6753697064757422,
          -0.8051639444542098,
          -0.08809662702366439,
          -0.35511775977121496,
          -0.09921891600094818,
          0.5127505920578488,
          -1.3497017559702496,
          -0.6457462818355717,
          -0.11414950025934528,
          2.8659235705265433,
          -0.2754958654373398,
          -0.6720414194020858,
          -1.6382038296404662,
          -0.36443231282524713,
          -0.48020340673911754,
          -0.6023791788108612,
          -0.0744834906767563,
          -0.5550761332491145,
          -0.37180200378111344,
          0.2554498609749619,
          0.6474597193575833,
          -0.0987436851379695,
          -0.3428466424411696,
          -0.2909505087043426,
          1.4605595856054072,
          -0.7113915556725194,
          -0.3882604538658131,
          -0.275487718326756,
          0.3064028166495848,
          -0.443034387744107,
          -0.6340717839527041,
          0.08181819531015111,
          -0.16014641984265693,
          0.6987040306525298,
          -0.38798593694114736,
          1.4330574343265758,
          0.8312572914117347,
          0.050823179973292,
          -0.032367661259871616,
          -0.25479915232946676,
          -0.8858368106223851,
          1.4579673185920554,
          -0.46805723439044933,
          -0.839327786218063,
          -0.8119142428138357,
          0.3762353080182997,
          -0.6896447303512826,
          -0.30103939088818055,
          -0.2478478606821013,
          0.23125990903891802,
          -1.410422967396972,
          -0.3302833559984056,
          -1.82925391572243,
          -0.29812626777138057,
          -0.040669833986616145,
          0.5776942658582368,
          1.5372711532075893,
          1.1583180115078535,
          0.11208157390241236,
          -0.6827566187040883,
          0.023796449644739176,
          -0.35008076907751223,
          0.5406972726798314,
          -0.3452387109264792,
          -0.46126642409022434,
          1.5521999872035481,
          -0.23119037792201458,
          -2.430050274495387,
          2.498836475182763,
          -0.2807404830091464,
          0.18035975532097367,
          -0.31001642360541165,
          -0.4083346972010114,
          -2.657530748520053,
          -2.554139448741435,
          1.5879901941160206,
          -0.25226514514865045,
          0.40814678831208906,
          -0.43312515635187493,
          0.24634157879509821,
          -0.3792653670834039,
          0.7271190181333294,
          -0.06342538020122188,
          -0.4853469880509159,
          -0.8829425954692471,
          0.6644126990389905,
          -0.18366875650751707,
          -2.767023826087403,
          -1.4212250072958856,
          1.916267591436915,
          -0.9305796610526853,
          -0.07852349316152762,
          -0.41173862041166376,
          1.1496756161876776,
          -0.7569683385964333,
          0.5073638520053061,
          -0.9698979103617134,
          -0.3617733881216114,
          -0.8259947579001917,
          5.638686626219016,
          0.3622559786888553,
          2.1413588141042568,
          1.0267499578049155,
          -0.6586596295546305,
          0.12434114371369555,
          0.5878483080150035,
          0.46971069473963495,
          -0.16405038698283797,
          -0.9213681940945209,
          3.174988777705434,
          0.2708738860822183,
          1.1960195790083359,
          -1.554739914182465,
          -0.5430027942236946,
          1.857878873325257,
          -0.5343415753142313,
          -0.8689937938416844,
          -0.15548564817831256,
          -1.7803551279249976,
          0.6385683118144247,
          -0.7491872708514632,
          -0.7486438193708295,
          -1.2028867002302794,
          -0.8047478287677031,
          0.23955726352532103,
          -0.39599328563367536,
          1.9666986863661329,
          0.16156455798737113,
          0.6297748036971371,
          0.08848010191237451,
          -0.31409638542701374,
          -0.662587705210669,
          -0.07022459609991541,
          -0.1956395226283436,
          0.6152016791120845,
          0.20758347390670628,
          -1.3220844843643467,
          -0.2880439589389738,
          -0.032096243542742486,
          0.3369293939533858,
          0.7215614015942684,
          -0.9272610091894559,
          0.09087159889590951,
          1.7574955117957318,
          -0.3730202390536834,
          -2.11720095036021,
          -0.15385188866304778,
          0.7420100969044118,
          -0.2846199620354003,
          3.1033489359520496,
          -0.028809825961413557,
          1.0782894920729391,
          0.045128339284352836
         ],
         "yaxis": "y"
        }
       ],
       "layout": {
        "coloraxis": {
         "colorbar": {
          "title": {
           "text": "color"
          }
         },
         "colorscale": [
          [
           0,
           "#0d0887"
          ],
          [
           0.1111111111111111,
           "#46039f"
          ],
          [
           0.2222222222222222,
           "#7201a8"
          ],
          [
           0.3333333333333333,
           "#9c179e"
          ],
          [
           0.4444444444444444,
           "#bd3786"
          ],
          [
           0.5555555555555556,
           "#d8576b"
          ],
          [
           0.6666666666666666,
           "#ed7953"
          ],
          [
           0.7777777777777778,
           "#fb9f3a"
          ],
          [
           0.8888888888888888,
           "#fdca26"
          ],
          [
           1,
           "#f0f921"
          ]
         ]
        },
        "height": 1000,
        "legend": {
         "tracegroupgap": 0
        },
        "margin": {
         "t": 60
        },
        "template": {
         "data": {
          "bar": [
           {
            "error_x": {
             "color": "#2a3f5f"
            },
            "error_y": {
             "color": "#2a3f5f"
            },
            "marker": {
             "line": {
              "color": "#E5ECF6",
              "width": 0.5
             },
             "pattern": {
              "fillmode": "overlay",
              "size": 10,
              "solidity": 0.2
             }
            },
            "type": "bar"
           }
          ],
          "barpolar": [
           {
            "marker": {
             "line": {
              "color": "#E5ECF6",
              "width": 0.5
             },
             "pattern": {
              "fillmode": "overlay",
              "size": 10,
              "solidity": 0.2
             }
            },
            "type": "barpolar"
           }
          ],
          "carpet": [
           {
            "aaxis": {
             "endlinecolor": "#2a3f5f",
             "gridcolor": "white",
             "linecolor": "white",
             "minorgridcolor": "white",
             "startlinecolor": "#2a3f5f"
            },
            "baxis": {
             "endlinecolor": "#2a3f5f",
             "gridcolor": "white",
             "linecolor": "white",
             "minorgridcolor": "white",
             "startlinecolor": "#2a3f5f"
            },
            "type": "carpet"
           }
          ],
          "choropleth": [
           {
            "colorbar": {
             "outlinewidth": 0,
             "ticks": ""
            },
            "type": "choropleth"
           }
          ],
          "contour": [
           {
            "colorbar": {
             "outlinewidth": 0,
             "ticks": ""
            },
            "colorscale": [
             [
              0,
              "#0d0887"
             ],
             [
              0.1111111111111111,
              "#46039f"
             ],
             [
              0.2222222222222222,
              "#7201a8"
             ],
             [
              0.3333333333333333,
              "#9c179e"
             ],
             [
              0.4444444444444444,
              "#bd3786"
             ],
             [
              0.5555555555555556,
              "#d8576b"
             ],
             [
              0.6666666666666666,
              "#ed7953"
             ],
             [
              0.7777777777777778,
              "#fb9f3a"
             ],
             [
              0.8888888888888888,
              "#fdca26"
             ],
             [
              1,
              "#f0f921"
             ]
            ],
            "type": "contour"
           }
          ],
          "contourcarpet": [
           {
            "colorbar": {
             "outlinewidth": 0,
             "ticks": ""
            },
            "type": "contourcarpet"
           }
          ],
          "heatmap": [
           {
            "colorbar": {
             "outlinewidth": 0,
             "ticks": ""
            },
            "colorscale": [
             [
              0,
              "#0d0887"
             ],
             [
              0.1111111111111111,
              "#46039f"
             ],
             [
              0.2222222222222222,
              "#7201a8"
             ],
             [
              0.3333333333333333,
              "#9c179e"
             ],
             [
              0.4444444444444444,
              "#bd3786"
             ],
             [
              0.5555555555555556,
              "#d8576b"
             ],
             [
              0.6666666666666666,
              "#ed7953"
             ],
             [
              0.7777777777777778,
              "#fb9f3a"
             ],
             [
              0.8888888888888888,
              "#fdca26"
             ],
             [
              1,
              "#f0f921"
             ]
            ],
            "type": "heatmap"
           }
          ],
          "heatmapgl": [
           {
            "colorbar": {
             "outlinewidth": 0,
             "ticks": ""
            },
            "colorscale": [
             [
              0,
              "#0d0887"
             ],
             [
              0.1111111111111111,
              "#46039f"
             ],
             [
              0.2222222222222222,
              "#7201a8"
             ],
             [
              0.3333333333333333,
              "#9c179e"
             ],
             [
              0.4444444444444444,
              "#bd3786"
             ],
             [
              0.5555555555555556,
              "#d8576b"
             ],
             [
              0.6666666666666666,
              "#ed7953"
             ],
             [
              0.7777777777777778,
              "#fb9f3a"
             ],
             [
              0.8888888888888888,
              "#fdca26"
             ],
             [
              1,
              "#f0f921"
             ]
            ],
            "type": "heatmapgl"
           }
          ],
          "histogram": [
           {
            "marker": {
             "pattern": {
              "fillmode": "overlay",
              "size": 10,
              "solidity": 0.2
             }
            },
            "type": "histogram"
           }
          ],
          "histogram2d": [
           {
            "colorbar": {
             "outlinewidth": 0,
             "ticks": ""
            },
            "colorscale": [
             [
              0,
              "#0d0887"
             ],
             [
              0.1111111111111111,
              "#46039f"
             ],
             [
              0.2222222222222222,
              "#7201a8"
             ],
             [
              0.3333333333333333,
              "#9c179e"
             ],
             [
              0.4444444444444444,
              "#bd3786"
             ],
             [
              0.5555555555555556,
              "#d8576b"
             ],
             [
              0.6666666666666666,
              "#ed7953"
             ],
             [
              0.7777777777777778,
              "#fb9f3a"
             ],
             [
              0.8888888888888888,
              "#fdca26"
             ],
             [
              1,
              "#f0f921"
             ]
            ],
            "type": "histogram2d"
           }
          ],
          "histogram2dcontour": [
           {
            "colorbar": {
             "outlinewidth": 0,
             "ticks": ""
            },
            "colorscale": [
             [
              0,
              "#0d0887"
             ],
             [
              0.1111111111111111,
              "#46039f"
             ],
             [
              0.2222222222222222,
              "#7201a8"
             ],
             [
              0.3333333333333333,
              "#9c179e"
             ],
             [
              0.4444444444444444,
              "#bd3786"
             ],
             [
              0.5555555555555556,
              "#d8576b"
             ],
             [
              0.6666666666666666,
              "#ed7953"
             ],
             [
              0.7777777777777778,
              "#fb9f3a"
             ],
             [
              0.8888888888888888,
              "#fdca26"
             ],
             [
              1,
              "#f0f921"
             ]
            ],
            "type": "histogram2dcontour"
           }
          ],
          "mesh3d": [
           {
            "colorbar": {
             "outlinewidth": 0,
             "ticks": ""
            },
            "type": "mesh3d"
           }
          ],
          "parcoords": [
           {
            "line": {
             "colorbar": {
              "outlinewidth": 0,
              "ticks": ""
             }
            },
            "type": "parcoords"
           }
          ],
          "pie": [
           {
            "automargin": true,
            "type": "pie"
           }
          ],
          "scatter": [
           {
            "marker": {
             "colorbar": {
              "outlinewidth": 0,
              "ticks": ""
             }
            },
            "type": "scatter"
           }
          ],
          "scatter3d": [
           {
            "line": {
             "colorbar": {
              "outlinewidth": 0,
              "ticks": ""
             }
            },
            "marker": {
             "colorbar": {
              "outlinewidth": 0,
              "ticks": ""
             }
            },
            "type": "scatter3d"
           }
          ],
          "scattercarpet": [
           {
            "marker": {
             "colorbar": {
              "outlinewidth": 0,
              "ticks": ""
             }
            },
            "type": "scattercarpet"
           }
          ],
          "scattergeo": [
           {
            "marker": {
             "colorbar": {
              "outlinewidth": 0,
              "ticks": ""
             }
            },
            "type": "scattergeo"
           }
          ],
          "scattergl": [
           {
            "marker": {
             "colorbar": {
              "outlinewidth": 0,
              "ticks": ""
             }
            },
            "type": "scattergl"
           }
          ],
          "scattermapbox": [
           {
            "marker": {
             "colorbar": {
              "outlinewidth": 0,
              "ticks": ""
             }
            },
            "type": "scattermapbox"
           }
          ],
          "scatterpolar": [
           {
            "marker": {
             "colorbar": {
              "outlinewidth": 0,
              "ticks": ""
             }
            },
            "type": "scatterpolar"
           }
          ],
          "scatterpolargl": [
           {
            "marker": {
             "colorbar": {
              "outlinewidth": 0,
              "ticks": ""
             }
            },
            "type": "scatterpolargl"
           }
          ],
          "scatterternary": [
           {
            "marker": {
             "colorbar": {
              "outlinewidth": 0,
              "ticks": ""
             }
            },
            "type": "scatterternary"
           }
          ],
          "surface": [
           {
            "colorbar": {
             "outlinewidth": 0,
             "ticks": ""
            },
            "colorscale": [
             [
              0,
              "#0d0887"
             ],
             [
              0.1111111111111111,
              "#46039f"
             ],
             [
              0.2222222222222222,
              "#7201a8"
             ],
             [
              0.3333333333333333,
              "#9c179e"
             ],
             [
              0.4444444444444444,
              "#bd3786"
             ],
             [
              0.5555555555555556,
              "#d8576b"
             ],
             [
              0.6666666666666666,
              "#ed7953"
             ],
             [
              0.7777777777777778,
              "#fb9f3a"
             ],
             [
              0.8888888888888888,
              "#fdca26"
             ],
             [
              1,
              "#f0f921"
             ]
            ],
            "type": "surface"
           }
          ],
          "table": [
           {
            "cells": {
             "fill": {
              "color": "#EBF0F8"
             },
             "line": {
              "color": "white"
             }
            },
            "header": {
             "fill": {
              "color": "#C8D4E3"
             },
             "line": {
              "color": "white"
             }
            },
            "type": "table"
           }
          ]
         },
         "layout": {
          "annotationdefaults": {
           "arrowcolor": "#2a3f5f",
           "arrowhead": 0,
           "arrowwidth": 1
          },
          "autotypenumbers": "strict",
          "coloraxis": {
           "colorbar": {
            "outlinewidth": 0,
            "ticks": ""
           }
          },
          "colorscale": {
           "diverging": [
            [
             0,
             "#8e0152"
            ],
            [
             0.1,
             "#c51b7d"
            ],
            [
             0.2,
             "#de77ae"
            ],
            [
             0.3,
             "#f1b6da"
            ],
            [
             0.4,
             "#fde0ef"
            ],
            [
             0.5,
             "#f7f7f7"
            ],
            [
             0.6,
             "#e6f5d0"
            ],
            [
             0.7,
             "#b8e186"
            ],
            [
             0.8,
             "#7fbc41"
            ],
            [
             0.9,
             "#4d9221"
            ],
            [
             1,
             "#276419"
            ]
           ],
           "sequential": [
            [
             0,
             "#0d0887"
            ],
            [
             0.1111111111111111,
             "#46039f"
            ],
            [
             0.2222222222222222,
             "#7201a8"
            ],
            [
             0.3333333333333333,
             "#9c179e"
            ],
            [
             0.4444444444444444,
             "#bd3786"
            ],
            [
             0.5555555555555556,
             "#d8576b"
            ],
            [
             0.6666666666666666,
             "#ed7953"
            ],
            [
             0.7777777777777778,
             "#fb9f3a"
            ],
            [
             0.8888888888888888,
             "#fdca26"
            ],
            [
             1,
             "#f0f921"
            ]
           ],
           "sequentialminus": [
            [
             0,
             "#0d0887"
            ],
            [
             0.1111111111111111,
             "#46039f"
            ],
            [
             0.2222222222222222,
             "#7201a8"
            ],
            [
             0.3333333333333333,
             "#9c179e"
            ],
            [
             0.4444444444444444,
             "#bd3786"
            ],
            [
             0.5555555555555556,
             "#d8576b"
            ],
            [
             0.6666666666666666,
             "#ed7953"
            ],
            [
             0.7777777777777778,
             "#fb9f3a"
            ],
            [
             0.8888888888888888,
             "#fdca26"
            ],
            [
             1,
             "#f0f921"
            ]
           ]
          },
          "colorway": [
           "#636efa",
           "#EF553B",
           "#00cc96",
           "#ab63fa",
           "#FFA15A",
           "#19d3f3",
           "#FF6692",
           "#B6E880",
           "#FF97FF",
           "#FECB52"
          ],
          "font": {
           "color": "#2a3f5f"
          },
          "geo": {
           "bgcolor": "white",
           "lakecolor": "white",
           "landcolor": "#E5ECF6",
           "showlakes": true,
           "showland": true,
           "subunitcolor": "white"
          },
          "hoverlabel": {
           "align": "left"
          },
          "hovermode": "closest",
          "mapbox": {
           "style": "light"
          },
          "paper_bgcolor": "white",
          "plot_bgcolor": "#E5ECF6",
          "polar": {
           "angularaxis": {
            "gridcolor": "white",
            "linecolor": "white",
            "ticks": ""
           },
           "bgcolor": "#E5ECF6",
           "radialaxis": {
            "gridcolor": "white",
            "linecolor": "white",
            "ticks": ""
           }
          },
          "scene": {
           "xaxis": {
            "backgroundcolor": "#E5ECF6",
            "gridcolor": "white",
            "gridwidth": 2,
            "linecolor": "white",
            "showbackground": true,
            "ticks": "",
            "zerolinecolor": "white"
           },
           "yaxis": {
            "backgroundcolor": "#E5ECF6",
            "gridcolor": "white",
            "gridwidth": 2,
            "linecolor": "white",
            "showbackground": true,
            "ticks": "",
            "zerolinecolor": "white"
           },
           "zaxis": {
            "backgroundcolor": "#E5ECF6",
            "gridcolor": "white",
            "gridwidth": 2,
            "linecolor": "white",
            "showbackground": true,
            "ticks": "",
            "zerolinecolor": "white"
           }
          },
          "shapedefaults": {
           "line": {
            "color": "#2a3f5f"
           }
          },
          "ternary": {
           "aaxis": {
            "gridcolor": "white",
            "linecolor": "white",
            "ticks": ""
           },
           "baxis": {
            "gridcolor": "white",
            "linecolor": "white",
            "ticks": ""
           },
           "bgcolor": "#E5ECF6",
           "caxis": {
            "gridcolor": "white",
            "linecolor": "white",
            "ticks": ""
           }
          },
          "title": {
           "x": 0.05
          },
          "xaxis": {
           "automargin": true,
           "gridcolor": "white",
           "linecolor": "white",
           "ticks": "",
           "title": {
            "standoff": 15
           },
           "zerolinecolor": "white",
           "zerolinewidth": 2
          },
          "yaxis": {
           "automargin": true,
           "gridcolor": "white",
           "linecolor": "white",
           "ticks": "",
           "title": {
            "standoff": 15
           },
           "zerolinecolor": "white",
           "zerolinewidth": 2
          }
         }
        },
        "width": 1000,
        "xaxis": {
         "anchor": "y",
         "domain": [
          0,
          1
         ],
         "title": {
          "text": "0"
         }
        },
        "yaxis": {
         "anchor": "x",
         "domain": [
          0,
          1
         ],
         "title": {
          "text": "2"
         }
        }
       }
      },
      "text/html": [
       "<div>                            <div id=\"0cff9898-acbf-4c85-9983-957099610bf6\" class=\"plotly-graph-div\" style=\"height:1000px; width:1000px;\"></div>            <script type=\"text/javascript\">                require([\"plotly\"], function(Plotly) {                    window.PLOTLYENV=window.PLOTLYENV || {};                                    if (document.getElementById(\"0cff9898-acbf-4c85-9983-957099610bf6\")) {                    Plotly.newPlot(                        \"0cff9898-acbf-4c85-9983-957099610bf6\",                        [{\"hovertemplate\":\"0=%{x}<br>2=%{y}<br>index=%{text}<br>color=%{marker.color}<extra></extra>\",\"legendgroup\":\"\",\"marker\":{\"color\":[0.0,0.0,0.0,0.0,1.0,1.0,0.0,2.0,2.0,0.0,2.0,2.0,0.0,1.0,0.0,2.0,0.0,0.0,0.0,0.0,0.0,0.0,1.0,2.0,0.0,0.0,0.0,0.0,0.0,2.0,0.0,0.0,0.0,1.0,0.0,0.0,0.0,0.0,0.0,0.0,0.0,1.0,2.0,1.0,2.0,0.0,0.0,0.0,0.0,1.0,0.0,1.0,0.0,2.0,2.0,0.0,0.0,0.0,2.0,0.0,2.0,0.0,0.0,0.0,0.0,0.0,0.0,1.0,2.0,0.0,0.0,0.0,0.0,2.0,2.0,2.0,0.0,2.0,0.0,0.0,0.0,0.0,2.0,0.0,0.0,1.0,0.0,0.0,0.0,1.0,1.0,2.0,0.0,0.0,0.0,0.0,0.0,0.0,2.0,0.0,0.0,0.0,0.0,0.0,0.0,0.0,0.0,0.0,0.0,0.0,2.0,2.0,0.0,0.0,2.0,1.0,0.0,0.0,0.0,0.0,0.0,1.0,2.0,2.0,0.0,1.0,0.0,0.0,1.0,0.0,0.0,1.0,0.0,2.0,1.0,2.0,0.0,0.0,2.0,2.0,0.0,0.0,0.0,0.0,2.0,2.0,0.0,0.0,0.0,0.0,0.0,0.0,0.0,1.0,0.0,0.0,0.0,2.0,2.0,2.0,1.0,0.0,0.0,1.0,0.0,0.0,0.0],\"coloraxis\":\"coloraxis\",\"symbol\":\"circle\"},\"mode\":\"markers+text\",\"name\":\"\",\"orientation\":\"v\",\"showlegend\":false,\"text\":[\"Afghanistan\",\"Albania\",\"Algeria\",\"Angola\",\"Antigua and Barbuda\",\"Argentina\",\"Armenia\",\"Australia\",\"Austria\",\"Azerbaijan\",\"Bahamas\",\"Bahrain\",\"Bangladesh\",\"Barbados\",\"Belarus\",\"Belgium\",\"Belize\",\"Benin\",\"Bhutan\",\"Bolivia\",\"Bosnia and Herzegovina\",\"Botswana\",\"Brazil\",\"Brunei\",\"Bulgaria\",\"Burkina Faso\",\"Burundi\",\"Cambodia\",\"Cameroon\",\"Canada\",\"Cape Verde\",\"Central African Republic\",\"Chad\",\"Chile\",\"China\",\"Colombia\",\"Comoros\",\"Congo, Dem. Rep.\",\"Congo, Rep.\",\"Costa Rica\",\"Cote d'Ivoire\",\"Croatia\",\"Cyprus\",\"Czech Republic\",\"Denmark\",\"Dominican Republic\",\"Ecuador\",\"Egypt\",\"El Salvador\",\"Equatorial Guinea\",\"Eritrea\",\"Estonia\",\"Fiji\",\"Finland\",\"France\",\"Gabon\",\"Gambia\",\"Georgia\",\"Germany\",\"Ghana\",\"Greece\",\"Grenada\",\"Guatemala\",\"Guinea\",\"Guinea-Bissau\",\"Guyana\",\"Haiti\",\"Hungary\",\"Iceland\",\"India\",\"Indonesia\",\"Iran\",\"Iraq\",\"Ireland\",\"Israel\",\"Italy\",\"Jamaica\",\"Japan\",\"Jordan\",\"Kazakhstan\",\"Kenya\",\"Kiribati\",\"Kuwait\",\"Kyrgyz Republic\",\"Lao\",\"Latvia\",\"Lebanon\",\"Lesotho\",\"Liberia\",\"Libya\",\"Lithuania\",\"Luxembourg\",\"Macedonia, FYR\",\"Madagascar\",\"Malawi\",\"Malaysia\",\"Maldives\",\"Mali\",\"Malta\",\"Mauritania\",\"Mauritius\",\"Micronesia, Fed. Sts.\",\"Moldova\",\"Mongolia\",\"Montenegro\",\"Morocco\",\"Mozambique\",\"Myanmar\",\"Namibia\",\"Nepal\",\"Netherlands\",\"New Zealand\",\"Niger\",\"Nigeria\",\"Norway\",\"Oman\",\"Pakistan\",\"Panama\",\"Paraguay\",\"Peru\",\"Philippines\",\"Poland\",\"Portugal\",\"Qatar\",\"Romania\",\"Russia\",\"Rwanda\",\"Samoa\",\"Saudi Arabia\",\"Senegal\",\"Serbia\",\"Seychelles\",\"Sierra Leone\",\"Singapore\",\"Slovak Republic\",\"Slovenia\",\"Solomon Islands\",\"South Africa\",\"South Korea\",\"Spain\",\"Sri Lanka\",\"St. Vincent and the Grenadines\",\"Sudan\",\"Suriname\",\"Sweden\",\"Switzerland\",\"Tajikistan\",\"Tanzania\",\"Thailand\",\"Timor-Leste\",\"Togo\",\"Tonga\",\"Tunisia\",\"Turkey\",\"Turkmenistan\",\"Uganda\",\"Ukraine\",\"United Arab Emirates\",\"United Kingdom\",\"United States\",\"Uruguay\",\"Uzbekistan\",\"Vanuatu\",\"Venezuela\",\"Vietnam\",\"Yemen\",\"Zambia\"],\"x\":[-2.905883561266859,0.7240723883176192,-0.09680905390429062,-3.0037994339338816,1.1804444368588969,0.05405172698660721,0.18228922153895036,1.5786333873986027,2.388766484895975,-0.03660084909568767,1.035913339759218,1.6170329104965304,-0.8940837510569071,1.134697611824218,0.8410371875148623,2.654072110292285,0.49086180263619106,-2.6249428795666434,0.14477390136434487,-0.5814234158602212,1.3088287040244382,-0.8103855124754902,0.1789323141931889,2.029531964807891,1.172516382205182,-3.1479598297328475,-2.9233482084795135,-0.29324124243374766,-2.800034916041593,1.8956016410942875,0.13036354956427948,-4.04541483060119,-3.626230861516036,1.0353831959418074,0.2975442264519439,0.2994848450992015,-1.971966605970549,-3.2107712094738785,-1.6206133345550826,1.1291539817547418,-2.5474200637228517,1.2538404069758156,1.960982673501812,2.092372733881823,2.153800069917073,-0.058823595065461046,0.21319697960574482,-0.6643835810137277,0.36663849530470505,-1.5928176767869742,-2.38168171856082,1.8101148727414285,0.07512336200043951,1.8559286063889533,1.740137393951277,-1.4757211326777597,-2.1225170104941773,0.6111958289775529,2.1740286398779487,-1.9572815825852685,1.584166443406417,0.3376677846350452,-0.4691377996481385,-2.959736925922348,-2.827519055850775,-0.05108561686867341,-4.533803700038661,2.0429755281530597,1.9754281844311858,-1.1599190501936596,-0.7760288461226248,0.15016782369925394,-0.9598034114387384,3.135883728932742,1.1765390109162868,1.7815495635710064,0.2685487926321418,1.6812307465186784,0.4169824040426012,-0.23140737277419748,-1.7405577312385834,-1.0634615540859822,1.9783319587066361,-0.021430380414812655,-1.356101472179204,1.3764739518532672,1.417551293133257,-1.6663705182196722,-1.637421902015317,0.9071374715414682,1.5963628269235022,5.294287482289606,1.0501765936772658,-2.0044063831854473,-2.9730833044804035,1.4786548142038844,1.400937254432232,-3.465080471727762,3.891353748844071,-1.8481271108503532,1.1481464166898738,-0.17362260751829395,0.8664640879369168,-0.7692198708439743,1.3009962319123183,0.03141245365294747,-2.891470624514186,-1.6917422315262476,-0.9333158307266889,-1.0995353010128452,2.7462331068055015,1.443086008136743,-3.4892159298387853,-5.243458580411735,2.1848601779493184,1.0383480492583486,-2.282338732382531,1.4167510078345167,0.40019620402296924,0.19010838072025688,-0.5519318128483421,1.3516344001342386,1.7294421283983723,3.0542400571577413,0.7662328452509239,0.2302873617538609,-1.562457114358519,-0.3562936953959135,0.7217651535258985,-1.792290909565451,1.1013939157933075,1.8886062157802916,-3.487829344222292,5.534195009725911,2.151520505633948,2.2416323848052966,-0.5633997106526438,-1.1838931807925834,1.8791321224999766,1.751175734181845,-0.35016980861766084,0.24980941341111437,-2.2913102010860773,0.30607903712646667,2.097290377971634,2.9244064461171253,-1.0330696337937098,-2.5087725235227145,1.2623437020490549,-2.4220287078145537,-1.879337209629254,-0.5471072057152464,0.9111756918565745,0.4904377816503049,-0.2629122646094294,-2.8676932236414383,0.6049886173473218,2.0829882367008086,1.5973932727402327,1.8956474243735737,0.6939429995237809,-0.6343188452610586,-0.6075332033615257,-0.6421795506799624,0.8848794341885226,-1.7915800201793077,-2.874330840657498],\"xaxis\":\"x\",\"y\":[-0.9090678859743129,-0.11255396723903793,1.3605507638716179,1.3111443535993252,-0.06950051518649314,0.9014816534138455,0.48766538311278446,-0.011736540481696422,-0.7004327495442109,0.9446068991765,-0.49683649579736516,1.0270024434812706,0.7048475782503676,-0.5536331727092452,0.6753697064757422,-0.8051639444542098,-0.08809662702366439,-0.35511775977121496,-0.09921891600094818,0.5127505920578488,-1.3497017559702496,-0.6457462818355717,-0.11414950025934528,2.8659235705265433,-0.2754958654373398,-0.6720414194020858,-1.6382038296404662,-0.36443231282524713,-0.48020340673911754,-0.6023791788108612,-0.0744834906767563,-0.5550761332491145,-0.37180200378111344,0.2554498609749619,0.6474597193575833,-0.0987436851379695,-0.3428466424411696,-0.2909505087043426,1.4605595856054072,-0.7113915556725194,-0.3882604538658131,-0.275487718326756,0.3064028166495848,-0.443034387744107,-0.6340717839527041,0.08181819531015111,-0.16014641984265693,0.6987040306525298,-0.38798593694114736,1.4330574343265758,0.8312572914117347,0.050823179973292,-0.032367661259871616,-0.25479915232946676,-0.8858368106223851,1.4579673185920554,-0.46805723439044933,-0.839327786218063,-0.8119142428138357,0.3762353080182997,-0.6896447303512826,-0.30103939088818055,-0.2478478606821013,0.23125990903891802,-1.410422967396972,-0.3302833559984056,-1.82925391572243,-0.29812626777138057,-0.040669833986616145,0.5776942658582368,1.5372711532075893,1.1583180115078535,0.11208157390241236,-0.6827566187040883,0.023796449644739176,-0.35008076907751223,0.5406972726798314,-0.3452387109264792,-0.46126642409022434,1.5521999872035481,-0.23119037792201458,-2.430050274495387,2.498836475182763,-0.2807404830091464,0.18035975532097367,-0.31001642360541165,-0.4083346972010114,-2.657530748520053,-2.554139448741435,1.5879901941160206,-0.25226514514865045,0.40814678831208906,-0.43312515635187493,0.24634157879509821,-0.3792653670834039,0.7271190181333294,-0.06342538020122188,-0.4853469880509159,-0.8829425954692471,0.6644126990389905,-0.18366875650751707,-2.767023826087403,-1.4212250072958856,1.916267591436915,-0.9305796610526853,-0.07852349316152762,-0.41173862041166376,1.1496756161876776,-0.7569683385964333,0.5073638520053061,-0.9698979103617134,-0.3617733881216114,-0.8259947579001917,5.638686626219016,0.3622559786888553,2.1413588141042568,1.0267499578049155,-0.6586596295546305,0.12434114371369555,0.5878483080150035,0.46971069473963495,-0.16405038698283797,-0.9213681940945209,3.174988777705434,0.2708738860822183,1.1960195790083359,-1.554739914182465,-0.5430027942236946,1.857878873325257,-0.5343415753142313,-0.8689937938416844,-0.15548564817831256,-1.7803551279249976,0.6385683118144247,-0.7491872708514632,-0.7486438193708295,-1.2028867002302794,-0.8047478287677031,0.23955726352532103,-0.39599328563367536,1.9666986863661329,0.16156455798737113,0.6297748036971371,0.08848010191237451,-0.31409638542701374,-0.662587705210669,-0.07022459609991541,-0.1956395226283436,0.6152016791120845,0.20758347390670628,-1.3220844843643467,-0.2880439589389738,-0.032096243542742486,0.3369293939533858,0.7215614015942684,-0.9272610091894559,0.09087159889590951,1.7574955117957318,-0.3730202390536834,-2.11720095036021,-0.15385188866304778,0.7420100969044118,-0.2846199620354003,3.1033489359520496,-0.028809825961413557,1.0782894920729391,0.045128339284352836],\"yaxis\":\"y\",\"type\":\"scatter\"}],                        {\"template\":{\"data\":{\"bar\":[{\"error_x\":{\"color\":\"#2a3f5f\"},\"error_y\":{\"color\":\"#2a3f5f\"},\"marker\":{\"line\":{\"color\":\"#E5ECF6\",\"width\":0.5},\"pattern\":{\"fillmode\":\"overlay\",\"size\":10,\"solidity\":0.2}},\"type\":\"bar\"}],\"barpolar\":[{\"marker\":{\"line\":{\"color\":\"#E5ECF6\",\"width\":0.5},\"pattern\":{\"fillmode\":\"overlay\",\"size\":10,\"solidity\":0.2}},\"type\":\"barpolar\"}],\"carpet\":[{\"aaxis\":{\"endlinecolor\":\"#2a3f5f\",\"gridcolor\":\"white\",\"linecolor\":\"white\",\"minorgridcolor\":\"white\",\"startlinecolor\":\"#2a3f5f\"},\"baxis\":{\"endlinecolor\":\"#2a3f5f\",\"gridcolor\":\"white\",\"linecolor\":\"white\",\"minorgridcolor\":\"white\",\"startlinecolor\":\"#2a3f5f\"},\"type\":\"carpet\"}],\"choropleth\":[{\"colorbar\":{\"outlinewidth\":0,\"ticks\":\"\"},\"type\":\"choropleth\"}],\"contour\":[{\"colorbar\":{\"outlinewidth\":0,\"ticks\":\"\"},\"colorscale\":[[0.0,\"#0d0887\"],[0.1111111111111111,\"#46039f\"],[0.2222222222222222,\"#7201a8\"],[0.3333333333333333,\"#9c179e\"],[0.4444444444444444,\"#bd3786\"],[0.5555555555555556,\"#d8576b\"],[0.6666666666666666,\"#ed7953\"],[0.7777777777777778,\"#fb9f3a\"],[0.8888888888888888,\"#fdca26\"],[1.0,\"#f0f921\"]],\"type\":\"contour\"}],\"contourcarpet\":[{\"colorbar\":{\"outlinewidth\":0,\"ticks\":\"\"},\"type\":\"contourcarpet\"}],\"heatmap\":[{\"colorbar\":{\"outlinewidth\":0,\"ticks\":\"\"},\"colorscale\":[[0.0,\"#0d0887\"],[0.1111111111111111,\"#46039f\"],[0.2222222222222222,\"#7201a8\"],[0.3333333333333333,\"#9c179e\"],[0.4444444444444444,\"#bd3786\"],[0.5555555555555556,\"#d8576b\"],[0.6666666666666666,\"#ed7953\"],[0.7777777777777778,\"#fb9f3a\"],[0.8888888888888888,\"#fdca26\"],[1.0,\"#f0f921\"]],\"type\":\"heatmap\"}],\"heatmapgl\":[{\"colorbar\":{\"outlinewidth\":0,\"ticks\":\"\"},\"colorscale\":[[0.0,\"#0d0887\"],[0.1111111111111111,\"#46039f\"],[0.2222222222222222,\"#7201a8\"],[0.3333333333333333,\"#9c179e\"],[0.4444444444444444,\"#bd3786\"],[0.5555555555555556,\"#d8576b\"],[0.6666666666666666,\"#ed7953\"],[0.7777777777777778,\"#fb9f3a\"],[0.8888888888888888,\"#fdca26\"],[1.0,\"#f0f921\"]],\"type\":\"heatmapgl\"}],\"histogram\":[{\"marker\":{\"pattern\":{\"fillmode\":\"overlay\",\"size\":10,\"solidity\":0.2}},\"type\":\"histogram\"}],\"histogram2d\":[{\"colorbar\":{\"outlinewidth\":0,\"ticks\":\"\"},\"colorscale\":[[0.0,\"#0d0887\"],[0.1111111111111111,\"#46039f\"],[0.2222222222222222,\"#7201a8\"],[0.3333333333333333,\"#9c179e\"],[0.4444444444444444,\"#bd3786\"],[0.5555555555555556,\"#d8576b\"],[0.6666666666666666,\"#ed7953\"],[0.7777777777777778,\"#fb9f3a\"],[0.8888888888888888,\"#fdca26\"],[1.0,\"#f0f921\"]],\"type\":\"histogram2d\"}],\"histogram2dcontour\":[{\"colorbar\":{\"outlinewidth\":0,\"ticks\":\"\"},\"colorscale\":[[0.0,\"#0d0887\"],[0.1111111111111111,\"#46039f\"],[0.2222222222222222,\"#7201a8\"],[0.3333333333333333,\"#9c179e\"],[0.4444444444444444,\"#bd3786\"],[0.5555555555555556,\"#d8576b\"],[0.6666666666666666,\"#ed7953\"],[0.7777777777777778,\"#fb9f3a\"],[0.8888888888888888,\"#fdca26\"],[1.0,\"#f0f921\"]],\"type\":\"histogram2dcontour\"}],\"mesh3d\":[{\"colorbar\":{\"outlinewidth\":0,\"ticks\":\"\"},\"type\":\"mesh3d\"}],\"parcoords\":[{\"line\":{\"colorbar\":{\"outlinewidth\":0,\"ticks\":\"\"}},\"type\":\"parcoords\"}],\"pie\":[{\"automargin\":true,\"type\":\"pie\"}],\"scatter\":[{\"marker\":{\"colorbar\":{\"outlinewidth\":0,\"ticks\":\"\"}},\"type\":\"scatter\"}],\"scatter3d\":[{\"line\":{\"colorbar\":{\"outlinewidth\":0,\"ticks\":\"\"}},\"marker\":{\"colorbar\":{\"outlinewidth\":0,\"ticks\":\"\"}},\"type\":\"scatter3d\"}],\"scattercarpet\":[{\"marker\":{\"colorbar\":{\"outlinewidth\":0,\"ticks\":\"\"}},\"type\":\"scattercarpet\"}],\"scattergeo\":[{\"marker\":{\"colorbar\":{\"outlinewidth\":0,\"ticks\":\"\"}},\"type\":\"scattergeo\"}],\"scattergl\":[{\"marker\":{\"colorbar\":{\"outlinewidth\":0,\"ticks\":\"\"}},\"type\":\"scattergl\"}],\"scattermapbox\":[{\"marker\":{\"colorbar\":{\"outlinewidth\":0,\"ticks\":\"\"}},\"type\":\"scattermapbox\"}],\"scatterpolar\":[{\"marker\":{\"colorbar\":{\"outlinewidth\":0,\"ticks\":\"\"}},\"type\":\"scatterpolar\"}],\"scatterpolargl\":[{\"marker\":{\"colorbar\":{\"outlinewidth\":0,\"ticks\":\"\"}},\"type\":\"scatterpolargl\"}],\"scatterternary\":[{\"marker\":{\"colorbar\":{\"outlinewidth\":0,\"ticks\":\"\"}},\"type\":\"scatterternary\"}],\"surface\":[{\"colorbar\":{\"outlinewidth\":0,\"ticks\":\"\"},\"colorscale\":[[0.0,\"#0d0887\"],[0.1111111111111111,\"#46039f\"],[0.2222222222222222,\"#7201a8\"],[0.3333333333333333,\"#9c179e\"],[0.4444444444444444,\"#bd3786\"],[0.5555555555555556,\"#d8576b\"],[0.6666666666666666,\"#ed7953\"],[0.7777777777777778,\"#fb9f3a\"],[0.8888888888888888,\"#fdca26\"],[1.0,\"#f0f921\"]],\"type\":\"surface\"}],\"table\":[{\"cells\":{\"fill\":{\"color\":\"#EBF0F8\"},\"line\":{\"color\":\"white\"}},\"header\":{\"fill\":{\"color\":\"#C8D4E3\"},\"line\":{\"color\":\"white\"}},\"type\":\"table\"}]},\"layout\":{\"annotationdefaults\":{\"arrowcolor\":\"#2a3f5f\",\"arrowhead\":0,\"arrowwidth\":1},\"autotypenumbers\":\"strict\",\"coloraxis\":{\"colorbar\":{\"outlinewidth\":0,\"ticks\":\"\"}},\"colorscale\":{\"diverging\":[[0,\"#8e0152\"],[0.1,\"#c51b7d\"],[0.2,\"#de77ae\"],[0.3,\"#f1b6da\"],[0.4,\"#fde0ef\"],[0.5,\"#f7f7f7\"],[0.6,\"#e6f5d0\"],[0.7,\"#b8e186\"],[0.8,\"#7fbc41\"],[0.9,\"#4d9221\"],[1,\"#276419\"]],\"sequential\":[[0.0,\"#0d0887\"],[0.1111111111111111,\"#46039f\"],[0.2222222222222222,\"#7201a8\"],[0.3333333333333333,\"#9c179e\"],[0.4444444444444444,\"#bd3786\"],[0.5555555555555556,\"#d8576b\"],[0.6666666666666666,\"#ed7953\"],[0.7777777777777778,\"#fb9f3a\"],[0.8888888888888888,\"#fdca26\"],[1.0,\"#f0f921\"]],\"sequentialminus\":[[0.0,\"#0d0887\"],[0.1111111111111111,\"#46039f\"],[0.2222222222222222,\"#7201a8\"],[0.3333333333333333,\"#9c179e\"],[0.4444444444444444,\"#bd3786\"],[0.5555555555555556,\"#d8576b\"],[0.6666666666666666,\"#ed7953\"],[0.7777777777777778,\"#fb9f3a\"],[0.8888888888888888,\"#fdca26\"],[1.0,\"#f0f921\"]]},\"colorway\":[\"#636efa\",\"#EF553B\",\"#00cc96\",\"#ab63fa\",\"#FFA15A\",\"#19d3f3\",\"#FF6692\",\"#B6E880\",\"#FF97FF\",\"#FECB52\"],\"font\":{\"color\":\"#2a3f5f\"},\"geo\":{\"bgcolor\":\"white\",\"lakecolor\":\"white\",\"landcolor\":\"#E5ECF6\",\"showlakes\":true,\"showland\":true,\"subunitcolor\":\"white\"},\"hoverlabel\":{\"align\":\"left\"},\"hovermode\":\"closest\",\"mapbox\":{\"style\":\"light\"},\"paper_bgcolor\":\"white\",\"plot_bgcolor\":\"#E5ECF6\",\"polar\":{\"angularaxis\":{\"gridcolor\":\"white\",\"linecolor\":\"white\",\"ticks\":\"\"},\"bgcolor\":\"#E5ECF6\",\"radialaxis\":{\"gridcolor\":\"white\",\"linecolor\":\"white\",\"ticks\":\"\"}},\"scene\":{\"xaxis\":{\"backgroundcolor\":\"#E5ECF6\",\"gridcolor\":\"white\",\"gridwidth\":2,\"linecolor\":\"white\",\"showbackground\":true,\"ticks\":\"\",\"zerolinecolor\":\"white\"},\"yaxis\":{\"backgroundcolor\":\"#E5ECF6\",\"gridcolor\":\"white\",\"gridwidth\":2,\"linecolor\":\"white\",\"showbackground\":true,\"ticks\":\"\",\"zerolinecolor\":\"white\"},\"zaxis\":{\"backgroundcolor\":\"#E5ECF6\",\"gridcolor\":\"white\",\"gridwidth\":2,\"linecolor\":\"white\",\"showbackground\":true,\"ticks\":\"\",\"zerolinecolor\":\"white\"}},\"shapedefaults\":{\"line\":{\"color\":\"#2a3f5f\"}},\"ternary\":{\"aaxis\":{\"gridcolor\":\"white\",\"linecolor\":\"white\",\"ticks\":\"\"},\"baxis\":{\"gridcolor\":\"white\",\"linecolor\":\"white\",\"ticks\":\"\"},\"bgcolor\":\"#E5ECF6\",\"caxis\":{\"gridcolor\":\"white\",\"linecolor\":\"white\",\"ticks\":\"\"}},\"title\":{\"x\":0.05},\"xaxis\":{\"automargin\":true,\"gridcolor\":\"white\",\"linecolor\":\"white\",\"ticks\":\"\",\"title\":{\"standoff\":15},\"zerolinecolor\":\"white\",\"zerolinewidth\":2},\"yaxis\":{\"automargin\":true,\"gridcolor\":\"white\",\"linecolor\":\"white\",\"ticks\":\"\",\"title\":{\"standoff\":15},\"zerolinecolor\":\"white\",\"zerolinewidth\":2}}},\"xaxis\":{\"anchor\":\"y\",\"domain\":[0.0,1.0],\"title\":{\"text\":\"0\"}},\"yaxis\":{\"anchor\":\"x\",\"domain\":[0.0,1.0],\"title\":{\"text\":\"2\"}},\"coloraxis\":{\"colorbar\":{\"title\":{\"text\":\"color\"}},\"colorscale\":[[0.0,\"#0d0887\"],[0.1111111111111111,\"#46039f\"],[0.2222222222222222,\"#7201a8\"],[0.3333333333333333,\"#9c179e\"],[0.4444444444444444,\"#bd3786\"],[0.5555555555555556,\"#d8576b\"],[0.6666666666666666,\"#ed7953\"],[0.7777777777777778,\"#fb9f3a\"],[0.8888888888888888,\"#fdca26\"],[1.0,\"#f0f921\"]]},\"legend\":{\"tracegroupgap\":0},\"margin\":{\"t\":60},\"height\":1000,\"width\":1000},                        {\"responsive\": true}                    ).then(function(){\n",
       "                            \n",
       "var gd = document.getElementById('0cff9898-acbf-4c85-9983-957099610bf6');\n",
       "var x = new MutationObserver(function (mutations, observer) {{\n",
       "        var display = window.getComputedStyle(gd).display;\n",
       "        if (!display || display === 'none') {{\n",
       "            console.log([gd, 'removed!']);\n",
       "            Plotly.purge(gd);\n",
       "            observer.disconnect();\n",
       "        }}\n",
       "}});\n",
       "\n",
       "// Listen for the removal of the full notebook cells\n",
       "var notebookContainer = gd.closest('#notebook-container');\n",
       "if (notebookContainer) {{\n",
       "    x.observe(notebookContainer, {childList: true});\n",
       "}}\n",
       "\n",
       "// Listen for the clearing of the current output cell\n",
       "var outputEl = gd.closest('.output');\n",
       "if (outputEl) {{\n",
       "    x.observe(outputEl, {childList: true});\n",
       "}}\n",
       "\n",
       "                        })                };                });            </script>        </div>"
      ]
     },
     "metadata": {},
     "output_type": "display_data"
    }
   ],
   "source": [
    "fig = px.scatter(df,\n",
    "x=0,\n",
    "y=2,\n",
    "text=df.index,\n",
    "color=PIB,\n",
    "width=1000,\n",
    "height=1000)\n",
    "fig"
   ]
  },
  {
   "cell_type": "raw",
   "id": "283fecd7",
   "metadata": {},
   "source": [
    "Sur ce nuage de points, les pays situés en bas à droite sont ceux qui présentent un fort revenu et des nouveaux-né en pleine forme ainsi un des dépenses pour la santé importantes. (C'est le cas par exemple de Maltes et Etats-Unis). \n",
    "\n",
    "Alors que les pays situé en bas à gauche sont ceux qui ont un moins bon revenu et un nombre de décés d'enfants plus important, un fort taux de natalité ainsi que des dépenses pour la santé élevées (C'est le cas par exemple d'Haiti). \n",
    "\n",
    "On remarque que le PIB est plus élévé pour les pays se situant en haut à droite, et moins élévés pour les pays situés sur la gauche"
   ]
  },
  {
   "cell_type": "markdown",
   "id": "6dea775e",
   "metadata": {},
   "source": [
    "### Axe 2 et Axe 3 "
   ]
  },
  {
   "cell_type": "code",
   "execution_count": 25,
   "id": "a8e6ef97",
   "metadata": {},
   "outputs": [
    {
     "data": {
      "application/vnd.plotly.v1+json": {
       "config": {
        "plotlyServerURL": "https://plot.ly"
       },
       "data": [
        {
         "hovertemplate": "1=%{x}<br>2=%{y}<br>index=%{text}<br>color=%{marker.color}<extra></extra>",
         "legendgroup": "",
         "marker": {
          "color": [
           0,
           0,
           0,
           0,
           1,
           1,
           0,
           2,
           2,
           0,
           2,
           2,
           0,
           1,
           0,
           2,
           0,
           0,
           0,
           0,
           0,
           0,
           1,
           2,
           0,
           0,
           0,
           0,
           0,
           2,
           0,
           0,
           0,
           1,
           0,
           0,
           0,
           0,
           0,
           0,
           0,
           1,
           2,
           1,
           2,
           0,
           0,
           0,
           0,
           1,
           0,
           1,
           0,
           2,
           2,
           0,
           0,
           0,
           2,
           0,
           2,
           0,
           0,
           0,
           0,
           0,
           0,
           1,
           2,
           0,
           0,
           0,
           0,
           2,
           2,
           2,
           0,
           2,
           0,
           0,
           0,
           0,
           2,
           0,
           0,
           1,
           0,
           0,
           0,
           1,
           1,
           2,
           0,
           0,
           0,
           0,
           0,
           0,
           2,
           0,
           0,
           0,
           0,
           0,
           0,
           0,
           0,
           0,
           0,
           0,
           2,
           2,
           0,
           0,
           2,
           1,
           0,
           0,
           0,
           0,
           0,
           1,
           2,
           2,
           0,
           1,
           0,
           0,
           1,
           0,
           0,
           1,
           0,
           2,
           1,
           2,
           0,
           0,
           2,
           2,
           0,
           0,
           0,
           0,
           2,
           2,
           0,
           0,
           0,
           0,
           0,
           0,
           0,
           1,
           0,
           0,
           0,
           2,
           2,
           2,
           1,
           0,
           0,
           1,
           0,
           0,
           0
          ],
          "coloraxis": "coloraxis",
          "symbol": "circle"
         },
         "mode": "markers+text",
         "name": "",
         "orientation": "v",
         "showlegend": false,
         "text": [
          "Afghanistan",
          "Albania",
          "Algeria",
          "Angola",
          "Antigua and Barbuda",
          "Argentina",
          "Armenia",
          "Australia",
          "Austria",
          "Azerbaijan",
          "Bahamas",
          "Bahrain",
          "Bangladesh",
          "Barbados",
          "Belarus",
          "Belgium",
          "Belize",
          "Benin",
          "Bhutan",
          "Bolivia",
          "Bosnia and Herzegovina",
          "Botswana",
          "Brazil",
          "Brunei",
          "Bulgaria",
          "Burkina Faso",
          "Burundi",
          "Cambodia",
          "Cameroon",
          "Canada",
          "Cape Verde",
          "Central African Republic",
          "Chad",
          "Chile",
          "China",
          "Colombia",
          "Comoros",
          "Congo, Dem. Rep.",
          "Congo, Rep.",
          "Costa Rica",
          "Cote d'Ivoire",
          "Croatia",
          "Cyprus",
          "Czech Republic",
          "Denmark",
          "Dominican Republic",
          "Ecuador",
          "Egypt",
          "El Salvador",
          "Equatorial Guinea",
          "Eritrea",
          "Estonia",
          "Fiji",
          "Finland",
          "France",
          "Gabon",
          "Gambia",
          "Georgia",
          "Germany",
          "Ghana",
          "Greece",
          "Grenada",
          "Guatemala",
          "Guinea",
          "Guinea-Bissau",
          "Guyana",
          "Haiti",
          "Hungary",
          "Iceland",
          "India",
          "Indonesia",
          "Iran",
          "Iraq",
          "Ireland",
          "Israel",
          "Italy",
          "Jamaica",
          "Japan",
          "Jordan",
          "Kazakhstan",
          "Kenya",
          "Kiribati",
          "Kuwait",
          "Kyrgyz Republic",
          "Lao",
          "Latvia",
          "Lebanon",
          "Lesotho",
          "Liberia",
          "Libya",
          "Lithuania",
          "Luxembourg",
          "Macedonia, FYR",
          "Madagascar",
          "Malawi",
          "Malaysia",
          "Maldives",
          "Mali",
          "Malta",
          "Mauritania",
          "Mauritius",
          "Micronesia, Fed. Sts.",
          "Moldova",
          "Mongolia",
          "Montenegro",
          "Morocco",
          "Mozambique",
          "Myanmar",
          "Namibia",
          "Nepal",
          "Netherlands",
          "New Zealand",
          "Niger",
          "Nigeria",
          "Norway",
          "Oman",
          "Pakistan",
          "Panama",
          "Paraguay",
          "Peru",
          "Philippines",
          "Poland",
          "Portugal",
          "Qatar",
          "Romania",
          "Russia",
          "Rwanda",
          "Samoa",
          "Saudi Arabia",
          "Senegal",
          "Serbia",
          "Seychelles",
          "Sierra Leone",
          "Singapore",
          "Slovak Republic",
          "Slovenia",
          "Solomon Islands",
          "South Africa",
          "South Korea",
          "Spain",
          "Sri Lanka",
          "St. Vincent and the Grenadines",
          "Sudan",
          "Suriname",
          "Sweden",
          "Switzerland",
          "Tajikistan",
          "Tanzania",
          "Thailand",
          "Timor-Leste",
          "Togo",
          "Tonga",
          "Tunisia",
          "Turkey",
          "Turkmenistan",
          "Uganda",
          "Ukraine",
          "United Arab Emirates",
          "United Kingdom",
          "United States",
          "Uruguay",
          "Uzbekistan",
          "Vanuatu",
          "Venezuela",
          "Vietnam",
          "Yemen",
          "Zambia"
         ],
         "type": "scatter",
         "x": [
          0.15831381483518192,
          -0.6561836394497021,
          -0.4778448729201177,
          1.7878916354941374,
          0.08385569069943824,
          -1.7787199314481668,
          -0.6276402287386381,
          -1.9231381518708008,
          -0.7024994351298783,
          -0.4161758084818526,
          -0.6578137649850839,
          0.5473760360101657,
          -0.9885571345684525,
          -0.5245588191135463,
          0.47923452224760765,
          0.6802797022663063,
          0.6407797991510932,
          0.4642827040755655,
          0.7230387411627092,
          -0.1411215408090799,
          -1.052680416735157,
          0.46768148575497925,
          -2.1659166759399335,
          0.07370811353654069,
          -0.038854170984873926,
          0.11414894707219336,
          -0.3468533125044903,
          0.8524343256191336,
          0.13554866022949097,
          -1.678526941466895,
          0.29204736364551137,
          0.4813598040502729,
          1.385053762769794,
          -1.1107845912795997,
          -1.2412352495040018,
          -1.8095726540772796,
          0.36115904372490715,
          1.141722451073974,
          2.207843684467905,
          -1.402814848830742,
          1.26264849075478,
          -0.8931527970654686,
          -0.02201790607892684,
          0.3718414884067238,
          -0.7920087322922063,
          -0.9101897422261138,
          -1.0818633062732346,
          -0.8361056260722137,
          -0.6271664883419974,
          2.4767276923018944,
          -0.5896485029630187,
          0.9597310743626897,
          1.0248337378028038,
          -1.0359905586058626,
          -1.83256204111318,
          0.3700555954735416,
          0.25470979927041354,
          -0.5767164732884393,
          -1.2491468732724884,
          0.40964408265897767,
          -1.777553415379776,
          -0.48023678070465614,
          -0.636902635552221,
          0.7961315240361375,
          -0.030707562418215373,
          1.31539814670576,
          1.856316673206047,
          1.2006234793599553,
          -0.6027098490745726,
          -0.5449222845494304,
          -0.7476777145040121,
          -1.3585038089344637,
          -0.2601603663464219,
          1.7434515001702122,
          -1.0340906858673025,
          -1.7611065704717412,
          -0.2903488648024284,
          -2.4009144409537306,
          0.4971025914224846,
          -0.2348692504970146,
          -0.1614977635815671,
          0.35940335485030056,
          0.14608129043356546,
          1.2476485108008444,
          0.546131923197951,
          0.09801185582637922,
          -0.33107478124215695,
          2.052419968300085,
          1.0698831961825044,
          0.3699095596981852,
          0.666855710802383,
          4.9893834827932215,
          -0.1724164509082256,
          0.3605175172889301,
          0.28206756475734923,
          1.539120922270739,
          0.9345206287646719,
          0.6482018897634664,
          4.664343462010254,
          1.4171857934423833,
          0.34889181183199003,
          0.07341773634925475,
          0.08699279085538103,
          0.5321391251948818,
          -0.33127202476031414,
          -0.3307364795114255,
          0.9520830186086704,
          -1.6132288302456923,
          1.0047347660368757,
          -0.8043481152253906,
          0.15207378240008884,
          -1.5641634021522426,
          1.0539578875431455,
          0.1238055064791529,
          -1.2810064795849665,
          0.502941322346874,
          -0.44657702800091703,
          1.0505362759383745,
          0.3083671857716277,
          -1.1284514314880632,
          -0.12763181229092263,
          -0.7119797489868609,
          -1.4790872965584456,
          -0.04253031576840177,
          -0.6889723027534305,
          -1.0807866423925128,
          -0.9869413048449164,
          -0.052357819919456094,
          -0.1580226486160875,
          0.10776904852156377,
          -0.9350494443609627,
          2.8524976167861005,
          -0.1273060680434553,
          6.631028191618138,
          0.9883216966528353,
          0.15233155061283765,
          1.2777817182785405,
          -0.5334552419889858,
          -0.46402463326480403,
          -1.789316979600331,
          -1.02750920484597,
          -0.0675700880786451,
          -0.7172080280517503,
          -0.11994742792754995,
          -0.8605302098620219,
          -0.32866319008331124,
          -0.04415338394822349,
          -0.1677054873115219,
          0.7473481626512078,
          -1.1076647239606896,
          0.981267603062029,
          -0.12071670394893251,
          0.10415292431426215,
          -1.4393794547538392,
          1.2675983898439138,
          -0.282164590831474,
          -0.1570459783184267,
          1.175571690713299,
          -1.5070170673909655,
          -2.921893777872996,
          -1.4607101674768508,
          -0.6752955624951196,
          0.6122065434844757,
          -1.1933842485240944,
          1.3150370349040996,
          -0.07758317467243409,
          0.5556268071306267
         ],
         "xaxis": "x",
         "y": [
          -0.9090678859743129,
          -0.11255396723903793,
          1.3605507638716179,
          1.3111443535993252,
          -0.06950051518649314,
          0.9014816534138455,
          0.48766538311278446,
          -0.011736540481696422,
          -0.7004327495442109,
          0.9446068991765,
          -0.49683649579736516,
          1.0270024434812706,
          0.7048475782503676,
          -0.5536331727092452,
          0.6753697064757422,
          -0.8051639444542098,
          -0.08809662702366439,
          -0.35511775977121496,
          -0.09921891600094818,
          0.5127505920578488,
          -1.3497017559702496,
          -0.6457462818355717,
          -0.11414950025934528,
          2.8659235705265433,
          -0.2754958654373398,
          -0.6720414194020858,
          -1.6382038296404662,
          -0.36443231282524713,
          -0.48020340673911754,
          -0.6023791788108612,
          -0.0744834906767563,
          -0.5550761332491145,
          -0.37180200378111344,
          0.2554498609749619,
          0.6474597193575833,
          -0.0987436851379695,
          -0.3428466424411696,
          -0.2909505087043426,
          1.4605595856054072,
          -0.7113915556725194,
          -0.3882604538658131,
          -0.275487718326756,
          0.3064028166495848,
          -0.443034387744107,
          -0.6340717839527041,
          0.08181819531015111,
          -0.16014641984265693,
          0.6987040306525298,
          -0.38798593694114736,
          1.4330574343265758,
          0.8312572914117347,
          0.050823179973292,
          -0.032367661259871616,
          -0.25479915232946676,
          -0.8858368106223851,
          1.4579673185920554,
          -0.46805723439044933,
          -0.839327786218063,
          -0.8119142428138357,
          0.3762353080182997,
          -0.6896447303512826,
          -0.30103939088818055,
          -0.2478478606821013,
          0.23125990903891802,
          -1.410422967396972,
          -0.3302833559984056,
          -1.82925391572243,
          -0.29812626777138057,
          -0.040669833986616145,
          0.5776942658582368,
          1.5372711532075893,
          1.1583180115078535,
          0.11208157390241236,
          -0.6827566187040883,
          0.023796449644739176,
          -0.35008076907751223,
          0.5406972726798314,
          -0.3452387109264792,
          -0.46126642409022434,
          1.5521999872035481,
          -0.23119037792201458,
          -2.430050274495387,
          2.498836475182763,
          -0.2807404830091464,
          0.18035975532097367,
          -0.31001642360541165,
          -0.4083346972010114,
          -2.657530748520053,
          -2.554139448741435,
          1.5879901941160206,
          -0.25226514514865045,
          0.40814678831208906,
          -0.43312515635187493,
          0.24634157879509821,
          -0.3792653670834039,
          0.7271190181333294,
          -0.06342538020122188,
          -0.4853469880509159,
          -0.8829425954692471,
          0.6644126990389905,
          -0.18366875650751707,
          -2.767023826087403,
          -1.4212250072958856,
          1.916267591436915,
          -0.9305796610526853,
          -0.07852349316152762,
          -0.41173862041166376,
          1.1496756161876776,
          -0.7569683385964333,
          0.5073638520053061,
          -0.9698979103617134,
          -0.3617733881216114,
          -0.8259947579001917,
          5.638686626219016,
          0.3622559786888553,
          2.1413588141042568,
          1.0267499578049155,
          -0.6586596295546305,
          0.12434114371369555,
          0.5878483080150035,
          0.46971069473963495,
          -0.16405038698283797,
          -0.9213681940945209,
          3.174988777705434,
          0.2708738860822183,
          1.1960195790083359,
          -1.554739914182465,
          -0.5430027942236946,
          1.857878873325257,
          -0.5343415753142313,
          -0.8689937938416844,
          -0.15548564817831256,
          -1.7803551279249976,
          0.6385683118144247,
          -0.7491872708514632,
          -0.7486438193708295,
          -1.2028867002302794,
          -0.8047478287677031,
          0.23955726352532103,
          -0.39599328563367536,
          1.9666986863661329,
          0.16156455798737113,
          0.6297748036971371,
          0.08848010191237451,
          -0.31409638542701374,
          -0.662587705210669,
          -0.07022459609991541,
          -0.1956395226283436,
          0.6152016791120845,
          0.20758347390670628,
          -1.3220844843643467,
          -0.2880439589389738,
          -0.032096243542742486,
          0.3369293939533858,
          0.7215614015942684,
          -0.9272610091894559,
          0.09087159889590951,
          1.7574955117957318,
          -0.3730202390536834,
          -2.11720095036021,
          -0.15385188866304778,
          0.7420100969044118,
          -0.2846199620354003,
          3.1033489359520496,
          -0.028809825961413557,
          1.0782894920729391,
          0.045128339284352836
         ],
         "yaxis": "y"
        }
       ],
       "layout": {
        "coloraxis": {
         "colorbar": {
          "title": {
           "text": "color"
          }
         },
         "colorscale": [
          [
           0,
           "#0d0887"
          ],
          [
           0.1111111111111111,
           "#46039f"
          ],
          [
           0.2222222222222222,
           "#7201a8"
          ],
          [
           0.3333333333333333,
           "#9c179e"
          ],
          [
           0.4444444444444444,
           "#bd3786"
          ],
          [
           0.5555555555555556,
           "#d8576b"
          ],
          [
           0.6666666666666666,
           "#ed7953"
          ],
          [
           0.7777777777777778,
           "#fb9f3a"
          ],
          [
           0.8888888888888888,
           "#fdca26"
          ],
          [
           1,
           "#f0f921"
          ]
         ]
        },
        "height": 1000,
        "legend": {
         "tracegroupgap": 0
        },
        "margin": {
         "t": 60
        },
        "template": {
         "data": {
          "bar": [
           {
            "error_x": {
             "color": "#2a3f5f"
            },
            "error_y": {
             "color": "#2a3f5f"
            },
            "marker": {
             "line": {
              "color": "#E5ECF6",
              "width": 0.5
             },
             "pattern": {
              "fillmode": "overlay",
              "size": 10,
              "solidity": 0.2
             }
            },
            "type": "bar"
           }
          ],
          "barpolar": [
           {
            "marker": {
             "line": {
              "color": "#E5ECF6",
              "width": 0.5
             },
             "pattern": {
              "fillmode": "overlay",
              "size": 10,
              "solidity": 0.2
             }
            },
            "type": "barpolar"
           }
          ],
          "carpet": [
           {
            "aaxis": {
             "endlinecolor": "#2a3f5f",
             "gridcolor": "white",
             "linecolor": "white",
             "minorgridcolor": "white",
             "startlinecolor": "#2a3f5f"
            },
            "baxis": {
             "endlinecolor": "#2a3f5f",
             "gridcolor": "white",
             "linecolor": "white",
             "minorgridcolor": "white",
             "startlinecolor": "#2a3f5f"
            },
            "type": "carpet"
           }
          ],
          "choropleth": [
           {
            "colorbar": {
             "outlinewidth": 0,
             "ticks": ""
            },
            "type": "choropleth"
           }
          ],
          "contour": [
           {
            "colorbar": {
             "outlinewidth": 0,
             "ticks": ""
            },
            "colorscale": [
             [
              0,
              "#0d0887"
             ],
             [
              0.1111111111111111,
              "#46039f"
             ],
             [
              0.2222222222222222,
              "#7201a8"
             ],
             [
              0.3333333333333333,
              "#9c179e"
             ],
             [
              0.4444444444444444,
              "#bd3786"
             ],
             [
              0.5555555555555556,
              "#d8576b"
             ],
             [
              0.6666666666666666,
              "#ed7953"
             ],
             [
              0.7777777777777778,
              "#fb9f3a"
             ],
             [
              0.8888888888888888,
              "#fdca26"
             ],
             [
              1,
              "#f0f921"
             ]
            ],
            "type": "contour"
           }
          ],
          "contourcarpet": [
           {
            "colorbar": {
             "outlinewidth": 0,
             "ticks": ""
            },
            "type": "contourcarpet"
           }
          ],
          "heatmap": [
           {
            "colorbar": {
             "outlinewidth": 0,
             "ticks": ""
            },
            "colorscale": [
             [
              0,
              "#0d0887"
             ],
             [
              0.1111111111111111,
              "#46039f"
             ],
             [
              0.2222222222222222,
              "#7201a8"
             ],
             [
              0.3333333333333333,
              "#9c179e"
             ],
             [
              0.4444444444444444,
              "#bd3786"
             ],
             [
              0.5555555555555556,
              "#d8576b"
             ],
             [
              0.6666666666666666,
              "#ed7953"
             ],
             [
              0.7777777777777778,
              "#fb9f3a"
             ],
             [
              0.8888888888888888,
              "#fdca26"
             ],
             [
              1,
              "#f0f921"
             ]
            ],
            "type": "heatmap"
           }
          ],
          "heatmapgl": [
           {
            "colorbar": {
             "outlinewidth": 0,
             "ticks": ""
            },
            "colorscale": [
             [
              0,
              "#0d0887"
             ],
             [
              0.1111111111111111,
              "#46039f"
             ],
             [
              0.2222222222222222,
              "#7201a8"
             ],
             [
              0.3333333333333333,
              "#9c179e"
             ],
             [
              0.4444444444444444,
              "#bd3786"
             ],
             [
              0.5555555555555556,
              "#d8576b"
             ],
             [
              0.6666666666666666,
              "#ed7953"
             ],
             [
              0.7777777777777778,
              "#fb9f3a"
             ],
             [
              0.8888888888888888,
              "#fdca26"
             ],
             [
              1,
              "#f0f921"
             ]
            ],
            "type": "heatmapgl"
           }
          ],
          "histogram": [
           {
            "marker": {
             "pattern": {
              "fillmode": "overlay",
              "size": 10,
              "solidity": 0.2
             }
            },
            "type": "histogram"
           }
          ],
          "histogram2d": [
           {
            "colorbar": {
             "outlinewidth": 0,
             "ticks": ""
            },
            "colorscale": [
             [
              0,
              "#0d0887"
             ],
             [
              0.1111111111111111,
              "#46039f"
             ],
             [
              0.2222222222222222,
              "#7201a8"
             ],
             [
              0.3333333333333333,
              "#9c179e"
             ],
             [
              0.4444444444444444,
              "#bd3786"
             ],
             [
              0.5555555555555556,
              "#d8576b"
             ],
             [
              0.6666666666666666,
              "#ed7953"
             ],
             [
              0.7777777777777778,
              "#fb9f3a"
             ],
             [
              0.8888888888888888,
              "#fdca26"
             ],
             [
              1,
              "#f0f921"
             ]
            ],
            "type": "histogram2d"
           }
          ],
          "histogram2dcontour": [
           {
            "colorbar": {
             "outlinewidth": 0,
             "ticks": ""
            },
            "colorscale": [
             [
              0,
              "#0d0887"
             ],
             [
              0.1111111111111111,
              "#46039f"
             ],
             [
              0.2222222222222222,
              "#7201a8"
             ],
             [
              0.3333333333333333,
              "#9c179e"
             ],
             [
              0.4444444444444444,
              "#bd3786"
             ],
             [
              0.5555555555555556,
              "#d8576b"
             ],
             [
              0.6666666666666666,
              "#ed7953"
             ],
             [
              0.7777777777777778,
              "#fb9f3a"
             ],
             [
              0.8888888888888888,
              "#fdca26"
             ],
             [
              1,
              "#f0f921"
             ]
            ],
            "type": "histogram2dcontour"
           }
          ],
          "mesh3d": [
           {
            "colorbar": {
             "outlinewidth": 0,
             "ticks": ""
            },
            "type": "mesh3d"
           }
          ],
          "parcoords": [
           {
            "line": {
             "colorbar": {
              "outlinewidth": 0,
              "ticks": ""
             }
            },
            "type": "parcoords"
           }
          ],
          "pie": [
           {
            "automargin": true,
            "type": "pie"
           }
          ],
          "scatter": [
           {
            "marker": {
             "colorbar": {
              "outlinewidth": 0,
              "ticks": ""
             }
            },
            "type": "scatter"
           }
          ],
          "scatter3d": [
           {
            "line": {
             "colorbar": {
              "outlinewidth": 0,
              "ticks": ""
             }
            },
            "marker": {
             "colorbar": {
              "outlinewidth": 0,
              "ticks": ""
             }
            },
            "type": "scatter3d"
           }
          ],
          "scattercarpet": [
           {
            "marker": {
             "colorbar": {
              "outlinewidth": 0,
              "ticks": ""
             }
            },
            "type": "scattercarpet"
           }
          ],
          "scattergeo": [
           {
            "marker": {
             "colorbar": {
              "outlinewidth": 0,
              "ticks": ""
             }
            },
            "type": "scattergeo"
           }
          ],
          "scattergl": [
           {
            "marker": {
             "colorbar": {
              "outlinewidth": 0,
              "ticks": ""
             }
            },
            "type": "scattergl"
           }
          ],
          "scattermapbox": [
           {
            "marker": {
             "colorbar": {
              "outlinewidth": 0,
              "ticks": ""
             }
            },
            "type": "scattermapbox"
           }
          ],
          "scatterpolar": [
           {
            "marker": {
             "colorbar": {
              "outlinewidth": 0,
              "ticks": ""
             }
            },
            "type": "scatterpolar"
           }
          ],
          "scatterpolargl": [
           {
            "marker": {
             "colorbar": {
              "outlinewidth": 0,
              "ticks": ""
             }
            },
            "type": "scatterpolargl"
           }
          ],
          "scatterternary": [
           {
            "marker": {
             "colorbar": {
              "outlinewidth": 0,
              "ticks": ""
             }
            },
            "type": "scatterternary"
           }
          ],
          "surface": [
           {
            "colorbar": {
             "outlinewidth": 0,
             "ticks": ""
            },
            "colorscale": [
             [
              0,
              "#0d0887"
             ],
             [
              0.1111111111111111,
              "#46039f"
             ],
             [
              0.2222222222222222,
              "#7201a8"
             ],
             [
              0.3333333333333333,
              "#9c179e"
             ],
             [
              0.4444444444444444,
              "#bd3786"
             ],
             [
              0.5555555555555556,
              "#d8576b"
             ],
             [
              0.6666666666666666,
              "#ed7953"
             ],
             [
              0.7777777777777778,
              "#fb9f3a"
             ],
             [
              0.8888888888888888,
              "#fdca26"
             ],
             [
              1,
              "#f0f921"
             ]
            ],
            "type": "surface"
           }
          ],
          "table": [
           {
            "cells": {
             "fill": {
              "color": "#EBF0F8"
             },
             "line": {
              "color": "white"
             }
            },
            "header": {
             "fill": {
              "color": "#C8D4E3"
             },
             "line": {
              "color": "white"
             }
            },
            "type": "table"
           }
          ]
         },
         "layout": {
          "annotationdefaults": {
           "arrowcolor": "#2a3f5f",
           "arrowhead": 0,
           "arrowwidth": 1
          },
          "autotypenumbers": "strict",
          "coloraxis": {
           "colorbar": {
            "outlinewidth": 0,
            "ticks": ""
           }
          },
          "colorscale": {
           "diverging": [
            [
             0,
             "#8e0152"
            ],
            [
             0.1,
             "#c51b7d"
            ],
            [
             0.2,
             "#de77ae"
            ],
            [
             0.3,
             "#f1b6da"
            ],
            [
             0.4,
             "#fde0ef"
            ],
            [
             0.5,
             "#f7f7f7"
            ],
            [
             0.6,
             "#e6f5d0"
            ],
            [
             0.7,
             "#b8e186"
            ],
            [
             0.8,
             "#7fbc41"
            ],
            [
             0.9,
             "#4d9221"
            ],
            [
             1,
             "#276419"
            ]
           ],
           "sequential": [
            [
             0,
             "#0d0887"
            ],
            [
             0.1111111111111111,
             "#46039f"
            ],
            [
             0.2222222222222222,
             "#7201a8"
            ],
            [
             0.3333333333333333,
             "#9c179e"
            ],
            [
             0.4444444444444444,
             "#bd3786"
            ],
            [
             0.5555555555555556,
             "#d8576b"
            ],
            [
             0.6666666666666666,
             "#ed7953"
            ],
            [
             0.7777777777777778,
             "#fb9f3a"
            ],
            [
             0.8888888888888888,
             "#fdca26"
            ],
            [
             1,
             "#f0f921"
            ]
           ],
           "sequentialminus": [
            [
             0,
             "#0d0887"
            ],
            [
             0.1111111111111111,
             "#46039f"
            ],
            [
             0.2222222222222222,
             "#7201a8"
            ],
            [
             0.3333333333333333,
             "#9c179e"
            ],
            [
             0.4444444444444444,
             "#bd3786"
            ],
            [
             0.5555555555555556,
             "#d8576b"
            ],
            [
             0.6666666666666666,
             "#ed7953"
            ],
            [
             0.7777777777777778,
             "#fb9f3a"
            ],
            [
             0.8888888888888888,
             "#fdca26"
            ],
            [
             1,
             "#f0f921"
            ]
           ]
          },
          "colorway": [
           "#636efa",
           "#EF553B",
           "#00cc96",
           "#ab63fa",
           "#FFA15A",
           "#19d3f3",
           "#FF6692",
           "#B6E880",
           "#FF97FF",
           "#FECB52"
          ],
          "font": {
           "color": "#2a3f5f"
          },
          "geo": {
           "bgcolor": "white",
           "lakecolor": "white",
           "landcolor": "#E5ECF6",
           "showlakes": true,
           "showland": true,
           "subunitcolor": "white"
          },
          "hoverlabel": {
           "align": "left"
          },
          "hovermode": "closest",
          "mapbox": {
           "style": "light"
          },
          "paper_bgcolor": "white",
          "plot_bgcolor": "#E5ECF6",
          "polar": {
           "angularaxis": {
            "gridcolor": "white",
            "linecolor": "white",
            "ticks": ""
           },
           "bgcolor": "#E5ECF6",
           "radialaxis": {
            "gridcolor": "white",
            "linecolor": "white",
            "ticks": ""
           }
          },
          "scene": {
           "xaxis": {
            "backgroundcolor": "#E5ECF6",
            "gridcolor": "white",
            "gridwidth": 2,
            "linecolor": "white",
            "showbackground": true,
            "ticks": "",
            "zerolinecolor": "white"
           },
           "yaxis": {
            "backgroundcolor": "#E5ECF6",
            "gridcolor": "white",
            "gridwidth": 2,
            "linecolor": "white",
            "showbackground": true,
            "ticks": "",
            "zerolinecolor": "white"
           },
           "zaxis": {
            "backgroundcolor": "#E5ECF6",
            "gridcolor": "white",
            "gridwidth": 2,
            "linecolor": "white",
            "showbackground": true,
            "ticks": "",
            "zerolinecolor": "white"
           }
          },
          "shapedefaults": {
           "line": {
            "color": "#2a3f5f"
           }
          },
          "ternary": {
           "aaxis": {
            "gridcolor": "white",
            "linecolor": "white",
            "ticks": ""
           },
           "baxis": {
            "gridcolor": "white",
            "linecolor": "white",
            "ticks": ""
           },
           "bgcolor": "#E5ECF6",
           "caxis": {
            "gridcolor": "white",
            "linecolor": "white",
            "ticks": ""
           }
          },
          "title": {
           "x": 0.05
          },
          "xaxis": {
           "automargin": true,
           "gridcolor": "white",
           "linecolor": "white",
           "ticks": "",
           "title": {
            "standoff": 15
           },
           "zerolinecolor": "white",
           "zerolinewidth": 2
          },
          "yaxis": {
           "automargin": true,
           "gridcolor": "white",
           "linecolor": "white",
           "ticks": "",
           "title": {
            "standoff": 15
           },
           "zerolinecolor": "white",
           "zerolinewidth": 2
          }
         }
        },
        "width": 1000,
        "xaxis": {
         "anchor": "y",
         "domain": [
          0,
          1
         ],
         "title": {
          "text": "1"
         }
        },
        "yaxis": {
         "anchor": "x",
         "domain": [
          0,
          1
         ],
         "title": {
          "text": "2"
         }
        }
       }
      },
      "text/html": [
       "<div>                            <div id=\"568dbe99-77b2-4951-9977-3c332758d29d\" class=\"plotly-graph-div\" style=\"height:1000px; width:1000px;\"></div>            <script type=\"text/javascript\">                require([\"plotly\"], function(Plotly) {                    window.PLOTLYENV=window.PLOTLYENV || {};                                    if (document.getElementById(\"568dbe99-77b2-4951-9977-3c332758d29d\")) {                    Plotly.newPlot(                        \"568dbe99-77b2-4951-9977-3c332758d29d\",                        [{\"hovertemplate\":\"1=%{x}<br>2=%{y}<br>index=%{text}<br>color=%{marker.color}<extra></extra>\",\"legendgroup\":\"\",\"marker\":{\"color\":[0.0,0.0,0.0,0.0,1.0,1.0,0.0,2.0,2.0,0.0,2.0,2.0,0.0,1.0,0.0,2.0,0.0,0.0,0.0,0.0,0.0,0.0,1.0,2.0,0.0,0.0,0.0,0.0,0.0,2.0,0.0,0.0,0.0,1.0,0.0,0.0,0.0,0.0,0.0,0.0,0.0,1.0,2.0,1.0,2.0,0.0,0.0,0.0,0.0,1.0,0.0,1.0,0.0,2.0,2.0,0.0,0.0,0.0,2.0,0.0,2.0,0.0,0.0,0.0,0.0,0.0,0.0,1.0,2.0,0.0,0.0,0.0,0.0,2.0,2.0,2.0,0.0,2.0,0.0,0.0,0.0,0.0,2.0,0.0,0.0,1.0,0.0,0.0,0.0,1.0,1.0,2.0,0.0,0.0,0.0,0.0,0.0,0.0,2.0,0.0,0.0,0.0,0.0,0.0,0.0,0.0,0.0,0.0,0.0,0.0,2.0,2.0,0.0,0.0,2.0,1.0,0.0,0.0,0.0,0.0,0.0,1.0,2.0,2.0,0.0,1.0,0.0,0.0,1.0,0.0,0.0,1.0,0.0,2.0,1.0,2.0,0.0,0.0,2.0,2.0,0.0,0.0,0.0,0.0,2.0,2.0,0.0,0.0,0.0,0.0,0.0,0.0,0.0,1.0,0.0,0.0,0.0,2.0,2.0,2.0,1.0,0.0,0.0,1.0,0.0,0.0,0.0],\"coloraxis\":\"coloraxis\",\"symbol\":\"circle\"},\"mode\":\"markers+text\",\"name\":\"\",\"orientation\":\"v\",\"showlegend\":false,\"text\":[\"Afghanistan\",\"Albania\",\"Algeria\",\"Angola\",\"Antigua and Barbuda\",\"Argentina\",\"Armenia\",\"Australia\",\"Austria\",\"Azerbaijan\",\"Bahamas\",\"Bahrain\",\"Bangladesh\",\"Barbados\",\"Belarus\",\"Belgium\",\"Belize\",\"Benin\",\"Bhutan\",\"Bolivia\",\"Bosnia and Herzegovina\",\"Botswana\",\"Brazil\",\"Brunei\",\"Bulgaria\",\"Burkina Faso\",\"Burundi\",\"Cambodia\",\"Cameroon\",\"Canada\",\"Cape Verde\",\"Central African Republic\",\"Chad\",\"Chile\",\"China\",\"Colombia\",\"Comoros\",\"Congo, Dem. Rep.\",\"Congo, Rep.\",\"Costa Rica\",\"Cote d'Ivoire\",\"Croatia\",\"Cyprus\",\"Czech Republic\",\"Denmark\",\"Dominican Republic\",\"Ecuador\",\"Egypt\",\"El Salvador\",\"Equatorial Guinea\",\"Eritrea\",\"Estonia\",\"Fiji\",\"Finland\",\"France\",\"Gabon\",\"Gambia\",\"Georgia\",\"Germany\",\"Ghana\",\"Greece\",\"Grenada\",\"Guatemala\",\"Guinea\",\"Guinea-Bissau\",\"Guyana\",\"Haiti\",\"Hungary\",\"Iceland\",\"India\",\"Indonesia\",\"Iran\",\"Iraq\",\"Ireland\",\"Israel\",\"Italy\",\"Jamaica\",\"Japan\",\"Jordan\",\"Kazakhstan\",\"Kenya\",\"Kiribati\",\"Kuwait\",\"Kyrgyz Republic\",\"Lao\",\"Latvia\",\"Lebanon\",\"Lesotho\",\"Liberia\",\"Libya\",\"Lithuania\",\"Luxembourg\",\"Macedonia, FYR\",\"Madagascar\",\"Malawi\",\"Malaysia\",\"Maldives\",\"Mali\",\"Malta\",\"Mauritania\",\"Mauritius\",\"Micronesia, Fed. Sts.\",\"Moldova\",\"Mongolia\",\"Montenegro\",\"Morocco\",\"Mozambique\",\"Myanmar\",\"Namibia\",\"Nepal\",\"Netherlands\",\"New Zealand\",\"Niger\",\"Nigeria\",\"Norway\",\"Oman\",\"Pakistan\",\"Panama\",\"Paraguay\",\"Peru\",\"Philippines\",\"Poland\",\"Portugal\",\"Qatar\",\"Romania\",\"Russia\",\"Rwanda\",\"Samoa\",\"Saudi Arabia\",\"Senegal\",\"Serbia\",\"Seychelles\",\"Sierra Leone\",\"Singapore\",\"Slovak Republic\",\"Slovenia\",\"Solomon Islands\",\"South Africa\",\"South Korea\",\"Spain\",\"Sri Lanka\",\"St. Vincent and the Grenadines\",\"Sudan\",\"Suriname\",\"Sweden\",\"Switzerland\",\"Tajikistan\",\"Tanzania\",\"Thailand\",\"Timor-Leste\",\"Togo\",\"Tonga\",\"Tunisia\",\"Turkey\",\"Turkmenistan\",\"Uganda\",\"Ukraine\",\"United Arab Emirates\",\"United Kingdom\",\"United States\",\"Uruguay\",\"Uzbekistan\",\"Vanuatu\",\"Venezuela\",\"Vietnam\",\"Yemen\",\"Zambia\"],\"x\":[0.15831381483518192,-0.6561836394497021,-0.4778448729201177,1.7878916354941374,0.08385569069943824,-1.7787199314481668,-0.6276402287386381,-1.9231381518708008,-0.7024994351298783,-0.4161758084818526,-0.6578137649850839,0.5473760360101657,-0.9885571345684525,-0.5245588191135463,0.47923452224760765,0.6802797022663063,0.6407797991510932,0.4642827040755655,0.7230387411627092,-0.1411215408090799,-1.052680416735157,0.46768148575497925,-2.1659166759399335,0.07370811353654069,-0.038854170984873926,0.11414894707219336,-0.3468533125044903,0.8524343256191336,0.13554866022949097,-1.678526941466895,0.29204736364551137,0.4813598040502729,1.385053762769794,-1.1107845912795997,-1.2412352495040018,-1.8095726540772796,0.36115904372490715,1.141722451073974,2.207843684467905,-1.402814848830742,1.26264849075478,-0.8931527970654686,-0.02201790607892684,0.3718414884067238,-0.7920087322922063,-0.9101897422261138,-1.0818633062732346,-0.8361056260722137,-0.6271664883419974,2.4767276923018944,-0.5896485029630187,0.9597310743626897,1.0248337378028038,-1.0359905586058626,-1.83256204111318,0.3700555954735416,0.25470979927041354,-0.5767164732884393,-1.2491468732724884,0.40964408265897767,-1.777553415379776,-0.48023678070465614,-0.636902635552221,0.7961315240361375,-0.030707562418215373,1.31539814670576,1.856316673206047,1.2006234793599553,-0.6027098490745726,-0.5449222845494304,-0.7476777145040121,-1.3585038089344637,-0.2601603663464219,1.7434515001702122,-1.0340906858673025,-1.7611065704717412,-0.2903488648024284,-2.4009144409537306,0.4971025914224846,-0.2348692504970146,-0.1614977635815671,0.35940335485030056,0.14608129043356546,1.2476485108008444,0.546131923197951,0.09801185582637922,-0.33107478124215695,2.052419968300085,1.0698831961825044,0.3699095596981852,0.666855710802383,4.9893834827932215,-0.1724164509082256,0.3605175172889301,0.28206756475734923,1.539120922270739,0.9345206287646719,0.6482018897634664,4.664343462010254,1.4171857934423833,0.34889181183199003,0.07341773634925475,0.08699279085538103,0.5321391251948818,-0.33127202476031414,-0.3307364795114255,0.9520830186086704,-1.6132288302456923,1.0047347660368757,-0.8043481152253906,0.15207378240008884,-1.5641634021522426,1.0539578875431455,0.1238055064791529,-1.2810064795849665,0.502941322346874,-0.44657702800091703,1.0505362759383745,0.3083671857716277,-1.1284514314880632,-0.12763181229092263,-0.7119797489868609,-1.4790872965584456,-0.04253031576840177,-0.6889723027534305,-1.0807866423925128,-0.9869413048449164,-0.052357819919456094,-0.1580226486160875,0.10776904852156377,-0.9350494443609627,2.8524976167861005,-0.1273060680434553,6.631028191618138,0.9883216966528353,0.15233155061283765,1.2777817182785405,-0.5334552419889858,-0.46402463326480403,-1.789316979600331,-1.02750920484597,-0.0675700880786451,-0.7172080280517503,-0.11994742792754995,-0.8605302098620219,-0.32866319008331124,-0.04415338394822349,-0.1677054873115219,0.7473481626512078,-1.1076647239606896,0.981267603062029,-0.12071670394893251,0.10415292431426215,-1.4393794547538392,1.2675983898439138,-0.282164590831474,-0.1570459783184267,1.175571690713299,-1.5070170673909655,-2.921893777872996,-1.4607101674768508,-0.6752955624951196,0.6122065434844757,-1.1933842485240944,1.3150370349040996,-0.07758317467243409,0.5556268071306267],\"xaxis\":\"x\",\"y\":[-0.9090678859743129,-0.11255396723903793,1.3605507638716179,1.3111443535993252,-0.06950051518649314,0.9014816534138455,0.48766538311278446,-0.011736540481696422,-0.7004327495442109,0.9446068991765,-0.49683649579736516,1.0270024434812706,0.7048475782503676,-0.5536331727092452,0.6753697064757422,-0.8051639444542098,-0.08809662702366439,-0.35511775977121496,-0.09921891600094818,0.5127505920578488,-1.3497017559702496,-0.6457462818355717,-0.11414950025934528,2.8659235705265433,-0.2754958654373398,-0.6720414194020858,-1.6382038296404662,-0.36443231282524713,-0.48020340673911754,-0.6023791788108612,-0.0744834906767563,-0.5550761332491145,-0.37180200378111344,0.2554498609749619,0.6474597193575833,-0.0987436851379695,-0.3428466424411696,-0.2909505087043426,1.4605595856054072,-0.7113915556725194,-0.3882604538658131,-0.275487718326756,0.3064028166495848,-0.443034387744107,-0.6340717839527041,0.08181819531015111,-0.16014641984265693,0.6987040306525298,-0.38798593694114736,1.4330574343265758,0.8312572914117347,0.050823179973292,-0.032367661259871616,-0.25479915232946676,-0.8858368106223851,1.4579673185920554,-0.46805723439044933,-0.839327786218063,-0.8119142428138357,0.3762353080182997,-0.6896447303512826,-0.30103939088818055,-0.2478478606821013,0.23125990903891802,-1.410422967396972,-0.3302833559984056,-1.82925391572243,-0.29812626777138057,-0.040669833986616145,0.5776942658582368,1.5372711532075893,1.1583180115078535,0.11208157390241236,-0.6827566187040883,0.023796449644739176,-0.35008076907751223,0.5406972726798314,-0.3452387109264792,-0.46126642409022434,1.5521999872035481,-0.23119037792201458,-2.430050274495387,2.498836475182763,-0.2807404830091464,0.18035975532097367,-0.31001642360541165,-0.4083346972010114,-2.657530748520053,-2.554139448741435,1.5879901941160206,-0.25226514514865045,0.40814678831208906,-0.43312515635187493,0.24634157879509821,-0.3792653670834039,0.7271190181333294,-0.06342538020122188,-0.4853469880509159,-0.8829425954692471,0.6644126990389905,-0.18366875650751707,-2.767023826087403,-1.4212250072958856,1.916267591436915,-0.9305796610526853,-0.07852349316152762,-0.41173862041166376,1.1496756161876776,-0.7569683385964333,0.5073638520053061,-0.9698979103617134,-0.3617733881216114,-0.8259947579001917,5.638686626219016,0.3622559786888553,2.1413588141042568,1.0267499578049155,-0.6586596295546305,0.12434114371369555,0.5878483080150035,0.46971069473963495,-0.16405038698283797,-0.9213681940945209,3.174988777705434,0.2708738860822183,1.1960195790083359,-1.554739914182465,-0.5430027942236946,1.857878873325257,-0.5343415753142313,-0.8689937938416844,-0.15548564817831256,-1.7803551279249976,0.6385683118144247,-0.7491872708514632,-0.7486438193708295,-1.2028867002302794,-0.8047478287677031,0.23955726352532103,-0.39599328563367536,1.9666986863661329,0.16156455798737113,0.6297748036971371,0.08848010191237451,-0.31409638542701374,-0.662587705210669,-0.07022459609991541,-0.1956395226283436,0.6152016791120845,0.20758347390670628,-1.3220844843643467,-0.2880439589389738,-0.032096243542742486,0.3369293939533858,0.7215614015942684,-0.9272610091894559,0.09087159889590951,1.7574955117957318,-0.3730202390536834,-2.11720095036021,-0.15385188866304778,0.7420100969044118,-0.2846199620354003,3.1033489359520496,-0.028809825961413557,1.0782894920729391,0.045128339284352836],\"yaxis\":\"y\",\"type\":\"scatter\"}],                        {\"template\":{\"data\":{\"bar\":[{\"error_x\":{\"color\":\"#2a3f5f\"},\"error_y\":{\"color\":\"#2a3f5f\"},\"marker\":{\"line\":{\"color\":\"#E5ECF6\",\"width\":0.5},\"pattern\":{\"fillmode\":\"overlay\",\"size\":10,\"solidity\":0.2}},\"type\":\"bar\"}],\"barpolar\":[{\"marker\":{\"line\":{\"color\":\"#E5ECF6\",\"width\":0.5},\"pattern\":{\"fillmode\":\"overlay\",\"size\":10,\"solidity\":0.2}},\"type\":\"barpolar\"}],\"carpet\":[{\"aaxis\":{\"endlinecolor\":\"#2a3f5f\",\"gridcolor\":\"white\",\"linecolor\":\"white\",\"minorgridcolor\":\"white\",\"startlinecolor\":\"#2a3f5f\"},\"baxis\":{\"endlinecolor\":\"#2a3f5f\",\"gridcolor\":\"white\",\"linecolor\":\"white\",\"minorgridcolor\":\"white\",\"startlinecolor\":\"#2a3f5f\"},\"type\":\"carpet\"}],\"choropleth\":[{\"colorbar\":{\"outlinewidth\":0,\"ticks\":\"\"},\"type\":\"choropleth\"}],\"contour\":[{\"colorbar\":{\"outlinewidth\":0,\"ticks\":\"\"},\"colorscale\":[[0.0,\"#0d0887\"],[0.1111111111111111,\"#46039f\"],[0.2222222222222222,\"#7201a8\"],[0.3333333333333333,\"#9c179e\"],[0.4444444444444444,\"#bd3786\"],[0.5555555555555556,\"#d8576b\"],[0.6666666666666666,\"#ed7953\"],[0.7777777777777778,\"#fb9f3a\"],[0.8888888888888888,\"#fdca26\"],[1.0,\"#f0f921\"]],\"type\":\"contour\"}],\"contourcarpet\":[{\"colorbar\":{\"outlinewidth\":0,\"ticks\":\"\"},\"type\":\"contourcarpet\"}],\"heatmap\":[{\"colorbar\":{\"outlinewidth\":0,\"ticks\":\"\"},\"colorscale\":[[0.0,\"#0d0887\"],[0.1111111111111111,\"#46039f\"],[0.2222222222222222,\"#7201a8\"],[0.3333333333333333,\"#9c179e\"],[0.4444444444444444,\"#bd3786\"],[0.5555555555555556,\"#d8576b\"],[0.6666666666666666,\"#ed7953\"],[0.7777777777777778,\"#fb9f3a\"],[0.8888888888888888,\"#fdca26\"],[1.0,\"#f0f921\"]],\"type\":\"heatmap\"}],\"heatmapgl\":[{\"colorbar\":{\"outlinewidth\":0,\"ticks\":\"\"},\"colorscale\":[[0.0,\"#0d0887\"],[0.1111111111111111,\"#46039f\"],[0.2222222222222222,\"#7201a8\"],[0.3333333333333333,\"#9c179e\"],[0.4444444444444444,\"#bd3786\"],[0.5555555555555556,\"#d8576b\"],[0.6666666666666666,\"#ed7953\"],[0.7777777777777778,\"#fb9f3a\"],[0.8888888888888888,\"#fdca26\"],[1.0,\"#f0f921\"]],\"type\":\"heatmapgl\"}],\"histogram\":[{\"marker\":{\"pattern\":{\"fillmode\":\"overlay\",\"size\":10,\"solidity\":0.2}},\"type\":\"histogram\"}],\"histogram2d\":[{\"colorbar\":{\"outlinewidth\":0,\"ticks\":\"\"},\"colorscale\":[[0.0,\"#0d0887\"],[0.1111111111111111,\"#46039f\"],[0.2222222222222222,\"#7201a8\"],[0.3333333333333333,\"#9c179e\"],[0.4444444444444444,\"#bd3786\"],[0.5555555555555556,\"#d8576b\"],[0.6666666666666666,\"#ed7953\"],[0.7777777777777778,\"#fb9f3a\"],[0.8888888888888888,\"#fdca26\"],[1.0,\"#f0f921\"]],\"type\":\"histogram2d\"}],\"histogram2dcontour\":[{\"colorbar\":{\"outlinewidth\":0,\"ticks\":\"\"},\"colorscale\":[[0.0,\"#0d0887\"],[0.1111111111111111,\"#46039f\"],[0.2222222222222222,\"#7201a8\"],[0.3333333333333333,\"#9c179e\"],[0.4444444444444444,\"#bd3786\"],[0.5555555555555556,\"#d8576b\"],[0.6666666666666666,\"#ed7953\"],[0.7777777777777778,\"#fb9f3a\"],[0.8888888888888888,\"#fdca26\"],[1.0,\"#f0f921\"]],\"type\":\"histogram2dcontour\"}],\"mesh3d\":[{\"colorbar\":{\"outlinewidth\":0,\"ticks\":\"\"},\"type\":\"mesh3d\"}],\"parcoords\":[{\"line\":{\"colorbar\":{\"outlinewidth\":0,\"ticks\":\"\"}},\"type\":\"parcoords\"}],\"pie\":[{\"automargin\":true,\"type\":\"pie\"}],\"scatter\":[{\"marker\":{\"colorbar\":{\"outlinewidth\":0,\"ticks\":\"\"}},\"type\":\"scatter\"}],\"scatter3d\":[{\"line\":{\"colorbar\":{\"outlinewidth\":0,\"ticks\":\"\"}},\"marker\":{\"colorbar\":{\"outlinewidth\":0,\"ticks\":\"\"}},\"type\":\"scatter3d\"}],\"scattercarpet\":[{\"marker\":{\"colorbar\":{\"outlinewidth\":0,\"ticks\":\"\"}},\"type\":\"scattercarpet\"}],\"scattergeo\":[{\"marker\":{\"colorbar\":{\"outlinewidth\":0,\"ticks\":\"\"}},\"type\":\"scattergeo\"}],\"scattergl\":[{\"marker\":{\"colorbar\":{\"outlinewidth\":0,\"ticks\":\"\"}},\"type\":\"scattergl\"}],\"scattermapbox\":[{\"marker\":{\"colorbar\":{\"outlinewidth\":0,\"ticks\":\"\"}},\"type\":\"scattermapbox\"}],\"scatterpolar\":[{\"marker\":{\"colorbar\":{\"outlinewidth\":0,\"ticks\":\"\"}},\"type\":\"scatterpolar\"}],\"scatterpolargl\":[{\"marker\":{\"colorbar\":{\"outlinewidth\":0,\"ticks\":\"\"}},\"type\":\"scatterpolargl\"}],\"scatterternary\":[{\"marker\":{\"colorbar\":{\"outlinewidth\":0,\"ticks\":\"\"}},\"type\":\"scatterternary\"}],\"surface\":[{\"colorbar\":{\"outlinewidth\":0,\"ticks\":\"\"},\"colorscale\":[[0.0,\"#0d0887\"],[0.1111111111111111,\"#46039f\"],[0.2222222222222222,\"#7201a8\"],[0.3333333333333333,\"#9c179e\"],[0.4444444444444444,\"#bd3786\"],[0.5555555555555556,\"#d8576b\"],[0.6666666666666666,\"#ed7953\"],[0.7777777777777778,\"#fb9f3a\"],[0.8888888888888888,\"#fdca26\"],[1.0,\"#f0f921\"]],\"type\":\"surface\"}],\"table\":[{\"cells\":{\"fill\":{\"color\":\"#EBF0F8\"},\"line\":{\"color\":\"white\"}},\"header\":{\"fill\":{\"color\":\"#C8D4E3\"},\"line\":{\"color\":\"white\"}},\"type\":\"table\"}]},\"layout\":{\"annotationdefaults\":{\"arrowcolor\":\"#2a3f5f\",\"arrowhead\":0,\"arrowwidth\":1},\"autotypenumbers\":\"strict\",\"coloraxis\":{\"colorbar\":{\"outlinewidth\":0,\"ticks\":\"\"}},\"colorscale\":{\"diverging\":[[0,\"#8e0152\"],[0.1,\"#c51b7d\"],[0.2,\"#de77ae\"],[0.3,\"#f1b6da\"],[0.4,\"#fde0ef\"],[0.5,\"#f7f7f7\"],[0.6,\"#e6f5d0\"],[0.7,\"#b8e186\"],[0.8,\"#7fbc41\"],[0.9,\"#4d9221\"],[1,\"#276419\"]],\"sequential\":[[0.0,\"#0d0887\"],[0.1111111111111111,\"#46039f\"],[0.2222222222222222,\"#7201a8\"],[0.3333333333333333,\"#9c179e\"],[0.4444444444444444,\"#bd3786\"],[0.5555555555555556,\"#d8576b\"],[0.6666666666666666,\"#ed7953\"],[0.7777777777777778,\"#fb9f3a\"],[0.8888888888888888,\"#fdca26\"],[1.0,\"#f0f921\"]],\"sequentialminus\":[[0.0,\"#0d0887\"],[0.1111111111111111,\"#46039f\"],[0.2222222222222222,\"#7201a8\"],[0.3333333333333333,\"#9c179e\"],[0.4444444444444444,\"#bd3786\"],[0.5555555555555556,\"#d8576b\"],[0.6666666666666666,\"#ed7953\"],[0.7777777777777778,\"#fb9f3a\"],[0.8888888888888888,\"#fdca26\"],[1.0,\"#f0f921\"]]},\"colorway\":[\"#636efa\",\"#EF553B\",\"#00cc96\",\"#ab63fa\",\"#FFA15A\",\"#19d3f3\",\"#FF6692\",\"#B6E880\",\"#FF97FF\",\"#FECB52\"],\"font\":{\"color\":\"#2a3f5f\"},\"geo\":{\"bgcolor\":\"white\",\"lakecolor\":\"white\",\"landcolor\":\"#E5ECF6\",\"showlakes\":true,\"showland\":true,\"subunitcolor\":\"white\"},\"hoverlabel\":{\"align\":\"left\"},\"hovermode\":\"closest\",\"mapbox\":{\"style\":\"light\"},\"paper_bgcolor\":\"white\",\"plot_bgcolor\":\"#E5ECF6\",\"polar\":{\"angularaxis\":{\"gridcolor\":\"white\",\"linecolor\":\"white\",\"ticks\":\"\"},\"bgcolor\":\"#E5ECF6\",\"radialaxis\":{\"gridcolor\":\"white\",\"linecolor\":\"white\",\"ticks\":\"\"}},\"scene\":{\"xaxis\":{\"backgroundcolor\":\"#E5ECF6\",\"gridcolor\":\"white\",\"gridwidth\":2,\"linecolor\":\"white\",\"showbackground\":true,\"ticks\":\"\",\"zerolinecolor\":\"white\"},\"yaxis\":{\"backgroundcolor\":\"#E5ECF6\",\"gridcolor\":\"white\",\"gridwidth\":2,\"linecolor\":\"white\",\"showbackground\":true,\"ticks\":\"\",\"zerolinecolor\":\"white\"},\"zaxis\":{\"backgroundcolor\":\"#E5ECF6\",\"gridcolor\":\"white\",\"gridwidth\":2,\"linecolor\":\"white\",\"showbackground\":true,\"ticks\":\"\",\"zerolinecolor\":\"white\"}},\"shapedefaults\":{\"line\":{\"color\":\"#2a3f5f\"}},\"ternary\":{\"aaxis\":{\"gridcolor\":\"white\",\"linecolor\":\"white\",\"ticks\":\"\"},\"baxis\":{\"gridcolor\":\"white\",\"linecolor\":\"white\",\"ticks\":\"\"},\"bgcolor\":\"#E5ECF6\",\"caxis\":{\"gridcolor\":\"white\",\"linecolor\":\"white\",\"ticks\":\"\"}},\"title\":{\"x\":0.05},\"xaxis\":{\"automargin\":true,\"gridcolor\":\"white\",\"linecolor\":\"white\",\"ticks\":\"\",\"title\":{\"standoff\":15},\"zerolinecolor\":\"white\",\"zerolinewidth\":2},\"yaxis\":{\"automargin\":true,\"gridcolor\":\"white\",\"linecolor\":\"white\",\"ticks\":\"\",\"title\":{\"standoff\":15},\"zerolinecolor\":\"white\",\"zerolinewidth\":2}}},\"xaxis\":{\"anchor\":\"y\",\"domain\":[0.0,1.0],\"title\":{\"text\":\"1\"}},\"yaxis\":{\"anchor\":\"x\",\"domain\":[0.0,1.0],\"title\":{\"text\":\"2\"}},\"coloraxis\":{\"colorbar\":{\"title\":{\"text\":\"color\"}},\"colorscale\":[[0.0,\"#0d0887\"],[0.1111111111111111,\"#46039f\"],[0.2222222222222222,\"#7201a8\"],[0.3333333333333333,\"#9c179e\"],[0.4444444444444444,\"#bd3786\"],[0.5555555555555556,\"#d8576b\"],[0.6666666666666666,\"#ed7953\"],[0.7777777777777778,\"#fb9f3a\"],[0.8888888888888888,\"#fdca26\"],[1.0,\"#f0f921\"]]},\"legend\":{\"tracegroupgap\":0},\"margin\":{\"t\":60},\"height\":1000,\"width\":1000},                        {\"responsive\": true}                    ).then(function(){\n",
       "                            \n",
       "var gd = document.getElementById('568dbe99-77b2-4951-9977-3c332758d29d');\n",
       "var x = new MutationObserver(function (mutations, observer) {{\n",
       "        var display = window.getComputedStyle(gd).display;\n",
       "        if (!display || display === 'none') {{\n",
       "            console.log([gd, 'removed!']);\n",
       "            Plotly.purge(gd);\n",
       "            observer.disconnect();\n",
       "        }}\n",
       "}});\n",
       "\n",
       "// Listen for the removal of the full notebook cells\n",
       "var notebookContainer = gd.closest('#notebook-container');\n",
       "if (notebookContainer) {{\n",
       "    x.observe(notebookContainer, {childList: true});\n",
       "}}\n",
       "\n",
       "// Listen for the clearing of the current output cell\n",
       "var outputEl = gd.closest('.output');\n",
       "if (outputEl) {{\n",
       "    x.observe(outputEl, {childList: true});\n",
       "}}\n",
       "\n",
       "                        })                };                });            </script>        </div>"
      ]
     },
     "metadata": {},
     "output_type": "display_data"
    }
   ],
   "source": [
    "fig = px.scatter(df,\n",
    "x=1,\n",
    "y=2,\n",
    "text=df.index,\n",
    "color=PIB,\n",
    "width=1000,\n",
    "height=1000)\n",
    "fig"
   ]
  },
  {
   "cell_type": "raw",
   "id": "05432958",
   "metadata": {},
   "source": [
    "Sur ce nuage de points, les pays situés à droite sont ceux qui présentent un fort taux d'importations ainsi qu'un fort taux d'exportations des biens et services. (C'est le cas par exemple de Singapor et du Luxembourg). \n",
    "\n",
    "Alors que les pays situé en bas à gauche sont ceux qui ont moins d'importations et d'exportations ainsi que de nombreuses dépenses pour la santé (C'est le cas par exemple des Etats-Unis).\n",
    "De même, ceux situés en haut à gauche, ont moins d'importations et exportations de biens et services ainsi que beaucoup d'inflation. (C'est le cas par exemple du Venezuela).\n",
    "\n",
    "On remarque que le PIB est moins expliqué par ces deux axes, malgré le fait que l'importation et l'expostations de biens et services impliquent une augmanetation du PIB."
   ]
  },
  {
   "cell_type": "markdown",
   "id": "f8253184",
   "metadata": {},
   "source": [
    "### Nuage de points sur les 3 axes"
   ]
  },
  {
   "cell_type": "code",
   "execution_count": 26,
   "id": "bc4f1f74",
   "metadata": {
    "scrolled": false
   },
   "outputs": [
    {
     "data": {
      "application/vnd.plotly.v1+json": {
       "config": {
        "plotlyServerURL": "https://plot.ly"
       },
       "data": [
        {
         "hovertemplate": "0=%{x}<br>1=%{y}<br>2=%{z}<br>index=%{text}<br>color=%{marker.color}<extra></extra>",
         "legendgroup": "",
         "marker": {
          "color": [
           0,
           0,
           0,
           0,
           1,
           1,
           0,
           2,
           2,
           0,
           2,
           2,
           0,
           1,
           0,
           2,
           0,
           0,
           0,
           0,
           0,
           0,
           1,
           2,
           0,
           0,
           0,
           0,
           0,
           2,
           0,
           0,
           0,
           1,
           0,
           0,
           0,
           0,
           0,
           0,
           0,
           1,
           2,
           1,
           2,
           0,
           0,
           0,
           0,
           1,
           0,
           1,
           0,
           2,
           2,
           0,
           0,
           0,
           2,
           0,
           2,
           0,
           0,
           0,
           0,
           0,
           0,
           1,
           2,
           0,
           0,
           0,
           0,
           2,
           2,
           2,
           0,
           2,
           0,
           0,
           0,
           0,
           2,
           0,
           0,
           1,
           0,
           0,
           0,
           1,
           1,
           2,
           0,
           0,
           0,
           0,
           0,
           0,
           2,
           0,
           0,
           0,
           0,
           0,
           0,
           0,
           0,
           0,
           0,
           0,
           2,
           2,
           0,
           0,
           2,
           1,
           0,
           0,
           0,
           0,
           0,
           1,
           2,
           2,
           0,
           1,
           0,
           0,
           1,
           0,
           0,
           1,
           0,
           2,
           1,
           2,
           0,
           0,
           2,
           2,
           0,
           0,
           0,
           0,
           2,
           2,
           0,
           0,
           0,
           0,
           0,
           0,
           0,
           1,
           0,
           0,
           0,
           2,
           2,
           2,
           1,
           0,
           0,
           1,
           0,
           0,
           0
          ],
          "coloraxis": "coloraxis",
          "symbol": "circle"
         },
         "mode": "markers+text",
         "name": "",
         "scene": "scene",
         "showlegend": false,
         "text": [
          "Afghanistan",
          "Albania",
          "Algeria",
          "Angola",
          "Antigua and Barbuda",
          "Argentina",
          "Armenia",
          "Australia",
          "Austria",
          "Azerbaijan",
          "Bahamas",
          "Bahrain",
          "Bangladesh",
          "Barbados",
          "Belarus",
          "Belgium",
          "Belize",
          "Benin",
          "Bhutan",
          "Bolivia",
          "Bosnia and Herzegovina",
          "Botswana",
          "Brazil",
          "Brunei",
          "Bulgaria",
          "Burkina Faso",
          "Burundi",
          "Cambodia",
          "Cameroon",
          "Canada",
          "Cape Verde",
          "Central African Republic",
          "Chad",
          "Chile",
          "China",
          "Colombia",
          "Comoros",
          "Congo, Dem. Rep.",
          "Congo, Rep.",
          "Costa Rica",
          "Cote d'Ivoire",
          "Croatia",
          "Cyprus",
          "Czech Republic",
          "Denmark",
          "Dominican Republic",
          "Ecuador",
          "Egypt",
          "El Salvador",
          "Equatorial Guinea",
          "Eritrea",
          "Estonia",
          "Fiji",
          "Finland",
          "France",
          "Gabon",
          "Gambia",
          "Georgia",
          "Germany",
          "Ghana",
          "Greece",
          "Grenada",
          "Guatemala",
          "Guinea",
          "Guinea-Bissau",
          "Guyana",
          "Haiti",
          "Hungary",
          "Iceland",
          "India",
          "Indonesia",
          "Iran",
          "Iraq",
          "Ireland",
          "Israel",
          "Italy",
          "Jamaica",
          "Japan",
          "Jordan",
          "Kazakhstan",
          "Kenya",
          "Kiribati",
          "Kuwait",
          "Kyrgyz Republic",
          "Lao",
          "Latvia",
          "Lebanon",
          "Lesotho",
          "Liberia",
          "Libya",
          "Lithuania",
          "Luxembourg",
          "Macedonia, FYR",
          "Madagascar",
          "Malawi",
          "Malaysia",
          "Maldives",
          "Mali",
          "Malta",
          "Mauritania",
          "Mauritius",
          "Micronesia, Fed. Sts.",
          "Moldova",
          "Mongolia",
          "Montenegro",
          "Morocco",
          "Mozambique",
          "Myanmar",
          "Namibia",
          "Nepal",
          "Netherlands",
          "New Zealand",
          "Niger",
          "Nigeria",
          "Norway",
          "Oman",
          "Pakistan",
          "Panama",
          "Paraguay",
          "Peru",
          "Philippines",
          "Poland",
          "Portugal",
          "Qatar",
          "Romania",
          "Russia",
          "Rwanda",
          "Samoa",
          "Saudi Arabia",
          "Senegal",
          "Serbia",
          "Seychelles",
          "Sierra Leone",
          "Singapore",
          "Slovak Republic",
          "Slovenia",
          "Solomon Islands",
          "South Africa",
          "South Korea",
          "Spain",
          "Sri Lanka",
          "St. Vincent and the Grenadines",
          "Sudan",
          "Suriname",
          "Sweden",
          "Switzerland",
          "Tajikistan",
          "Tanzania",
          "Thailand",
          "Timor-Leste",
          "Togo",
          "Tonga",
          "Tunisia",
          "Turkey",
          "Turkmenistan",
          "Uganda",
          "Ukraine",
          "United Arab Emirates",
          "United Kingdom",
          "United States",
          "Uruguay",
          "Uzbekistan",
          "Vanuatu",
          "Venezuela",
          "Vietnam",
          "Yemen",
          "Zambia"
         ],
         "type": "scatter3d",
         "x": [
          -2.905883561266859,
          0.7240723883176192,
          -0.09680905390429062,
          -3.0037994339338816,
          1.1804444368588969,
          0.05405172698660721,
          0.18228922153895036,
          1.5786333873986027,
          2.388766484895975,
          -0.03660084909568767,
          1.035913339759218,
          1.6170329104965304,
          -0.8940837510569071,
          1.134697611824218,
          0.8410371875148623,
          2.654072110292285,
          0.49086180263619106,
          -2.6249428795666434,
          0.14477390136434487,
          -0.5814234158602212,
          1.3088287040244382,
          -0.8103855124754902,
          0.1789323141931889,
          2.029531964807891,
          1.172516382205182,
          -3.1479598297328475,
          -2.9233482084795135,
          -0.29324124243374766,
          -2.800034916041593,
          1.8956016410942875,
          0.13036354956427948,
          -4.04541483060119,
          -3.626230861516036,
          1.0353831959418074,
          0.2975442264519439,
          0.2994848450992015,
          -1.971966605970549,
          -3.2107712094738785,
          -1.6206133345550826,
          1.1291539817547418,
          -2.5474200637228517,
          1.2538404069758156,
          1.960982673501812,
          2.092372733881823,
          2.153800069917073,
          -0.058823595065461046,
          0.21319697960574482,
          -0.6643835810137277,
          0.36663849530470505,
          -1.5928176767869742,
          -2.38168171856082,
          1.8101148727414285,
          0.07512336200043951,
          1.8559286063889533,
          1.740137393951277,
          -1.4757211326777597,
          -2.1225170104941773,
          0.6111958289775529,
          2.1740286398779487,
          -1.9572815825852685,
          1.584166443406417,
          0.3376677846350452,
          -0.4691377996481385,
          -2.959736925922348,
          -2.827519055850775,
          -0.05108561686867341,
          -4.533803700038661,
          2.0429755281530597,
          1.9754281844311858,
          -1.1599190501936596,
          -0.7760288461226248,
          0.15016782369925394,
          -0.9598034114387384,
          3.135883728932742,
          1.1765390109162868,
          1.7815495635710064,
          0.2685487926321418,
          1.6812307465186784,
          0.4169824040426012,
          -0.23140737277419748,
          -1.7405577312385834,
          -1.0634615540859822,
          1.9783319587066361,
          -0.021430380414812655,
          -1.356101472179204,
          1.3764739518532672,
          1.417551293133257,
          -1.6663705182196722,
          -1.637421902015317,
          0.9071374715414682,
          1.5963628269235022,
          5.294287482289606,
          1.0501765936772658,
          -2.0044063831854473,
          -2.9730833044804035,
          1.4786548142038844,
          1.400937254432232,
          -3.465080471727762,
          3.891353748844071,
          -1.8481271108503532,
          1.1481464166898738,
          -0.17362260751829395,
          0.8664640879369168,
          -0.7692198708439743,
          1.3009962319123183,
          0.03141245365294747,
          -2.891470624514186,
          -1.6917422315262476,
          -0.9333158307266889,
          -1.0995353010128452,
          2.7462331068055015,
          1.443086008136743,
          -3.4892159298387853,
          -5.243458580411735,
          2.1848601779493184,
          1.0383480492583486,
          -2.282338732382531,
          1.4167510078345167,
          0.40019620402296924,
          0.19010838072025688,
          -0.5519318128483421,
          1.3516344001342386,
          1.7294421283983723,
          3.0542400571577413,
          0.7662328452509239,
          0.2302873617538609,
          -1.562457114358519,
          -0.3562936953959135,
          0.7217651535258985,
          -1.792290909565451,
          1.1013939157933075,
          1.8886062157802916,
          -3.487829344222292,
          5.534195009725911,
          2.151520505633948,
          2.2416323848052966,
          -0.5633997106526438,
          -1.1838931807925834,
          1.8791321224999766,
          1.751175734181845,
          -0.35016980861766084,
          0.24980941341111437,
          -2.2913102010860773,
          0.30607903712646667,
          2.097290377971634,
          2.9244064461171253,
          -1.0330696337937098,
          -2.5087725235227145,
          1.2623437020490549,
          -2.4220287078145537,
          -1.879337209629254,
          -0.5471072057152464,
          0.9111756918565745,
          0.4904377816503049,
          -0.2629122646094294,
          -2.8676932236414383,
          0.6049886173473218,
          2.0829882367008086,
          1.5973932727402327,
          1.8956474243735737,
          0.6939429995237809,
          -0.6343188452610586,
          -0.6075332033615257,
          -0.6421795506799624,
          0.8848794341885226,
          -1.7915800201793077,
          -2.874330840657498
         ],
         "y": [
          0.15831381483518192,
          -0.6561836394497021,
          -0.4778448729201177,
          1.7878916354941374,
          0.08385569069943824,
          -1.7787199314481668,
          -0.6276402287386381,
          -1.9231381518708008,
          -0.7024994351298783,
          -0.4161758084818526,
          -0.6578137649850839,
          0.5473760360101657,
          -0.9885571345684525,
          -0.5245588191135463,
          0.47923452224760765,
          0.6802797022663063,
          0.6407797991510932,
          0.4642827040755655,
          0.7230387411627092,
          -0.1411215408090799,
          -1.052680416735157,
          0.46768148575497925,
          -2.1659166759399335,
          0.07370811353654069,
          -0.038854170984873926,
          0.11414894707219336,
          -0.3468533125044903,
          0.8524343256191336,
          0.13554866022949097,
          -1.678526941466895,
          0.29204736364551137,
          0.4813598040502729,
          1.385053762769794,
          -1.1107845912795997,
          -1.2412352495040018,
          -1.8095726540772796,
          0.36115904372490715,
          1.141722451073974,
          2.207843684467905,
          -1.402814848830742,
          1.26264849075478,
          -0.8931527970654686,
          -0.02201790607892684,
          0.3718414884067238,
          -0.7920087322922063,
          -0.9101897422261138,
          -1.0818633062732346,
          -0.8361056260722137,
          -0.6271664883419974,
          2.4767276923018944,
          -0.5896485029630187,
          0.9597310743626897,
          1.0248337378028038,
          -1.0359905586058626,
          -1.83256204111318,
          0.3700555954735416,
          0.25470979927041354,
          -0.5767164732884393,
          -1.2491468732724884,
          0.40964408265897767,
          -1.777553415379776,
          -0.48023678070465614,
          -0.636902635552221,
          0.7961315240361375,
          -0.030707562418215373,
          1.31539814670576,
          1.856316673206047,
          1.2006234793599553,
          -0.6027098490745726,
          -0.5449222845494304,
          -0.7476777145040121,
          -1.3585038089344637,
          -0.2601603663464219,
          1.7434515001702122,
          -1.0340906858673025,
          -1.7611065704717412,
          -0.2903488648024284,
          -2.4009144409537306,
          0.4971025914224846,
          -0.2348692504970146,
          -0.1614977635815671,
          0.35940335485030056,
          0.14608129043356546,
          1.2476485108008444,
          0.546131923197951,
          0.09801185582637922,
          -0.33107478124215695,
          2.052419968300085,
          1.0698831961825044,
          0.3699095596981852,
          0.666855710802383,
          4.9893834827932215,
          -0.1724164509082256,
          0.3605175172889301,
          0.28206756475734923,
          1.539120922270739,
          0.9345206287646719,
          0.6482018897634664,
          4.664343462010254,
          1.4171857934423833,
          0.34889181183199003,
          0.07341773634925475,
          0.08699279085538103,
          0.5321391251948818,
          -0.33127202476031414,
          -0.3307364795114255,
          0.9520830186086704,
          -1.6132288302456923,
          1.0047347660368757,
          -0.8043481152253906,
          0.15207378240008884,
          -1.5641634021522426,
          1.0539578875431455,
          0.1238055064791529,
          -1.2810064795849665,
          0.502941322346874,
          -0.44657702800091703,
          1.0505362759383745,
          0.3083671857716277,
          -1.1284514314880632,
          -0.12763181229092263,
          -0.7119797489868609,
          -1.4790872965584456,
          -0.04253031576840177,
          -0.6889723027534305,
          -1.0807866423925128,
          -0.9869413048449164,
          -0.052357819919456094,
          -0.1580226486160875,
          0.10776904852156377,
          -0.9350494443609627,
          2.8524976167861005,
          -0.1273060680434553,
          6.631028191618138,
          0.9883216966528353,
          0.15233155061283765,
          1.2777817182785405,
          -0.5334552419889858,
          -0.46402463326480403,
          -1.789316979600331,
          -1.02750920484597,
          -0.0675700880786451,
          -0.7172080280517503,
          -0.11994742792754995,
          -0.8605302098620219,
          -0.32866319008331124,
          -0.04415338394822349,
          -0.1677054873115219,
          0.7473481626512078,
          -1.1076647239606896,
          0.981267603062029,
          -0.12071670394893251,
          0.10415292431426215,
          -1.4393794547538392,
          1.2675983898439138,
          -0.282164590831474,
          -0.1570459783184267,
          1.175571690713299,
          -1.5070170673909655,
          -2.921893777872996,
          -1.4607101674768508,
          -0.6752955624951196,
          0.6122065434844757,
          -1.1933842485240944,
          1.3150370349040996,
          -0.07758317467243409,
          0.5556268071306267
         ],
         "z": [
          -0.9090678859743129,
          -0.11255396723903793,
          1.3605507638716179,
          1.3111443535993252,
          -0.06950051518649314,
          0.9014816534138455,
          0.48766538311278446,
          -0.011736540481696422,
          -0.7004327495442109,
          0.9446068991765,
          -0.49683649579736516,
          1.0270024434812706,
          0.7048475782503676,
          -0.5536331727092452,
          0.6753697064757422,
          -0.8051639444542098,
          -0.08809662702366439,
          -0.35511775977121496,
          -0.09921891600094818,
          0.5127505920578488,
          -1.3497017559702496,
          -0.6457462818355717,
          -0.11414950025934528,
          2.8659235705265433,
          -0.2754958654373398,
          -0.6720414194020858,
          -1.6382038296404662,
          -0.36443231282524713,
          -0.48020340673911754,
          -0.6023791788108612,
          -0.0744834906767563,
          -0.5550761332491145,
          -0.37180200378111344,
          0.2554498609749619,
          0.6474597193575833,
          -0.0987436851379695,
          -0.3428466424411696,
          -0.2909505087043426,
          1.4605595856054072,
          -0.7113915556725194,
          -0.3882604538658131,
          -0.275487718326756,
          0.3064028166495848,
          -0.443034387744107,
          -0.6340717839527041,
          0.08181819531015111,
          -0.16014641984265693,
          0.6987040306525298,
          -0.38798593694114736,
          1.4330574343265758,
          0.8312572914117347,
          0.050823179973292,
          -0.032367661259871616,
          -0.25479915232946676,
          -0.8858368106223851,
          1.4579673185920554,
          -0.46805723439044933,
          -0.839327786218063,
          -0.8119142428138357,
          0.3762353080182997,
          -0.6896447303512826,
          -0.30103939088818055,
          -0.2478478606821013,
          0.23125990903891802,
          -1.410422967396972,
          -0.3302833559984056,
          -1.82925391572243,
          -0.29812626777138057,
          -0.040669833986616145,
          0.5776942658582368,
          1.5372711532075893,
          1.1583180115078535,
          0.11208157390241236,
          -0.6827566187040883,
          0.023796449644739176,
          -0.35008076907751223,
          0.5406972726798314,
          -0.3452387109264792,
          -0.46126642409022434,
          1.5521999872035481,
          -0.23119037792201458,
          -2.430050274495387,
          2.498836475182763,
          -0.2807404830091464,
          0.18035975532097367,
          -0.31001642360541165,
          -0.4083346972010114,
          -2.657530748520053,
          -2.554139448741435,
          1.5879901941160206,
          -0.25226514514865045,
          0.40814678831208906,
          -0.43312515635187493,
          0.24634157879509821,
          -0.3792653670834039,
          0.7271190181333294,
          -0.06342538020122188,
          -0.4853469880509159,
          -0.8829425954692471,
          0.6644126990389905,
          -0.18366875650751707,
          -2.767023826087403,
          -1.4212250072958856,
          1.916267591436915,
          -0.9305796610526853,
          -0.07852349316152762,
          -0.41173862041166376,
          1.1496756161876776,
          -0.7569683385964333,
          0.5073638520053061,
          -0.9698979103617134,
          -0.3617733881216114,
          -0.8259947579001917,
          5.638686626219016,
          0.3622559786888553,
          2.1413588141042568,
          1.0267499578049155,
          -0.6586596295546305,
          0.12434114371369555,
          0.5878483080150035,
          0.46971069473963495,
          -0.16405038698283797,
          -0.9213681940945209,
          3.174988777705434,
          0.2708738860822183,
          1.1960195790083359,
          -1.554739914182465,
          -0.5430027942236946,
          1.857878873325257,
          -0.5343415753142313,
          -0.8689937938416844,
          -0.15548564817831256,
          -1.7803551279249976,
          0.6385683118144247,
          -0.7491872708514632,
          -0.7486438193708295,
          -1.2028867002302794,
          -0.8047478287677031,
          0.23955726352532103,
          -0.39599328563367536,
          1.9666986863661329,
          0.16156455798737113,
          0.6297748036971371,
          0.08848010191237451,
          -0.31409638542701374,
          -0.662587705210669,
          -0.07022459609991541,
          -0.1956395226283436,
          0.6152016791120845,
          0.20758347390670628,
          -1.3220844843643467,
          -0.2880439589389738,
          -0.032096243542742486,
          0.3369293939533858,
          0.7215614015942684,
          -0.9272610091894559,
          0.09087159889590951,
          1.7574955117957318,
          -0.3730202390536834,
          -2.11720095036021,
          -0.15385188866304778,
          0.7420100969044118,
          -0.2846199620354003,
          3.1033489359520496,
          -0.028809825961413557,
          1.0782894920729391,
          0.045128339284352836
         ]
        }
       ],
       "layout": {
        "coloraxis": {
         "colorbar": {
          "title": {
           "text": "color"
          }
         },
         "colorscale": [
          [
           0,
           "#0d0887"
          ],
          [
           0.1111111111111111,
           "#46039f"
          ],
          [
           0.2222222222222222,
           "#7201a8"
          ],
          [
           0.3333333333333333,
           "#9c179e"
          ],
          [
           0.4444444444444444,
           "#bd3786"
          ],
          [
           0.5555555555555556,
           "#d8576b"
          ],
          [
           0.6666666666666666,
           "#ed7953"
          ],
          [
           0.7777777777777778,
           "#fb9f3a"
          ],
          [
           0.8888888888888888,
           "#fdca26"
          ],
          [
           1,
           "#f0f921"
          ]
         ]
        },
        "height": 1000,
        "legend": {
         "tracegroupgap": 0
        },
        "margin": {
         "t": 60
        },
        "scene": {
         "domain": {
          "x": [
           0,
           1
          ],
          "y": [
           0,
           1
          ]
         },
         "xaxis": {
          "title": {
           "text": "0"
          }
         },
         "yaxis": {
          "title": {
           "text": "1"
          }
         },
         "zaxis": {
          "title": {
           "text": "2"
          }
         }
        },
        "template": {
         "data": {
          "bar": [
           {
            "error_x": {
             "color": "#2a3f5f"
            },
            "error_y": {
             "color": "#2a3f5f"
            },
            "marker": {
             "line": {
              "color": "#E5ECF6",
              "width": 0.5
             },
             "pattern": {
              "fillmode": "overlay",
              "size": 10,
              "solidity": 0.2
             }
            },
            "type": "bar"
           }
          ],
          "barpolar": [
           {
            "marker": {
             "line": {
              "color": "#E5ECF6",
              "width": 0.5
             },
             "pattern": {
              "fillmode": "overlay",
              "size": 10,
              "solidity": 0.2
             }
            },
            "type": "barpolar"
           }
          ],
          "carpet": [
           {
            "aaxis": {
             "endlinecolor": "#2a3f5f",
             "gridcolor": "white",
             "linecolor": "white",
             "minorgridcolor": "white",
             "startlinecolor": "#2a3f5f"
            },
            "baxis": {
             "endlinecolor": "#2a3f5f",
             "gridcolor": "white",
             "linecolor": "white",
             "minorgridcolor": "white",
             "startlinecolor": "#2a3f5f"
            },
            "type": "carpet"
           }
          ],
          "choropleth": [
           {
            "colorbar": {
             "outlinewidth": 0,
             "ticks": ""
            },
            "type": "choropleth"
           }
          ],
          "contour": [
           {
            "colorbar": {
             "outlinewidth": 0,
             "ticks": ""
            },
            "colorscale": [
             [
              0,
              "#0d0887"
             ],
             [
              0.1111111111111111,
              "#46039f"
             ],
             [
              0.2222222222222222,
              "#7201a8"
             ],
             [
              0.3333333333333333,
              "#9c179e"
             ],
             [
              0.4444444444444444,
              "#bd3786"
             ],
             [
              0.5555555555555556,
              "#d8576b"
             ],
             [
              0.6666666666666666,
              "#ed7953"
             ],
             [
              0.7777777777777778,
              "#fb9f3a"
             ],
             [
              0.8888888888888888,
              "#fdca26"
             ],
             [
              1,
              "#f0f921"
             ]
            ],
            "type": "contour"
           }
          ],
          "contourcarpet": [
           {
            "colorbar": {
             "outlinewidth": 0,
             "ticks": ""
            },
            "type": "contourcarpet"
           }
          ],
          "heatmap": [
           {
            "colorbar": {
             "outlinewidth": 0,
             "ticks": ""
            },
            "colorscale": [
             [
              0,
              "#0d0887"
             ],
             [
              0.1111111111111111,
              "#46039f"
             ],
             [
              0.2222222222222222,
              "#7201a8"
             ],
             [
              0.3333333333333333,
              "#9c179e"
             ],
             [
              0.4444444444444444,
              "#bd3786"
             ],
             [
              0.5555555555555556,
              "#d8576b"
             ],
             [
              0.6666666666666666,
              "#ed7953"
             ],
             [
              0.7777777777777778,
              "#fb9f3a"
             ],
             [
              0.8888888888888888,
              "#fdca26"
             ],
             [
              1,
              "#f0f921"
             ]
            ],
            "type": "heatmap"
           }
          ],
          "heatmapgl": [
           {
            "colorbar": {
             "outlinewidth": 0,
             "ticks": ""
            },
            "colorscale": [
             [
              0,
              "#0d0887"
             ],
             [
              0.1111111111111111,
              "#46039f"
             ],
             [
              0.2222222222222222,
              "#7201a8"
             ],
             [
              0.3333333333333333,
              "#9c179e"
             ],
             [
              0.4444444444444444,
              "#bd3786"
             ],
             [
              0.5555555555555556,
              "#d8576b"
             ],
             [
              0.6666666666666666,
              "#ed7953"
             ],
             [
              0.7777777777777778,
              "#fb9f3a"
             ],
             [
              0.8888888888888888,
              "#fdca26"
             ],
             [
              1,
              "#f0f921"
             ]
            ],
            "type": "heatmapgl"
           }
          ],
          "histogram": [
           {
            "marker": {
             "pattern": {
              "fillmode": "overlay",
              "size": 10,
              "solidity": 0.2
             }
            },
            "type": "histogram"
           }
          ],
          "histogram2d": [
           {
            "colorbar": {
             "outlinewidth": 0,
             "ticks": ""
            },
            "colorscale": [
             [
              0,
              "#0d0887"
             ],
             [
              0.1111111111111111,
              "#46039f"
             ],
             [
              0.2222222222222222,
              "#7201a8"
             ],
             [
              0.3333333333333333,
              "#9c179e"
             ],
             [
              0.4444444444444444,
              "#bd3786"
             ],
             [
              0.5555555555555556,
              "#d8576b"
             ],
             [
              0.6666666666666666,
              "#ed7953"
             ],
             [
              0.7777777777777778,
              "#fb9f3a"
             ],
             [
              0.8888888888888888,
              "#fdca26"
             ],
             [
              1,
              "#f0f921"
             ]
            ],
            "type": "histogram2d"
           }
          ],
          "histogram2dcontour": [
           {
            "colorbar": {
             "outlinewidth": 0,
             "ticks": ""
            },
            "colorscale": [
             [
              0,
              "#0d0887"
             ],
             [
              0.1111111111111111,
              "#46039f"
             ],
             [
              0.2222222222222222,
              "#7201a8"
             ],
             [
              0.3333333333333333,
              "#9c179e"
             ],
             [
              0.4444444444444444,
              "#bd3786"
             ],
             [
              0.5555555555555556,
              "#d8576b"
             ],
             [
              0.6666666666666666,
              "#ed7953"
             ],
             [
              0.7777777777777778,
              "#fb9f3a"
             ],
             [
              0.8888888888888888,
              "#fdca26"
             ],
             [
              1,
              "#f0f921"
             ]
            ],
            "type": "histogram2dcontour"
           }
          ],
          "mesh3d": [
           {
            "colorbar": {
             "outlinewidth": 0,
             "ticks": ""
            },
            "type": "mesh3d"
           }
          ],
          "parcoords": [
           {
            "line": {
             "colorbar": {
              "outlinewidth": 0,
              "ticks": ""
             }
            },
            "type": "parcoords"
           }
          ],
          "pie": [
           {
            "automargin": true,
            "type": "pie"
           }
          ],
          "scatter": [
           {
            "marker": {
             "colorbar": {
              "outlinewidth": 0,
              "ticks": ""
             }
            },
            "type": "scatter"
           }
          ],
          "scatter3d": [
           {
            "line": {
             "colorbar": {
              "outlinewidth": 0,
              "ticks": ""
             }
            },
            "marker": {
             "colorbar": {
              "outlinewidth": 0,
              "ticks": ""
             }
            },
            "type": "scatter3d"
           }
          ],
          "scattercarpet": [
           {
            "marker": {
             "colorbar": {
              "outlinewidth": 0,
              "ticks": ""
             }
            },
            "type": "scattercarpet"
           }
          ],
          "scattergeo": [
           {
            "marker": {
             "colorbar": {
              "outlinewidth": 0,
              "ticks": ""
             }
            },
            "type": "scattergeo"
           }
          ],
          "scattergl": [
           {
            "marker": {
             "colorbar": {
              "outlinewidth": 0,
              "ticks": ""
             }
            },
            "type": "scattergl"
           }
          ],
          "scattermapbox": [
           {
            "marker": {
             "colorbar": {
              "outlinewidth": 0,
              "ticks": ""
             }
            },
            "type": "scattermapbox"
           }
          ],
          "scatterpolar": [
           {
            "marker": {
             "colorbar": {
              "outlinewidth": 0,
              "ticks": ""
             }
            },
            "type": "scatterpolar"
           }
          ],
          "scatterpolargl": [
           {
            "marker": {
             "colorbar": {
              "outlinewidth": 0,
              "ticks": ""
             }
            },
            "type": "scatterpolargl"
           }
          ],
          "scatterternary": [
           {
            "marker": {
             "colorbar": {
              "outlinewidth": 0,
              "ticks": ""
             }
            },
            "type": "scatterternary"
           }
          ],
          "surface": [
           {
            "colorbar": {
             "outlinewidth": 0,
             "ticks": ""
            },
            "colorscale": [
             [
              0,
              "#0d0887"
             ],
             [
              0.1111111111111111,
              "#46039f"
             ],
             [
              0.2222222222222222,
              "#7201a8"
             ],
             [
              0.3333333333333333,
              "#9c179e"
             ],
             [
              0.4444444444444444,
              "#bd3786"
             ],
             [
              0.5555555555555556,
              "#d8576b"
             ],
             [
              0.6666666666666666,
              "#ed7953"
             ],
             [
              0.7777777777777778,
              "#fb9f3a"
             ],
             [
              0.8888888888888888,
              "#fdca26"
             ],
             [
              1,
              "#f0f921"
             ]
            ],
            "type": "surface"
           }
          ],
          "table": [
           {
            "cells": {
             "fill": {
              "color": "#EBF0F8"
             },
             "line": {
              "color": "white"
             }
            },
            "header": {
             "fill": {
              "color": "#C8D4E3"
             },
             "line": {
              "color": "white"
             }
            },
            "type": "table"
           }
          ]
         },
         "layout": {
          "annotationdefaults": {
           "arrowcolor": "#2a3f5f",
           "arrowhead": 0,
           "arrowwidth": 1
          },
          "autotypenumbers": "strict",
          "coloraxis": {
           "colorbar": {
            "outlinewidth": 0,
            "ticks": ""
           }
          },
          "colorscale": {
           "diverging": [
            [
             0,
             "#8e0152"
            ],
            [
             0.1,
             "#c51b7d"
            ],
            [
             0.2,
             "#de77ae"
            ],
            [
             0.3,
             "#f1b6da"
            ],
            [
             0.4,
             "#fde0ef"
            ],
            [
             0.5,
             "#f7f7f7"
            ],
            [
             0.6,
             "#e6f5d0"
            ],
            [
             0.7,
             "#b8e186"
            ],
            [
             0.8,
             "#7fbc41"
            ],
            [
             0.9,
             "#4d9221"
            ],
            [
             1,
             "#276419"
            ]
           ],
           "sequential": [
            [
             0,
             "#0d0887"
            ],
            [
             0.1111111111111111,
             "#46039f"
            ],
            [
             0.2222222222222222,
             "#7201a8"
            ],
            [
             0.3333333333333333,
             "#9c179e"
            ],
            [
             0.4444444444444444,
             "#bd3786"
            ],
            [
             0.5555555555555556,
             "#d8576b"
            ],
            [
             0.6666666666666666,
             "#ed7953"
            ],
            [
             0.7777777777777778,
             "#fb9f3a"
            ],
            [
             0.8888888888888888,
             "#fdca26"
            ],
            [
             1,
             "#f0f921"
            ]
           ],
           "sequentialminus": [
            [
             0,
             "#0d0887"
            ],
            [
             0.1111111111111111,
             "#46039f"
            ],
            [
             0.2222222222222222,
             "#7201a8"
            ],
            [
             0.3333333333333333,
             "#9c179e"
            ],
            [
             0.4444444444444444,
             "#bd3786"
            ],
            [
             0.5555555555555556,
             "#d8576b"
            ],
            [
             0.6666666666666666,
             "#ed7953"
            ],
            [
             0.7777777777777778,
             "#fb9f3a"
            ],
            [
             0.8888888888888888,
             "#fdca26"
            ],
            [
             1,
             "#f0f921"
            ]
           ]
          },
          "colorway": [
           "#636efa",
           "#EF553B",
           "#00cc96",
           "#ab63fa",
           "#FFA15A",
           "#19d3f3",
           "#FF6692",
           "#B6E880",
           "#FF97FF",
           "#FECB52"
          ],
          "font": {
           "color": "#2a3f5f"
          },
          "geo": {
           "bgcolor": "white",
           "lakecolor": "white",
           "landcolor": "#E5ECF6",
           "showlakes": true,
           "showland": true,
           "subunitcolor": "white"
          },
          "hoverlabel": {
           "align": "left"
          },
          "hovermode": "closest",
          "mapbox": {
           "style": "light"
          },
          "paper_bgcolor": "white",
          "plot_bgcolor": "#E5ECF6",
          "polar": {
           "angularaxis": {
            "gridcolor": "white",
            "linecolor": "white",
            "ticks": ""
           },
           "bgcolor": "#E5ECF6",
           "radialaxis": {
            "gridcolor": "white",
            "linecolor": "white",
            "ticks": ""
           }
          },
          "scene": {
           "xaxis": {
            "backgroundcolor": "#E5ECF6",
            "gridcolor": "white",
            "gridwidth": 2,
            "linecolor": "white",
            "showbackground": true,
            "ticks": "",
            "zerolinecolor": "white"
           },
           "yaxis": {
            "backgroundcolor": "#E5ECF6",
            "gridcolor": "white",
            "gridwidth": 2,
            "linecolor": "white",
            "showbackground": true,
            "ticks": "",
            "zerolinecolor": "white"
           },
           "zaxis": {
            "backgroundcolor": "#E5ECF6",
            "gridcolor": "white",
            "gridwidth": 2,
            "linecolor": "white",
            "showbackground": true,
            "ticks": "",
            "zerolinecolor": "white"
           }
          },
          "shapedefaults": {
           "line": {
            "color": "#2a3f5f"
           }
          },
          "ternary": {
           "aaxis": {
            "gridcolor": "white",
            "linecolor": "white",
            "ticks": ""
           },
           "baxis": {
            "gridcolor": "white",
            "linecolor": "white",
            "ticks": ""
           },
           "bgcolor": "#E5ECF6",
           "caxis": {
            "gridcolor": "white",
            "linecolor": "white",
            "ticks": ""
           }
          },
          "title": {
           "x": 0.05
          },
          "xaxis": {
           "automargin": true,
           "gridcolor": "white",
           "linecolor": "white",
           "ticks": "",
           "title": {
            "standoff": 15
           },
           "zerolinecolor": "white",
           "zerolinewidth": 2
          },
          "yaxis": {
           "automargin": true,
           "gridcolor": "white",
           "linecolor": "white",
           "ticks": "",
           "title": {
            "standoff": 15
           },
           "zerolinecolor": "white",
           "zerolinewidth": 2
          }
         }
        },
        "width": 1000
       }
      },
      "text/html": [
       "<div>                            <div id=\"0c805b87-807c-40f2-909f-c92bce1e9d52\" class=\"plotly-graph-div\" style=\"height:1000px; width:1000px;\"></div>            <script type=\"text/javascript\">                require([\"plotly\"], function(Plotly) {                    window.PLOTLYENV=window.PLOTLYENV || {};                                    if (document.getElementById(\"0c805b87-807c-40f2-909f-c92bce1e9d52\")) {                    Plotly.newPlot(                        \"0c805b87-807c-40f2-909f-c92bce1e9d52\",                        [{\"hovertemplate\":\"0=%{x}<br>1=%{y}<br>2=%{z}<br>index=%{text}<br>color=%{marker.color}<extra></extra>\",\"legendgroup\":\"\",\"marker\":{\"color\":[0.0,0.0,0.0,0.0,1.0,1.0,0.0,2.0,2.0,0.0,2.0,2.0,0.0,1.0,0.0,2.0,0.0,0.0,0.0,0.0,0.0,0.0,1.0,2.0,0.0,0.0,0.0,0.0,0.0,2.0,0.0,0.0,0.0,1.0,0.0,0.0,0.0,0.0,0.0,0.0,0.0,1.0,2.0,1.0,2.0,0.0,0.0,0.0,0.0,1.0,0.0,1.0,0.0,2.0,2.0,0.0,0.0,0.0,2.0,0.0,2.0,0.0,0.0,0.0,0.0,0.0,0.0,1.0,2.0,0.0,0.0,0.0,0.0,2.0,2.0,2.0,0.0,2.0,0.0,0.0,0.0,0.0,2.0,0.0,0.0,1.0,0.0,0.0,0.0,1.0,1.0,2.0,0.0,0.0,0.0,0.0,0.0,0.0,2.0,0.0,0.0,0.0,0.0,0.0,0.0,0.0,0.0,0.0,0.0,0.0,2.0,2.0,0.0,0.0,2.0,1.0,0.0,0.0,0.0,0.0,0.0,1.0,2.0,2.0,0.0,1.0,0.0,0.0,1.0,0.0,0.0,1.0,0.0,2.0,1.0,2.0,0.0,0.0,2.0,2.0,0.0,0.0,0.0,0.0,2.0,2.0,0.0,0.0,0.0,0.0,0.0,0.0,0.0,1.0,0.0,0.0,0.0,2.0,2.0,2.0,1.0,0.0,0.0,1.0,0.0,0.0,0.0],\"coloraxis\":\"coloraxis\",\"symbol\":\"circle\"},\"mode\":\"markers+text\",\"name\":\"\",\"scene\":\"scene\",\"showlegend\":false,\"text\":[\"Afghanistan\",\"Albania\",\"Algeria\",\"Angola\",\"Antigua and Barbuda\",\"Argentina\",\"Armenia\",\"Australia\",\"Austria\",\"Azerbaijan\",\"Bahamas\",\"Bahrain\",\"Bangladesh\",\"Barbados\",\"Belarus\",\"Belgium\",\"Belize\",\"Benin\",\"Bhutan\",\"Bolivia\",\"Bosnia and Herzegovina\",\"Botswana\",\"Brazil\",\"Brunei\",\"Bulgaria\",\"Burkina Faso\",\"Burundi\",\"Cambodia\",\"Cameroon\",\"Canada\",\"Cape Verde\",\"Central African Republic\",\"Chad\",\"Chile\",\"China\",\"Colombia\",\"Comoros\",\"Congo, Dem. Rep.\",\"Congo, Rep.\",\"Costa Rica\",\"Cote d'Ivoire\",\"Croatia\",\"Cyprus\",\"Czech Republic\",\"Denmark\",\"Dominican Republic\",\"Ecuador\",\"Egypt\",\"El Salvador\",\"Equatorial Guinea\",\"Eritrea\",\"Estonia\",\"Fiji\",\"Finland\",\"France\",\"Gabon\",\"Gambia\",\"Georgia\",\"Germany\",\"Ghana\",\"Greece\",\"Grenada\",\"Guatemala\",\"Guinea\",\"Guinea-Bissau\",\"Guyana\",\"Haiti\",\"Hungary\",\"Iceland\",\"India\",\"Indonesia\",\"Iran\",\"Iraq\",\"Ireland\",\"Israel\",\"Italy\",\"Jamaica\",\"Japan\",\"Jordan\",\"Kazakhstan\",\"Kenya\",\"Kiribati\",\"Kuwait\",\"Kyrgyz Republic\",\"Lao\",\"Latvia\",\"Lebanon\",\"Lesotho\",\"Liberia\",\"Libya\",\"Lithuania\",\"Luxembourg\",\"Macedonia, FYR\",\"Madagascar\",\"Malawi\",\"Malaysia\",\"Maldives\",\"Mali\",\"Malta\",\"Mauritania\",\"Mauritius\",\"Micronesia, Fed. Sts.\",\"Moldova\",\"Mongolia\",\"Montenegro\",\"Morocco\",\"Mozambique\",\"Myanmar\",\"Namibia\",\"Nepal\",\"Netherlands\",\"New Zealand\",\"Niger\",\"Nigeria\",\"Norway\",\"Oman\",\"Pakistan\",\"Panama\",\"Paraguay\",\"Peru\",\"Philippines\",\"Poland\",\"Portugal\",\"Qatar\",\"Romania\",\"Russia\",\"Rwanda\",\"Samoa\",\"Saudi Arabia\",\"Senegal\",\"Serbia\",\"Seychelles\",\"Sierra Leone\",\"Singapore\",\"Slovak Republic\",\"Slovenia\",\"Solomon Islands\",\"South Africa\",\"South Korea\",\"Spain\",\"Sri Lanka\",\"St. Vincent and the Grenadines\",\"Sudan\",\"Suriname\",\"Sweden\",\"Switzerland\",\"Tajikistan\",\"Tanzania\",\"Thailand\",\"Timor-Leste\",\"Togo\",\"Tonga\",\"Tunisia\",\"Turkey\",\"Turkmenistan\",\"Uganda\",\"Ukraine\",\"United Arab Emirates\",\"United Kingdom\",\"United States\",\"Uruguay\",\"Uzbekistan\",\"Vanuatu\",\"Venezuela\",\"Vietnam\",\"Yemen\",\"Zambia\"],\"x\":[-2.905883561266859,0.7240723883176192,-0.09680905390429062,-3.0037994339338816,1.1804444368588969,0.05405172698660721,0.18228922153895036,1.5786333873986027,2.388766484895975,-0.03660084909568767,1.035913339759218,1.6170329104965304,-0.8940837510569071,1.134697611824218,0.8410371875148623,2.654072110292285,0.49086180263619106,-2.6249428795666434,0.14477390136434487,-0.5814234158602212,1.3088287040244382,-0.8103855124754902,0.1789323141931889,2.029531964807891,1.172516382205182,-3.1479598297328475,-2.9233482084795135,-0.29324124243374766,-2.800034916041593,1.8956016410942875,0.13036354956427948,-4.04541483060119,-3.626230861516036,1.0353831959418074,0.2975442264519439,0.2994848450992015,-1.971966605970549,-3.2107712094738785,-1.6206133345550826,1.1291539817547418,-2.5474200637228517,1.2538404069758156,1.960982673501812,2.092372733881823,2.153800069917073,-0.058823595065461046,0.21319697960574482,-0.6643835810137277,0.36663849530470505,-1.5928176767869742,-2.38168171856082,1.8101148727414285,0.07512336200043951,1.8559286063889533,1.740137393951277,-1.4757211326777597,-2.1225170104941773,0.6111958289775529,2.1740286398779487,-1.9572815825852685,1.584166443406417,0.3376677846350452,-0.4691377996481385,-2.959736925922348,-2.827519055850775,-0.05108561686867341,-4.533803700038661,2.0429755281530597,1.9754281844311858,-1.1599190501936596,-0.7760288461226248,0.15016782369925394,-0.9598034114387384,3.135883728932742,1.1765390109162868,1.7815495635710064,0.2685487926321418,1.6812307465186784,0.4169824040426012,-0.23140737277419748,-1.7405577312385834,-1.0634615540859822,1.9783319587066361,-0.021430380414812655,-1.356101472179204,1.3764739518532672,1.417551293133257,-1.6663705182196722,-1.637421902015317,0.9071374715414682,1.5963628269235022,5.294287482289606,1.0501765936772658,-2.0044063831854473,-2.9730833044804035,1.4786548142038844,1.400937254432232,-3.465080471727762,3.891353748844071,-1.8481271108503532,1.1481464166898738,-0.17362260751829395,0.8664640879369168,-0.7692198708439743,1.3009962319123183,0.03141245365294747,-2.891470624514186,-1.6917422315262476,-0.9333158307266889,-1.0995353010128452,2.7462331068055015,1.443086008136743,-3.4892159298387853,-5.243458580411735,2.1848601779493184,1.0383480492583486,-2.282338732382531,1.4167510078345167,0.40019620402296924,0.19010838072025688,-0.5519318128483421,1.3516344001342386,1.7294421283983723,3.0542400571577413,0.7662328452509239,0.2302873617538609,-1.562457114358519,-0.3562936953959135,0.7217651535258985,-1.792290909565451,1.1013939157933075,1.8886062157802916,-3.487829344222292,5.534195009725911,2.151520505633948,2.2416323848052966,-0.5633997106526438,-1.1838931807925834,1.8791321224999766,1.751175734181845,-0.35016980861766084,0.24980941341111437,-2.2913102010860773,0.30607903712646667,2.097290377971634,2.9244064461171253,-1.0330696337937098,-2.5087725235227145,1.2623437020490549,-2.4220287078145537,-1.879337209629254,-0.5471072057152464,0.9111756918565745,0.4904377816503049,-0.2629122646094294,-2.8676932236414383,0.6049886173473218,2.0829882367008086,1.5973932727402327,1.8956474243735737,0.6939429995237809,-0.6343188452610586,-0.6075332033615257,-0.6421795506799624,0.8848794341885226,-1.7915800201793077,-2.874330840657498],\"y\":[0.15831381483518192,-0.6561836394497021,-0.4778448729201177,1.7878916354941374,0.08385569069943824,-1.7787199314481668,-0.6276402287386381,-1.9231381518708008,-0.7024994351298783,-0.4161758084818526,-0.6578137649850839,0.5473760360101657,-0.9885571345684525,-0.5245588191135463,0.47923452224760765,0.6802797022663063,0.6407797991510932,0.4642827040755655,0.7230387411627092,-0.1411215408090799,-1.052680416735157,0.46768148575497925,-2.1659166759399335,0.07370811353654069,-0.038854170984873926,0.11414894707219336,-0.3468533125044903,0.8524343256191336,0.13554866022949097,-1.678526941466895,0.29204736364551137,0.4813598040502729,1.385053762769794,-1.1107845912795997,-1.2412352495040018,-1.8095726540772796,0.36115904372490715,1.141722451073974,2.207843684467905,-1.402814848830742,1.26264849075478,-0.8931527970654686,-0.02201790607892684,0.3718414884067238,-0.7920087322922063,-0.9101897422261138,-1.0818633062732346,-0.8361056260722137,-0.6271664883419974,2.4767276923018944,-0.5896485029630187,0.9597310743626897,1.0248337378028038,-1.0359905586058626,-1.83256204111318,0.3700555954735416,0.25470979927041354,-0.5767164732884393,-1.2491468732724884,0.40964408265897767,-1.777553415379776,-0.48023678070465614,-0.636902635552221,0.7961315240361375,-0.030707562418215373,1.31539814670576,1.856316673206047,1.2006234793599553,-0.6027098490745726,-0.5449222845494304,-0.7476777145040121,-1.3585038089344637,-0.2601603663464219,1.7434515001702122,-1.0340906858673025,-1.7611065704717412,-0.2903488648024284,-2.4009144409537306,0.4971025914224846,-0.2348692504970146,-0.1614977635815671,0.35940335485030056,0.14608129043356546,1.2476485108008444,0.546131923197951,0.09801185582637922,-0.33107478124215695,2.052419968300085,1.0698831961825044,0.3699095596981852,0.666855710802383,4.9893834827932215,-0.1724164509082256,0.3605175172889301,0.28206756475734923,1.539120922270739,0.9345206287646719,0.6482018897634664,4.664343462010254,1.4171857934423833,0.34889181183199003,0.07341773634925475,0.08699279085538103,0.5321391251948818,-0.33127202476031414,-0.3307364795114255,0.9520830186086704,-1.6132288302456923,1.0047347660368757,-0.8043481152253906,0.15207378240008884,-1.5641634021522426,1.0539578875431455,0.1238055064791529,-1.2810064795849665,0.502941322346874,-0.44657702800091703,1.0505362759383745,0.3083671857716277,-1.1284514314880632,-0.12763181229092263,-0.7119797489868609,-1.4790872965584456,-0.04253031576840177,-0.6889723027534305,-1.0807866423925128,-0.9869413048449164,-0.052357819919456094,-0.1580226486160875,0.10776904852156377,-0.9350494443609627,2.8524976167861005,-0.1273060680434553,6.631028191618138,0.9883216966528353,0.15233155061283765,1.2777817182785405,-0.5334552419889858,-0.46402463326480403,-1.789316979600331,-1.02750920484597,-0.0675700880786451,-0.7172080280517503,-0.11994742792754995,-0.8605302098620219,-0.32866319008331124,-0.04415338394822349,-0.1677054873115219,0.7473481626512078,-1.1076647239606896,0.981267603062029,-0.12071670394893251,0.10415292431426215,-1.4393794547538392,1.2675983898439138,-0.282164590831474,-0.1570459783184267,1.175571690713299,-1.5070170673909655,-2.921893777872996,-1.4607101674768508,-0.6752955624951196,0.6122065434844757,-1.1933842485240944,1.3150370349040996,-0.07758317467243409,0.5556268071306267],\"z\":[-0.9090678859743129,-0.11255396723903793,1.3605507638716179,1.3111443535993252,-0.06950051518649314,0.9014816534138455,0.48766538311278446,-0.011736540481696422,-0.7004327495442109,0.9446068991765,-0.49683649579736516,1.0270024434812706,0.7048475782503676,-0.5536331727092452,0.6753697064757422,-0.8051639444542098,-0.08809662702366439,-0.35511775977121496,-0.09921891600094818,0.5127505920578488,-1.3497017559702496,-0.6457462818355717,-0.11414950025934528,2.8659235705265433,-0.2754958654373398,-0.6720414194020858,-1.6382038296404662,-0.36443231282524713,-0.48020340673911754,-0.6023791788108612,-0.0744834906767563,-0.5550761332491145,-0.37180200378111344,0.2554498609749619,0.6474597193575833,-0.0987436851379695,-0.3428466424411696,-0.2909505087043426,1.4605595856054072,-0.7113915556725194,-0.3882604538658131,-0.275487718326756,0.3064028166495848,-0.443034387744107,-0.6340717839527041,0.08181819531015111,-0.16014641984265693,0.6987040306525298,-0.38798593694114736,1.4330574343265758,0.8312572914117347,0.050823179973292,-0.032367661259871616,-0.25479915232946676,-0.8858368106223851,1.4579673185920554,-0.46805723439044933,-0.839327786218063,-0.8119142428138357,0.3762353080182997,-0.6896447303512826,-0.30103939088818055,-0.2478478606821013,0.23125990903891802,-1.410422967396972,-0.3302833559984056,-1.82925391572243,-0.29812626777138057,-0.040669833986616145,0.5776942658582368,1.5372711532075893,1.1583180115078535,0.11208157390241236,-0.6827566187040883,0.023796449644739176,-0.35008076907751223,0.5406972726798314,-0.3452387109264792,-0.46126642409022434,1.5521999872035481,-0.23119037792201458,-2.430050274495387,2.498836475182763,-0.2807404830091464,0.18035975532097367,-0.31001642360541165,-0.4083346972010114,-2.657530748520053,-2.554139448741435,1.5879901941160206,-0.25226514514865045,0.40814678831208906,-0.43312515635187493,0.24634157879509821,-0.3792653670834039,0.7271190181333294,-0.06342538020122188,-0.4853469880509159,-0.8829425954692471,0.6644126990389905,-0.18366875650751707,-2.767023826087403,-1.4212250072958856,1.916267591436915,-0.9305796610526853,-0.07852349316152762,-0.41173862041166376,1.1496756161876776,-0.7569683385964333,0.5073638520053061,-0.9698979103617134,-0.3617733881216114,-0.8259947579001917,5.638686626219016,0.3622559786888553,2.1413588141042568,1.0267499578049155,-0.6586596295546305,0.12434114371369555,0.5878483080150035,0.46971069473963495,-0.16405038698283797,-0.9213681940945209,3.174988777705434,0.2708738860822183,1.1960195790083359,-1.554739914182465,-0.5430027942236946,1.857878873325257,-0.5343415753142313,-0.8689937938416844,-0.15548564817831256,-1.7803551279249976,0.6385683118144247,-0.7491872708514632,-0.7486438193708295,-1.2028867002302794,-0.8047478287677031,0.23955726352532103,-0.39599328563367536,1.9666986863661329,0.16156455798737113,0.6297748036971371,0.08848010191237451,-0.31409638542701374,-0.662587705210669,-0.07022459609991541,-0.1956395226283436,0.6152016791120845,0.20758347390670628,-1.3220844843643467,-0.2880439589389738,-0.032096243542742486,0.3369293939533858,0.7215614015942684,-0.9272610091894559,0.09087159889590951,1.7574955117957318,-0.3730202390536834,-2.11720095036021,-0.15385188866304778,0.7420100969044118,-0.2846199620354003,3.1033489359520496,-0.028809825961413557,1.0782894920729391,0.045128339284352836],\"type\":\"scatter3d\"}],                        {\"template\":{\"data\":{\"bar\":[{\"error_x\":{\"color\":\"#2a3f5f\"},\"error_y\":{\"color\":\"#2a3f5f\"},\"marker\":{\"line\":{\"color\":\"#E5ECF6\",\"width\":0.5},\"pattern\":{\"fillmode\":\"overlay\",\"size\":10,\"solidity\":0.2}},\"type\":\"bar\"}],\"barpolar\":[{\"marker\":{\"line\":{\"color\":\"#E5ECF6\",\"width\":0.5},\"pattern\":{\"fillmode\":\"overlay\",\"size\":10,\"solidity\":0.2}},\"type\":\"barpolar\"}],\"carpet\":[{\"aaxis\":{\"endlinecolor\":\"#2a3f5f\",\"gridcolor\":\"white\",\"linecolor\":\"white\",\"minorgridcolor\":\"white\",\"startlinecolor\":\"#2a3f5f\"},\"baxis\":{\"endlinecolor\":\"#2a3f5f\",\"gridcolor\":\"white\",\"linecolor\":\"white\",\"minorgridcolor\":\"white\",\"startlinecolor\":\"#2a3f5f\"},\"type\":\"carpet\"}],\"choropleth\":[{\"colorbar\":{\"outlinewidth\":0,\"ticks\":\"\"},\"type\":\"choropleth\"}],\"contour\":[{\"colorbar\":{\"outlinewidth\":0,\"ticks\":\"\"},\"colorscale\":[[0.0,\"#0d0887\"],[0.1111111111111111,\"#46039f\"],[0.2222222222222222,\"#7201a8\"],[0.3333333333333333,\"#9c179e\"],[0.4444444444444444,\"#bd3786\"],[0.5555555555555556,\"#d8576b\"],[0.6666666666666666,\"#ed7953\"],[0.7777777777777778,\"#fb9f3a\"],[0.8888888888888888,\"#fdca26\"],[1.0,\"#f0f921\"]],\"type\":\"contour\"}],\"contourcarpet\":[{\"colorbar\":{\"outlinewidth\":0,\"ticks\":\"\"},\"type\":\"contourcarpet\"}],\"heatmap\":[{\"colorbar\":{\"outlinewidth\":0,\"ticks\":\"\"},\"colorscale\":[[0.0,\"#0d0887\"],[0.1111111111111111,\"#46039f\"],[0.2222222222222222,\"#7201a8\"],[0.3333333333333333,\"#9c179e\"],[0.4444444444444444,\"#bd3786\"],[0.5555555555555556,\"#d8576b\"],[0.6666666666666666,\"#ed7953\"],[0.7777777777777778,\"#fb9f3a\"],[0.8888888888888888,\"#fdca26\"],[1.0,\"#f0f921\"]],\"type\":\"heatmap\"}],\"heatmapgl\":[{\"colorbar\":{\"outlinewidth\":0,\"ticks\":\"\"},\"colorscale\":[[0.0,\"#0d0887\"],[0.1111111111111111,\"#46039f\"],[0.2222222222222222,\"#7201a8\"],[0.3333333333333333,\"#9c179e\"],[0.4444444444444444,\"#bd3786\"],[0.5555555555555556,\"#d8576b\"],[0.6666666666666666,\"#ed7953\"],[0.7777777777777778,\"#fb9f3a\"],[0.8888888888888888,\"#fdca26\"],[1.0,\"#f0f921\"]],\"type\":\"heatmapgl\"}],\"histogram\":[{\"marker\":{\"pattern\":{\"fillmode\":\"overlay\",\"size\":10,\"solidity\":0.2}},\"type\":\"histogram\"}],\"histogram2d\":[{\"colorbar\":{\"outlinewidth\":0,\"ticks\":\"\"},\"colorscale\":[[0.0,\"#0d0887\"],[0.1111111111111111,\"#46039f\"],[0.2222222222222222,\"#7201a8\"],[0.3333333333333333,\"#9c179e\"],[0.4444444444444444,\"#bd3786\"],[0.5555555555555556,\"#d8576b\"],[0.6666666666666666,\"#ed7953\"],[0.7777777777777778,\"#fb9f3a\"],[0.8888888888888888,\"#fdca26\"],[1.0,\"#f0f921\"]],\"type\":\"histogram2d\"}],\"histogram2dcontour\":[{\"colorbar\":{\"outlinewidth\":0,\"ticks\":\"\"},\"colorscale\":[[0.0,\"#0d0887\"],[0.1111111111111111,\"#46039f\"],[0.2222222222222222,\"#7201a8\"],[0.3333333333333333,\"#9c179e\"],[0.4444444444444444,\"#bd3786\"],[0.5555555555555556,\"#d8576b\"],[0.6666666666666666,\"#ed7953\"],[0.7777777777777778,\"#fb9f3a\"],[0.8888888888888888,\"#fdca26\"],[1.0,\"#f0f921\"]],\"type\":\"histogram2dcontour\"}],\"mesh3d\":[{\"colorbar\":{\"outlinewidth\":0,\"ticks\":\"\"},\"type\":\"mesh3d\"}],\"parcoords\":[{\"line\":{\"colorbar\":{\"outlinewidth\":0,\"ticks\":\"\"}},\"type\":\"parcoords\"}],\"pie\":[{\"automargin\":true,\"type\":\"pie\"}],\"scatter\":[{\"marker\":{\"colorbar\":{\"outlinewidth\":0,\"ticks\":\"\"}},\"type\":\"scatter\"}],\"scatter3d\":[{\"line\":{\"colorbar\":{\"outlinewidth\":0,\"ticks\":\"\"}},\"marker\":{\"colorbar\":{\"outlinewidth\":0,\"ticks\":\"\"}},\"type\":\"scatter3d\"}],\"scattercarpet\":[{\"marker\":{\"colorbar\":{\"outlinewidth\":0,\"ticks\":\"\"}},\"type\":\"scattercarpet\"}],\"scattergeo\":[{\"marker\":{\"colorbar\":{\"outlinewidth\":0,\"ticks\":\"\"}},\"type\":\"scattergeo\"}],\"scattergl\":[{\"marker\":{\"colorbar\":{\"outlinewidth\":0,\"ticks\":\"\"}},\"type\":\"scattergl\"}],\"scattermapbox\":[{\"marker\":{\"colorbar\":{\"outlinewidth\":0,\"ticks\":\"\"}},\"type\":\"scattermapbox\"}],\"scatterpolar\":[{\"marker\":{\"colorbar\":{\"outlinewidth\":0,\"ticks\":\"\"}},\"type\":\"scatterpolar\"}],\"scatterpolargl\":[{\"marker\":{\"colorbar\":{\"outlinewidth\":0,\"ticks\":\"\"}},\"type\":\"scatterpolargl\"}],\"scatterternary\":[{\"marker\":{\"colorbar\":{\"outlinewidth\":0,\"ticks\":\"\"}},\"type\":\"scatterternary\"}],\"surface\":[{\"colorbar\":{\"outlinewidth\":0,\"ticks\":\"\"},\"colorscale\":[[0.0,\"#0d0887\"],[0.1111111111111111,\"#46039f\"],[0.2222222222222222,\"#7201a8\"],[0.3333333333333333,\"#9c179e\"],[0.4444444444444444,\"#bd3786\"],[0.5555555555555556,\"#d8576b\"],[0.6666666666666666,\"#ed7953\"],[0.7777777777777778,\"#fb9f3a\"],[0.8888888888888888,\"#fdca26\"],[1.0,\"#f0f921\"]],\"type\":\"surface\"}],\"table\":[{\"cells\":{\"fill\":{\"color\":\"#EBF0F8\"},\"line\":{\"color\":\"white\"}},\"header\":{\"fill\":{\"color\":\"#C8D4E3\"},\"line\":{\"color\":\"white\"}},\"type\":\"table\"}]},\"layout\":{\"annotationdefaults\":{\"arrowcolor\":\"#2a3f5f\",\"arrowhead\":0,\"arrowwidth\":1},\"autotypenumbers\":\"strict\",\"coloraxis\":{\"colorbar\":{\"outlinewidth\":0,\"ticks\":\"\"}},\"colorscale\":{\"diverging\":[[0,\"#8e0152\"],[0.1,\"#c51b7d\"],[0.2,\"#de77ae\"],[0.3,\"#f1b6da\"],[0.4,\"#fde0ef\"],[0.5,\"#f7f7f7\"],[0.6,\"#e6f5d0\"],[0.7,\"#b8e186\"],[0.8,\"#7fbc41\"],[0.9,\"#4d9221\"],[1,\"#276419\"]],\"sequential\":[[0.0,\"#0d0887\"],[0.1111111111111111,\"#46039f\"],[0.2222222222222222,\"#7201a8\"],[0.3333333333333333,\"#9c179e\"],[0.4444444444444444,\"#bd3786\"],[0.5555555555555556,\"#d8576b\"],[0.6666666666666666,\"#ed7953\"],[0.7777777777777778,\"#fb9f3a\"],[0.8888888888888888,\"#fdca26\"],[1.0,\"#f0f921\"]],\"sequentialminus\":[[0.0,\"#0d0887\"],[0.1111111111111111,\"#46039f\"],[0.2222222222222222,\"#7201a8\"],[0.3333333333333333,\"#9c179e\"],[0.4444444444444444,\"#bd3786\"],[0.5555555555555556,\"#d8576b\"],[0.6666666666666666,\"#ed7953\"],[0.7777777777777778,\"#fb9f3a\"],[0.8888888888888888,\"#fdca26\"],[1.0,\"#f0f921\"]]},\"colorway\":[\"#636efa\",\"#EF553B\",\"#00cc96\",\"#ab63fa\",\"#FFA15A\",\"#19d3f3\",\"#FF6692\",\"#B6E880\",\"#FF97FF\",\"#FECB52\"],\"font\":{\"color\":\"#2a3f5f\"},\"geo\":{\"bgcolor\":\"white\",\"lakecolor\":\"white\",\"landcolor\":\"#E5ECF6\",\"showlakes\":true,\"showland\":true,\"subunitcolor\":\"white\"},\"hoverlabel\":{\"align\":\"left\"},\"hovermode\":\"closest\",\"mapbox\":{\"style\":\"light\"},\"paper_bgcolor\":\"white\",\"plot_bgcolor\":\"#E5ECF6\",\"polar\":{\"angularaxis\":{\"gridcolor\":\"white\",\"linecolor\":\"white\",\"ticks\":\"\"},\"bgcolor\":\"#E5ECF6\",\"radialaxis\":{\"gridcolor\":\"white\",\"linecolor\":\"white\",\"ticks\":\"\"}},\"scene\":{\"xaxis\":{\"backgroundcolor\":\"#E5ECF6\",\"gridcolor\":\"white\",\"gridwidth\":2,\"linecolor\":\"white\",\"showbackground\":true,\"ticks\":\"\",\"zerolinecolor\":\"white\"},\"yaxis\":{\"backgroundcolor\":\"#E5ECF6\",\"gridcolor\":\"white\",\"gridwidth\":2,\"linecolor\":\"white\",\"showbackground\":true,\"ticks\":\"\",\"zerolinecolor\":\"white\"},\"zaxis\":{\"backgroundcolor\":\"#E5ECF6\",\"gridcolor\":\"white\",\"gridwidth\":2,\"linecolor\":\"white\",\"showbackground\":true,\"ticks\":\"\",\"zerolinecolor\":\"white\"}},\"shapedefaults\":{\"line\":{\"color\":\"#2a3f5f\"}},\"ternary\":{\"aaxis\":{\"gridcolor\":\"white\",\"linecolor\":\"white\",\"ticks\":\"\"},\"baxis\":{\"gridcolor\":\"white\",\"linecolor\":\"white\",\"ticks\":\"\"},\"bgcolor\":\"#E5ECF6\",\"caxis\":{\"gridcolor\":\"white\",\"linecolor\":\"white\",\"ticks\":\"\"}},\"title\":{\"x\":0.05},\"xaxis\":{\"automargin\":true,\"gridcolor\":\"white\",\"linecolor\":\"white\",\"ticks\":\"\",\"title\":{\"standoff\":15},\"zerolinecolor\":\"white\",\"zerolinewidth\":2},\"yaxis\":{\"automargin\":true,\"gridcolor\":\"white\",\"linecolor\":\"white\",\"ticks\":\"\",\"title\":{\"standoff\":15},\"zerolinecolor\":\"white\",\"zerolinewidth\":2}}},\"scene\":{\"domain\":{\"x\":[0.0,1.0],\"y\":[0.0,1.0]},\"xaxis\":{\"title\":{\"text\":\"0\"}},\"yaxis\":{\"title\":{\"text\":\"1\"}},\"zaxis\":{\"title\":{\"text\":\"2\"}}},\"coloraxis\":{\"colorbar\":{\"title\":{\"text\":\"color\"}},\"colorscale\":[[0.0,\"#0d0887\"],[0.1111111111111111,\"#46039f\"],[0.2222222222222222,\"#7201a8\"],[0.3333333333333333,\"#9c179e\"],[0.4444444444444444,\"#bd3786\"],[0.5555555555555556,\"#d8576b\"],[0.6666666666666666,\"#ed7953\"],[0.7777777777777778,\"#fb9f3a\"],[0.8888888888888888,\"#fdca26\"],[1.0,\"#f0f921\"]]},\"legend\":{\"tracegroupgap\":0},\"margin\":{\"t\":60},\"height\":1000,\"width\":1000},                        {\"responsive\": true}                    ).then(function(){\n",
       "                            \n",
       "var gd = document.getElementById('0c805b87-807c-40f2-909f-c92bce1e9d52');\n",
       "var x = new MutationObserver(function (mutations, observer) {{\n",
       "        var display = window.getComputedStyle(gd).display;\n",
       "        if (!display || display === 'none') {{\n",
       "            console.log([gd, 'removed!']);\n",
       "            Plotly.purge(gd);\n",
       "            observer.disconnect();\n",
       "        }}\n",
       "}});\n",
       "\n",
       "// Listen for the removal of the full notebook cells\n",
       "var notebookContainer = gd.closest('#notebook-container');\n",
       "if (notebookContainer) {{\n",
       "    x.observe(notebookContainer, {childList: true});\n",
       "}}\n",
       "\n",
       "// Listen for the clearing of the current output cell\n",
       "var outputEl = gd.closest('.output');\n",
       "if (outputEl) {{\n",
       "    x.observe(outputEl, {childList: true});\n",
       "}}\n",
       "\n",
       "                        })                };                });            </script>        </div>"
      ]
     },
     "metadata": {},
     "output_type": "display_data"
    }
   ],
   "source": [
    "import plotly.express as px\n",
    "fig = px.scatter_3d(df,\n",
    "x=0,\n",
    "y=1,\n",
    "z=2,\n",
    "text=df.index,\n",
    "color=PIB,\n",
    "width=1000,\n",
    "height=1000)\n",
    "fig"
   ]
  },
  {
   "cell_type": "code",
   "execution_count": null,
   "id": "da44e989",
   "metadata": {},
   "outputs": [],
   "source": []
  },
  {
   "cell_type": "code",
   "execution_count": null,
   "id": "6a43d81f",
   "metadata": {},
   "outputs": [],
   "source": []
  }
 ],
 "metadata": {
  "kernelspec": {
   "display_name": "Python 3 (ipykernel)",
   "language": "python",
   "name": "python3"
  },
  "language_info": {
   "codemirror_mode": {
    "name": "ipython",
    "version": 3
   },
   "file_extension": ".py",
   "mimetype": "text/x-python",
   "name": "python",
   "nbconvert_exporter": "python",
   "pygments_lexer": "ipython3",
   "version": "3.9.7"
  }
 },
 "nbformat": 4,
 "nbformat_minor": 5
}
