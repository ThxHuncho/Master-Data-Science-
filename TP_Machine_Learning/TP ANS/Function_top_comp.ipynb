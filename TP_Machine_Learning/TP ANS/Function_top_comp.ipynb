{
 "cells": [
  {
   "cell_type": "code",
   "execution_count": null,
   "id": "c0d9347d",
   "metadata": {},
   "outputs": [],
   "source": [
    "import matplotlib.colors as colors\n",
    "from matplotlib.cm import bwr as cmap\n",
    "import matplotlib.patches as mpatches\n",
    "\n",
    "def print_top_comp(components, feature_names, n_top_comp):\n",
    "    taille=feature_names.shape[0]\n",
    "    seuil=1/np.sqrt(taille)\n",
    "    for comp_idx, topic in enumerate(components):\n",
    "        Y=np.abs(topic)\n",
    "        feature_pos=feature_names[topic>seuil]\n",
    "        feature_neg=feature_names[topic<=-seuil]\n",
    "        n_top_comp_pos=min(n_top_comp,feature_pos.shape[0])\n",
    "        n_top_comp_neg=min(n_top_comp,feature_neg.shape[0])\n",
    "\n",
    "\n",
    "        feature_pos=feature_names[topic.argsort()[::-1][:n_top_comp_pos]]\n",
    "        feature_neg=feature_names[topic.argsort()[:n_top_comp_neg]]\n",
    "        fea=np.concatenate((feature_pos,feature_neg))\n",
    "        com_pos=np.sort(topic)[::-1][:n_top_comp_pos]\n",
    "        com_neg=np.sort(topic)[:n_top_comp_neg]\n",
    "        com=np.concatenate((com_pos,com_neg))\n",
    "\n",
    "                \n",
    "        c_normal = colors.PowerNorm(1,vmin=min(com),vmax=max(com))\n",
    "        _COLORS = cmap(c_normal(com))\n",
    "\n",
    "      \n",
    "        components = pd.DataFrame(np.array(com),index =fea) \n",
    "        fig, ax = plt.subplots(figsize = (5,3))\n",
    "        # Plot the feature weights as a function of the components\n",
    "        components.plot(ax = ax, kind = 'bar',align = \"center\", color=_COLORS)\n",
    "        #plt.xlabel(\"Dimension #%d \" % comp_idx)\n",
    "        ax.set_ylabel(\"Feature Weights\") \n",
    "        red_patch = mpatches.Patch(color='red', label=\"Variable-%d \" % (comp_idx+1))\n",
    "        ax.legend(handles=[red_patch])\n",
    "        plt.show()"
   ]
  }
 ],
 "metadata": {
  "kernelspec": {
   "display_name": "Python 3",
   "language": "python",
   "name": "python3"
  },
  "language_info": {
   "codemirror_mode": {
    "name": "ipython",
    "version": 3
   },
   "file_extension": ".py",
   "mimetype": "text/x-python",
   "name": "python",
   "nbconvert_exporter": "python",
   "pygments_lexer": "ipython3",
   "version": "3.8.8"
  }
 },
 "nbformat": 4,
 "nbformat_minor": 5
}
