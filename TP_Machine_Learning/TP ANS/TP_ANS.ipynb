{
 "cells": [
  {
   "cell_type": "code",
   "execution_count": 5,
   "metadata": {},
   "outputs": [],
   "source": [
    "import numpy as np\n",
    "np.set_printoptions(threshold=10000,suppress=True)\n",
    "import pandas as pd\n",
    "import warnings\n",
    "import matplotlib.pyplot as plt\n",
    "warnings.filterwarnings('ignore')\n",
    "import gc"
   ]
  },
  {
   "cell_type": "markdown",
   "metadata": {},
   "source": [
    "## Lecture des données"
   ]
  },
  {
   "cell_type": "code",
   "execution_count": 63,
   "metadata": {},
   "outputs": [
    {
     "data": {
      "text/html": [
       "<div>\n",
       "<style scoped>\n",
       "    .dataframe tbody tr th:only-of-type {\n",
       "        vertical-align: middle;\n",
       "    }\n",
       "\n",
       "    .dataframe tbody tr th {\n",
       "        vertical-align: top;\n",
       "    }\n",
       "\n",
       "    .dataframe thead th {\n",
       "        text-align: right;\n",
       "    }\n",
       "</style>\n",
       "<table border=\"1\" class=\"dataframe\">\n",
       "  <thead>\n",
       "    <tr style=\"text-align: right;\">\n",
       "      <th></th>\n",
       "      <th>ville</th>\n",
       "      <th>janv</th>\n",
       "      <th>fev</th>\n",
       "      <th>mars</th>\n",
       "      <th>avril</th>\n",
       "      <th>mai</th>\n",
       "      <th>juin</th>\n",
       "      <th>juil</th>\n",
       "      <th>aout</th>\n",
       "      <th>sept</th>\n",
       "      <th>oct</th>\n",
       "      <th>nov</th>\n",
       "      <th>dec</th>\n",
       "    </tr>\n",
       "  </thead>\n",
       "  <tbody>\n",
       "    <tr>\n",
       "      <th>0</th>\n",
       "      <td>ajac</td>\n",
       "      <td>7.7</td>\n",
       "      <td>8.7</td>\n",
       "      <td>10.5</td>\n",
       "      <td>12.6</td>\n",
       "      <td>15.9</td>\n",
       "      <td>19.8</td>\n",
       "      <td>22.0</td>\n",
       "      <td>22.2</td>\n",
       "      <td>20.3</td>\n",
       "      <td>16.3</td>\n",
       "      <td>11.8</td>\n",
       "      <td>8.7</td>\n",
       "    </tr>\n",
       "    <tr>\n",
       "      <th>1</th>\n",
       "      <td>ange</td>\n",
       "      <td>4.2</td>\n",
       "      <td>4.9</td>\n",
       "      <td>7.9</td>\n",
       "      <td>10.4</td>\n",
       "      <td>13.6</td>\n",
       "      <td>17.0</td>\n",
       "      <td>18.7</td>\n",
       "      <td>18.4</td>\n",
       "      <td>16.1</td>\n",
       "      <td>11.7</td>\n",
       "      <td>7.6</td>\n",
       "      <td>4.9</td>\n",
       "    </tr>\n",
       "    <tr>\n",
       "      <th>2</th>\n",
       "      <td>ango</td>\n",
       "      <td>4.6</td>\n",
       "      <td>5.4</td>\n",
       "      <td>8.9</td>\n",
       "      <td>11.3</td>\n",
       "      <td>14.5</td>\n",
       "      <td>17.2</td>\n",
       "      <td>19.5</td>\n",
       "      <td>19.4</td>\n",
       "      <td>16.9</td>\n",
       "      <td>12.5</td>\n",
       "      <td>8.1</td>\n",
       "      <td>5.3</td>\n",
       "    </tr>\n",
       "  </tbody>\n",
       "</table>\n",
       "</div>"
      ],
      "text/plain": [
       "  ville  janv  fev  mars  avril   mai  juin  juil  aout  sept   oct   nov  dec\n",
       "0  ajac   7.7  8.7  10.5   12.6  15.9  19.8  22.0  22.2  20.3  16.3  11.8  8.7\n",
       "1  ange   4.2  4.9   7.9   10.4  13.6  17.0  18.7  18.4  16.1  11.7   7.6  4.9\n",
       "2  ango   4.6  5.4   8.9   11.3  14.5  17.2  19.5  19.4  16.9  12.5   8.1  5.3"
      ]
     },
     "execution_count": 63,
     "metadata": {},
     "output_type": "execute_result"
    }
   ],
   "source": [
    "data=pd.read_csv('./villes.csv',sep=';',header=0)\n",
    "data.head(3)"
   ]
  },
  {
   "cell_type": "code",
   "execution_count": 64,
   "metadata": {},
   "outputs": [],
   "source": [
    "X=data.iloc[:,1:13].values\n",
    "labels=data.iloc[:,0].values"
   ]
  },
  {
   "cell_type": "markdown",
   "metadata": {},
   "source": [
    "## Importation des bibliothèques"
   ]
  },
  {
   "cell_type": "code",
   "execution_count": 65,
   "metadata": {},
   "outputs": [],
   "source": [
    "from sklearn.preprocessing import StandardScaler\n",
    "from sklearn.decomposition import PCA"
   ]
  },
  {
   "cell_type": "markdown",
   "metadata": {},
   "source": [
    "## Normalisation"
   ]
  },
  {
   "cell_type": "code",
   "execution_count": 66,
   "metadata": {},
   "outputs": [],
   "source": [
    "SS=StandardScaler()\n",
    "SS.fit(X)\n",
    "Xnorm=SS.transform(X)\n",
    "\n",
    "#Xnorm=SS.fit_transform(X) ###A éviter quand des futures de données peuvent arriver"
   ]
  },
  {
   "cell_type": "code",
   "execution_count": 67,
   "metadata": {},
   "outputs": [
    {
     "data": {
      "text/plain": [
       "array([1.63835106, 1.78748032, 1.35686597, 1.16748094, 1.09413658,\n",
       "       1.2081338 , 1.11734499, 1.39767179, 1.73963204, 1.93208186,\n",
       "       1.82836605, 1.68024825])"
      ]
     },
     "execution_count": 67,
     "metadata": {},
     "output_type": "execute_result"
    }
   ],
   "source": [
    "Xnorm[0,:]"
   ]
  },
  {
   "cell_type": "markdown",
   "metadata": {},
   "source": [
    "## PCA"
   ]
  },
  {
   "cell_type": "code",
   "execution_count": 110,
   "metadata": {},
   "outputs": [
    {
     "data": {
      "text/plain": [
       "PCA(copy=True, iterated_power='auto', n_components=0.9, random_state=None,\n",
       "    svd_solver='auto', tol=0.0, whiten=False)"
      ]
     },
     "execution_count": 110,
     "metadata": {},
     "output_type": "execute_result"
    }
   ],
   "source": [
    "pca=PCA(n_components=0.9)\n",
    "pca.fit(Xnorm)"
   ]
  },
  {
   "cell_type": "markdown",
   "metadata": {},
   "source": [
    "#### Bon à savoir "
   ]
  },
  {
   "cell_type": "raw",
   "metadata": {},
   "source": [
    " pour garder les axes qui expliquent n% de la variance des données\n",
    " pca = PCA(n_components=n%)\n",
    " \n",
    " pour garder tous les axes \n",
    " pca = PCA(n_components= nombres de variables)"
   ]
  },
  {
   "cell_type": "code",
   "execution_count": null,
   "metadata": {},
   "outputs": [],
   "source": []
  },
  {
   "cell_type": "markdown",
   "metadata": {},
   "source": [
    "### Les valeurs propres sélectionnées"
   ]
  },
  {
   "cell_type": "code",
   "execution_count": 111,
   "metadata": {},
   "outputs": [
    {
     "data": {
      "text/plain": [
       "array([10.80999558,  1.45184229])"
      ]
     },
     "execution_count": 111,
     "metadata": {},
     "output_type": "execute_result"
    }
   ],
   "source": [
    "pca.explained_variance_"
   ]
  },
  {
   "cell_type": "markdown",
   "metadata": {},
   "source": [
    "### Information (variance) expriquée par valauer propre"
   ]
  },
  {
   "cell_type": "code",
   "execution_count": 112,
   "metadata": {},
   "outputs": [
    {
     "data": {
      "text/plain": [
       "array([0.87268193, 0.11720602])"
      ]
     },
     "execution_count": 112,
     "metadata": {},
     "output_type": "execute_result"
    }
   ],
   "source": [
    "pca.explained_variance_ratio_"
   ]
  },
  {
   "cell_type": "markdown",
   "metadata": {},
   "source": [
    "### Interprétation des axes"
   ]
  },
  {
   "cell_type": "code",
   "execution_count": 102,
   "metadata": {
    "scrolled": true
   },
   "outputs": [
    {
     "data": {
      "text/plain": [
       "array([[ 0.27151028,  0.28846164,  0.3010811 ,  0.30354174,  0.28353089,\n",
       "         0.27841907,  0.27290295,  0.28757774,  0.30472022,  0.3038548 ,\n",
       "         0.29242808,  0.2729549 ],\n",
       "       [ 0.39933494,  0.29907184,  0.12943051, -0.11530598, -0.32314291,\n",
       "        -0.35846763, -0.38879639, -0.3010133 , -0.11231622,  0.12249226,\n",
       "         0.26269461,  0.38693688]])"
      ]
     },
     "execution_count": 102,
     "metadata": {},
     "output_type": "execute_result"
    }
   ],
   "source": [
    "pca.components_"
   ]
  },
  {
   "cell_type": "markdown",
   "metadata": {},
   "source": [
    "#### Bon à savoir "
   ]
  },
  {
   "cell_type": "raw",
   "metadata": {},
   "source": [
    "Pour determiner les variables qu'on garde dans la contribution des axes on peut utiliser \n",
    "un critere experimental : on calcul 1/sqrt(nombre de variable)"
   ]
  },
  {
   "cell_type": "code",
   "execution_count": null,
   "metadata": {},
   "outputs": [],
   "source": []
  },
  {
   "cell_type": "markdown",
   "metadata": {},
   "source": [
    "#### Axe 1"
   ]
  },
  {
   "cell_type": "code",
   "execution_count": 120,
   "metadata": {},
   "outputs": [
    {
     "data": {
      "text/plain": [
       "array([0.27151028, 0.28846164, 0.3010811 , 0.30354174, 0.28353089,\n",
       "       0.27841907, 0.27290295, 0.28757774, 0.30472022, 0.3038548 ,\n",
       "       0.29242808, 0.2729549 ])"
      ]
     },
     "execution_count": 120,
     "metadata": {},
     "output_type": "execute_result"
    }
   ],
   "source": [
    "pca.components_[0,:]"
   ]
  },
  {
   "cell_type": "markdown",
   "metadata": {},
   "source": [
    "#### Axe 2"
   ]
  },
  {
   "cell_type": "code",
   "execution_count": 106,
   "metadata": {},
   "outputs": [
    {
     "data": {
      "text/plain": [
       "array([ 0.39933494,  0.29907184,  0.12943051, -0.11530598, -0.32314291,\n",
       "       -0.35846763, -0.38879639, -0.3010133 , -0.11231622,  0.12249226,\n",
       "        0.26269461,  0.38693688])"
      ]
     },
     "execution_count": 106,
     "metadata": {},
     "output_type": "execute_result"
    }
   ],
   "source": [
    "pca.components_[1,:]"
   ]
  },
  {
   "cell_type": "raw",
   "metadata": {},
   "source": [
    "Dans le premier axe, toutes les variables participent à la creation de l'axe. Cet axe correspond à la temperature \n",
    "Dans le Deuxieme axe, toutes les variables ne  participent à la creation de l'axe.Cet axe correspond au differentes periodes de l'année "
   ]
  },
  {
   "cell_type": "code",
   "execution_count": null,
   "metadata": {},
   "outputs": [],
   "source": []
  },
  {
   "cell_type": "markdown",
   "metadata": {},
   "source": [
    "### Cercle de correlartion"
   ]
  },
  {
   "cell_type": "code",
   "execution_count": 119,
   "metadata": {},
   "outputs": [
    {
     "data": {
      "text/plain": [
       "Text(0.5,1,'Circle of Correlations')"
      ]
     },
     "execution_count": 119,
     "metadata": {},
     "output_type": "execute_result"
    },
    {
     "data": {
      "image/png": "[encoded data removed]",
      "text/plain": [
       "<Figure size 720x720 with 1 Axes>"
      ]
     },
     "metadata": {
      "needs_background": "light"
     },
     "output_type": "display_data"
    }
   ],
   "source": [
    "coef = np.transpose(pca.components_)\n",
    "cols = ['y'+str(x+1) for x in range(2)]\n",
    "\n",
    "pc_infos=pd.DataFframe(coef,columns=cols, index=data.iloc[:,1:].colimns)\n",
    "\n",
    "plt.Circle((0,0),radius=10, color='g', fill=False)\n",
    "circle1=plt.Circle((0,0),radius=1, color='g', fill=False)\n",
    "# Ajouter les axes et donner la limite pour chaque axe\n",
    "fig, axes= plt.subplots(figsize=(10,10))\n",
    "axes.set_xlim(-1,1)\n",
    "axes.set_ylim(-1,1)\n",
    "fig.gca().add_artist(circle1)\n",
    "plt.plot([-1,1],[0,0],color='silver',linestyle='-',linewidth=1)\n",
    "plt.plot([0,0],[-1,1],color='silver',linestyle='-',linewidth=1)\n",
    "axes.add_artist(circle1)\n",
    "# Affichage de chaque variable explicative dans la cercle\n",
    "for idx in range(len(pc_infos[\"y1\"])):\n",
    "    x = pc_infos[\"y1\"][idx]\n",
    "    y = pc_infos[\"y2\"][idx]\n",
    "    plt.plot([0.0,x],[0.0,y],'k-')\n",
    "    plt.plot(x, y, 'rx')\n",
    "    plt.annotate(pc_infos.index[idx], xy=(x,y))\n",
    "plt.xlim((-1,1))\n",
    "plt.ylim((-1,1))\n",
    "plt.title(\"Circle of Correlations\")\n"
   ]
  },
  {
   "cell_type": "markdown",
   "metadata": {},
   "source": [
    "### Projection des données sur les nouveaux axes"
   ]
  },
  {
   "cell_type": "code",
   "execution_count": null,
   "metadata": {},
   "outputs": [],
   "source": [
    "X_pca=pca.transform(Xnorm)"
   ]
  },
  {
   "cell_type": "code",
   "execution_count": 74,
   "metadata": {},
   "outputs": [
    {
     "data": {
      "image/png": "[encoded data removed]",
      "text/plain": [
       "<Figure size 432x288 with 1 Axes>"
      ]
     },
     "metadata": {
      "needs_background": "light"
     },
     "output_type": "display_data"
    }
   ],
   "source": [
    "plt.scatter(X_pca[:, 0], X_pca[:, 1])\n",
    "for label, x, y in zip(labels, X_pca[:, 0], X_pca[:, 1]):\n",
    "    plt.annotate(label, xy=(x, y), xytext=(-0.2, 0.2), textcoords='offset points')\n",
    "plt.show()\n"
   ]
  },
  {
   "cell_type": "code",
   "execution_count": null,
   "metadata": {},
   "outputs": [],
   "source": []
  }
 ],
 "metadata": {
  "kernelspec": {
   "display_name": "Python 3 (ipykernel)",
   "language": "python",
   "name": "python3"
  },
  "language_info": {
   "codemirror_mode": {
    "name": "ipython",
    "version": 3
   },
   "file_extension": ".py",
   "mimetype": "text/x-python",
   "name": "python",
   "nbconvert_exporter": "python",
   "pygments_lexer": "ipython3",
   "version": "3.9.7"
  }
 },
 "nbformat": 4,
 "nbformat_minor": 2
}
