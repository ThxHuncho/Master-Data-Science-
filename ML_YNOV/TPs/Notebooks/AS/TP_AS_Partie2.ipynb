{
 "cells": [
  {
   "cell_type": "code",
   "execution_count": 1,
   "metadata": {},
   "outputs": [],
   "source": [
    "import numpy as np \n",
    "np.set_printoptions(threshold=10000,suppress=True) \n",
    "import pandas as pd\n",
    "import warnings\n",
    "import matplotlib.pyplot as plt \n",
    "warnings.filterwarnings('ignore')"
   ]
  },
  {
   "cell_type": "code",
   "execution_count": 2,
   "metadata": {},
   "outputs": [],
   "source": [
    "from sklearn.neighbors import KNeighborsClassifier\n",
    "from sklearn.ensemble import RandomForestClassifier,BaggingClassifier,AdaBoostClassifier,ExtraTreesClassifier\n",
    "from sklearn.tree import DecisionTreeClassifier\n",
    "from sklearn.neural_network import MLPClassifier\n",
    "from sklearn.model_selection import KFold,cross_val_score\n",
    "import time\n",
    "import xgboost as xgb\n",
    "from sklearn.preprocessing import StandardScaler\n",
    "\n",
    "\n",
    "clfs = {\n",
    "    'RF': RandomForestClassifier(n_estimators=100, random_state=1), \n",
    "    'BAG': BaggingClassifier(base_estimator=DecisionTreeClassifier(random_state=1),n_estimators=100,random_state=1),\n",
    "    'ADA': AdaBoostClassifier(n_estimators=100,random_state=1),\n",
    "    'ET': ExtraTreesClassifier(n_estimators=100,random_state=1),\n",
    "    'KNN': KNeighborsClassifier(n_neighbors=5),\n",
    "    'CART': DecisionTreeClassifier(criterion='gini',random_state=1),\n",
    "    'ID3': DecisionTreeClassifier(criterion='entropy',random_state=1),\n",
    "    'Stumb': DecisionTreeClassifier(criterion='gini',max_depth=1,random_state=1),\n",
    "    'MLP': MLPClassifier(hidden_layer_sizes=(20,10),random_state=1)\n",
    "\n",
    "\n",
    "}\n",
    "\n",
    "\n",
    "def run_classifieurs(X,Y,clfs):\n",
    "    kf = KFold(n_splits=10, shuffle=True, random_state=1) \n",
    "    for i in clfs:\n",
    "        clf = clfs[i]\n",
    "        debut=time.time()\n",
    "        cv_acc = cross_val_score(clf, X, Y, cv=kf,scoring='accuracy')\n",
    "        fin=time.time()\n",
    "        print(\"Accuracy for {0} is: {1:.3f} +/- {2:.3f} en {3:.3f}s\".format(i,\n",
    "                                                                            np.mean(cv_acc),\n",
    "                                                                            np.std(cv_acc),fin-debut))"
   ]
  },
  {
   "cell_type": "markdown",
   "metadata": {},
   "source": [
    "## Application sur des données complexes (Numériques et catégorielles)"
   ]
  },
  {
   "cell_type": "code",
   "execution_count": 3,
   "metadata": {},
   "outputs": [
    {
     "data": {
      "text/html": [
       "<div>\n",
       "<style scoped>\n",
       "    .dataframe tbody tr th:only-of-type {\n",
       "        vertical-align: middle;\n",
       "    }\n",
       "\n",
       "    .dataframe tbody tr th {\n",
       "        vertical-align: top;\n",
       "    }\n",
       "\n",
       "    .dataframe thead th {\n",
       "        text-align: right;\n",
       "    }\n",
       "</style>\n",
       "<table border=\"1\" class=\"dataframe\">\n",
       "  <thead>\n",
       "    <tr style=\"text-align: right;\">\n",
       "      <th></th>\n",
       "      <th>0</th>\n",
       "      <th>1</th>\n",
       "      <th>2</th>\n",
       "      <th>3</th>\n",
       "      <th>4</th>\n",
       "      <th>5</th>\n",
       "      <th>6</th>\n",
       "      <th>7</th>\n",
       "      <th>8</th>\n",
       "      <th>9</th>\n",
       "      <th>10</th>\n",
       "      <th>11</th>\n",
       "      <th>12</th>\n",
       "      <th>13</th>\n",
       "      <th>14</th>\n",
       "      <th>15</th>\n",
       "    </tr>\n",
       "  </thead>\n",
       "  <tbody>\n",
       "    <tr>\n",
       "      <th>0</th>\n",
       "      <td>b</td>\n",
       "      <td>30.83</td>\n",
       "      <td>0.00</td>\n",
       "      <td>u</td>\n",
       "      <td>g</td>\n",
       "      <td>w</td>\n",
       "      <td>v</td>\n",
       "      <td>1.25</td>\n",
       "      <td>t</td>\n",
       "      <td>t</td>\n",
       "      <td>1</td>\n",
       "      <td>f</td>\n",
       "      <td>g</td>\n",
       "      <td>202</td>\n",
       "      <td>0</td>\n",
       "      <td>+</td>\n",
       "    </tr>\n",
       "    <tr>\n",
       "      <th>1</th>\n",
       "      <td>a</td>\n",
       "      <td>58.67</td>\n",
       "      <td>4.46</td>\n",
       "      <td>u</td>\n",
       "      <td>g</td>\n",
       "      <td>q</td>\n",
       "      <td>h</td>\n",
       "      <td>3.04</td>\n",
       "      <td>t</td>\n",
       "      <td>t</td>\n",
       "      <td>6</td>\n",
       "      <td>f</td>\n",
       "      <td>g</td>\n",
       "      <td>43</td>\n",
       "      <td>560</td>\n",
       "      <td>+</td>\n",
       "    </tr>\n",
       "    <tr>\n",
       "      <th>2</th>\n",
       "      <td>a</td>\n",
       "      <td>24.50</td>\n",
       "      <td>0.50</td>\n",
       "      <td>u</td>\n",
       "      <td>g</td>\n",
       "      <td>q</td>\n",
       "      <td>h</td>\n",
       "      <td>1.50</td>\n",
       "      <td>t</td>\n",
       "      <td>f</td>\n",
       "      <td>0</td>\n",
       "      <td>f</td>\n",
       "      <td>g</td>\n",
       "      <td>280</td>\n",
       "      <td>824</td>\n",
       "      <td>+</td>\n",
       "    </tr>\n",
       "  </tbody>\n",
       "</table>\n",
       "</div>"
      ],
      "text/plain": [
       "  0      1     2  3  4  5  6     7  8  9   10 11 12   13   14 15\n",
       "0  b  30.83  0.00  u  g  w  v  1.25  t  t   1  f  g  202    0  +\n",
       "1  a  58.67  4.46  u  g  q  h  3.04  t  t   6  f  g   43  560  +\n",
       "2  a  24.50  0.50  u  g  q  h  1.50  t  f   0  f  g  280  824  +"
      ]
     },
     "execution_count": 3,
     "metadata": {},
     "output_type": "execute_result"
    }
   ],
   "source": [
    "data_credit=pd.read_csv('./credit.data',sep='\\t',header=None)\n",
    "data_credit.head(3)"
   ]
  },
  {
   "cell_type": "code",
   "execution_count": 4,
   "metadata": {},
   "outputs": [],
   "source": [
    "X=data_credit.iloc[:,:15].values\n",
    "Y=data_credit.iloc[:,15].values"
   ]
  },
  {
   "cell_type": "code",
   "execution_count": 5,
   "metadata": {},
   "outputs": [],
   "source": [
    "Y[Y=='+']=1\n",
    "Y[Y=='-']=0\n",
    "Y=Y.astype(int)"
   ]
  },
  {
   "cell_type": "code",
   "execution_count": 6,
   "metadata": {},
   "outputs": [],
   "source": [
    "num_cols=[1,2,7,10,13,14]\n",
    "cat_col=[0,3,4,5,6,8,9,11,12]"
   ]
  },
  {
   "cell_type": "code",
   "execution_count": 7,
   "metadata": {},
   "outputs": [],
   "source": [
    "X_num=X[:,num_cols]\n",
    "X_num[X_num == '?'] = np.nan\n",
    "X_num = X_num.astype(float)\n",
    "Y_num = Y[~np.isnan(X_num).any(axis=1)]\n",
    "X_num = X_num[~np.isnan(X_num).any(axis=1)]"
   ]
  },
  {
   "cell_type": "code",
   "execution_count": 8,
   "metadata": {},
   "outputs": [
    {
     "data": {
      "text/plain": [
       "(666, 6)"
      ]
     },
     "execution_count": 8,
     "metadata": {},
     "output_type": "execute_result"
    }
   ],
   "source": [
    "X_num.shape"
   ]
  },
  {
   "cell_type": "code",
   "execution_count": 9,
   "metadata": {},
   "outputs": [
    {
     "name": "stdout",
     "output_type": "stream",
     "text": [
      "Accuracy for RF is: 0.778 +/- 0.036 en 1.104s\n",
      "Accuracy for BAG is: 0.779 +/- 0.028 en 1.521s\n",
      "Accuracy for ADA is: 0.787 +/- 0.040 en 0.933s\n",
      "Accuracy for ET is: 0.782 +/- 0.040 en 0.817s\n",
      "Accuracy for KNN is: 0.700 +/- 0.060 en 0.027s\n",
      "Accuracy for CART is: 0.719 +/- 0.066 en 0.019s\n",
      "Accuracy for ID3 is: 0.700 +/- 0.040 en 0.023s\n",
      "Accuracy for Stumb is: 0.743 +/- 0.042 en 0.008s\n",
      "Accuracy for MLP is: 0.683 +/- 0.036 en 2.801s\n"
     ]
    }
   ],
   "source": [
    "run_classifieurs(X_num,Y_num,clfs)"
   ]
  },
  {
   "cell_type": "code",
   "execution_count": 10,
   "metadata": {},
   "outputs": [],
   "source": [
    "SS=StandardScaler()\n",
    "X_num_norm=SS.fit_transform(X_num)"
   ]
  },
  {
   "cell_type": "code",
   "execution_count": 11,
   "metadata": {},
   "outputs": [
    {
     "name": "stdout",
     "output_type": "stream",
     "text": [
      "Accuracy for RF is: 0.779 +/- 0.038 en 1.070s\n",
      "Accuracy for BAG is: 0.779 +/- 0.028 en 1.455s\n",
      "Accuracy for ADA is: 0.787 +/- 0.040 en 0.943s\n",
      "Accuracy for ET is: 0.782 +/- 0.040 en 0.826s\n",
      "Accuracy for KNN is: 0.755 +/- 0.045 en 0.024s\n",
      "Accuracy for CART is: 0.721 +/- 0.065 en 0.020s\n",
      "Accuracy for ID3 is: 0.700 +/- 0.040 en 0.024s\n",
      "Accuracy for Stumb is: 0.743 +/- 0.042 en 0.009s\n",
      "Accuracy for MLP is: 0.791 +/- 0.045 en 11.318s\n"
     ]
    }
   ],
   "source": [
    "run_classifieurs(X_num_norm,Y_num,clfs)"
   ]
  },
  {
   "cell_type": "code",
   "execution_count": 12,
   "metadata": {},
   "outputs": [],
   "source": [
    "from sklearn.impute import SimpleImputer,KNNImputer\n",
    "from sklearn.preprocessing import OneHotEncoder"
   ]
  },
  {
   "cell_type": "code",
   "execution_count": 13,
   "metadata": {},
   "outputs": [
    {
     "data": {
      "text/plain": [
       "(688, 40)"
      ]
     },
     "execution_count": 13,
     "metadata": {},
     "output_type": "execute_result"
    }
   ],
   "source": [
    "X_new_cat = np.copy(X[:, cat_col])\n",
    "\n",
    "for col_id in range(len(cat_col)):\n",
    "    unique_val, val_idx = np.unique(X_new_cat[:, col_id], return_inverse=True)\n",
    "    X_new_cat[:, col_id] = val_idx\n",
    "    #print(unique_val)\n",
    "\n",
    "imp_cat = SimpleImputer(missing_values=0, strategy='most_frequent')\n",
    "#imp_cat = KNNImputer(missing_values=0,n_neighbors=3)\n",
    "\n",
    "\n",
    "X_new_cat[:, range(5)] = imp_cat.fit_transform(X_new_cat[:, range(5)])\n",
    "X_new_cat_bin = OneHotEncoder().fit_transform(X_new_cat).toarray()\n",
    "X_new_cat_bin.shape"
   ]
  },
  {
   "cell_type": "code",
   "execution_count": 14,
   "metadata": {},
   "outputs": [
    {
     "data": {
      "text/plain": [
       "(688, 6)"
      ]
     },
     "execution_count": 14,
     "metadata": {},
     "output_type": "execute_result"
    }
   ],
   "source": [
    "X_new_num = np.copy(X[:, num_cols])\n",
    "X_new_num[X_new_num == '?'] = np.nan\n",
    "X_new_num = X_new_num.astype(float)\n",
    "imp_num = SimpleImputer(missing_values=np.nan, strategy='mean')\n",
    "#imp_num = KNNImputer(missing_values=np.nan,n_neighbors=3)\n",
    "X_new_num = imp_num.fit_transform(X_new_num)\n",
    "X_new_num = StandardScaler().fit_transform(X_new_num)\n",
    "X_new_num.shape\n"
   ]
  },
  {
   "cell_type": "code",
   "execution_count": 15,
   "metadata": {},
   "outputs": [],
   "source": [
    "X_final=np.concatenate((X_new_cat_bin,X_new_num),axis=1)"
   ]
  },
  {
   "cell_type": "code",
   "execution_count": 16,
   "metadata": {},
   "outputs": [
    {
     "name": "stdout",
     "output_type": "stream",
     "text": [
      "Accuracy for RF is: 0.874 +/- 0.039 en 1.055s\n",
      "Accuracy for BAG is: 0.868 +/- 0.045 en 2.060s\n",
      "Accuracy for ADA is: 0.839 +/- 0.042 en 1.113s\n",
      "Accuracy for ET is: 0.866 +/- 0.043 en 0.848s\n",
      "Accuracy for KNN is: 0.845 +/- 0.050 en 0.045s\n",
      "Accuracy for CART is: 0.805 +/- 0.041 en 0.027s\n",
      "Accuracy for ID3 is: 0.807 +/- 0.026 en 0.031s\n",
      "Accuracy for Stumb is: 0.856 +/- 0.032 en 0.010s\n",
      "Accuracy for MLP is: 0.855 +/- 0.046 en 20.080s\n"
     ]
    }
   ],
   "source": [
    "run_classifieurs(X_final,Y,clfs)"
   ]
  }
 ],
 "metadata": {
  "kernelspec": {
   "display_name": "Python 3 (ipykernel)",
   "language": "python",
   "name": "python3"
  },
  "language_info": {
   "codemirror_mode": {
    "name": "ipython",
    "version": 3
   },
   "file_extension": ".py",
   "mimetype": "text/x-python",
   "name": "python",
   "nbconvert_exporter": "python",
   "pygments_lexer": "ipython3",
   "version": "3.9.7"
  }
 },
 "nbformat": 4,
 "nbformat_minor": 2
}
