{
 "cells": [
  {
   "cell_type": "code",
   "execution_count": 1,
   "metadata": {},
   "outputs": [],
   "source": [
    "import numpy as np\n",
    "np.set_printoptions(threshold=10000,suppress=True)\n",
    "import pandas as pd\n",
    "import warnings\n",
    "import matplotlib.pyplot as plt\n",
    "warnings.filterwarnings('ignore')\n",
    "import gc"
   ]
  },
  {
   "cell_type": "markdown",
   "metadata": {},
   "source": [
    "## Lecture des données"
   ]
  },
  {
   "cell_type": "code",
   "execution_count": 2,
   "metadata": {},
   "outputs": [
    {
     "data": {
      "text/html": [
       "<div>\n",
       "<style scoped>\n",
       "    .dataframe tbody tr th:only-of-type {\n",
       "        vertical-align: middle;\n",
       "    }\n",
       "\n",
       "    .dataframe tbody tr th {\n",
       "        vertical-align: top;\n",
       "    }\n",
       "\n",
       "    .dataframe thead th {\n",
       "        text-align: right;\n",
       "    }\n",
       "</style>\n",
       "<table border=\"1\" class=\"dataframe\">\n",
       "  <thead>\n",
       "    <tr style=\"text-align: right;\">\n",
       "      <th></th>\n",
       "      <th>0</th>\n",
       "      <th>1</th>\n",
       "      <th>2</th>\n",
       "      <th>3</th>\n",
       "      <th>4</th>\n",
       "      <th>5</th>\n",
       "      <th>6</th>\n",
       "      <th>7</th>\n",
       "      <th>8</th>\n",
       "      <th>9</th>\n",
       "      <th>10</th>\n",
       "      <th>11</th>\n",
       "      <th>12</th>\n",
       "    </tr>\n",
       "  </thead>\n",
       "  <tbody>\n",
       "    <tr>\n",
       "      <th>0</th>\n",
       "      <td>ville</td>\n",
       "      <td>janv</td>\n",
       "      <td>fev</td>\n",
       "      <td>mars</td>\n",
       "      <td>avril</td>\n",
       "      <td>mai</td>\n",
       "      <td>juin</td>\n",
       "      <td>juil</td>\n",
       "      <td>aout</td>\n",
       "      <td>sept</td>\n",
       "      <td>oct</td>\n",
       "      <td>nov</td>\n",
       "      <td>dec</td>\n",
       "    </tr>\n",
       "    <tr>\n",
       "      <th>1</th>\n",
       "      <td>ajac</td>\n",
       "      <td>7.7</td>\n",
       "      <td>8.7</td>\n",
       "      <td>10.5</td>\n",
       "      <td>12.6</td>\n",
       "      <td>15.9</td>\n",
       "      <td>19.8</td>\n",
       "      <td>22.0</td>\n",
       "      <td>22.2</td>\n",
       "      <td>20.3</td>\n",
       "      <td>16.3</td>\n",
       "      <td>11.8</td>\n",
       "      <td>8.7</td>\n",
       "    </tr>\n",
       "    <tr>\n",
       "      <th>2</th>\n",
       "      <td>ange</td>\n",
       "      <td>4.2</td>\n",
       "      <td>4.9</td>\n",
       "      <td>7.9</td>\n",
       "      <td>10.4</td>\n",
       "      <td>13.6</td>\n",
       "      <td>17.0</td>\n",
       "      <td>18.7</td>\n",
       "      <td>18.4</td>\n",
       "      <td>16.1</td>\n",
       "      <td>11.7</td>\n",
       "      <td>7.6</td>\n",
       "      <td>4.9</td>\n",
       "    </tr>\n",
       "  </tbody>\n",
       "</table>\n",
       "</div>"
      ],
      "text/plain": [
       "      0     1    2     3      4     5     6     7     8     9     10    11  \\\n",
       "0  ville  janv  fev  mars  avril   mai  juin  juil  aout  sept   oct   nov   \n",
       "1   ajac   7.7  8.7  10.5   12.6  15.9  19.8  22.0  22.2  20.3  16.3  11.8   \n",
       "2   ange   4.2  4.9   7.9   10.4  13.6  17.0  18.7  18.4  16.1  11.7   7.6   \n",
       "\n",
       "    12  \n",
       "0  dec  \n",
       "1  8.7  \n",
       "2  4.9  "
      ]
     },
     "execution_count": 2,
     "metadata": {},
     "output_type": "execute_result"
    }
   ],
   "source": [
    "data=pd.read_csv('./villes.csv',sep=';',header=None)\n",
    "data.head(3)"
   ]
  },
  {
   "cell_type": "code",
   "execution_count": 16,
   "metadata": {},
   "outputs": [],
   "source": [
    "X=data.iloc[:,1:].values\n",
    "labels=data.iloc[:,0].values"
   ]
  },
  {
   "cell_type": "markdown",
   "metadata": {},
   "source": [
    "## Importation des bibliothèques"
   ]
  },
  {
   "cell_type": "code",
   "execution_count": 12,
   "metadata": {},
   "outputs": [],
   "source": [
    "from sklearn.preprocessing import StandardScaler\n",
    "from sklearn.decomposition import PCA"
   ]
  },
  {
   "cell_type": "code",
   "execution_count": 20,
   "metadata": {},
   "outputs": [
    {
     "data": {
      "text/plain": [
       "array([['7.7', '8.7', '10.5', '12.6', '15.9', '19.8', '22.0', '22.2',\n",
       "        '20.3', '16.3', '11.8', '8.7'],\n",
       "       ['4.2', '4.9', '7.9', '10.4', '13.6', '17.0', '18.7', '18.4',\n",
       "        '16.1', '11.7', '7.6', '4.9'],\n",
       "       ['4.6', '5.4', '8.9', '11.3', '14.5', '17.2', '19.5', '19.4',\n",
       "        '16.9', '12.5', '8.1', '5.3'],\n",
       "       ['1.1', '2.2', '6.4', '9.7', '13.6', '16.9', '18.7', '18.3',\n",
       "        '15.5', '10.4', '5.7', '2.0'],\n",
       "       ['7.6', '8.0', '10.8', '12.0', '14.7', '17.8', '19.7', '19.9',\n",
       "        '18.5', '14.8', '10.9', '8.2'],\n",
       "       ['5.6', '6.6', '10.3', '12.8', '15.8', '19.3', '20.9', '21.0',\n",
       "        '18.6', '13.8', '9.1', '6.2'],\n",
       "       ['6.1', '5.8', '7.8', '9.2', '11.6', '14.4', '15.6', '16.0',\n",
       "        '14.7', '12.0', '9.0', '7.0'],\n",
       "       ['2.6', '3.7', '7.5', '10.3', '13.8', '17.3', '19.4', '19.1',\n",
       "        '16.2', '11.2', '6.6', '3.6'],\n",
       "       ['1.3', '2.6', '6.9', '10.4', '14.3', '17.7', '19.6', '19.0',\n",
       "        '15.9', '10.5', '5.7', '2.1'],\n",
       "       ['0.5', '1.6', '5.7', '9.0', '13.0', '16.4', '18.9', '18.3',\n",
       "        '15.3', '10.1', '4.6', '0.5'],\n",
       "       ['1.5', '3.2', '7.7', '10.6', '14.5', '17.8', '20.1', '19.5',\n",
       "        '16.7', '11.4', '6.5', '2.3'],\n",
       "       ['2.4', '2.9', '6.0', '8.9', '12.4', '15.3', '17.1', '17.1',\n",
       "        '14.7', '10.4', '6.1', '3.5'],\n",
       "       ['3.1', '3.9', '7.4', '9.9', '13.3', '16.8', '18.4', '17.8',\n",
       "        '15.3', '10.7', '6.7', '3.8'],\n",
       "       ['2.1', '3.3', '7.7', '10.9', '14.9', '18.5', '20.7', '20.1',\n",
       "        '16.9', '11.4', '6.7', '3.1'],\n",
       "       ['5.5', '6.6', '10.0', '13.0', '16.8', '20.8', '23.3', '22.8',\n",
       "        '19.9', '15.0', '10.2', '6.9'],\n",
       "       ['5.6', '6.7', '9.9', '12.8', '16.2', '20.1', '22.7', '22.3',\n",
       "        '19.3', '14.6', '10.0', '6.5'],\n",
       "       ['0.8', '1.6', '5.5', '9.2', '13.3', '16.5', '18.3', '17.7',\n",
       "        '14.7', '9.4', '5.2', '1.8'],\n",
       "       ['5.0', '5.3', '8.4', '10.8', '13.9', '17.2', '18.8', '18.6',\n",
       "        '16.4', '12.2', '8.2', '5.5'],\n",
       "       ['7.5', '8.5', '10.8', '13.3', '16.7', '20.1', '22.7', '22.5',\n",
       "        '20.3', '16.0', '11.5', '8.2'],\n",
       "       ['5.7', '6.8', '10.1', '13.0', '16.6', '20.8', '23.6', '22.9',\n",
       "        '19.7', '14.6', '9.8', '6.5'],\n",
       "       ['2.7', '3.6', '6.9', '9.8', '13.4', '16.6', '18.4', '18.2',\n",
       "        '15.6', '10.9', '6.6', '3.6'],\n",
       "       ['3.4', '4.1', '7.6', '10.7', '14.3', '17.5', '19.1', '18.7',\n",
       "        '16.0', '11.4', '7.1', '4.3'],\n",
       "       ['7.5', '8.4', '11.3', '13.9', '17.1', '21.1', '23.8', '23.3',\n",
       "        '20.5', '15.9', '11.5', '8.6'],\n",
       "       ['1.9', '2.8', '6.2', '9.4', '13.3', '16.4', '18.3', '17.9',\n",
       "        '15.1', '10.3', '6.1', '3.0'],\n",
       "       ['4.8', '5.3', '7.9', '10.1', '13.1', '16.2', '17.9', '17.8',\n",
       "        '15.7', '11.6', '7.8', '5.4'],\n",
       "       ['3.4', '3.9', '6.8', '9.5', '12.9', '15.7', '17.6', '17.2',\n",
       "        '15.0', '11.0', '6.8', '4.3'],\n",
       "       ['2.0', '2.9', '6.3', '9.2', '12.7', '15.6', '17.4', '17.4',\n",
       "        '15.0', '10.5', '6.1', '3.1'],\n",
       "       ['0.4', '1.5', '5.6', '9.8', '14.0', '17.2', '19.0', '18.3',\n",
       "        '15.1', '9.5', '4.9', '1.3'],\n",
       "       ['8.6', '9.1', '11.2', '13.4', '16.6', '20.2', '22.6', '22.4',\n",
       "        '20.5', '16.5', '12.6', '9.7'],\n",
       "       ['4.7', '5.6', '9.2', '11.6', '14.9', '18.7', '20.9', '20.9',\n",
       "        '18.3', '13.3', '8.6', '5.5'],\n",
       "       ['3.5', '4.4', '7.7', '10.6', '13.9', '17.4', '19.1', '18.7',\n",
       "        '16.2', '11.7', '7.2', '4.3'],\n",
       "       ['2.4', '3.4', '7.1', '9.9', '13.6', '17.1', '19.3', '18.8',\n",
       "        '16.0', '11.0', '6.6', '3.4']], dtype=object)"
      ]
     },
     "execution_count": 20,
     "metadata": {},
     "output_type": "execute_result"
    }
   ],
   "source": [
    "X[1:]"
   ]
  },
  {
   "cell_type": "markdown",
   "metadata": {},
   "source": [
    "## Normalisation"
   ]
  },
  {
   "cell_type": "code",
   "execution_count": 21,
   "metadata": {},
   "outputs": [],
   "source": [
    "SS=StandardScaler()\n",
    "SS.fit(X[1:])\n",
    "Xnorm=SS.transform(X[1:])\n",
    "\n",
    "#Xnorm=SS.fit_transform(X) ###A éviter quand des futures de données peuvent arriver"
   ]
  },
  {
   "cell_type": "code",
   "execution_count": 22,
   "metadata": {},
   "outputs": [
    {
     "data": {
      "text/plain": [
       "array([1.63835106, 1.78748032, 1.35686597, 1.16748094, 1.09413658,\n",
       "       1.2081338 , 1.11734499, 1.39767179, 1.73963204, 1.93208186,\n",
       "       1.82836605, 1.68024825])"
      ]
     },
     "execution_count": 22,
     "metadata": {},
     "output_type": "execute_result"
    }
   ],
   "source": [
    "Xnorm[0,:]"
   ]
  },
  {
   "cell_type": "markdown",
   "metadata": {},
   "source": [
    "## PCA"
   ]
  },
  {
   "cell_type": "code",
   "execution_count": 23,
   "metadata": {},
   "outputs": [
    {
     "data": {
      "text/plain": [
       "PCA(n_components=2)"
      ]
     },
     "execution_count": 23,
     "metadata": {},
     "output_type": "execute_result"
    }
   ],
   "source": [
    "pca=PCA(n_components=2)\n",
    "pca.fit(Xnorm)"
   ]
  },
  {
   "cell_type": "markdown",
   "metadata": {},
   "source": [
    "### Les valeurs propres sélectionnées"
   ]
  },
  {
   "cell_type": "code",
   "execution_count": 24,
   "metadata": {},
   "outputs": [
    {
     "data": {
      "text/plain": [
       "array([10.80999558,  1.45184229])"
      ]
     },
     "execution_count": 24,
     "metadata": {},
     "output_type": "execute_result"
    }
   ],
   "source": [
    "pca.explained_variance_"
   ]
  },
  {
   "cell_type": "markdown",
   "metadata": {},
   "source": [
    "### Information (variance) expriquée par valauer propre"
   ]
  },
  {
   "cell_type": "code",
   "execution_count": 25,
   "metadata": {},
   "outputs": [
    {
     "data": {
      "text/plain": [
       "array([0.87268193, 0.11720602])"
      ]
     },
     "execution_count": 25,
     "metadata": {},
     "output_type": "execute_result"
    }
   ],
   "source": [
    "pca.explained_variance_ratio_"
   ]
  },
  {
   "cell_type": "markdown",
   "metadata": {},
   "source": [
    "### Interprétation des axes"
   ]
  },
  {
   "cell_type": "code",
   "execution_count": 26,
   "metadata": {},
   "outputs": [
    {
     "data": {
      "text/plain": [
       "array([[ 0.27151028,  0.28846164,  0.3010811 ,  0.30354174,  0.28353089,\n",
       "         0.27841907,  0.27290295,  0.28757774,  0.30472022,  0.3038548 ,\n",
       "         0.29242808,  0.2729549 ],\n",
       "       [ 0.39933494,  0.29907184,  0.12943051, -0.11530598, -0.32314291,\n",
       "        -0.35846763, -0.38879639, -0.3010133 , -0.11231622,  0.12249226,\n",
       "         0.26269461,  0.38693688]])"
      ]
     },
     "execution_count": 26,
     "metadata": {},
     "output_type": "execute_result"
    }
   ],
   "source": [
    "pca.components_"
   ]
  },
  {
   "cell_type": "markdown",
   "metadata": {},
   "source": [
    "#### Axe 1"
   ]
  },
  {
   "cell_type": "code",
   "execution_count": 29,
   "metadata": {},
   "outputs": [
    {
     "data": {
      "text/plain": [
       "array([0.27151028, 0.28846164, 0.3010811 , 0.30354174, 0.28353089,\n",
       "       0.27841907, 0.27290295, 0.28757774, 0.30472022, 0.3038548 ,\n",
       "       0.29242808, 0.2729549 ])"
      ]
     },
     "execution_count": 29,
     "metadata": {},
     "output_type": "execute_result"
    }
   ],
   "source": [
    "pca.components_[0,:]"
   ]
  },
  {
   "cell_type": "markdown",
   "metadata": {},
   "source": [
    "#### Axe 2"
   ]
  },
  {
   "cell_type": "code",
   "execution_count": 30,
   "metadata": {},
   "outputs": [
    {
     "data": {
      "text/plain": [
       "array([ 0.39933494,  0.29907184,  0.12943051, -0.11530598, -0.32314291,\n",
       "       -0.35846763, -0.38879639, -0.3010133 , -0.11231622,  0.12249226,\n",
       "        0.26269461,  0.38693688])"
      ]
     },
     "execution_count": 30,
     "metadata": {},
     "output_type": "execute_result"
    }
   ],
   "source": [
    "pca.components_[1,:]"
   ]
  },
  {
   "cell_type": "markdown",
   "metadata": {},
   "source": [
    "### Cercle de correlartion"
   ]
  },
  {
   "cell_type": "code",
   "execution_count": 31,
   "metadata": {},
   "outputs": [
    {
     "ename": "KeyError",
     "evalue": "0",
     "output_type": "error",
     "traceback": [
      "\u001b[1;31m---------------------------------------------------------------------------\u001b[0m",
      "\u001b[1;31mKeyError\u001b[0m                                  Traceback (most recent call last)",
      "File \u001b[1;32m~\\anaconda3\\lib\\site-packages\\pandas\\core\\indexes\\base.py:3621\u001b[0m, in \u001b[0;36mIndex.get_loc\u001b[1;34m(self, key, method, tolerance)\u001b[0m\n\u001b[0;32m   3620\u001b[0m \u001b[38;5;28;01mtry\u001b[39;00m:\n\u001b[1;32m-> 3621\u001b[0m     \u001b[38;5;28;01mreturn\u001b[39;00m \u001b[38;5;28;43mself\u001b[39;49m\u001b[38;5;241;43m.\u001b[39;49m\u001b[43m_engine\u001b[49m\u001b[38;5;241;43m.\u001b[39;49m\u001b[43mget_loc\u001b[49m\u001b[43m(\u001b[49m\u001b[43mcasted_key\u001b[49m\u001b[43m)\u001b[49m\n\u001b[0;32m   3622\u001b[0m \u001b[38;5;28;01mexcept\u001b[39;00m \u001b[38;5;167;01mKeyError\u001b[39;00m \u001b[38;5;28;01mas\u001b[39;00m err:\n",
      "File \u001b[1;32m~\\anaconda3\\lib\\site-packages\\pandas\\_libs\\index.pyx:136\u001b[0m, in \u001b[0;36mpandas._libs.index.IndexEngine.get_loc\u001b[1;34m()\u001b[0m\n",
      "File \u001b[1;32m~\\anaconda3\\lib\\site-packages\\pandas\\_libs\\index.pyx:163\u001b[0m, in \u001b[0;36mpandas._libs.index.IndexEngine.get_loc\u001b[1;34m()\u001b[0m\n",
      "File \u001b[1;32mpandas\\_libs\\hashtable_class_helper.pxi:2131\u001b[0m, in \u001b[0;36mpandas._libs.hashtable.Int64HashTable.get_item\u001b[1;34m()\u001b[0m\n",
      "File \u001b[1;32mpandas\\_libs\\hashtable_class_helper.pxi:2140\u001b[0m, in \u001b[0;36mpandas._libs.hashtable.Int64HashTable.get_item\u001b[1;34m()\u001b[0m\n",
      "\u001b[1;31mKeyError\u001b[0m: 0",
      "\nThe above exception was the direct cause of the following exception:\n",
      "\u001b[1;31mKeyError\u001b[0m                                  Traceback (most recent call last)",
      "Input \u001b[1;32mIn [31]\u001b[0m, in \u001b[0;36m<cell line: 18>\u001b[1;34m()\u001b[0m\n\u001b[0;32m     17\u001b[0m \u001b[38;5;66;03m# Affichage de chaque variable explicative dans la cercle\u001b[39;00m\n\u001b[0;32m     18\u001b[0m \u001b[38;5;28;01mfor\u001b[39;00m idx \u001b[38;5;129;01min\u001b[39;00m \u001b[38;5;28mrange\u001b[39m(\u001b[38;5;28mlen\u001b[39m(pc_infos[\u001b[38;5;124m\"\u001b[39m\u001b[38;5;124my1\u001b[39m\u001b[38;5;124m\"\u001b[39m])):\n\u001b[1;32m---> 19\u001b[0m     x \u001b[38;5;241m=\u001b[39m \u001b[43mpc_infos\u001b[49m\u001b[43m[\u001b[49m\u001b[38;5;124;43m\"\u001b[39;49m\u001b[38;5;124;43my1\u001b[39;49m\u001b[38;5;124;43m\"\u001b[39;49m\u001b[43m]\u001b[49m\u001b[43m[\u001b[49m\u001b[43midx\u001b[49m\u001b[43m]\u001b[49m\n\u001b[0;32m     20\u001b[0m     y \u001b[38;5;241m=\u001b[39m pc_infos[\u001b[38;5;124m\"\u001b[39m\u001b[38;5;124my2\u001b[39m\u001b[38;5;124m\"\u001b[39m][idx]\n\u001b[0;32m     21\u001b[0m     plt\u001b[38;5;241m.\u001b[39mplot([\u001b[38;5;241m0.0\u001b[39m,x],[\u001b[38;5;241m0.0\u001b[39m,y],\u001b[38;5;124m'\u001b[39m\u001b[38;5;124mk-\u001b[39m\u001b[38;5;124m'\u001b[39m)\n",
      "File \u001b[1;32m~\\anaconda3\\lib\\site-packages\\pandas\\core\\series.py:958\u001b[0m, in \u001b[0;36mSeries.__getitem__\u001b[1;34m(self, key)\u001b[0m\n\u001b[0;32m    955\u001b[0m     \u001b[38;5;28;01mreturn\u001b[39;00m \u001b[38;5;28mself\u001b[39m\u001b[38;5;241m.\u001b[39m_values[key]\n\u001b[0;32m    957\u001b[0m \u001b[38;5;28;01melif\u001b[39;00m key_is_scalar:\n\u001b[1;32m--> 958\u001b[0m     \u001b[38;5;28;01mreturn\u001b[39;00m \u001b[38;5;28;43mself\u001b[39;49m\u001b[38;5;241;43m.\u001b[39;49m\u001b[43m_get_value\u001b[49m\u001b[43m(\u001b[49m\u001b[43mkey\u001b[49m\u001b[43m)\u001b[49m\n\u001b[0;32m    960\u001b[0m \u001b[38;5;28;01mif\u001b[39;00m is_hashable(key):\n\u001b[0;32m    961\u001b[0m     \u001b[38;5;66;03m# Otherwise index.get_value will raise InvalidIndexError\u001b[39;00m\n\u001b[0;32m    962\u001b[0m     \u001b[38;5;28;01mtry\u001b[39;00m:\n\u001b[0;32m    963\u001b[0m         \u001b[38;5;66;03m# For labels that don't resolve as scalars like tuples and frozensets\u001b[39;00m\n",
      "File \u001b[1;32m~\\anaconda3\\lib\\site-packages\\pandas\\core\\series.py:1069\u001b[0m, in \u001b[0;36mSeries._get_value\u001b[1;34m(self, label, takeable)\u001b[0m\n\u001b[0;32m   1066\u001b[0m     \u001b[38;5;28;01mreturn\u001b[39;00m \u001b[38;5;28mself\u001b[39m\u001b[38;5;241m.\u001b[39m_values[label]\n\u001b[0;32m   1068\u001b[0m \u001b[38;5;66;03m# Similar to Index.get_value, but we do not fall back to positional\u001b[39;00m\n\u001b[1;32m-> 1069\u001b[0m loc \u001b[38;5;241m=\u001b[39m \u001b[38;5;28;43mself\u001b[39;49m\u001b[38;5;241;43m.\u001b[39;49m\u001b[43mindex\u001b[49m\u001b[38;5;241;43m.\u001b[39;49m\u001b[43mget_loc\u001b[49m\u001b[43m(\u001b[49m\u001b[43mlabel\u001b[49m\u001b[43m)\u001b[49m\n\u001b[0;32m   1070\u001b[0m \u001b[38;5;28;01mreturn\u001b[39;00m \u001b[38;5;28mself\u001b[39m\u001b[38;5;241m.\u001b[39mindex\u001b[38;5;241m.\u001b[39m_get_values_for_loc(\u001b[38;5;28mself\u001b[39m, loc, label)\n",
      "File \u001b[1;32m~\\anaconda3\\lib\\site-packages\\pandas\\core\\indexes\\base.py:3623\u001b[0m, in \u001b[0;36mIndex.get_loc\u001b[1;34m(self, key, method, tolerance)\u001b[0m\n\u001b[0;32m   3621\u001b[0m     \u001b[38;5;28;01mreturn\u001b[39;00m \u001b[38;5;28mself\u001b[39m\u001b[38;5;241m.\u001b[39m_engine\u001b[38;5;241m.\u001b[39mget_loc(casted_key)\n\u001b[0;32m   3622\u001b[0m \u001b[38;5;28;01mexcept\u001b[39;00m \u001b[38;5;167;01mKeyError\u001b[39;00m \u001b[38;5;28;01mas\u001b[39;00m err:\n\u001b[1;32m-> 3623\u001b[0m     \u001b[38;5;28;01mraise\u001b[39;00m \u001b[38;5;167;01mKeyError\u001b[39;00m(key) \u001b[38;5;28;01mfrom\u001b[39;00m \u001b[38;5;21;01merr\u001b[39;00m\n\u001b[0;32m   3624\u001b[0m \u001b[38;5;28;01mexcept\u001b[39;00m \u001b[38;5;167;01mTypeError\u001b[39;00m:\n\u001b[0;32m   3625\u001b[0m     \u001b[38;5;66;03m# If we have a listlike key, _check_indexing_error will raise\u001b[39;00m\n\u001b[0;32m   3626\u001b[0m     \u001b[38;5;66;03m#  InvalidIndexError. Otherwise we fall through and re-raise\u001b[39;00m\n\u001b[0;32m   3627\u001b[0m     \u001b[38;5;66;03m#  the TypeError.\u001b[39;00m\n\u001b[0;32m   3628\u001b[0m     \u001b[38;5;28mself\u001b[39m\u001b[38;5;241m.\u001b[39m_check_indexing_error(key)\n",
      "\u001b[1;31mKeyError\u001b[0m: 0"
     ]
    },
    {
     "data": {
      "image/png": "[encoded data removed]",
      "text/plain": [
       "<Figure size 720x720 with 1 Axes>"
      ]
     },
     "metadata": {
      "needs_background": "light"
     },
     "output_type": "display_data"
    }
   ],
   "source": [
    "coef = np.transpose(pca.components_)\n",
    "cols = ['y'+str(x+1) for x in range(2)]\n",
    "\n",
    "pc_infos = pd.DataFrame(coef, columns=cols, index=data.iloc[:,1:].columns)\n",
    "\n",
    "\n",
    "plt.Circle((0,0),radius=10, color='g', fill=False)\n",
    "circle1=plt.Circle((0,0),radius=1, color='g', fill=False)\n",
    "# Ajouter les axes et donner la limite pour chaque axe\n",
    "fig, axes= plt.subplots(figsize=(10,10))\n",
    "axes.set_xlim(-1,1)\n",
    "axes.set_ylim(-1,1)\n",
    "fig.gca().add_artist(circle1)\n",
    "plt.plot([-1,1],[0,0],color='silver',linestyle='-',linewidth=1)\n",
    "plt.plot([0,0],[-1,1],color='silver',linestyle='-',linewidth=1)\n",
    "axes.add_artist(circle1)\n",
    "# Affichage de chaque variable explicative dans la cercle\n",
    "for idx in range(len(pc_infos[\"y1\"])):\n",
    "    x = pc_infos[\"y1\"][idx]\n",
    "    y = pc_infos[\"y2\"][idx]\n",
    "    plt.plot([0.0,x],[0.0,y],'k-')\n",
    "    plt.plot(x, y, 'rx')\n",
    "    plt.annotate(pc_infos.index[idx], xy=(x,y))\n",
    "plt.xlim((-1,1))\n",
    "plt.ylim((-1,1))\n",
    "plt.title(\"Circle of Correlations\")\n"
   ]
  },
  {
   "cell_type": "markdown",
   "metadata": {},
   "source": [
    "### Projection des données sur les nouveaux axes"
   ]
  },
  {
   "cell_type": "code",
   "execution_count": 32,
   "metadata": {},
   "outputs": [],
   "source": [
    "X_pca=pca.transform(Xnorm)"
   ]
  },
  {
   "cell_type": "code",
   "execution_count": 33,
   "metadata": {},
   "outputs": [
    {
     "data": {
      "image/png": "[encoded data removed]",
      "text/plain": [
       "<Figure size 432x288 with 1 Axes>"
      ]
     },
     "metadata": {
      "needs_background": "light"
     },
     "output_type": "display_data"
    }
   ],
   "source": [
    "plt.scatter(X_pca[:, 0], X_pca[:, 1])\n",
    "for label, x, y in zip(labels, X_pca[:, 0], X_pca[:, 1]):\n",
    "    plt.annotate(label, xy=(x, y), xytext=(-0.2, 0.2), textcoords='offset points')\n",
    "plt.show()\n"
   ]
  },
  {
   "cell_type": "code",
   "execution_count": 34,
   "metadata": {},
   "outputs": [],
   "source": [
    "import matplotlib.colors as colors\n",
    "from matplotlib.cm import bwr as cmap\n",
    "import matplotlib.patches as mpatches\n",
    "\n",
    "def print_top_comp(components, feature_names, n_top_comp):\n",
    "    taille=feature_names.shape[0]\n",
    "    seuil=1/np.sqrt(taille)\n",
    "    for comp_idx, topic in enumerate(components):\n",
    "        Y=np.abs(topic)\n",
    "        feature_pos=feature_names[topic>seuil]\n",
    "        feature_neg=feature_names[topic<=-seuil]\n",
    "        n_top_comp_pos=min(n_top_comp,feature_pos.shape[0])\n",
    "        n_top_comp_neg=min(n_top_comp,feature_neg.shape[0])\n",
    "\n",
    "\n",
    "        feature_pos=feature_names[topic.argsort()[::-1][:n_top_comp_pos]]\n",
    "        feature_neg=feature_names[topic.argsort()[:n_top_comp_neg]]\n",
    "        fea=np.concatenate((feature_pos,feature_neg))\n",
    "        com_pos=np.sort(topic)[::-1][:n_top_comp_pos]\n",
    "        com_neg=np.sort(topic)[:n_top_comp_neg]\n",
    "        com=np.concatenate((com_pos,com_neg))\n",
    "\n",
    "                \n",
    "        c_normal = colors.PowerNorm(1,vmin=min(com),vmax=max(com))\n",
    "        _COLORS = cmap(c_normal(com))\n",
    "\n",
    "      \n",
    "        components = pd.DataFrame(np.array(com),index =fea) \n",
    "        fig, ax = plt.subplots(figsize = (5,3))\n",
    "        # Plot the feature weights as a function of the components\n",
    "        components.plot(ax = ax, kind = 'bar',align = \"center\", color=_COLORS)\n",
    "        #plt.xlabel(\"Dimension #%d \" % comp_idx)\n",
    "        ax.set_ylabel(\"Feature Weights\") \n",
    "        red_patch = mpatches.Patch(color='red', label=\"Variable-%d \" % (comp_idx+1))\n",
    "        ax.legend(handles=[red_patch])\n",
    "        plt.show()"
   ]
  },
  {
   "cell_type": "code",
   "execution_count": 35,
   "metadata": {},
   "outputs": [
    {
     "data": {
      "image/png": "[encoded data removed]",
      "text/plain": [
       "<Figure size 360x216 with 1 Axes>"
      ]
     },
     "metadata": {
      "needs_background": "light"
     },
     "output_type": "display_data"
    },
    {
     "data": {
      "image/png": "[encoded data removed]",
      "text/plain": [
       "<Figure size 360x216 with 1 Axes>"
      ]
     },
     "metadata": {
      "needs_background": "light"
     },
     "output_type": "display_data"
    }
   ],
   "source": [
    "print_top_comp(pca.components_, data.columns[1:], 12)"
   ]
  },
  {
   "cell_type": "markdown",
   "metadata": {},
   "source": [
    "# Clustering"
   ]
  },
  {
   "cell_type": "markdown",
   "metadata": {},
   "source": [
    "## KMeans"
   ]
  },
  {
   "cell_type": "code",
   "execution_count": 36,
   "metadata": {},
   "outputs": [],
   "source": [
    "from sklearn.cluster import KMeans"
   ]
  },
  {
   "cell_type": "code",
   "execution_count": 37,
   "metadata": {},
   "outputs": [],
   "source": [
    "KM=KMeans(n_clusters=3,init='random')\n",
    "KM.fit(Xnorm)\n",
    "clustering=KM.labels_\n",
    "#clustering=KM.predict(Xnorm)\n"
   ]
  },
  {
   "cell_type": "code",
   "execution_count": 38,
   "metadata": {},
   "outputs": [
    {
     "data": {
      "image/png": "[encoded data removed]",
      "text/plain": [
       "<Figure size 432x288 with 1 Axes>"
      ]
     },
     "metadata": {
      "needs_background": "light"
     },
     "output_type": "display_data"
    }
   ],
   "source": [
    "import matplotlib.colors as col\n",
    "\n",
    "colors = ['red','yellow','blue','pink']\n",
    "plt.scatter(X_pca[:, 0], X_pca[:, 1], c=clustering, cmap=col.ListedColormap(colors))\n",
    "for label, x, y in zip(labels, X_pca[:, 0], X_pca[:, 1]):\n",
    "    plt.annotate(\n",
    "        label,\n",
    "        xy=(x, y), xytext=(-0.2, 0.2),\n",
    "        textcoords='offset points')\n",
    "\n",
    "plt.show()"
   ]
  },
  {
   "cell_type": "code",
   "execution_count": 39,
   "metadata": {},
   "outputs": [
    {
     "name": "stdout",
     "output_type": "stream",
     "text": [
      "La silhouette index pour 2 classes est 0.625558\n",
      "\n",
      "La silhouette index pour 3 classes est 0.388094\n",
      "\n",
      "La silhouette index pour 4 classes est 0.361515\n",
      "\n",
      "La silhouette index pour 5 classes est 0.318827\n",
      "\n",
      "La silhouette index pour 6 classes est 0.293482\n",
      "\n",
      "La silhouette index pour 7 classes est 0.337097\n",
      "\n",
      "La silhouette index pour 8 classes est 0.371743\n",
      "\n",
      "La silhouette index pour 9 classes est 0.373534\n",
      "\n"
     ]
    }
   ],
   "source": [
    "from sklearn.metrics import silhouette_score\n",
    "\n",
    "for i in np.arange(2, 10):\n",
    "    KM = KMeans(n_clusters=i)\n",
    "    KM.fit(Xnorm)\n",
    "    clustering=KM.labels_\n",
    "    score=silhouette_score(Xnorm, clustering,metric='euclidean')\n",
    "    print('La silhouette index pour {0:d} classes est {1:3f}'.format(i,score))\n",
    "    print()\n",
    "    "
   ]
  },
  {
   "cell_type": "markdown",
   "metadata": {},
   "source": [
    "## CAH"
   ]
  },
  {
   "cell_type": "code",
   "execution_count": 40,
   "metadata": {},
   "outputs": [],
   "source": [
    "from sklearn.cluster import AgglomerativeClustering"
   ]
  },
  {
   "cell_type": "code",
   "execution_count": 41,
   "metadata": {},
   "outputs": [],
   "source": [
    "CAH=AgglomerativeClustering(n_clusters=3,affinity='euclidean',linkage='average')\n",
    "CAH.fit(Xnorm)\n",
    "clustering=CAH.labels_"
   ]
  },
  {
   "cell_type": "code",
   "execution_count": 42,
   "metadata": {},
   "outputs": [
    {
     "data": {
      "image/png": "[encoded data removed]",
      "text/plain": [
       "<Figure size 432x288 with 1 Axes>"
      ]
     },
     "metadata": {
      "needs_background": "light"
     },
     "output_type": "display_data"
    }
   ],
   "source": [
    "import matplotlib.colors as col\n",
    "\n",
    "colors = ['red','yellow','blue','pink']\n",
    "plt.scatter(X_pca[:, 0], X_pca[:, 1], c=clustering, cmap=col.ListedColormap(colors))\n",
    "for label, x, y in zip(labels, X_pca[:, 0], X_pca[:, 1]):\n",
    "    plt.annotate(\n",
    "        label,\n",
    "        xy=(x, y), xytext=(-0.2, 0.2),\n",
    "        textcoords='offset points')\n",
    "\n",
    "plt.show()"
   ]
  },
  {
   "cell_type": "code",
   "execution_count": 43,
   "metadata": {},
   "outputs": [
    {
     "data": {
      "image/png": "[encoded data removed]",
      "text/plain": [
       "<Figure size 1800x720 with 1 Axes>"
      ]
     },
     "metadata": {
      "needs_background": "light"
     },
     "output_type": "display_data"
    }
   ],
   "source": [
    "from scipy.cluster.hierarchy import dendrogram, linkage\n",
    "Z = linkage(Xnorm, 'ward')   # Essayer ward\n",
    "plt.figure(figsize=(25, 10))\n",
    "plt.title('Hierarchical Clustering Dendrogram')\n",
    "plt.xlabel('sample index')\n",
    "plt.ylabel('distance')\n",
    "dendrogram(\n",
    "    Z,\n",
    "    leaf_rotation=90.,  # rotates the x axis labels\n",
    "    leaf_font_size=8.,  # font size for the x axis labels\n",
    ")\n",
    "plt.show()"
   ]
  },
  {
   "cell_type": "code",
   "execution_count": 48,
   "metadata": {},
   "outputs": [
    {
     "name": "stdout",
     "output_type": "stream",
     "text": [
      "La silhouette index pour 2 classes est 0.178289\n",
      "\n",
      "La silhouette index pour 3 classes est -0.034405\n",
      "\n",
      "La silhouette index pour 4 classes est 0.183218\n",
      "\n",
      "La silhouette index pour 5 classes est 0.405383\n",
      "\n",
      "La silhouette index pour 6 classes est 0.321177\n",
      "\n",
      "La silhouette index pour 7 classes est 0.331479\n",
      "\n",
      "La silhouette index pour 8 classes est 0.190927\n",
      "\n",
      "La silhouette index pour 9 classes est 0.158335\n",
      "\n"
     ]
    }
   ],
   "source": [
    "from sklearn.metrics import silhouette_score\n",
    "\n",
    "for i in np.arange(2, 10):\n",
    "    CAH = AgglomerativeClustering(n_clusters=i,affinity='euclidean',linkage='single')\n",
    "    CAH.fit(Xnorm)\n",
    "    clustering=CAH.labels_\n",
    "    score=silhouette_score(Xnorm, clustering,metric='euclidean')\n",
    "    print('La silhouette index pour {0:d} classes est {1:3f}'.format(i,score))\n",
    "    print()\n",
    "    "
   ]
  },
  {
   "cell_type": "code",
   "execution_count": 44,
   "metadata": {},
   "outputs": [
    {
     "name": "stdout",
     "output_type": "stream",
     "text": [
      "La silhouette index pour 2 classes est 0.625558\n",
      "\n",
      "La silhouette index pour 3 classes est 0.495687\n",
      "\n",
      "La silhouette index pour 4 classes est 0.404092\n",
      "\n",
      "La silhouette index pour 5 classes est 0.339438\n",
      "\n",
      "La silhouette index pour 6 classes est 0.315709\n",
      "\n",
      "La silhouette index pour 7 classes est 0.349161\n",
      "\n",
      "La silhouette index pour 8 classes est 0.342195\n",
      "\n",
      "La silhouette index pour 9 classes est 0.336865\n",
      "\n"
     ]
    }
   ],
   "source": [
    "from sklearn.metrics import silhouette_score\n",
    "\n",
    "for i in np.arange(2, 10):\n",
    "    CAH = AgglomerativeClustering(n_clusters=i,affinity='euclidean',linkage='average')\n",
    "    CAH.fit(Xnorm)\n",
    "    clustering=CAH.labels_\n",
    "    score=silhouette_score(Xnorm, clustering,metric='euclidean')\n",
    "    print('La silhouette index pour {0:d} classes est {1:3f}'.format(i,score))\n",
    "    print()\n",
    "    "
   ]
  },
  {
   "cell_type": "code",
   "execution_count": 45,
   "metadata": {},
   "outputs": [
    {
     "name": "stdout",
     "output_type": "stream",
     "text": [
      "La silhouette index pour 2 classes est 0.625558\n",
      "\n",
      "La silhouette index pour 3 classes est 0.368078\n",
      "\n",
      "La silhouette index pour 4 classes est 0.318251\n",
      "\n",
      "La silhouette index pour 5 classes est 0.332732\n",
      "\n",
      "La silhouette index pour 6 classes est 0.321341\n",
      "\n",
      "La silhouette index pour 7 classes est 0.336163\n",
      "\n",
      "La silhouette index pour 8 classes est 0.344596\n",
      "\n",
      "La silhouette index pour 9 classes est 0.348811\n",
      "\n"
     ]
    }
   ],
   "source": [
    "from sklearn.metrics import silhouette_score\n",
    "\n",
    "for i in np.arange(2, 10):\n",
    "    CAH = AgglomerativeClustering(n_clusters=i,affinity='euclidean',linkage='ward')\n",
    "    CAH.fit(Xnorm)\n",
    "    clustering=CAH.labels_\n",
    "    score=silhouette_score(Xnorm, clustering,metric='euclidean')\n",
    "    print('La silhouette index pour {0:d} classes est {1:3f}'.format(i,score))\n",
    "    print()\n",
    "    "
   ]
  },
  {
   "cell_type": "code",
   "execution_count": 1,
   "metadata": {},
   "outputs": [],
   "source": [
    "# Le meilleur algorithme pour 3 classes est CAH avec Average comme critère d'agrégation ce qui confirme que Brest \n",
    "# est un outlier et doit être tout seul"
   ]
  },
  {
   "cell_type": "code",
   "execution_count": null,
   "metadata": {},
   "outputs": [],
   "source": []
  }
 ],
 "metadata": {
  "kernelspec": {
   "display_name": "Python 3 (ipykernel)",
   "language": "python",
   "name": "python3"
  },
  "language_info": {
   "codemirror_mode": {
    "name": "ipython",
    "version": 3
   },
   "file_extension": ".py",
   "mimetype": "text/x-python",
   "name": "python",
   "nbconvert_exporter": "python",
   "pygments_lexer": "ipython3",
   "version": "3.9.7"
  }
 },
 "nbformat": 4,
 "nbformat_minor": 2
}
